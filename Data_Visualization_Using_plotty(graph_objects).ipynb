{
 "cells": [
  {
   "cell_type": "code",
   "execution_count": 2,
   "id": "78930a6d-aad3-4b02-a565-1e2c4809f20c",
   "metadata": {
    "tags": []
   },
   "outputs": [],
   "source": [
    "import numpy as np\n",
    "import pandas as pd\n",
    "import plotly.graph_objects as go\n",
    "import plotly.offline as pyo"
   ]
  },
  {
   "cell_type": "code",
   "execution_count": 9,
   "id": "fec4a18c-7247-400e-b0cf-0a16428d0d63",
   "metadata": {
    "tags": []
   },
   "outputs": [
    {
     "data": {
      "text/html": [
       "<div>\n",
       "<style scoped>\n",
       "    .dataframe tbody tr th:only-of-type {\n",
       "        vertical-align: middle;\n",
       "    }\n",
       "\n",
       "    .dataframe tbody tr th {\n",
       "        vertical-align: top;\n",
       "    }\n",
       "\n",
       "    .dataframe thead th {\n",
       "        text-align: right;\n",
       "    }\n",
       "</style>\n",
       "<table border=\"1\" class=\"dataframe\">\n",
       "  <thead>\n",
       "    <tr style=\"text-align: right;\">\n",
       "      <th></th>\n",
       "      <th>match_id</th>\n",
       "      <th>inning</th>\n",
       "      <th>batting_team</th>\n",
       "      <th>bowling_team</th>\n",
       "      <th>over</th>\n",
       "      <th>ball</th>\n",
       "      <th>batsman</th>\n",
       "      <th>non_striker</th>\n",
       "      <th>bowler</th>\n",
       "      <th>is_super_over</th>\n",
       "      <th>...</th>\n",
       "      <th>result</th>\n",
       "      <th>dl_applied</th>\n",
       "      <th>winner</th>\n",
       "      <th>win_by_runs</th>\n",
       "      <th>win_by_wickets</th>\n",
       "      <th>player_of_match</th>\n",
       "      <th>venue</th>\n",
       "      <th>umpire1</th>\n",
       "      <th>umpire2</th>\n",
       "      <th>umpire3</th>\n",
       "    </tr>\n",
       "  </thead>\n",
       "  <tbody>\n",
       "    <tr>\n",
       "      <th>0</th>\n",
       "      <td>1</td>\n",
       "      <td>1</td>\n",
       "      <td>Sunrisers Hyderabad</td>\n",
       "      <td>Royal Challengers Bangalore</td>\n",
       "      <td>1</td>\n",
       "      <td>1</td>\n",
       "      <td>DA Warner</td>\n",
       "      <td>S Dhawan</td>\n",
       "      <td>TS Mills</td>\n",
       "      <td>0</td>\n",
       "      <td>...</td>\n",
       "      <td>normal</td>\n",
       "      <td>0</td>\n",
       "      <td>Sunrisers Hyderabad</td>\n",
       "      <td>35</td>\n",
       "      <td>0</td>\n",
       "      <td>Yuvraj Singh</td>\n",
       "      <td>Rajiv Gandhi International Stadium, Uppal</td>\n",
       "      <td>AY Dandekar</td>\n",
       "      <td>NJ Llong</td>\n",
       "      <td>NaN</td>\n",
       "    </tr>\n",
       "    <tr>\n",
       "      <th>1</th>\n",
       "      <td>1</td>\n",
       "      <td>1</td>\n",
       "      <td>Sunrisers Hyderabad</td>\n",
       "      <td>Royal Challengers Bangalore</td>\n",
       "      <td>1</td>\n",
       "      <td>2</td>\n",
       "      <td>DA Warner</td>\n",
       "      <td>S Dhawan</td>\n",
       "      <td>TS Mills</td>\n",
       "      <td>0</td>\n",
       "      <td>...</td>\n",
       "      <td>normal</td>\n",
       "      <td>0</td>\n",
       "      <td>Sunrisers Hyderabad</td>\n",
       "      <td>35</td>\n",
       "      <td>0</td>\n",
       "      <td>Yuvraj Singh</td>\n",
       "      <td>Rajiv Gandhi International Stadium, Uppal</td>\n",
       "      <td>AY Dandekar</td>\n",
       "      <td>NJ Llong</td>\n",
       "      <td>NaN</td>\n",
       "    </tr>\n",
       "    <tr>\n",
       "      <th>2</th>\n",
       "      <td>1</td>\n",
       "      <td>1</td>\n",
       "      <td>Sunrisers Hyderabad</td>\n",
       "      <td>Royal Challengers Bangalore</td>\n",
       "      <td>1</td>\n",
       "      <td>3</td>\n",
       "      <td>DA Warner</td>\n",
       "      <td>S Dhawan</td>\n",
       "      <td>TS Mills</td>\n",
       "      <td>0</td>\n",
       "      <td>...</td>\n",
       "      <td>normal</td>\n",
       "      <td>0</td>\n",
       "      <td>Sunrisers Hyderabad</td>\n",
       "      <td>35</td>\n",
       "      <td>0</td>\n",
       "      <td>Yuvraj Singh</td>\n",
       "      <td>Rajiv Gandhi International Stadium, Uppal</td>\n",
       "      <td>AY Dandekar</td>\n",
       "      <td>NJ Llong</td>\n",
       "      <td>NaN</td>\n",
       "    </tr>\n",
       "    <tr>\n",
       "      <th>3</th>\n",
       "      <td>1</td>\n",
       "      <td>1</td>\n",
       "      <td>Sunrisers Hyderabad</td>\n",
       "      <td>Royal Challengers Bangalore</td>\n",
       "      <td>1</td>\n",
       "      <td>4</td>\n",
       "      <td>DA Warner</td>\n",
       "      <td>S Dhawan</td>\n",
       "      <td>TS Mills</td>\n",
       "      <td>0</td>\n",
       "      <td>...</td>\n",
       "      <td>normal</td>\n",
       "      <td>0</td>\n",
       "      <td>Sunrisers Hyderabad</td>\n",
       "      <td>35</td>\n",
       "      <td>0</td>\n",
       "      <td>Yuvraj Singh</td>\n",
       "      <td>Rajiv Gandhi International Stadium, Uppal</td>\n",
       "      <td>AY Dandekar</td>\n",
       "      <td>NJ Llong</td>\n",
       "      <td>NaN</td>\n",
       "    </tr>\n",
       "    <tr>\n",
       "      <th>4</th>\n",
       "      <td>1</td>\n",
       "      <td>1</td>\n",
       "      <td>Sunrisers Hyderabad</td>\n",
       "      <td>Royal Challengers Bangalore</td>\n",
       "      <td>1</td>\n",
       "      <td>5</td>\n",
       "      <td>DA Warner</td>\n",
       "      <td>S Dhawan</td>\n",
       "      <td>TS Mills</td>\n",
       "      <td>0</td>\n",
       "      <td>...</td>\n",
       "      <td>normal</td>\n",
       "      <td>0</td>\n",
       "      <td>Sunrisers Hyderabad</td>\n",
       "      <td>35</td>\n",
       "      <td>0</td>\n",
       "      <td>Yuvraj Singh</td>\n",
       "      <td>Rajiv Gandhi International Stadium, Uppal</td>\n",
       "      <td>AY Dandekar</td>\n",
       "      <td>NJ Llong</td>\n",
       "      <td>NaN</td>\n",
       "    </tr>\n",
       "  </tbody>\n",
       "</table>\n",
       "<p>5 rows × 39 columns</p>\n",
       "</div>"
      ],
      "text/plain": [
       "   match_id  inning         batting_team                 bowling_team  over  \\\n",
       "0         1       1  Sunrisers Hyderabad  Royal Challengers Bangalore     1   \n",
       "1         1       1  Sunrisers Hyderabad  Royal Challengers Bangalore     1   \n",
       "2         1       1  Sunrisers Hyderabad  Royal Challengers Bangalore     1   \n",
       "3         1       1  Sunrisers Hyderabad  Royal Challengers Bangalore     1   \n",
       "4         1       1  Sunrisers Hyderabad  Royal Challengers Bangalore     1   \n",
       "\n",
       "   ball    batsman non_striker    bowler  is_super_over  ...  result  \\\n",
       "0     1  DA Warner    S Dhawan  TS Mills              0  ...  normal   \n",
       "1     2  DA Warner    S Dhawan  TS Mills              0  ...  normal   \n",
       "2     3  DA Warner    S Dhawan  TS Mills              0  ...  normal   \n",
       "3     4  DA Warner    S Dhawan  TS Mills              0  ...  normal   \n",
       "4     5  DA Warner    S Dhawan  TS Mills              0  ...  normal   \n",
       "\n",
       "   dl_applied               winner  win_by_runs  win_by_wickets  \\\n",
       "0           0  Sunrisers Hyderabad           35               0   \n",
       "1           0  Sunrisers Hyderabad           35               0   \n",
       "2           0  Sunrisers Hyderabad           35               0   \n",
       "3           0  Sunrisers Hyderabad           35               0   \n",
       "4           0  Sunrisers Hyderabad           35               0   \n",
       "\n",
       "   player_of_match                                      venue      umpire1  \\\n",
       "0     Yuvraj Singh  Rajiv Gandhi International Stadium, Uppal  AY Dandekar   \n",
       "1     Yuvraj Singh  Rajiv Gandhi International Stadium, Uppal  AY Dandekar   \n",
       "2     Yuvraj Singh  Rajiv Gandhi International Stadium, Uppal  AY Dandekar   \n",
       "3     Yuvraj Singh  Rajiv Gandhi International Stadium, Uppal  AY Dandekar   \n",
       "4     Yuvraj Singh  Rajiv Gandhi International Stadium, Uppal  AY Dandekar   \n",
       "\n",
       "    umpire2 umpire3  \n",
       "0  NJ Llong     NaN  \n",
       "1  NJ Llong     NaN  \n",
       "2  NJ Llong     NaN  \n",
       "3  NJ Llong     NaN  \n",
       "4  NJ Llong     NaN  \n",
       "\n",
       "[5 rows x 39 columns]"
      ]
     },
     "execution_count": 9,
     "metadata": {},
     "output_type": "execute_result"
    }
   ],
   "source": [
    "match= pd.read_csv('datasetsweek9/matches.csv')\n",
    "delivery = pd.read_csv('datasetsweek9/deliveries.csv')\n",
    "\n",
    "ipl = delivery.merge(match, left_on='match_id', right_on='id')\n",
    "ipl.head()"
   ]
  },
  {
   "cell_type": "markdown",
   "id": "3d39fa7a-8187-4f61-8df4-7ef2d0e6d254",
   "metadata": {},
   "source": [
    "### Scatter Plot"
   ]
  },
  {
   "cell_type": "code",
   "execution_count": 10,
   "id": "cb815a65-0fe3-4f4a-95eb-75fb715103a9",
   "metadata": {
    "tags": []
   },
   "outputs": [],
   "source": [
    "# scatter plot between batsman avg(x-axis) and batsman strikerate(y axis) of top 50 batsman "
   ]
  },
  {
   "cell_type": "code",
   "execution_count": 11,
   "id": "7cb8cafa-f05b-4c34-9587-feec4eb38634",
   "metadata": {
    "tags": []
   },
   "outputs": [],
   "source": [
    "# fetching top 50 batsman\n",
    "top50 = ipl.groupby('batsman')['batsman_runs'].sum().sort_values(ascending=False).head(50).index.tolist()\n",
    "new_ipl=ipl[ipl['batsman'].isin(top50)]"
   ]
  },
  {
   "cell_type": "code",
   "execution_count": 13,
   "id": "4f77d22d-f16f-4a12-94f0-f4048cbdf120",
   "metadata": {
    "tags": []
   },
   "outputs": [
    {
     "data": {
      "text/html": [
       "<div>\n",
       "<style scoped>\n",
       "    .dataframe tbody tr th:only-of-type {\n",
       "        vertical-align: middle;\n",
       "    }\n",
       "\n",
       "    .dataframe tbody tr th {\n",
       "        vertical-align: top;\n",
       "    }\n",
       "\n",
       "    .dataframe thead th {\n",
       "        text-align: right;\n",
       "    }\n",
       "</style>\n",
       "<table border=\"1\" class=\"dataframe\">\n",
       "  <thead>\n",
       "    <tr style=\"text-align: right;\">\n",
       "      <th></th>\n",
       "      <th>batsman</th>\n",
       "      <th>batsman_runs</th>\n",
       "    </tr>\n",
       "  </thead>\n",
       "  <tbody>\n",
       "    <tr>\n",
       "      <th>0</th>\n",
       "      <td>AB de Villiers</td>\n",
       "      <td>145.129059</td>\n",
       "    </tr>\n",
       "    <tr>\n",
       "      <th>1</th>\n",
       "      <td>AC Gilchrist</td>\n",
       "      <td>133.054662</td>\n",
       "    </tr>\n",
       "    <tr>\n",
       "      <th>2</th>\n",
       "      <td>AJ Finch</td>\n",
       "      <td>126.299213</td>\n",
       "    </tr>\n",
       "    <tr>\n",
       "      <th>3</th>\n",
       "      <td>AM Rahane</td>\n",
       "      <td>117.486549</td>\n",
       "    </tr>\n",
       "  </tbody>\n",
       "</table>\n",
       "</div>"
      ],
      "text/plain": [
       "          batsman  batsman_runs\n",
       "0  AB de Villiers    145.129059\n",
       "1    AC Gilchrist    133.054662\n",
       "2        AJ Finch    126.299213\n",
       "3       AM Rahane    117.486549"
      ]
     },
     "execution_count": 13,
     "metadata": {},
     "output_type": "execute_result"
    }
   ],
   "source": [
    "# calculating SR\n",
    "# Sr = (no of runs/ no of balls played ) *100\n",
    "runs=  new_ipl.groupby('batsman')['batsman_runs'].sum()\n",
    "balls = new_ipl.groupby('batsman')['batsman_runs'].count()\n",
    "\n",
    "sr=(runs/balls)*100\n",
    "sr= sr.reset_index()\n",
    "sr.head(4)"
   ]
  },
  {
   "cell_type": "code",
   "execution_count": 16,
   "id": "fc7a9fe5-3f7f-4be4-b6dc-6d7831f37dd1",
   "metadata": {
    "tags": []
   },
   "outputs": [
    {
     "data": {
      "text/html": [
       "<div>\n",
       "<style scoped>\n",
       "    .dataframe tbody tr th:only-of-type {\n",
       "        vertical-align: middle;\n",
       "    }\n",
       "\n",
       "    .dataframe tbody tr th {\n",
       "        vertical-align: top;\n",
       "    }\n",
       "\n",
       "    .dataframe thead th {\n",
       "        text-align: right;\n",
       "    }\n",
       "</style>\n",
       "<table border=\"1\" class=\"dataframe\">\n",
       "  <thead>\n",
       "    <tr style=\"text-align: right;\">\n",
       "      <th></th>\n",
       "      <th>batsman</th>\n",
       "      <th>avg</th>\n",
       "      <th>batsman_runs</th>\n",
       "    </tr>\n",
       "  </thead>\n",
       "  <tbody>\n",
       "    <tr>\n",
       "      <th>0</th>\n",
       "      <td>AB de Villiers</td>\n",
       "      <td>38.307692</td>\n",
       "      <td>145.129059</td>\n",
       "    </tr>\n",
       "    <tr>\n",
       "      <th>1</th>\n",
       "      <td>AC Gilchrist</td>\n",
       "      <td>27.223684</td>\n",
       "      <td>133.054662</td>\n",
       "    </tr>\n",
       "    <tr>\n",
       "      <th>2</th>\n",
       "      <td>AJ Finch</td>\n",
       "      <td>27.186441</td>\n",
       "      <td>126.299213</td>\n",
       "    </tr>\n",
       "  </tbody>\n",
       "</table>\n",
       "</div>"
      ],
      "text/plain": [
       "          batsman        avg  batsman_runs\n",
       "0  AB de Villiers  38.307692    145.129059\n",
       "1    AC Gilchrist  27.223684    133.054662\n",
       "2        AJ Finch  27.186441    126.299213"
      ]
     },
     "execution_count": 16,
     "metadata": {},
     "output_type": "execute_result"
    }
   ],
   "source": [
    "# calculating avg\n",
    "# avg= no of runs/ no of outs\n",
    "\n",
    "out= ipl[ipl['player_dismissed'].isin(top50)]\n",
    "nouts = out['player_dismissed'].value_counts()\n",
    "\n",
    "avg= runs/nouts\n",
    "\n",
    "avg=avg.reset_index()\n",
    "avg.rename(columns={'index':'batsman', 0:'avg'}, inplace= True)\n",
    "avg=avg.merge(sr, on='batsman')\n",
    "avg.head(3)"
   ]
  },
  {
   "cell_type": "code",
   "execution_count": 23,
   "id": "3cdf6e2f-e5bc-43a5-a586-f2e42917a0ef",
   "metadata": {
    "tags": []
   },
   "outputs": [
    {
     "data": {
      "application/vnd.plotly.v1+json": {
       "config": {
        "plotlyServerURL": "https://plot.ly"
       },
       "data": [
        {
         "marker": {
          "color": "#00a65a",
          "size": 16
         },
         "mode": "markers",
         "text": [
          "AB de Villiers",
          "AC Gilchrist",
          "AJ Finch",
          "AM Rahane",
          "AT Rayudu",
          "BB McCullum",
          "BJ Hodge",
          "CH Gayle",
          "DA Miller",
          "DA Warner",
          "DJ Bravo",
          "DJ Hussey",
          "DPMD Jayawardene",
          "DR Smith",
          "F du Plessis",
          "G Gambhir",
          "GJ Maxwell",
          "JH Kallis",
          "JP Duminy",
          "KA Pollard",
          "KC Sangakkara",
          "KD Karthik",
          "KK Nair",
          "M Vijay",
          "MEK Hussey",
          "MK Pandey",
          "MK Tiwary",
          "MS Dhoni",
          "NV Ojha",
          "PA Patel",
          "R Dravid",
          "RA Jadeja",
          "RG Sharma",
          "RV Uthappa",
          "S Badrinath",
          "S Dhawan",
          "SC Ganguly",
          "SE Marsh",
          "SK Raina",
          "SPD Smith",
          "SR Tendulkar",
          "SR Watson",
          "SS Tiwary",
          "SV Samson",
          "TM Dilshan",
          "V Kohli",
          "V Sehwag",
          "WP Saha",
          "YK Pathan",
          "Yuvraj Singh"
         ],
         "type": "scatter",
         "x": [
          38.30769230769231,
          27.223684210526315,
          27.1864406779661,
          33.59340659340659,
          27.146067415730336,
          28.112244897959183,
          33.333333333333336,
          41.02247191011236,
          34.733333333333334,
          40.14,
          22.945454545454545,
          26.979591836734695,
          28.25,
          28.392857142857142,
          30.11627906976744,
          31.541984732824428,
          25.081632653061224,
          28.55294117647059,
          39.86,
          28.70731707317073,
          25.953846153846154,
          24.811965811965813,
          25.17391304347826,
          26.431578947368422,
          38.76470588235294,
          28.5,
          29.428571428571427,
          37.87234042553192,
          20.986486486486488,
          21.700934579439252,
          28.233766233766232,
          24.055555555555557,
          32.6124031007752,
          29.515625,
          30.659574468085108,
          32.669724770642205,
          25.452830188679247,
          39.507936507936506,
          33.940298507462686,
          37.23913043478261,
          33.82608695652174,
          30.91764705882353,
          28.355555555555554,
          25.464285714285715,
          26.813953488372093,
          37.483050847457626,
          27.555555555555557,
          25.524590163934427,
          29.816326530612244,
          25.653465346534652
         ],
         "y": [
          145.12905911740216,
          133.05466237942122,
          126.2992125984252,
          117.48654880860876,
          123.0142566191446,
          126.31820265933058,
          121.42237640936686,
          144.19431279620852,
          137.7092511013216,
          138.3184011026878,
          122.28682170542635,
          120.07266121707538,
          118.7910643889619,
          132.27953410981698,
          124.16107382550337,
          120.36120011651616,
          157.56410256410257,
          105.93627237014405,
          121.97062423500613,
          140.62126642771804,
          118.4691011235955,
          123.00847457627117,
          124.65016146393972,
          120.02868068833652,
          119.96359223300972,
          116.93845344555498,
          114.12742382271468,
          132.8358208955224,
          114.52802359882006,
          112.71844660194175,
          113.34723670490095,
          118.79286694101509,
          128.49725106902872,
          127.63513513513513,
          115.74297188755021,
          118.50249584026622,
          101.73453996983409,
          130.10977522216413,
          134.99554764024933,
          128.50712678169543,
          114.18786692759295,
          134.83837865572087,
          114.85148514851484,
          122.40343347639484,
          110.12416427889207,
          126.58843732112193,
          148.82705946535734,
          127.72764561115667,
          140.75144508670522,
          126.39024390243902
         ]
        }
       ],
       "layout": {
        "autosize": true,
        "template": {
         "data": {
          "bar": [
           {
            "error_x": {
             "color": "#2a3f5f"
            },
            "error_y": {
             "color": "#2a3f5f"
            },
            "marker": {
             "line": {
              "color": "#E5ECF6",
              "width": 0.5
             },
             "pattern": {
              "fillmode": "overlay",
              "size": 10,
              "solidity": 0.2
             }
            },
            "type": "bar"
           }
          ],
          "barpolar": [
           {
            "marker": {
             "line": {
              "color": "#E5ECF6",
              "width": 0.5
             },
             "pattern": {
              "fillmode": "overlay",
              "size": 10,
              "solidity": 0.2
             }
            },
            "type": "barpolar"
           }
          ],
          "carpet": [
           {
            "aaxis": {
             "endlinecolor": "#2a3f5f",
             "gridcolor": "white",
             "linecolor": "white",
             "minorgridcolor": "white",
             "startlinecolor": "#2a3f5f"
            },
            "baxis": {
             "endlinecolor": "#2a3f5f",
             "gridcolor": "white",
             "linecolor": "white",
             "minorgridcolor": "white",
             "startlinecolor": "#2a3f5f"
            },
            "type": "carpet"
           }
          ],
          "choropleth": [
           {
            "colorbar": {
             "outlinewidth": 0,
             "ticks": ""
            },
            "type": "choropleth"
           }
          ],
          "contour": [
           {
            "colorbar": {
             "outlinewidth": 0,
             "ticks": ""
            },
            "colorscale": [
             [
              0,
              "#0d0887"
             ],
             [
              0.1111111111111111,
              "#46039f"
             ],
             [
              0.2222222222222222,
              "#7201a8"
             ],
             [
              0.3333333333333333,
              "#9c179e"
             ],
             [
              0.4444444444444444,
              "#bd3786"
             ],
             [
              0.5555555555555556,
              "#d8576b"
             ],
             [
              0.6666666666666666,
              "#ed7953"
             ],
             [
              0.7777777777777778,
              "#fb9f3a"
             ],
             [
              0.8888888888888888,
              "#fdca26"
             ],
             [
              1,
              "#f0f921"
             ]
            ],
            "type": "contour"
           }
          ],
          "contourcarpet": [
           {
            "colorbar": {
             "outlinewidth": 0,
             "ticks": ""
            },
            "type": "contourcarpet"
           }
          ],
          "heatmap": [
           {
            "colorbar": {
             "outlinewidth": 0,
             "ticks": ""
            },
            "colorscale": [
             [
              0,
              "#0d0887"
             ],
             [
              0.1111111111111111,
              "#46039f"
             ],
             [
              0.2222222222222222,
              "#7201a8"
             ],
             [
              0.3333333333333333,
              "#9c179e"
             ],
             [
              0.4444444444444444,
              "#bd3786"
             ],
             [
              0.5555555555555556,
              "#d8576b"
             ],
             [
              0.6666666666666666,
              "#ed7953"
             ],
             [
              0.7777777777777778,
              "#fb9f3a"
             ],
             [
              0.8888888888888888,
              "#fdca26"
             ],
             [
              1,
              "#f0f921"
             ]
            ],
            "type": "heatmap"
           }
          ],
          "heatmapgl": [
           {
            "colorbar": {
             "outlinewidth": 0,
             "ticks": ""
            },
            "colorscale": [
             [
              0,
              "#0d0887"
             ],
             [
              0.1111111111111111,
              "#46039f"
             ],
             [
              0.2222222222222222,
              "#7201a8"
             ],
             [
              0.3333333333333333,
              "#9c179e"
             ],
             [
              0.4444444444444444,
              "#bd3786"
             ],
             [
              0.5555555555555556,
              "#d8576b"
             ],
             [
              0.6666666666666666,
              "#ed7953"
             ],
             [
              0.7777777777777778,
              "#fb9f3a"
             ],
             [
              0.8888888888888888,
              "#fdca26"
             ],
             [
              1,
              "#f0f921"
             ]
            ],
            "type": "heatmapgl"
           }
          ],
          "histogram": [
           {
            "marker": {
             "pattern": {
              "fillmode": "overlay",
              "size": 10,
              "solidity": 0.2
             }
            },
            "type": "histogram"
           }
          ],
          "histogram2d": [
           {
            "colorbar": {
             "outlinewidth": 0,
             "ticks": ""
            },
            "colorscale": [
             [
              0,
              "#0d0887"
             ],
             [
              0.1111111111111111,
              "#46039f"
             ],
             [
              0.2222222222222222,
              "#7201a8"
             ],
             [
              0.3333333333333333,
              "#9c179e"
             ],
             [
              0.4444444444444444,
              "#bd3786"
             ],
             [
              0.5555555555555556,
              "#d8576b"
             ],
             [
              0.6666666666666666,
              "#ed7953"
             ],
             [
              0.7777777777777778,
              "#fb9f3a"
             ],
             [
              0.8888888888888888,
              "#fdca26"
             ],
             [
              1,
              "#f0f921"
             ]
            ],
            "type": "histogram2d"
           }
          ],
          "histogram2dcontour": [
           {
            "colorbar": {
             "outlinewidth": 0,
             "ticks": ""
            },
            "colorscale": [
             [
              0,
              "#0d0887"
             ],
             [
              0.1111111111111111,
              "#46039f"
             ],
             [
              0.2222222222222222,
              "#7201a8"
             ],
             [
              0.3333333333333333,
              "#9c179e"
             ],
             [
              0.4444444444444444,
              "#bd3786"
             ],
             [
              0.5555555555555556,
              "#d8576b"
             ],
             [
              0.6666666666666666,
              "#ed7953"
             ],
             [
              0.7777777777777778,
              "#fb9f3a"
             ],
             [
              0.8888888888888888,
              "#fdca26"
             ],
             [
              1,
              "#f0f921"
             ]
            ],
            "type": "histogram2dcontour"
           }
          ],
          "mesh3d": [
           {
            "colorbar": {
             "outlinewidth": 0,
             "ticks": ""
            },
            "type": "mesh3d"
           }
          ],
          "parcoords": [
           {
            "line": {
             "colorbar": {
              "outlinewidth": 0,
              "ticks": ""
             }
            },
            "type": "parcoords"
           }
          ],
          "pie": [
           {
            "automargin": true,
            "type": "pie"
           }
          ],
          "scatter": [
           {
            "fillpattern": {
             "fillmode": "overlay",
             "size": 10,
             "solidity": 0.2
            },
            "type": "scatter"
           }
          ],
          "scatter3d": [
           {
            "line": {
             "colorbar": {
              "outlinewidth": 0,
              "ticks": ""
             }
            },
            "marker": {
             "colorbar": {
              "outlinewidth": 0,
              "ticks": ""
             }
            },
            "type": "scatter3d"
           }
          ],
          "scattercarpet": [
           {
            "marker": {
             "colorbar": {
              "outlinewidth": 0,
              "ticks": ""
             }
            },
            "type": "scattercarpet"
           }
          ],
          "scattergeo": [
           {
            "marker": {
             "colorbar": {
              "outlinewidth": 0,
              "ticks": ""
             }
            },
            "type": "scattergeo"
           }
          ],
          "scattergl": [
           {
            "marker": {
             "colorbar": {
              "outlinewidth": 0,
              "ticks": ""
             }
            },
            "type": "scattergl"
           }
          ],
          "scattermapbox": [
           {
            "marker": {
             "colorbar": {
              "outlinewidth": 0,
              "ticks": ""
             }
            },
            "type": "scattermapbox"
           }
          ],
          "scatterpolar": [
           {
            "marker": {
             "colorbar": {
              "outlinewidth": 0,
              "ticks": ""
             }
            },
            "type": "scatterpolar"
           }
          ],
          "scatterpolargl": [
           {
            "marker": {
             "colorbar": {
              "outlinewidth": 0,
              "ticks": ""
             }
            },
            "type": "scatterpolargl"
           }
          ],
          "scatterternary": [
           {
            "marker": {
             "colorbar": {
              "outlinewidth": 0,
              "ticks": ""
             }
            },
            "type": "scatterternary"
           }
          ],
          "surface": [
           {
            "colorbar": {
             "outlinewidth": 0,
             "ticks": ""
            },
            "colorscale": [
             [
              0,
              "#0d0887"
             ],
             [
              0.1111111111111111,
              "#46039f"
             ],
             [
              0.2222222222222222,
              "#7201a8"
             ],
             [
              0.3333333333333333,
              "#9c179e"
             ],
             [
              0.4444444444444444,
              "#bd3786"
             ],
             [
              0.5555555555555556,
              "#d8576b"
             ],
             [
              0.6666666666666666,
              "#ed7953"
             ],
             [
              0.7777777777777778,
              "#fb9f3a"
             ],
             [
              0.8888888888888888,
              "#fdca26"
             ],
             [
              1,
              "#f0f921"
             ]
            ],
            "type": "surface"
           }
          ],
          "table": [
           {
            "cells": {
             "fill": {
              "color": "#EBF0F8"
             },
             "line": {
              "color": "white"
             }
            },
            "header": {
             "fill": {
              "color": "#C8D4E3"
             },
             "line": {
              "color": "white"
             }
            },
            "type": "table"
           }
          ]
         },
         "layout": {
          "annotationdefaults": {
           "arrowcolor": "#2a3f5f",
           "arrowhead": 0,
           "arrowwidth": 1
          },
          "autotypenumbers": "strict",
          "coloraxis": {
           "colorbar": {
            "outlinewidth": 0,
            "ticks": ""
           }
          },
          "colorscale": {
           "diverging": [
            [
             0,
             "#8e0152"
            ],
            [
             0.1,
             "#c51b7d"
            ],
            [
             0.2,
             "#de77ae"
            ],
            [
             0.3,
             "#f1b6da"
            ],
            [
             0.4,
             "#fde0ef"
            ],
            [
             0.5,
             "#f7f7f7"
            ],
            [
             0.6,
             "#e6f5d0"
            ],
            [
             0.7,
             "#b8e186"
            ],
            [
             0.8,
             "#7fbc41"
            ],
            [
             0.9,
             "#4d9221"
            ],
            [
             1,
             "#276419"
            ]
           ],
           "sequential": [
            [
             0,
             "#0d0887"
            ],
            [
             0.1111111111111111,
             "#46039f"
            ],
            [
             0.2222222222222222,
             "#7201a8"
            ],
            [
             0.3333333333333333,
             "#9c179e"
            ],
            [
             0.4444444444444444,
             "#bd3786"
            ],
            [
             0.5555555555555556,
             "#d8576b"
            ],
            [
             0.6666666666666666,
             "#ed7953"
            ],
            [
             0.7777777777777778,
             "#fb9f3a"
            ],
            [
             0.8888888888888888,
             "#fdca26"
            ],
            [
             1,
             "#f0f921"
            ]
           ],
           "sequentialminus": [
            [
             0,
             "#0d0887"
            ],
            [
             0.1111111111111111,
             "#46039f"
            ],
            [
             0.2222222222222222,
             "#7201a8"
            ],
            [
             0.3333333333333333,
             "#9c179e"
            ],
            [
             0.4444444444444444,
             "#bd3786"
            ],
            [
             0.5555555555555556,
             "#d8576b"
            ],
            [
             0.6666666666666666,
             "#ed7953"
            ],
            [
             0.7777777777777778,
             "#fb9f3a"
            ],
            [
             0.8888888888888888,
             "#fdca26"
            ],
            [
             1,
             "#f0f921"
            ]
           ]
          },
          "colorway": [
           "#636efa",
           "#EF553B",
           "#00cc96",
           "#ab63fa",
           "#FFA15A",
           "#19d3f3",
           "#FF6692",
           "#B6E880",
           "#FF97FF",
           "#FECB52"
          ],
          "font": {
           "color": "#2a3f5f"
          },
          "geo": {
           "bgcolor": "white",
           "lakecolor": "white",
           "landcolor": "#E5ECF6",
           "showlakes": true,
           "showland": true,
           "subunitcolor": "white"
          },
          "hoverlabel": {
           "align": "left"
          },
          "hovermode": "closest",
          "mapbox": {
           "style": "light"
          },
          "paper_bgcolor": "white",
          "plot_bgcolor": "#E5ECF6",
          "polar": {
           "angularaxis": {
            "gridcolor": "white",
            "linecolor": "white",
            "ticks": ""
           },
           "bgcolor": "#E5ECF6",
           "radialaxis": {
            "gridcolor": "white",
            "linecolor": "white",
            "ticks": ""
           }
          },
          "scene": {
           "xaxis": {
            "backgroundcolor": "#E5ECF6",
            "gridcolor": "white",
            "gridwidth": 2,
            "linecolor": "white",
            "showbackground": true,
            "ticks": "",
            "zerolinecolor": "white"
           },
           "yaxis": {
            "backgroundcolor": "#E5ECF6",
            "gridcolor": "white",
            "gridwidth": 2,
            "linecolor": "white",
            "showbackground": true,
            "ticks": "",
            "zerolinecolor": "white"
           },
           "zaxis": {
            "backgroundcolor": "#E5ECF6",
            "gridcolor": "white",
            "gridwidth": 2,
            "linecolor": "white",
            "showbackground": true,
            "ticks": "",
            "zerolinecolor": "white"
           }
          },
          "shapedefaults": {
           "line": {
            "color": "#2a3f5f"
           }
          },
          "ternary": {
           "aaxis": {
            "gridcolor": "white",
            "linecolor": "white",
            "ticks": ""
           },
           "baxis": {
            "gridcolor": "white",
            "linecolor": "white",
            "ticks": ""
           },
           "bgcolor": "#E5ECF6",
           "caxis": {
            "gridcolor": "white",
            "linecolor": "white",
            "ticks": ""
           }
          },
          "title": {
           "x": 0.05
          },
          "xaxis": {
           "automargin": true,
           "gridcolor": "white",
           "linecolor": "white",
           "ticks": "",
           "title": {
            "standoff": 15
           },
           "zerolinecolor": "white",
           "zerolinewidth": 2
          },
          "yaxis": {
           "automargin": true,
           "gridcolor": "white",
           "linecolor": "white",
           "ticks": "",
           "title": {
            "standoff": 15
           },
           "zerolinecolor": "white",
           "zerolinewidth": 2
          }
         }
        },
        "title": {
         "text": "Batsman Avg vs SR"
        },
        "xaxis": {
         "autorange": true,
         "range": [
          19.600287298689015,
          42.40867109790983
         ],
         "title": {
          "text": "Batsman Average"
         },
         "type": "linear"
        },
        "yaxis": {
         "autorange": true,
         "range": [
          94.26438722834746,
          165.0342553055892
         ],
         "title": {
          "text": "Batsman Strike Rate"
         },
         "type": "linear"
        }
       }
      },
      "image/png": "[encoded data removed]",
      "text/html": [
       "<div>                            <div id=\"5c433c02-d817-4bf8-9831-810d2d432510\" class=\"plotly-graph-div\" style=\"height:525px; width:100%;\"></div>            <script type=\"text/javascript\">                require([\"plotly\"], function(Plotly) {                    window.PLOTLYENV=window.PLOTLYENV || {};                                    if (document.getElementById(\"5c433c02-d817-4bf8-9831-810d2d432510\")) {                    Plotly.newPlot(                        \"5c433c02-d817-4bf8-9831-810d2d432510\",                        [{\"marker\":{\"color\":\"#00a65a\",\"size\":16},\"mode\":\"markers\",\"text\":[\"AB de Villiers\",\"AC Gilchrist\",\"AJ Finch\",\"AM Rahane\",\"AT Rayudu\",\"BB McCullum\",\"BJ Hodge\",\"CH Gayle\",\"DA Miller\",\"DA Warner\",\"DJ Bravo\",\"DJ Hussey\",\"DPMD Jayawardene\",\"DR Smith\",\"F du Plessis\",\"G Gambhir\",\"GJ Maxwell\",\"JH Kallis\",\"JP Duminy\",\"KA Pollard\",\"KC Sangakkara\",\"KD Karthik\",\"KK Nair\",\"M Vijay\",\"MEK Hussey\",\"MK Pandey\",\"MK Tiwary\",\"MS Dhoni\",\"NV Ojha\",\"PA Patel\",\"R Dravid\",\"RA Jadeja\",\"RG Sharma\",\"RV Uthappa\",\"S Badrinath\",\"S Dhawan\",\"SC Ganguly\",\"SE Marsh\",\"SK Raina\",\"SPD Smith\",\"SR Tendulkar\",\"SR Watson\",\"SS Tiwary\",\"SV Samson\",\"TM Dilshan\",\"V Kohli\",\"V Sehwag\",\"WP Saha\",\"YK Pathan\",\"Yuvraj Singh\"],\"x\":[38.30769230769231,27.223684210526315,27.1864406779661,33.59340659340659,27.146067415730336,28.112244897959183,33.333333333333336,41.02247191011236,34.733333333333334,40.14,22.945454545454545,26.979591836734695,28.25,28.392857142857142,30.11627906976744,31.541984732824428,25.081632653061224,28.55294117647059,39.86,28.70731707317073,25.953846153846154,24.811965811965813,25.17391304347826,26.431578947368422,38.76470588235294,28.5,29.428571428571427,37.87234042553192,20.986486486486488,21.700934579439252,28.233766233766232,24.055555555555557,32.6124031007752,29.515625,30.659574468085108,32.669724770642205,25.452830188679247,39.507936507936506,33.940298507462686,37.23913043478261,33.82608695652174,30.91764705882353,28.355555555555554,25.464285714285715,26.813953488372093,37.483050847457626,27.555555555555557,25.524590163934427,29.816326530612244,25.653465346534652],\"y\":[145.12905911740216,133.05466237942122,126.2992125984252,117.48654880860876,123.0142566191446,126.31820265933058,121.42237640936686,144.19431279620852,137.7092511013216,138.3184011026878,122.28682170542635,120.07266121707538,118.7910643889619,132.27953410981698,124.16107382550337,120.36120011651616,157.56410256410257,105.93627237014405,121.97062423500613,140.62126642771804,118.4691011235955,123.00847457627117,124.65016146393972,120.02868068833652,119.96359223300972,116.93845344555498,114.12742382271468,132.8358208955224,114.52802359882006,112.71844660194175,113.34723670490095,118.79286694101509,128.49725106902872,127.63513513513513,115.74297188755021,118.50249584026622,101.73453996983409,130.10977522216413,134.99554764024933,128.50712678169543,114.18786692759295,134.83837865572087,114.85148514851484,122.40343347639484,110.12416427889207,126.58843732112193,148.82705946535734,127.72764561115667,140.75144508670522,126.39024390243902],\"type\":\"scatter\"}],                        {\"title\":{\"text\":\"Batsman Avg vs SR\"},\"xaxis\":{\"title\":{\"text\":\"Batsman Average\"}},\"yaxis\":{\"title\":{\"text\":\"Batsman Strike Rate\"}},\"template\":{\"data\":{\"histogram2dcontour\":[{\"type\":\"histogram2dcontour\",\"colorbar\":{\"outlinewidth\":0,\"ticks\":\"\"},\"colorscale\":[[0.0,\"#0d0887\"],[0.1111111111111111,\"#46039f\"],[0.2222222222222222,\"#7201a8\"],[0.3333333333333333,\"#9c179e\"],[0.4444444444444444,\"#bd3786\"],[0.5555555555555556,\"#d8576b\"],[0.6666666666666666,\"#ed7953\"],[0.7777777777777778,\"#fb9f3a\"],[0.8888888888888888,\"#fdca26\"],[1.0,\"#f0f921\"]]}],\"choropleth\":[{\"type\":\"choropleth\",\"colorbar\":{\"outlinewidth\":0,\"ticks\":\"\"}}],\"histogram2d\":[{\"type\":\"histogram2d\",\"colorbar\":{\"outlinewidth\":0,\"ticks\":\"\"},\"colorscale\":[[0.0,\"#0d0887\"],[0.1111111111111111,\"#46039f\"],[0.2222222222222222,\"#7201a8\"],[0.3333333333333333,\"#9c179e\"],[0.4444444444444444,\"#bd3786\"],[0.5555555555555556,\"#d8576b\"],[0.6666666666666666,\"#ed7953\"],[0.7777777777777778,\"#fb9f3a\"],[0.8888888888888888,\"#fdca26\"],[1.0,\"#f0f921\"]]}],\"heatmap\":[{\"type\":\"heatmap\",\"colorbar\":{\"outlinewidth\":0,\"ticks\":\"\"},\"colorscale\":[[0.0,\"#0d0887\"],[0.1111111111111111,\"#46039f\"],[0.2222222222222222,\"#7201a8\"],[0.3333333333333333,\"#9c179e\"],[0.4444444444444444,\"#bd3786\"],[0.5555555555555556,\"#d8576b\"],[0.6666666666666666,\"#ed7953\"],[0.7777777777777778,\"#fb9f3a\"],[0.8888888888888888,\"#fdca26\"],[1.0,\"#f0f921\"]]}],\"heatmapgl\":[{\"type\":\"heatmapgl\",\"colorbar\":{\"outlinewidth\":0,\"ticks\":\"\"},\"colorscale\":[[0.0,\"#0d0887\"],[0.1111111111111111,\"#46039f\"],[0.2222222222222222,\"#7201a8\"],[0.3333333333333333,\"#9c179e\"],[0.4444444444444444,\"#bd3786\"],[0.5555555555555556,\"#d8576b\"],[0.6666666666666666,\"#ed7953\"],[0.7777777777777778,\"#fb9f3a\"],[0.8888888888888888,\"#fdca26\"],[1.0,\"#f0f921\"]]}],\"contourcarpet\":[{\"type\":\"contourcarpet\",\"colorbar\":{\"outlinewidth\":0,\"ticks\":\"\"}}],\"contour\":[{\"type\":\"contour\",\"colorbar\":{\"outlinewidth\":0,\"ticks\":\"\"},\"colorscale\":[[0.0,\"#0d0887\"],[0.1111111111111111,\"#46039f\"],[0.2222222222222222,\"#7201a8\"],[0.3333333333333333,\"#9c179e\"],[0.4444444444444444,\"#bd3786\"],[0.5555555555555556,\"#d8576b\"],[0.6666666666666666,\"#ed7953\"],[0.7777777777777778,\"#fb9f3a\"],[0.8888888888888888,\"#fdca26\"],[1.0,\"#f0f921\"]]}],\"surface\":[{\"type\":\"surface\",\"colorbar\":{\"outlinewidth\":0,\"ticks\":\"\"},\"colorscale\":[[0.0,\"#0d0887\"],[0.1111111111111111,\"#46039f\"],[0.2222222222222222,\"#7201a8\"],[0.3333333333333333,\"#9c179e\"],[0.4444444444444444,\"#bd3786\"],[0.5555555555555556,\"#d8576b\"],[0.6666666666666666,\"#ed7953\"],[0.7777777777777778,\"#fb9f3a\"],[0.8888888888888888,\"#fdca26\"],[1.0,\"#f0f921\"]]}],\"mesh3d\":[{\"type\":\"mesh3d\",\"colorbar\":{\"outlinewidth\":0,\"ticks\":\"\"}}],\"scatter\":[{\"fillpattern\":{\"fillmode\":\"overlay\",\"size\":10,\"solidity\":0.2},\"type\":\"scatter\"}],\"parcoords\":[{\"type\":\"parcoords\",\"line\":{\"colorbar\":{\"outlinewidth\":0,\"ticks\":\"\"}}}],\"scatterpolargl\":[{\"type\":\"scatterpolargl\",\"marker\":{\"colorbar\":{\"outlinewidth\":0,\"ticks\":\"\"}}}],\"bar\":[{\"error_x\":{\"color\":\"#2a3f5f\"},\"error_y\":{\"color\":\"#2a3f5f\"},\"marker\":{\"line\":{\"color\":\"#E5ECF6\",\"width\":0.5},\"pattern\":{\"fillmode\":\"overlay\",\"size\":10,\"solidity\":0.2}},\"type\":\"bar\"}],\"scattergeo\":[{\"type\":\"scattergeo\",\"marker\":{\"colorbar\":{\"outlinewidth\":0,\"ticks\":\"\"}}}],\"scatterpolar\":[{\"type\":\"scatterpolar\",\"marker\":{\"colorbar\":{\"outlinewidth\":0,\"ticks\":\"\"}}}],\"histogram\":[{\"marker\":{\"pattern\":{\"fillmode\":\"overlay\",\"size\":10,\"solidity\":0.2}},\"type\":\"histogram\"}],\"scattergl\":[{\"type\":\"scattergl\",\"marker\":{\"colorbar\":{\"outlinewidth\":0,\"ticks\":\"\"}}}],\"scatter3d\":[{\"type\":\"scatter3d\",\"line\":{\"colorbar\":{\"outlinewidth\":0,\"ticks\":\"\"}},\"marker\":{\"colorbar\":{\"outlinewidth\":0,\"ticks\":\"\"}}}],\"scattermapbox\":[{\"type\":\"scattermapbox\",\"marker\":{\"colorbar\":{\"outlinewidth\":0,\"ticks\":\"\"}}}],\"scatterternary\":[{\"type\":\"scatterternary\",\"marker\":{\"colorbar\":{\"outlinewidth\":0,\"ticks\":\"\"}}}],\"scattercarpet\":[{\"type\":\"scattercarpet\",\"marker\":{\"colorbar\":{\"outlinewidth\":0,\"ticks\":\"\"}}}],\"carpet\":[{\"aaxis\":{\"endlinecolor\":\"#2a3f5f\",\"gridcolor\":\"white\",\"linecolor\":\"white\",\"minorgridcolor\":\"white\",\"startlinecolor\":\"#2a3f5f\"},\"baxis\":{\"endlinecolor\":\"#2a3f5f\",\"gridcolor\":\"white\",\"linecolor\":\"white\",\"minorgridcolor\":\"white\",\"startlinecolor\":\"#2a3f5f\"},\"type\":\"carpet\"}],\"table\":[{\"cells\":{\"fill\":{\"color\":\"#EBF0F8\"},\"line\":{\"color\":\"white\"}},\"header\":{\"fill\":{\"color\":\"#C8D4E3\"},\"line\":{\"color\":\"white\"}},\"type\":\"table\"}],\"barpolar\":[{\"marker\":{\"line\":{\"color\":\"#E5ECF6\",\"width\":0.5},\"pattern\":{\"fillmode\":\"overlay\",\"size\":10,\"solidity\":0.2}},\"type\":\"barpolar\"}],\"pie\":[{\"automargin\":true,\"type\":\"pie\"}]},\"layout\":{\"autotypenumbers\":\"strict\",\"colorway\":[\"#636efa\",\"#EF553B\",\"#00cc96\",\"#ab63fa\",\"#FFA15A\",\"#19d3f3\",\"#FF6692\",\"#B6E880\",\"#FF97FF\",\"#FECB52\"],\"font\":{\"color\":\"#2a3f5f\"},\"hovermode\":\"closest\",\"hoverlabel\":{\"align\":\"left\"},\"paper_bgcolor\":\"white\",\"plot_bgcolor\":\"#E5ECF6\",\"polar\":{\"bgcolor\":\"#E5ECF6\",\"angularaxis\":{\"gridcolor\":\"white\",\"linecolor\":\"white\",\"ticks\":\"\"},\"radialaxis\":{\"gridcolor\":\"white\",\"linecolor\":\"white\",\"ticks\":\"\"}},\"ternary\":{\"bgcolor\":\"#E5ECF6\",\"aaxis\":{\"gridcolor\":\"white\",\"linecolor\":\"white\",\"ticks\":\"\"},\"baxis\":{\"gridcolor\":\"white\",\"linecolor\":\"white\",\"ticks\":\"\"},\"caxis\":{\"gridcolor\":\"white\",\"linecolor\":\"white\",\"ticks\":\"\"}},\"coloraxis\":{\"colorbar\":{\"outlinewidth\":0,\"ticks\":\"\"}},\"colorscale\":{\"sequential\":[[0.0,\"#0d0887\"],[0.1111111111111111,\"#46039f\"],[0.2222222222222222,\"#7201a8\"],[0.3333333333333333,\"#9c179e\"],[0.4444444444444444,\"#bd3786\"],[0.5555555555555556,\"#d8576b\"],[0.6666666666666666,\"#ed7953\"],[0.7777777777777778,\"#fb9f3a\"],[0.8888888888888888,\"#fdca26\"],[1.0,\"#f0f921\"]],\"sequentialminus\":[[0.0,\"#0d0887\"],[0.1111111111111111,\"#46039f\"],[0.2222222222222222,\"#7201a8\"],[0.3333333333333333,\"#9c179e\"],[0.4444444444444444,\"#bd3786\"],[0.5555555555555556,\"#d8576b\"],[0.6666666666666666,\"#ed7953\"],[0.7777777777777778,\"#fb9f3a\"],[0.8888888888888888,\"#fdca26\"],[1.0,\"#f0f921\"]],\"diverging\":[[0,\"#8e0152\"],[0.1,\"#c51b7d\"],[0.2,\"#de77ae\"],[0.3,\"#f1b6da\"],[0.4,\"#fde0ef\"],[0.5,\"#f7f7f7\"],[0.6,\"#e6f5d0\"],[0.7,\"#b8e186\"],[0.8,\"#7fbc41\"],[0.9,\"#4d9221\"],[1,\"#276419\"]]},\"xaxis\":{\"gridcolor\":\"white\",\"linecolor\":\"white\",\"ticks\":\"\",\"title\":{\"standoff\":15},\"zerolinecolor\":\"white\",\"automargin\":true,\"zerolinewidth\":2},\"yaxis\":{\"gridcolor\":\"white\",\"linecolor\":\"white\",\"ticks\":\"\",\"title\":{\"standoff\":15},\"zerolinecolor\":\"white\",\"automargin\":true,\"zerolinewidth\":2},\"scene\":{\"xaxis\":{\"backgroundcolor\":\"#E5ECF6\",\"gridcolor\":\"white\",\"linecolor\":\"white\",\"showbackground\":true,\"ticks\":\"\",\"zerolinecolor\":\"white\",\"gridwidth\":2},\"yaxis\":{\"backgroundcolor\":\"#E5ECF6\",\"gridcolor\":\"white\",\"linecolor\":\"white\",\"showbackground\":true,\"ticks\":\"\",\"zerolinecolor\":\"white\",\"gridwidth\":2},\"zaxis\":{\"backgroundcolor\":\"#E5ECF6\",\"gridcolor\":\"white\",\"linecolor\":\"white\",\"showbackground\":true,\"ticks\":\"\",\"zerolinecolor\":\"white\",\"gridwidth\":2}},\"shapedefaults\":{\"line\":{\"color\":\"#2a3f5f\"}},\"annotationdefaults\":{\"arrowcolor\":\"#2a3f5f\",\"arrowhead\":0,\"arrowwidth\":1},\"geo\":{\"bgcolor\":\"white\",\"landcolor\":\"#E5ECF6\",\"subunitcolor\":\"white\",\"showland\":true,\"showlakes\":true,\"lakecolor\":\"white\"},\"title\":{\"x\":0.05},\"mapbox\":{\"style\":\"light\"}}}},                        {\"responsive\": true}                    ).then(function(){\n",
       "                            \n",
       "var gd = document.getElementById('5c433c02-d817-4bf8-9831-810d2d432510');\n",
       "var x = new MutationObserver(function (mutations, observer) {{\n",
       "        var display = window.getComputedStyle(gd).display;\n",
       "        if (!display || display === 'none') {{\n",
       "            console.log([gd, 'removed!']);\n",
       "            Plotly.purge(gd);\n",
       "            observer.disconnect();\n",
       "        }}\n",
       "}});\n",
       "\n",
       "// Listen for the removal of the full notebook cells\n",
       "var notebookContainer = gd.closest('#notebook-container');\n",
       "if (notebookContainer) {{\n",
       "    x.observe(notebookContainer, {childList: true});\n",
       "}}\n",
       "\n",
       "// Listen for the clearing of the current output cell\n",
       "var outputEl = gd.closest('.output');\n",
       "if (outputEl) {{\n",
       "    x.observe(outputEl, {childList: true});\n",
       "}}\n",
       "\n",
       "                        })                };                });            </script>        </div>"
      ]
     },
     "metadata": {},
     "output_type": "display_data"
    }
   ],
   "source": [
    "trace=go.Scatter(x=avg['avg'], y=avg['batsman_runs'], mode='markers', text=avg['batsman'] , marker={'color': '#00a65a', 'size': 16})\n",
    "data=[trace]\n",
    "layout = go.Layout(title='Batsman Avg vs SR',\n",
    "                  xaxis={'title': 'Batsman Average'},\n",
    "                  yaxis={'title': 'Batsman Strike Rate'})\n",
    "fig=go.Figure(data=data, layout=layout)\n",
    "fig.show()"
   ]
  },
  {
   "cell_type": "markdown",
   "id": "805a7fe4-585a-45d3-b323-24d753eb95bb",
   "metadata": {},
   "source": [
    "### Line Chart "
   ]
  },
  {
   "cell_type": "code",
   "execution_count": 34,
   "id": "4266ac14-1646-464d-a489-7776f54bd96e",
   "metadata": {
    "tags": []
   },
   "outputs": [],
   "source": [
    "# year by year batsman performance\n",
    "\n",
    "single= ipl[ipl['batsman'] == 'V Kohli']\n",
    "performance= single.groupby('season')['batsman_runs'].sum().reset_index()\n",
    "\n",
    "single1= ipl[ipl['batsman'] == 'MS Dhoni']\n",
    "performance1= single1.groupby('season')['batsman_runs'].sum().reset_index()"
   ]
  },
  {
   "cell_type": "code",
   "execution_count": 36,
   "id": "7f3a9765-4848-4f9b-8a6f-bd403dbaccee",
   "metadata": {
    "tags": []
   },
   "outputs": [
    {
     "data": {
      "application/vnd.plotly.v1+json": {
       "config": {
        "plotlyServerURL": "https://plot.ly"
       },
       "data": [
        {
         "marker": {
          "color": "#00a65a"
         },
         "mode": "lines",
         "name": "Virat Kholi",
         "type": "scatter",
         "x": [
          2008,
          2009,
          2010,
          2011,
          2012,
          2013,
          2014,
          2015,
          2016,
          2017
         ],
         "y": [
          165,
          246,
          307,
          557,
          364,
          639,
          359,
          505,
          973,
          308
         ]
        },
        {
         "marker": {
          "color": "#00a65a"
         },
         "mode": "lines",
         "name": "MS Dhoni",
         "type": "scatter",
         "x": [
          2008,
          2009,
          2010,
          2011,
          2012,
          2013,
          2014,
          2015,
          2016,
          2017
         ],
         "y": [
          414,
          332,
          287,
          392,
          357,
          461,
          371,
          372,
          284,
          290
         ]
        }
       ],
       "layout": {
        "autosize": true,
        "template": {
         "data": {
          "bar": [
           {
            "error_x": {
             "color": "#2a3f5f"
            },
            "error_y": {
             "color": "#2a3f5f"
            },
            "marker": {
             "line": {
              "color": "#E5ECF6",
              "width": 0.5
             },
             "pattern": {
              "fillmode": "overlay",
              "size": 10,
              "solidity": 0.2
             }
            },
            "type": "bar"
           }
          ],
          "barpolar": [
           {
            "marker": {
             "line": {
              "color": "#E5ECF6",
              "width": 0.5
             },
             "pattern": {
              "fillmode": "overlay",
              "size": 10,
              "solidity": 0.2
             }
            },
            "type": "barpolar"
           }
          ],
          "carpet": [
           {
            "aaxis": {
             "endlinecolor": "#2a3f5f",
             "gridcolor": "white",
             "linecolor": "white",
             "minorgridcolor": "white",
             "startlinecolor": "#2a3f5f"
            },
            "baxis": {
             "endlinecolor": "#2a3f5f",
             "gridcolor": "white",
             "linecolor": "white",
             "minorgridcolor": "white",
             "startlinecolor": "#2a3f5f"
            },
            "type": "carpet"
           }
          ],
          "choropleth": [
           {
            "colorbar": {
             "outlinewidth": 0,
             "ticks": ""
            },
            "type": "choropleth"
           }
          ],
          "contour": [
           {
            "colorbar": {
             "outlinewidth": 0,
             "ticks": ""
            },
            "colorscale": [
             [
              0,
              "#0d0887"
             ],
             [
              0.1111111111111111,
              "#46039f"
             ],
             [
              0.2222222222222222,
              "#7201a8"
             ],
             [
              0.3333333333333333,
              "#9c179e"
             ],
             [
              0.4444444444444444,
              "#bd3786"
             ],
             [
              0.5555555555555556,
              "#d8576b"
             ],
             [
              0.6666666666666666,
              "#ed7953"
             ],
             [
              0.7777777777777778,
              "#fb9f3a"
             ],
             [
              0.8888888888888888,
              "#fdca26"
             ],
             [
              1,
              "#f0f921"
             ]
            ],
            "type": "contour"
           }
          ],
          "contourcarpet": [
           {
            "colorbar": {
             "outlinewidth": 0,
             "ticks": ""
            },
            "type": "contourcarpet"
           }
          ],
          "heatmap": [
           {
            "colorbar": {
             "outlinewidth": 0,
             "ticks": ""
            },
            "colorscale": [
             [
              0,
              "#0d0887"
             ],
             [
              0.1111111111111111,
              "#46039f"
             ],
             [
              0.2222222222222222,
              "#7201a8"
             ],
             [
              0.3333333333333333,
              "#9c179e"
             ],
             [
              0.4444444444444444,
              "#bd3786"
             ],
             [
              0.5555555555555556,
              "#d8576b"
             ],
             [
              0.6666666666666666,
              "#ed7953"
             ],
             [
              0.7777777777777778,
              "#fb9f3a"
             ],
             [
              0.8888888888888888,
              "#fdca26"
             ],
             [
              1,
              "#f0f921"
             ]
            ],
            "type": "heatmap"
           }
          ],
          "heatmapgl": [
           {
            "colorbar": {
             "outlinewidth": 0,
             "ticks": ""
            },
            "colorscale": [
             [
              0,
              "#0d0887"
             ],
             [
              0.1111111111111111,
              "#46039f"
             ],
             [
              0.2222222222222222,
              "#7201a8"
             ],
             [
              0.3333333333333333,
              "#9c179e"
             ],
             [
              0.4444444444444444,
              "#bd3786"
             ],
             [
              0.5555555555555556,
              "#d8576b"
             ],
             [
              0.6666666666666666,
              "#ed7953"
             ],
             [
              0.7777777777777778,
              "#fb9f3a"
             ],
             [
              0.8888888888888888,
              "#fdca26"
             ],
             [
              1,
              "#f0f921"
             ]
            ],
            "type": "heatmapgl"
           }
          ],
          "histogram": [
           {
            "marker": {
             "pattern": {
              "fillmode": "overlay",
              "size": 10,
              "solidity": 0.2
             }
            },
            "type": "histogram"
           }
          ],
          "histogram2d": [
           {
            "colorbar": {
             "outlinewidth": 0,
             "ticks": ""
            },
            "colorscale": [
             [
              0,
              "#0d0887"
             ],
             [
              0.1111111111111111,
              "#46039f"
             ],
             [
              0.2222222222222222,
              "#7201a8"
             ],
             [
              0.3333333333333333,
              "#9c179e"
             ],
             [
              0.4444444444444444,
              "#bd3786"
             ],
             [
              0.5555555555555556,
              "#d8576b"
             ],
             [
              0.6666666666666666,
              "#ed7953"
             ],
             [
              0.7777777777777778,
              "#fb9f3a"
             ],
             [
              0.8888888888888888,
              "#fdca26"
             ],
             [
              1,
              "#f0f921"
             ]
            ],
            "type": "histogram2d"
           }
          ],
          "histogram2dcontour": [
           {
            "colorbar": {
             "outlinewidth": 0,
             "ticks": ""
            },
            "colorscale": [
             [
              0,
              "#0d0887"
             ],
             [
              0.1111111111111111,
              "#46039f"
             ],
             [
              0.2222222222222222,
              "#7201a8"
             ],
             [
              0.3333333333333333,
              "#9c179e"
             ],
             [
              0.4444444444444444,
              "#bd3786"
             ],
             [
              0.5555555555555556,
              "#d8576b"
             ],
             [
              0.6666666666666666,
              "#ed7953"
             ],
             [
              0.7777777777777778,
              "#fb9f3a"
             ],
             [
              0.8888888888888888,
              "#fdca26"
             ],
             [
              1,
              "#f0f921"
             ]
            ],
            "type": "histogram2dcontour"
           }
          ],
          "mesh3d": [
           {
            "colorbar": {
             "outlinewidth": 0,
             "ticks": ""
            },
            "type": "mesh3d"
           }
          ],
          "parcoords": [
           {
            "line": {
             "colorbar": {
              "outlinewidth": 0,
              "ticks": ""
             }
            },
            "type": "parcoords"
           }
          ],
          "pie": [
           {
            "automargin": true,
            "type": "pie"
           }
          ],
          "scatter": [
           {
            "fillpattern": {
             "fillmode": "overlay",
             "size": 10,
             "solidity": 0.2
            },
            "type": "scatter"
           }
          ],
          "scatter3d": [
           {
            "line": {
             "colorbar": {
              "outlinewidth": 0,
              "ticks": ""
             }
            },
            "marker": {
             "colorbar": {
              "outlinewidth": 0,
              "ticks": ""
             }
            },
            "type": "scatter3d"
           }
          ],
          "scattercarpet": [
           {
            "marker": {
             "colorbar": {
              "outlinewidth": 0,
              "ticks": ""
             }
            },
            "type": "scattercarpet"
           }
          ],
          "scattergeo": [
           {
            "marker": {
             "colorbar": {
              "outlinewidth": 0,
              "ticks": ""
             }
            },
            "type": "scattergeo"
           }
          ],
          "scattergl": [
           {
            "marker": {
             "colorbar": {
              "outlinewidth": 0,
              "ticks": ""
             }
            },
            "type": "scattergl"
           }
          ],
          "scattermapbox": [
           {
            "marker": {
             "colorbar": {
              "outlinewidth": 0,
              "ticks": ""
             }
            },
            "type": "scattermapbox"
           }
          ],
          "scatterpolar": [
           {
            "marker": {
             "colorbar": {
              "outlinewidth": 0,
              "ticks": ""
             }
            },
            "type": "scatterpolar"
           }
          ],
          "scatterpolargl": [
           {
            "marker": {
             "colorbar": {
              "outlinewidth": 0,
              "ticks": ""
             }
            },
            "type": "scatterpolargl"
           }
          ],
          "scatterternary": [
           {
            "marker": {
             "colorbar": {
              "outlinewidth": 0,
              "ticks": ""
             }
            },
            "type": "scatterternary"
           }
          ],
          "surface": [
           {
            "colorbar": {
             "outlinewidth": 0,
             "ticks": ""
            },
            "colorscale": [
             [
              0,
              "#0d0887"
             ],
             [
              0.1111111111111111,
              "#46039f"
             ],
             [
              0.2222222222222222,
              "#7201a8"
             ],
             [
              0.3333333333333333,
              "#9c179e"
             ],
             [
              0.4444444444444444,
              "#bd3786"
             ],
             [
              0.5555555555555556,
              "#d8576b"
             ],
             [
              0.6666666666666666,
              "#ed7953"
             ],
             [
              0.7777777777777778,
              "#fb9f3a"
             ],
             [
              0.8888888888888888,
              "#fdca26"
             ],
             [
              1,
              "#f0f921"
             ]
            ],
            "type": "surface"
           }
          ],
          "table": [
           {
            "cells": {
             "fill": {
              "color": "#EBF0F8"
             },
             "line": {
              "color": "white"
             }
            },
            "header": {
             "fill": {
              "color": "#C8D4E3"
             },
             "line": {
              "color": "white"
             }
            },
            "type": "table"
           }
          ]
         },
         "layout": {
          "annotationdefaults": {
           "arrowcolor": "#2a3f5f",
           "arrowhead": 0,
           "arrowwidth": 1
          },
          "autotypenumbers": "strict",
          "coloraxis": {
           "colorbar": {
            "outlinewidth": 0,
            "ticks": ""
           }
          },
          "colorscale": {
           "diverging": [
            [
             0,
             "#8e0152"
            ],
            [
             0.1,
             "#c51b7d"
            ],
            [
             0.2,
             "#de77ae"
            ],
            [
             0.3,
             "#f1b6da"
            ],
            [
             0.4,
             "#fde0ef"
            ],
            [
             0.5,
             "#f7f7f7"
            ],
            [
             0.6,
             "#e6f5d0"
            ],
            [
             0.7,
             "#b8e186"
            ],
            [
             0.8,
             "#7fbc41"
            ],
            [
             0.9,
             "#4d9221"
            ],
            [
             1,
             "#276419"
            ]
           ],
           "sequential": [
            [
             0,
             "#0d0887"
            ],
            [
             0.1111111111111111,
             "#46039f"
            ],
            [
             0.2222222222222222,
             "#7201a8"
            ],
            [
             0.3333333333333333,
             "#9c179e"
            ],
            [
             0.4444444444444444,
             "#bd3786"
            ],
            [
             0.5555555555555556,
             "#d8576b"
            ],
            [
             0.6666666666666666,
             "#ed7953"
            ],
            [
             0.7777777777777778,
             "#fb9f3a"
            ],
            [
             0.8888888888888888,
             "#fdca26"
            ],
            [
             1,
             "#f0f921"
            ]
           ],
           "sequentialminus": [
            [
             0,
             "#0d0887"
            ],
            [
             0.1111111111111111,
             "#46039f"
            ],
            [
             0.2222222222222222,
             "#7201a8"
            ],
            [
             0.3333333333333333,
             "#9c179e"
            ],
            [
             0.4444444444444444,
             "#bd3786"
            ],
            [
             0.5555555555555556,
             "#d8576b"
            ],
            [
             0.6666666666666666,
             "#ed7953"
            ],
            [
             0.7777777777777778,
             "#fb9f3a"
            ],
            [
             0.8888888888888888,
             "#fdca26"
            ],
            [
             1,
             "#f0f921"
            ]
           ]
          },
          "colorway": [
           "#636efa",
           "#EF553B",
           "#00cc96",
           "#ab63fa",
           "#FFA15A",
           "#19d3f3",
           "#FF6692",
           "#B6E880",
           "#FF97FF",
           "#FECB52"
          ],
          "font": {
           "color": "#2a3f5f"
          },
          "geo": {
           "bgcolor": "white",
           "lakecolor": "white",
           "landcolor": "#E5ECF6",
           "showlakes": true,
           "showland": true,
           "subunitcolor": "white"
          },
          "hoverlabel": {
           "align": "left"
          },
          "hovermode": "closest",
          "mapbox": {
           "style": "light"
          },
          "paper_bgcolor": "white",
          "plot_bgcolor": "#E5ECF6",
          "polar": {
           "angularaxis": {
            "gridcolor": "white",
            "linecolor": "white",
            "ticks": ""
           },
           "bgcolor": "#E5ECF6",
           "radialaxis": {
            "gridcolor": "white",
            "linecolor": "white",
            "ticks": ""
           }
          },
          "scene": {
           "xaxis": {
            "backgroundcolor": "#E5ECF6",
            "gridcolor": "white",
            "gridwidth": 2,
            "linecolor": "white",
            "showbackground": true,
            "ticks": "",
            "zerolinecolor": "white"
           },
           "yaxis": {
            "backgroundcolor": "#E5ECF6",
            "gridcolor": "white",
            "gridwidth": 2,
            "linecolor": "white",
            "showbackground": true,
            "ticks": "",
            "zerolinecolor": "white"
           },
           "zaxis": {
            "backgroundcolor": "#E5ECF6",
            "gridcolor": "white",
            "gridwidth": 2,
            "linecolor": "white",
            "showbackground": true,
            "ticks": "",
            "zerolinecolor": "white"
           }
          },
          "shapedefaults": {
           "line": {
            "color": "#2a3f5f"
           }
          },
          "ternary": {
           "aaxis": {
            "gridcolor": "white",
            "linecolor": "white",
            "ticks": ""
           },
           "baxis": {
            "gridcolor": "white",
            "linecolor": "white",
            "ticks": ""
           },
           "bgcolor": "#E5ECF6",
           "caxis": {
            "gridcolor": "white",
            "linecolor": "white",
            "ticks": ""
           }
          },
          "title": {
           "x": 0.05
          },
          "xaxis": {
           "automargin": true,
           "gridcolor": "white",
           "linecolor": "white",
           "ticks": "",
           "title": {
            "standoff": 15
           },
           "zerolinecolor": "white",
           "zerolinewidth": 2
          },
          "yaxis": {
           "automargin": true,
           "gridcolor": "white",
           "linecolor": "white",
           "ticks": "",
           "title": {
            "standoff": 15
           },
           "zerolinecolor": "white",
           "zerolinewidth": 2
          }
         }
        },
        "title": {
         "text": "Year by Year Performance"
        },
        "xaxis": {
         "autorange": false,
         "range": [
          2010.1931075523637,
          2016.0193063670188
         ],
         "title": {
          "text": "Season"
         },
         "type": "linear"
        },
        "yaxis": {
         "autorange": false,
         "range": [
          -281.15234321740627,
          935.5357141387591
         ],
         "title": {
          "text": "Total_Runs"
         },
         "type": "linear"
        }
       }
      },
      "image/png": "[encoded data removed]",
      "text/html": [
       "<div>                            <div id=\"127250ab-ad44-451d-84c4-0c05d3fc4074\" class=\"plotly-graph-div\" style=\"height:525px; width:100%;\"></div>            <script type=\"text/javascript\">                require([\"plotly\"], function(Plotly) {                    window.PLOTLYENV=window.PLOTLYENV || {};                                    if (document.getElementById(\"127250ab-ad44-451d-84c4-0c05d3fc4074\")) {                    Plotly.newPlot(                        \"127250ab-ad44-451d-84c4-0c05d3fc4074\",                        [{\"marker\":{\"color\":\"#00a65a\"},\"mode\":\"lines\",\"name\":\"Virat Kholi\",\"x\":[2008,2009,2010,2011,2012,2013,2014,2015,2016,2017],\"y\":[165,246,307,557,364,639,359,505,973,308],\"type\":\"scatter\"},{\"marker\":{\"color\":\"#00a65a\"},\"mode\":\"lines\",\"name\":\"MS Dhoni\",\"x\":[2008,2009,2010,2011,2012,2013,2014,2015,2016,2017],\"y\":[414,332,287,392,357,461,371,372,284,290],\"type\":\"scatter\"}],                        {\"title\":{\"text\":\"Year by Year Performance\"},\"xaxis\":{\"title\":{\"text\":\"Season\"}},\"yaxis\":{\"title\":{\"text\":\"Total_Runs\"}},\"template\":{\"data\":{\"histogram2dcontour\":[{\"type\":\"histogram2dcontour\",\"colorbar\":{\"outlinewidth\":0,\"ticks\":\"\"},\"colorscale\":[[0.0,\"#0d0887\"],[0.1111111111111111,\"#46039f\"],[0.2222222222222222,\"#7201a8\"],[0.3333333333333333,\"#9c179e\"],[0.4444444444444444,\"#bd3786\"],[0.5555555555555556,\"#d8576b\"],[0.6666666666666666,\"#ed7953\"],[0.7777777777777778,\"#fb9f3a\"],[0.8888888888888888,\"#fdca26\"],[1.0,\"#f0f921\"]]}],\"choropleth\":[{\"type\":\"choropleth\",\"colorbar\":{\"outlinewidth\":0,\"ticks\":\"\"}}],\"histogram2d\":[{\"type\":\"histogram2d\",\"colorbar\":{\"outlinewidth\":0,\"ticks\":\"\"},\"colorscale\":[[0.0,\"#0d0887\"],[0.1111111111111111,\"#46039f\"],[0.2222222222222222,\"#7201a8\"],[0.3333333333333333,\"#9c179e\"],[0.4444444444444444,\"#bd3786\"],[0.5555555555555556,\"#d8576b\"],[0.6666666666666666,\"#ed7953\"],[0.7777777777777778,\"#fb9f3a\"],[0.8888888888888888,\"#fdca26\"],[1.0,\"#f0f921\"]]}],\"heatmap\":[{\"type\":\"heatmap\",\"colorbar\":{\"outlinewidth\":0,\"ticks\":\"\"},\"colorscale\":[[0.0,\"#0d0887\"],[0.1111111111111111,\"#46039f\"],[0.2222222222222222,\"#7201a8\"],[0.3333333333333333,\"#9c179e\"],[0.4444444444444444,\"#bd3786\"],[0.5555555555555556,\"#d8576b\"],[0.6666666666666666,\"#ed7953\"],[0.7777777777777778,\"#fb9f3a\"],[0.8888888888888888,\"#fdca26\"],[1.0,\"#f0f921\"]]}],\"heatmapgl\":[{\"type\":\"heatmapgl\",\"colorbar\":{\"outlinewidth\":0,\"ticks\":\"\"},\"colorscale\":[[0.0,\"#0d0887\"],[0.1111111111111111,\"#46039f\"],[0.2222222222222222,\"#7201a8\"],[0.3333333333333333,\"#9c179e\"],[0.4444444444444444,\"#bd3786\"],[0.5555555555555556,\"#d8576b\"],[0.6666666666666666,\"#ed7953\"],[0.7777777777777778,\"#fb9f3a\"],[0.8888888888888888,\"#fdca26\"],[1.0,\"#f0f921\"]]}],\"contourcarpet\":[{\"type\":\"contourcarpet\",\"colorbar\":{\"outlinewidth\":0,\"ticks\":\"\"}}],\"contour\":[{\"type\":\"contour\",\"colorbar\":{\"outlinewidth\":0,\"ticks\":\"\"},\"colorscale\":[[0.0,\"#0d0887\"],[0.1111111111111111,\"#46039f\"],[0.2222222222222222,\"#7201a8\"],[0.3333333333333333,\"#9c179e\"],[0.4444444444444444,\"#bd3786\"],[0.5555555555555556,\"#d8576b\"],[0.6666666666666666,\"#ed7953\"],[0.7777777777777778,\"#fb9f3a\"],[0.8888888888888888,\"#fdca26\"],[1.0,\"#f0f921\"]]}],\"surface\":[{\"type\":\"surface\",\"colorbar\":{\"outlinewidth\":0,\"ticks\":\"\"},\"colorscale\":[[0.0,\"#0d0887\"],[0.1111111111111111,\"#46039f\"],[0.2222222222222222,\"#7201a8\"],[0.3333333333333333,\"#9c179e\"],[0.4444444444444444,\"#bd3786\"],[0.5555555555555556,\"#d8576b\"],[0.6666666666666666,\"#ed7953\"],[0.7777777777777778,\"#fb9f3a\"],[0.8888888888888888,\"#fdca26\"],[1.0,\"#f0f921\"]]}],\"mesh3d\":[{\"type\":\"mesh3d\",\"colorbar\":{\"outlinewidth\":0,\"ticks\":\"\"}}],\"scatter\":[{\"fillpattern\":{\"fillmode\":\"overlay\",\"size\":10,\"solidity\":0.2},\"type\":\"scatter\"}],\"parcoords\":[{\"type\":\"parcoords\",\"line\":{\"colorbar\":{\"outlinewidth\":0,\"ticks\":\"\"}}}],\"scatterpolargl\":[{\"type\":\"scatterpolargl\",\"marker\":{\"colorbar\":{\"outlinewidth\":0,\"ticks\":\"\"}}}],\"bar\":[{\"error_x\":{\"color\":\"#2a3f5f\"},\"error_y\":{\"color\":\"#2a3f5f\"},\"marker\":{\"line\":{\"color\":\"#E5ECF6\",\"width\":0.5},\"pattern\":{\"fillmode\":\"overlay\",\"size\":10,\"solidity\":0.2}},\"type\":\"bar\"}],\"scattergeo\":[{\"type\":\"scattergeo\",\"marker\":{\"colorbar\":{\"outlinewidth\":0,\"ticks\":\"\"}}}],\"scatterpolar\":[{\"type\":\"scatterpolar\",\"marker\":{\"colorbar\":{\"outlinewidth\":0,\"ticks\":\"\"}}}],\"histogram\":[{\"marker\":{\"pattern\":{\"fillmode\":\"overlay\",\"size\":10,\"solidity\":0.2}},\"type\":\"histogram\"}],\"scattergl\":[{\"type\":\"scattergl\",\"marker\":{\"colorbar\":{\"outlinewidth\":0,\"ticks\":\"\"}}}],\"scatter3d\":[{\"type\":\"scatter3d\",\"line\":{\"colorbar\":{\"outlinewidth\":0,\"ticks\":\"\"}},\"marker\":{\"colorbar\":{\"outlinewidth\":0,\"ticks\":\"\"}}}],\"scattermapbox\":[{\"type\":\"scattermapbox\",\"marker\":{\"colorbar\":{\"outlinewidth\":0,\"ticks\":\"\"}}}],\"scatterternary\":[{\"type\":\"scatterternary\",\"marker\":{\"colorbar\":{\"outlinewidth\":0,\"ticks\":\"\"}}}],\"scattercarpet\":[{\"type\":\"scattercarpet\",\"marker\":{\"colorbar\":{\"outlinewidth\":0,\"ticks\":\"\"}}}],\"carpet\":[{\"aaxis\":{\"endlinecolor\":\"#2a3f5f\",\"gridcolor\":\"white\",\"linecolor\":\"white\",\"minorgridcolor\":\"white\",\"startlinecolor\":\"#2a3f5f\"},\"baxis\":{\"endlinecolor\":\"#2a3f5f\",\"gridcolor\":\"white\",\"linecolor\":\"white\",\"minorgridcolor\":\"white\",\"startlinecolor\":\"#2a3f5f\"},\"type\":\"carpet\"}],\"table\":[{\"cells\":{\"fill\":{\"color\":\"#EBF0F8\"},\"line\":{\"color\":\"white\"}},\"header\":{\"fill\":{\"color\":\"#C8D4E3\"},\"line\":{\"color\":\"white\"}},\"type\":\"table\"}],\"barpolar\":[{\"marker\":{\"line\":{\"color\":\"#E5ECF6\",\"width\":0.5},\"pattern\":{\"fillmode\":\"overlay\",\"size\":10,\"solidity\":0.2}},\"type\":\"barpolar\"}],\"pie\":[{\"automargin\":true,\"type\":\"pie\"}]},\"layout\":{\"autotypenumbers\":\"strict\",\"colorway\":[\"#636efa\",\"#EF553B\",\"#00cc96\",\"#ab63fa\",\"#FFA15A\",\"#19d3f3\",\"#FF6692\",\"#B6E880\",\"#FF97FF\",\"#FECB52\"],\"font\":{\"color\":\"#2a3f5f\"},\"hovermode\":\"closest\",\"hoverlabel\":{\"align\":\"left\"},\"paper_bgcolor\":\"white\",\"plot_bgcolor\":\"#E5ECF6\",\"polar\":{\"bgcolor\":\"#E5ECF6\",\"angularaxis\":{\"gridcolor\":\"white\",\"linecolor\":\"white\",\"ticks\":\"\"},\"radialaxis\":{\"gridcolor\":\"white\",\"linecolor\":\"white\",\"ticks\":\"\"}},\"ternary\":{\"bgcolor\":\"#E5ECF6\",\"aaxis\":{\"gridcolor\":\"white\",\"linecolor\":\"white\",\"ticks\":\"\"},\"baxis\":{\"gridcolor\":\"white\",\"linecolor\":\"white\",\"ticks\":\"\"},\"caxis\":{\"gridcolor\":\"white\",\"linecolor\":\"white\",\"ticks\":\"\"}},\"coloraxis\":{\"colorbar\":{\"outlinewidth\":0,\"ticks\":\"\"}},\"colorscale\":{\"sequential\":[[0.0,\"#0d0887\"],[0.1111111111111111,\"#46039f\"],[0.2222222222222222,\"#7201a8\"],[0.3333333333333333,\"#9c179e\"],[0.4444444444444444,\"#bd3786\"],[0.5555555555555556,\"#d8576b\"],[0.6666666666666666,\"#ed7953\"],[0.7777777777777778,\"#fb9f3a\"],[0.8888888888888888,\"#fdca26\"],[1.0,\"#f0f921\"]],\"sequentialminus\":[[0.0,\"#0d0887\"],[0.1111111111111111,\"#46039f\"],[0.2222222222222222,\"#7201a8\"],[0.3333333333333333,\"#9c179e\"],[0.4444444444444444,\"#bd3786\"],[0.5555555555555556,\"#d8576b\"],[0.6666666666666666,\"#ed7953\"],[0.7777777777777778,\"#fb9f3a\"],[0.8888888888888888,\"#fdca26\"],[1.0,\"#f0f921\"]],\"diverging\":[[0,\"#8e0152\"],[0.1,\"#c51b7d\"],[0.2,\"#de77ae\"],[0.3,\"#f1b6da\"],[0.4,\"#fde0ef\"],[0.5,\"#f7f7f7\"],[0.6,\"#e6f5d0\"],[0.7,\"#b8e186\"],[0.8,\"#7fbc41\"],[0.9,\"#4d9221\"],[1,\"#276419\"]]},\"xaxis\":{\"gridcolor\":\"white\",\"linecolor\":\"white\",\"ticks\":\"\",\"title\":{\"standoff\":15},\"zerolinecolor\":\"white\",\"automargin\":true,\"zerolinewidth\":2},\"yaxis\":{\"gridcolor\":\"white\",\"linecolor\":\"white\",\"ticks\":\"\",\"title\":{\"standoff\":15},\"zerolinecolor\":\"white\",\"automargin\":true,\"zerolinewidth\":2},\"scene\":{\"xaxis\":{\"backgroundcolor\":\"#E5ECF6\",\"gridcolor\":\"white\",\"linecolor\":\"white\",\"showbackground\":true,\"ticks\":\"\",\"zerolinecolor\":\"white\",\"gridwidth\":2},\"yaxis\":{\"backgroundcolor\":\"#E5ECF6\",\"gridcolor\":\"white\",\"linecolor\":\"white\",\"showbackground\":true,\"ticks\":\"\",\"zerolinecolor\":\"white\",\"gridwidth\":2},\"zaxis\":{\"backgroundcolor\":\"#E5ECF6\",\"gridcolor\":\"white\",\"linecolor\":\"white\",\"showbackground\":true,\"ticks\":\"\",\"zerolinecolor\":\"white\",\"gridwidth\":2}},\"shapedefaults\":{\"line\":{\"color\":\"#2a3f5f\"}},\"annotationdefaults\":{\"arrowcolor\":\"#2a3f5f\",\"arrowhead\":0,\"arrowwidth\":1},\"geo\":{\"bgcolor\":\"white\",\"landcolor\":\"#E5ECF6\",\"subunitcolor\":\"white\",\"showland\":true,\"showlakes\":true,\"lakecolor\":\"white\"},\"title\":{\"x\":0.05},\"mapbox\":{\"style\":\"light\"}}}},                        {\"responsive\": true}                    ).then(function(){\n",
       "                            \n",
       "var gd = document.getElementById('127250ab-ad44-451d-84c4-0c05d3fc4074');\n",
       "var x = new MutationObserver(function (mutations, observer) {{\n",
       "        var display = window.getComputedStyle(gd).display;\n",
       "        if (!display || display === 'none') {{\n",
       "            console.log([gd, 'removed!']);\n",
       "            Plotly.purge(gd);\n",
       "            observer.disconnect();\n",
       "        }}\n",
       "}});\n",
       "\n",
       "// Listen for the removal of the full notebook cells\n",
       "var notebookContainer = gd.closest('#notebook-container');\n",
       "if (notebookContainer) {{\n",
       "    x.observe(notebookContainer, {childList: true});\n",
       "}}\n",
       "\n",
       "// Listen for the clearing of the current output cell\n",
       "var outputEl = gd.closest('.output');\n",
       "if (outputEl) {{\n",
       "    x.observe(outputEl, {childList: true});\n",
       "}}\n",
       "\n",
       "                        })                };                });            </script>        </div>"
      ]
     },
     "metadata": {},
     "output_type": "display_data"
    }
   ],
   "source": [
    "trace=go.Scatter(x=performance['season'], y=performance['batsman_runs'], mode='lines', marker={'color': '#00a65a'}, name='Virat Kholi')\n",
    "\n",
    "trace1=go.Scatter(x=performance1['season'], y=performance1['batsman_runs'], mode='lines', marker={'color': '#00a65a'}, name='MS Dhoni')\n",
    "\n",
    "\n",
    "data=[trace, trace1]\n",
    "layout=go.Layout(title='Year by Year Performance',\n",
    "                xaxis={'title': 'Season'},\n",
    "                yaxis={'title': 'Total_Runs'})\n",
    "fig= go.Figure(data=data, layout=layout)\n",
    "fig.show()"
   ]
  },
  {
   "cell_type": "code",
   "execution_count": 39,
   "id": "79aca445-648b-4a08-b6a5-ce96f73b595d",
   "metadata": {
    "tags": []
   },
   "outputs": [],
   "source": [
    "# Multiple line Chart\n",
    "\n",
    "def batsman_comp(*name):\n",
    "    data=[]\n",
    "    for i in name:\n",
    "        single=ipl[ipl['batsman']==i]\n",
    "        performance = single.groupby('season')['batsman_runs'].sum().reset_index()\n",
    "        \n",
    "        trace=go.Scatter(x=performance['season'], y=performance['batsman_runs'], mode='lines + markers', name=i)\n",
    "        \n",
    "        data.append(trace)\n",
    "        \n",
    "    layout=go.Layout(title='Year by Year Performance',\n",
    "                xaxis={'title': 'Season'},\n",
    "                yaxis={'title': 'Total_Runs'})\n",
    "    fig= go.Figure(data=data, layout=layout)\n",
    "\n",
    "    fig.show()\n"
   ]
  },
  {
   "cell_type": "code",
   "execution_count": 40,
   "id": "8ea8e403-041e-423f-974e-15fe4339b94b",
   "metadata": {
    "tags": []
   },
   "outputs": [
    {
     "data": {
      "application/vnd.plotly.v1+json": {
       "config": {
        "plotlyServerURL": "https://plot.ly"
       },
       "data": [
        {
         "mode": "lines+markers",
         "name": "V kholi",
         "type": "scatter",
         "x": [],
         "y": []
        },
        {
         "mode": "lines+markers",
         "name": "RG Sharma",
         "type": "scatter",
         "x": [
          2008,
          2009,
          2010,
          2011,
          2012,
          2013,
          2014,
          2015,
          2016,
          2017
         ],
         "y": [
          404,
          362,
          404,
          372,
          433,
          538,
          390,
          482,
          489,
          333
         ]
        },
        {
         "mode": "lines+markers",
         "name": "DA Warner",
         "type": "scatter",
         "x": [
          2009,
          2010,
          2011,
          2012,
          2013,
          2014,
          2015,
          2016,
          2017
         ],
         "y": [
          163,
          282,
          324,
          256,
          410,
          528,
          562,
          848,
          641
         ]
        },
        {
         "mode": "lines+markers",
         "name": "MS Dhoni",
         "type": "scatter",
         "x": [
          2008,
          2009,
          2010,
          2011,
          2012,
          2013,
          2014,
          2015,
          2016,
          2017
         ],
         "y": [
          414,
          332,
          287,
          392,
          357,
          461,
          371,
          372,
          284,
          290
         ]
        }
       ],
       "layout": {
        "autosize": true,
        "template": {
         "data": {
          "bar": [
           {
            "error_x": {
             "color": "#2a3f5f"
            },
            "error_y": {
             "color": "#2a3f5f"
            },
            "marker": {
             "line": {
              "color": "#E5ECF6",
              "width": 0.5
             },
             "pattern": {
              "fillmode": "overlay",
              "size": 10,
              "solidity": 0.2
             }
            },
            "type": "bar"
           }
          ],
          "barpolar": [
           {
            "marker": {
             "line": {
              "color": "#E5ECF6",
              "width": 0.5
             },
             "pattern": {
              "fillmode": "overlay",
              "size": 10,
              "solidity": 0.2
             }
            },
            "type": "barpolar"
           }
          ],
          "carpet": [
           {
            "aaxis": {
             "endlinecolor": "#2a3f5f",
             "gridcolor": "white",
             "linecolor": "white",
             "minorgridcolor": "white",
             "startlinecolor": "#2a3f5f"
            },
            "baxis": {
             "endlinecolor": "#2a3f5f",
             "gridcolor": "white",
             "linecolor": "white",
             "minorgridcolor": "white",
             "startlinecolor": "#2a3f5f"
            },
            "type": "carpet"
           }
          ],
          "choropleth": [
           {
            "colorbar": {
             "outlinewidth": 0,
             "ticks": ""
            },
            "type": "choropleth"
           }
          ],
          "contour": [
           {
            "colorbar": {
             "outlinewidth": 0,
             "ticks": ""
            },
            "colorscale": [
             [
              0,
              "#0d0887"
             ],
             [
              0.1111111111111111,
              "#46039f"
             ],
             [
              0.2222222222222222,
              "#7201a8"
             ],
             [
              0.3333333333333333,
              "#9c179e"
             ],
             [
              0.4444444444444444,
              "#bd3786"
             ],
             [
              0.5555555555555556,
              "#d8576b"
             ],
             [
              0.6666666666666666,
              "#ed7953"
             ],
             [
              0.7777777777777778,
              "#fb9f3a"
             ],
             [
              0.8888888888888888,
              "#fdca26"
             ],
             [
              1,
              "#f0f921"
             ]
            ],
            "type": "contour"
           }
          ],
          "contourcarpet": [
           {
            "colorbar": {
             "outlinewidth": 0,
             "ticks": ""
            },
            "type": "contourcarpet"
           }
          ],
          "heatmap": [
           {
            "colorbar": {
             "outlinewidth": 0,
             "ticks": ""
            },
            "colorscale": [
             [
              0,
              "#0d0887"
             ],
             [
              0.1111111111111111,
              "#46039f"
             ],
             [
              0.2222222222222222,
              "#7201a8"
             ],
             [
              0.3333333333333333,
              "#9c179e"
             ],
             [
              0.4444444444444444,
              "#bd3786"
             ],
             [
              0.5555555555555556,
              "#d8576b"
             ],
             [
              0.6666666666666666,
              "#ed7953"
             ],
             [
              0.7777777777777778,
              "#fb9f3a"
             ],
             [
              0.8888888888888888,
              "#fdca26"
             ],
             [
              1,
              "#f0f921"
             ]
            ],
            "type": "heatmap"
           }
          ],
          "heatmapgl": [
           {
            "colorbar": {
             "outlinewidth": 0,
             "ticks": ""
            },
            "colorscale": [
             [
              0,
              "#0d0887"
             ],
             [
              0.1111111111111111,
              "#46039f"
             ],
             [
              0.2222222222222222,
              "#7201a8"
             ],
             [
              0.3333333333333333,
              "#9c179e"
             ],
             [
              0.4444444444444444,
              "#bd3786"
             ],
             [
              0.5555555555555556,
              "#d8576b"
             ],
             [
              0.6666666666666666,
              "#ed7953"
             ],
             [
              0.7777777777777778,
              "#fb9f3a"
             ],
             [
              0.8888888888888888,
              "#fdca26"
             ],
             [
              1,
              "#f0f921"
             ]
            ],
            "type": "heatmapgl"
           }
          ],
          "histogram": [
           {
            "marker": {
             "pattern": {
              "fillmode": "overlay",
              "size": 10,
              "solidity": 0.2
             }
            },
            "type": "histogram"
           }
          ],
          "histogram2d": [
           {
            "colorbar": {
             "outlinewidth": 0,
             "ticks": ""
            },
            "colorscale": [
             [
              0,
              "#0d0887"
             ],
             [
              0.1111111111111111,
              "#46039f"
             ],
             [
              0.2222222222222222,
              "#7201a8"
             ],
             [
              0.3333333333333333,
              "#9c179e"
             ],
             [
              0.4444444444444444,
              "#bd3786"
             ],
             [
              0.5555555555555556,
              "#d8576b"
             ],
             [
              0.6666666666666666,
              "#ed7953"
             ],
             [
              0.7777777777777778,
              "#fb9f3a"
             ],
             [
              0.8888888888888888,
              "#fdca26"
             ],
             [
              1,
              "#f0f921"
             ]
            ],
            "type": "histogram2d"
           }
          ],
          "histogram2dcontour": [
           {
            "colorbar": {
             "outlinewidth": 0,
             "ticks": ""
            },
            "colorscale": [
             [
              0,
              "#0d0887"
             ],
             [
              0.1111111111111111,
              "#46039f"
             ],
             [
              0.2222222222222222,
              "#7201a8"
             ],
             [
              0.3333333333333333,
              "#9c179e"
             ],
             [
              0.4444444444444444,
              "#bd3786"
             ],
             [
              0.5555555555555556,
              "#d8576b"
             ],
             [
              0.6666666666666666,
              "#ed7953"
             ],
             [
              0.7777777777777778,
              "#fb9f3a"
             ],
             [
              0.8888888888888888,
              "#fdca26"
             ],
             [
              1,
              "#f0f921"
             ]
            ],
            "type": "histogram2dcontour"
           }
          ],
          "mesh3d": [
           {
            "colorbar": {
             "outlinewidth": 0,
             "ticks": ""
            },
            "type": "mesh3d"
           }
          ],
          "parcoords": [
           {
            "line": {
             "colorbar": {
              "outlinewidth": 0,
              "ticks": ""
             }
            },
            "type": "parcoords"
           }
          ],
          "pie": [
           {
            "automargin": true,
            "type": "pie"
           }
          ],
          "scatter": [
           {
            "fillpattern": {
             "fillmode": "overlay",
             "size": 10,
             "solidity": 0.2
            },
            "type": "scatter"
           }
          ],
          "scatter3d": [
           {
            "line": {
             "colorbar": {
              "outlinewidth": 0,
              "ticks": ""
             }
            },
            "marker": {
             "colorbar": {
              "outlinewidth": 0,
              "ticks": ""
             }
            },
            "type": "scatter3d"
           }
          ],
          "scattercarpet": [
           {
            "marker": {
             "colorbar": {
              "outlinewidth": 0,
              "ticks": ""
             }
            },
            "type": "scattercarpet"
           }
          ],
          "scattergeo": [
           {
            "marker": {
             "colorbar": {
              "outlinewidth": 0,
              "ticks": ""
             }
            },
            "type": "scattergeo"
           }
          ],
          "scattergl": [
           {
            "marker": {
             "colorbar": {
              "outlinewidth": 0,
              "ticks": ""
             }
            },
            "type": "scattergl"
           }
          ],
          "scattermapbox": [
           {
            "marker": {
             "colorbar": {
              "outlinewidth": 0,
              "ticks": ""
             }
            },
            "type": "scattermapbox"
           }
          ],
          "scatterpolar": [
           {
            "marker": {
             "colorbar": {
              "outlinewidth": 0,
              "ticks": ""
             }
            },
            "type": "scatterpolar"
           }
          ],
          "scatterpolargl": [
           {
            "marker": {
             "colorbar": {
              "outlinewidth": 0,
              "ticks": ""
             }
            },
            "type": "scatterpolargl"
           }
          ],
          "scatterternary": [
           {
            "marker": {
             "colorbar": {
              "outlinewidth": 0,
              "ticks": ""
             }
            },
            "type": "scatterternary"
           }
          ],
          "surface": [
           {
            "colorbar": {
             "outlinewidth": 0,
             "ticks": ""
            },
            "colorscale": [
             [
              0,
              "#0d0887"
             ],
             [
              0.1111111111111111,
              "#46039f"
             ],
             [
              0.2222222222222222,
              "#7201a8"
             ],
             [
              0.3333333333333333,
              "#9c179e"
             ],
             [
              0.4444444444444444,
              "#bd3786"
             ],
             [
              0.5555555555555556,
              "#d8576b"
             ],
             [
              0.6666666666666666,
              "#ed7953"
             ],
             [
              0.7777777777777778,
              "#fb9f3a"
             ],
             [
              0.8888888888888888,
              "#fdca26"
             ],
             [
              1,
              "#f0f921"
             ]
            ],
            "type": "surface"
           }
          ],
          "table": [
           {
            "cells": {
             "fill": {
              "color": "#EBF0F8"
             },
             "line": {
              "color": "white"
             }
            },
            "header": {
             "fill": {
              "color": "#C8D4E3"
             },
             "line": {
              "color": "white"
             }
            },
            "type": "table"
           }
          ]
         },
         "layout": {
          "annotationdefaults": {
           "arrowcolor": "#2a3f5f",
           "arrowhead": 0,
           "arrowwidth": 1
          },
          "autotypenumbers": "strict",
          "coloraxis": {
           "colorbar": {
            "outlinewidth": 0,
            "ticks": ""
           }
          },
          "colorscale": {
           "diverging": [
            [
             0,
             "#8e0152"
            ],
            [
             0.1,
             "#c51b7d"
            ],
            [
             0.2,
             "#de77ae"
            ],
            [
             0.3,
             "#f1b6da"
            ],
            [
             0.4,
             "#fde0ef"
            ],
            [
             0.5,
             "#f7f7f7"
            ],
            [
             0.6,
             "#e6f5d0"
            ],
            [
             0.7,
             "#b8e186"
            ],
            [
             0.8,
             "#7fbc41"
            ],
            [
             0.9,
             "#4d9221"
            ],
            [
             1,
             "#276419"
            ]
           ],
           "sequential": [
            [
             0,
             "#0d0887"
            ],
            [
             0.1111111111111111,
             "#46039f"
            ],
            [
             0.2222222222222222,
             "#7201a8"
            ],
            [
             0.3333333333333333,
             "#9c179e"
            ],
            [
             0.4444444444444444,
             "#bd3786"
            ],
            [
             0.5555555555555556,
             "#d8576b"
            ],
            [
             0.6666666666666666,
             "#ed7953"
            ],
            [
             0.7777777777777778,
             "#fb9f3a"
            ],
            [
             0.8888888888888888,
             "#fdca26"
            ],
            [
             1,
             "#f0f921"
            ]
           ],
           "sequentialminus": [
            [
             0,
             "#0d0887"
            ],
            [
             0.1111111111111111,
             "#46039f"
            ],
            [
             0.2222222222222222,
             "#7201a8"
            ],
            [
             0.3333333333333333,
             "#9c179e"
            ],
            [
             0.4444444444444444,
             "#bd3786"
            ],
            [
             0.5555555555555556,
             "#d8576b"
            ],
            [
             0.6666666666666666,
             "#ed7953"
            ],
            [
             0.7777777777777778,
             "#fb9f3a"
            ],
            [
             0.8888888888888888,
             "#fdca26"
            ],
            [
             1,
             "#f0f921"
            ]
           ]
          },
          "colorway": [
           "#636efa",
           "#EF553B",
           "#00cc96",
           "#ab63fa",
           "#FFA15A",
           "#19d3f3",
           "#FF6692",
           "#B6E880",
           "#FF97FF",
           "#FECB52"
          ],
          "font": {
           "color": "#2a3f5f"
          },
          "geo": {
           "bgcolor": "white",
           "lakecolor": "white",
           "landcolor": "#E5ECF6",
           "showlakes": true,
           "showland": true,
           "subunitcolor": "white"
          },
          "hoverlabel": {
           "align": "left"
          },
          "hovermode": "closest",
          "mapbox": {
           "style": "light"
          },
          "paper_bgcolor": "white",
          "plot_bgcolor": "#E5ECF6",
          "polar": {
           "angularaxis": {
            "gridcolor": "white",
            "linecolor": "white",
            "ticks": ""
           },
           "bgcolor": "#E5ECF6",
           "radialaxis": {
            "gridcolor": "white",
            "linecolor": "white",
            "ticks": ""
           }
          },
          "scene": {
           "xaxis": {
            "backgroundcolor": "#E5ECF6",
            "gridcolor": "white",
            "gridwidth": 2,
            "linecolor": "white",
            "showbackground": true,
            "ticks": "",
            "zerolinecolor": "white"
           },
           "yaxis": {
            "backgroundcolor": "#E5ECF6",
            "gridcolor": "white",
            "gridwidth": 2,
            "linecolor": "white",
            "showbackground": true,
            "ticks": "",
            "zerolinecolor": "white"
           },
           "zaxis": {
            "backgroundcolor": "#E5ECF6",
            "gridcolor": "white",
            "gridwidth": 2,
            "linecolor": "white",
            "showbackground": true,
            "ticks": "",
            "zerolinecolor": "white"
           }
          },
          "shapedefaults": {
           "line": {
            "color": "#2a3f5f"
           }
          },
          "ternary": {
           "aaxis": {
            "gridcolor": "white",
            "linecolor": "white",
            "ticks": ""
           },
           "baxis": {
            "gridcolor": "white",
            "linecolor": "white",
            "ticks": ""
           },
           "bgcolor": "#E5ECF6",
           "caxis": {
            "gridcolor": "white",
            "linecolor": "white",
            "ticks": ""
           }
          },
          "title": {
           "x": 0.05
          },
          "xaxis": {
           "automargin": true,
           "gridcolor": "white",
           "linecolor": "white",
           "ticks": "",
           "title": {
            "standoff": 15
           },
           "zerolinecolor": "white",
           "zerolinewidth": 2
          },
          "yaxis": {
           "automargin": true,
           "gridcolor": "white",
           "linecolor": "white",
           "ticks": "",
           "title": {
            "standoff": 15
           },
           "zerolinecolor": "white",
           "zerolinewidth": 2
          }
         }
        },
        "title": {
         "text": "Year by Year Performance"
        },
        "xaxis": {
         "autorange": true,
         "range": [
          2007.4513618677042,
          2017.5486381322958
         ],
         "title": {
          "text": "Season"
         },
         "type": "linear"
        },
        "yaxis": {
         "autorange": true,
         "range": [
          106.47087378640776,
          904.5291262135922
         ],
         "title": {
          "text": "Total_Runs"
         },
         "type": "linear"
        }
       }
      },
      "image/png": "[encoded data removed]",
      "text/html": [
       "<div>                            <div id=\"92ead47d-4e3d-421a-a53e-db547abd8db0\" class=\"plotly-graph-div\" style=\"height:525px; width:100%;\"></div>            <script type=\"text/javascript\">                require([\"plotly\"], function(Plotly) {                    window.PLOTLYENV=window.PLOTLYENV || {};                                    if (document.getElementById(\"92ead47d-4e3d-421a-a53e-db547abd8db0\")) {                    Plotly.newPlot(                        \"92ead47d-4e3d-421a-a53e-db547abd8db0\",                        [{\"mode\":\"lines+markers\",\"name\":\"V kholi\",\"x\":[],\"y\":[],\"type\":\"scatter\"},{\"mode\":\"lines+markers\",\"name\":\"RG Sharma\",\"x\":[2008,2009,2010,2011,2012,2013,2014,2015,2016,2017],\"y\":[404,362,404,372,433,538,390,482,489,333],\"type\":\"scatter\"},{\"mode\":\"lines+markers\",\"name\":\"DA Warner\",\"x\":[2009,2010,2011,2012,2013,2014,2015,2016,2017],\"y\":[163,282,324,256,410,528,562,848,641],\"type\":\"scatter\"},{\"mode\":\"lines+markers\",\"name\":\"MS Dhoni\",\"x\":[2008,2009,2010,2011,2012,2013,2014,2015,2016,2017],\"y\":[414,332,287,392,357,461,371,372,284,290],\"type\":\"scatter\"}],                        {\"title\":{\"text\":\"Year by Year Performance\"},\"xaxis\":{\"title\":{\"text\":\"Season\"}},\"yaxis\":{\"title\":{\"text\":\"Total_Runs\"}},\"template\":{\"data\":{\"histogram2dcontour\":[{\"type\":\"histogram2dcontour\",\"colorbar\":{\"outlinewidth\":0,\"ticks\":\"\"},\"colorscale\":[[0.0,\"#0d0887\"],[0.1111111111111111,\"#46039f\"],[0.2222222222222222,\"#7201a8\"],[0.3333333333333333,\"#9c179e\"],[0.4444444444444444,\"#bd3786\"],[0.5555555555555556,\"#d8576b\"],[0.6666666666666666,\"#ed7953\"],[0.7777777777777778,\"#fb9f3a\"],[0.8888888888888888,\"#fdca26\"],[1.0,\"#f0f921\"]]}],\"choropleth\":[{\"type\":\"choropleth\",\"colorbar\":{\"outlinewidth\":0,\"ticks\":\"\"}}],\"histogram2d\":[{\"type\":\"histogram2d\",\"colorbar\":{\"outlinewidth\":0,\"ticks\":\"\"},\"colorscale\":[[0.0,\"#0d0887\"],[0.1111111111111111,\"#46039f\"],[0.2222222222222222,\"#7201a8\"],[0.3333333333333333,\"#9c179e\"],[0.4444444444444444,\"#bd3786\"],[0.5555555555555556,\"#d8576b\"],[0.6666666666666666,\"#ed7953\"],[0.7777777777777778,\"#fb9f3a\"],[0.8888888888888888,\"#fdca26\"],[1.0,\"#f0f921\"]]}],\"heatmap\":[{\"type\":\"heatmap\",\"colorbar\":{\"outlinewidth\":0,\"ticks\":\"\"},\"colorscale\":[[0.0,\"#0d0887\"],[0.1111111111111111,\"#46039f\"],[0.2222222222222222,\"#7201a8\"],[0.3333333333333333,\"#9c179e\"],[0.4444444444444444,\"#bd3786\"],[0.5555555555555556,\"#d8576b\"],[0.6666666666666666,\"#ed7953\"],[0.7777777777777778,\"#fb9f3a\"],[0.8888888888888888,\"#fdca26\"],[1.0,\"#f0f921\"]]}],\"heatmapgl\":[{\"type\":\"heatmapgl\",\"colorbar\":{\"outlinewidth\":0,\"ticks\":\"\"},\"colorscale\":[[0.0,\"#0d0887\"],[0.1111111111111111,\"#46039f\"],[0.2222222222222222,\"#7201a8\"],[0.3333333333333333,\"#9c179e\"],[0.4444444444444444,\"#bd3786\"],[0.5555555555555556,\"#d8576b\"],[0.6666666666666666,\"#ed7953\"],[0.7777777777777778,\"#fb9f3a\"],[0.8888888888888888,\"#fdca26\"],[1.0,\"#f0f921\"]]}],\"contourcarpet\":[{\"type\":\"contourcarpet\",\"colorbar\":{\"outlinewidth\":0,\"ticks\":\"\"}}],\"contour\":[{\"type\":\"contour\",\"colorbar\":{\"outlinewidth\":0,\"ticks\":\"\"},\"colorscale\":[[0.0,\"#0d0887\"],[0.1111111111111111,\"#46039f\"],[0.2222222222222222,\"#7201a8\"],[0.3333333333333333,\"#9c179e\"],[0.4444444444444444,\"#bd3786\"],[0.5555555555555556,\"#d8576b\"],[0.6666666666666666,\"#ed7953\"],[0.7777777777777778,\"#fb9f3a\"],[0.8888888888888888,\"#fdca26\"],[1.0,\"#f0f921\"]]}],\"surface\":[{\"type\":\"surface\",\"colorbar\":{\"outlinewidth\":0,\"ticks\":\"\"},\"colorscale\":[[0.0,\"#0d0887\"],[0.1111111111111111,\"#46039f\"],[0.2222222222222222,\"#7201a8\"],[0.3333333333333333,\"#9c179e\"],[0.4444444444444444,\"#bd3786\"],[0.5555555555555556,\"#d8576b\"],[0.6666666666666666,\"#ed7953\"],[0.7777777777777778,\"#fb9f3a\"],[0.8888888888888888,\"#fdca26\"],[1.0,\"#f0f921\"]]}],\"mesh3d\":[{\"type\":\"mesh3d\",\"colorbar\":{\"outlinewidth\":0,\"ticks\":\"\"}}],\"scatter\":[{\"fillpattern\":{\"fillmode\":\"overlay\",\"size\":10,\"solidity\":0.2},\"type\":\"scatter\"}],\"parcoords\":[{\"type\":\"parcoords\",\"line\":{\"colorbar\":{\"outlinewidth\":0,\"ticks\":\"\"}}}],\"scatterpolargl\":[{\"type\":\"scatterpolargl\",\"marker\":{\"colorbar\":{\"outlinewidth\":0,\"ticks\":\"\"}}}],\"bar\":[{\"error_x\":{\"color\":\"#2a3f5f\"},\"error_y\":{\"color\":\"#2a3f5f\"},\"marker\":{\"line\":{\"color\":\"#E5ECF6\",\"width\":0.5},\"pattern\":{\"fillmode\":\"overlay\",\"size\":10,\"solidity\":0.2}},\"type\":\"bar\"}],\"scattergeo\":[{\"type\":\"scattergeo\",\"marker\":{\"colorbar\":{\"outlinewidth\":0,\"ticks\":\"\"}}}],\"scatterpolar\":[{\"type\":\"scatterpolar\",\"marker\":{\"colorbar\":{\"outlinewidth\":0,\"ticks\":\"\"}}}],\"histogram\":[{\"marker\":{\"pattern\":{\"fillmode\":\"overlay\",\"size\":10,\"solidity\":0.2}},\"type\":\"histogram\"}],\"scattergl\":[{\"type\":\"scattergl\",\"marker\":{\"colorbar\":{\"outlinewidth\":0,\"ticks\":\"\"}}}],\"scatter3d\":[{\"type\":\"scatter3d\",\"line\":{\"colorbar\":{\"outlinewidth\":0,\"ticks\":\"\"}},\"marker\":{\"colorbar\":{\"outlinewidth\":0,\"ticks\":\"\"}}}],\"scattermapbox\":[{\"type\":\"scattermapbox\",\"marker\":{\"colorbar\":{\"outlinewidth\":0,\"ticks\":\"\"}}}],\"scatterternary\":[{\"type\":\"scatterternary\",\"marker\":{\"colorbar\":{\"outlinewidth\":0,\"ticks\":\"\"}}}],\"scattercarpet\":[{\"type\":\"scattercarpet\",\"marker\":{\"colorbar\":{\"outlinewidth\":0,\"ticks\":\"\"}}}],\"carpet\":[{\"aaxis\":{\"endlinecolor\":\"#2a3f5f\",\"gridcolor\":\"white\",\"linecolor\":\"white\",\"minorgridcolor\":\"white\",\"startlinecolor\":\"#2a3f5f\"},\"baxis\":{\"endlinecolor\":\"#2a3f5f\",\"gridcolor\":\"white\",\"linecolor\":\"white\",\"minorgridcolor\":\"white\",\"startlinecolor\":\"#2a3f5f\"},\"type\":\"carpet\"}],\"table\":[{\"cells\":{\"fill\":{\"color\":\"#EBF0F8\"},\"line\":{\"color\":\"white\"}},\"header\":{\"fill\":{\"color\":\"#C8D4E3\"},\"line\":{\"color\":\"white\"}},\"type\":\"table\"}],\"barpolar\":[{\"marker\":{\"line\":{\"color\":\"#E5ECF6\",\"width\":0.5},\"pattern\":{\"fillmode\":\"overlay\",\"size\":10,\"solidity\":0.2}},\"type\":\"barpolar\"}],\"pie\":[{\"automargin\":true,\"type\":\"pie\"}]},\"layout\":{\"autotypenumbers\":\"strict\",\"colorway\":[\"#636efa\",\"#EF553B\",\"#00cc96\",\"#ab63fa\",\"#FFA15A\",\"#19d3f3\",\"#FF6692\",\"#B6E880\",\"#FF97FF\",\"#FECB52\"],\"font\":{\"color\":\"#2a3f5f\"},\"hovermode\":\"closest\",\"hoverlabel\":{\"align\":\"left\"},\"paper_bgcolor\":\"white\",\"plot_bgcolor\":\"#E5ECF6\",\"polar\":{\"bgcolor\":\"#E5ECF6\",\"angularaxis\":{\"gridcolor\":\"white\",\"linecolor\":\"white\",\"ticks\":\"\"},\"radialaxis\":{\"gridcolor\":\"white\",\"linecolor\":\"white\",\"ticks\":\"\"}},\"ternary\":{\"bgcolor\":\"#E5ECF6\",\"aaxis\":{\"gridcolor\":\"white\",\"linecolor\":\"white\",\"ticks\":\"\"},\"baxis\":{\"gridcolor\":\"white\",\"linecolor\":\"white\",\"ticks\":\"\"},\"caxis\":{\"gridcolor\":\"white\",\"linecolor\":\"white\",\"ticks\":\"\"}},\"coloraxis\":{\"colorbar\":{\"outlinewidth\":0,\"ticks\":\"\"}},\"colorscale\":{\"sequential\":[[0.0,\"#0d0887\"],[0.1111111111111111,\"#46039f\"],[0.2222222222222222,\"#7201a8\"],[0.3333333333333333,\"#9c179e\"],[0.4444444444444444,\"#bd3786\"],[0.5555555555555556,\"#d8576b\"],[0.6666666666666666,\"#ed7953\"],[0.7777777777777778,\"#fb9f3a\"],[0.8888888888888888,\"#fdca26\"],[1.0,\"#f0f921\"]],\"sequentialminus\":[[0.0,\"#0d0887\"],[0.1111111111111111,\"#46039f\"],[0.2222222222222222,\"#7201a8\"],[0.3333333333333333,\"#9c179e\"],[0.4444444444444444,\"#bd3786\"],[0.5555555555555556,\"#d8576b\"],[0.6666666666666666,\"#ed7953\"],[0.7777777777777778,\"#fb9f3a\"],[0.8888888888888888,\"#fdca26\"],[1.0,\"#f0f921\"]],\"diverging\":[[0,\"#8e0152\"],[0.1,\"#c51b7d\"],[0.2,\"#de77ae\"],[0.3,\"#f1b6da\"],[0.4,\"#fde0ef\"],[0.5,\"#f7f7f7\"],[0.6,\"#e6f5d0\"],[0.7,\"#b8e186\"],[0.8,\"#7fbc41\"],[0.9,\"#4d9221\"],[1,\"#276419\"]]},\"xaxis\":{\"gridcolor\":\"white\",\"linecolor\":\"white\",\"ticks\":\"\",\"title\":{\"standoff\":15},\"zerolinecolor\":\"white\",\"automargin\":true,\"zerolinewidth\":2},\"yaxis\":{\"gridcolor\":\"white\",\"linecolor\":\"white\",\"ticks\":\"\",\"title\":{\"standoff\":15},\"zerolinecolor\":\"white\",\"automargin\":true,\"zerolinewidth\":2},\"scene\":{\"xaxis\":{\"backgroundcolor\":\"#E5ECF6\",\"gridcolor\":\"white\",\"linecolor\":\"white\",\"showbackground\":true,\"ticks\":\"\",\"zerolinecolor\":\"white\",\"gridwidth\":2},\"yaxis\":{\"backgroundcolor\":\"#E5ECF6\",\"gridcolor\":\"white\",\"linecolor\":\"white\",\"showbackground\":true,\"ticks\":\"\",\"zerolinecolor\":\"white\",\"gridwidth\":2},\"zaxis\":{\"backgroundcolor\":\"#E5ECF6\",\"gridcolor\":\"white\",\"linecolor\":\"white\",\"showbackground\":true,\"ticks\":\"\",\"zerolinecolor\":\"white\",\"gridwidth\":2}},\"shapedefaults\":{\"line\":{\"color\":\"#2a3f5f\"}},\"annotationdefaults\":{\"arrowcolor\":\"#2a3f5f\",\"arrowhead\":0,\"arrowwidth\":1},\"geo\":{\"bgcolor\":\"white\",\"landcolor\":\"#E5ECF6\",\"subunitcolor\":\"white\",\"showland\":true,\"showlakes\":true,\"lakecolor\":\"white\"},\"title\":{\"x\":0.05},\"mapbox\":{\"style\":\"light\"}}}},                        {\"responsive\": true}                    ).then(function(){\n",
       "                            \n",
       "var gd = document.getElementById('92ead47d-4e3d-421a-a53e-db547abd8db0');\n",
       "var x = new MutationObserver(function (mutations, observer) {{\n",
       "        var display = window.getComputedStyle(gd).display;\n",
       "        if (!display || display === 'none') {{\n",
       "            console.log([gd, 'removed!']);\n",
       "            Plotly.purge(gd);\n",
       "            observer.disconnect();\n",
       "        }}\n",
       "}});\n",
       "\n",
       "// Listen for the removal of the full notebook cells\n",
       "var notebookContainer = gd.closest('#notebook-container');\n",
       "if (notebookContainer) {{\n",
       "    x.observe(notebookContainer, {childList: true});\n",
       "}}\n",
       "\n",
       "// Listen for the clearing of the current output cell\n",
       "var outputEl = gd.closest('.output');\n",
       "if (outputEl) {{\n",
       "    x.observe(outputEl, {childList: true});\n",
       "}}\n",
       "\n",
       "                        })                };                });            </script>        </div>"
      ]
     },
     "metadata": {},
     "output_type": "display_data"
    }
   ],
   "source": [
    "batsman_comp('V kholi', 'RG Sharma', 'DA Warner', 'MS Dhoni')"
   ]
  },
  {
   "cell_type": "markdown",
   "id": "f864aee1-b36c-4790-a693-d835be95f979",
   "metadata": {},
   "source": [
    "### Bar Plot"
   ]
  },
  {
   "cell_type": "code",
   "execution_count": 43,
   "id": "09337160-87fc-464f-a8cb-66035b4fd080",
   "metadata": {
    "tags": []
   },
   "outputs": [],
   "source": [
    "top10= ipl.groupby('batsman')['batsman_runs'].sum().sort_values(ascending=False).head(10).index.tolist()\n",
    "top10_df= ipl[ipl['batsman'].isin(top10)]"
   ]
  },
  {
   "cell_type": "code",
   "execution_count": 44,
   "id": "1515a8aa-f54c-49dc-8d9b-bb9e3c0cbc7c",
   "metadata": {
    "tags": []
   },
   "outputs": [
    {
     "data": {
      "text/html": [
       "<div>\n",
       "<style scoped>\n",
       "    .dataframe tbody tr th:only-of-type {\n",
       "        vertical-align: middle;\n",
       "    }\n",
       "\n",
       "    .dataframe tbody tr th {\n",
       "        vertical-align: top;\n",
       "    }\n",
       "\n",
       "    .dataframe thead th {\n",
       "        text-align: right;\n",
       "    }\n",
       "</style>\n",
       "<table border=\"1\" class=\"dataframe\">\n",
       "  <thead>\n",
       "    <tr style=\"text-align: right;\">\n",
       "      <th></th>\n",
       "      <th>batsman</th>\n",
       "      <th>batsman_runs</th>\n",
       "    </tr>\n",
       "  </thead>\n",
       "  <tbody>\n",
       "    <tr>\n",
       "      <th>0</th>\n",
       "      <td>AB de Villiers</td>\n",
       "      <td>3486</td>\n",
       "    </tr>\n",
       "    <tr>\n",
       "      <th>1</th>\n",
       "      <td>CH Gayle</td>\n",
       "      <td>3651</td>\n",
       "    </tr>\n",
       "    <tr>\n",
       "      <th>2</th>\n",
       "      <td>DA Warner</td>\n",
       "      <td>4014</td>\n",
       "    </tr>\n",
       "    <tr>\n",
       "      <th>3</th>\n",
       "      <td>G Gambhir</td>\n",
       "      <td>4132</td>\n",
       "    </tr>\n",
       "    <tr>\n",
       "      <th>4</th>\n",
       "      <td>MS Dhoni</td>\n",
       "      <td>3560</td>\n",
       "    </tr>\n",
       "    <tr>\n",
       "      <th>5</th>\n",
       "      <td>RG Sharma</td>\n",
       "      <td>4207</td>\n",
       "    </tr>\n",
       "    <tr>\n",
       "      <th>6</th>\n",
       "      <td>RV Uthappa</td>\n",
       "      <td>3778</td>\n",
       "    </tr>\n",
       "    <tr>\n",
       "      <th>7</th>\n",
       "      <td>S Dhawan</td>\n",
       "      <td>3561</td>\n",
       "    </tr>\n",
       "    <tr>\n",
       "      <th>8</th>\n",
       "      <td>SK Raina</td>\n",
       "      <td>4548</td>\n",
       "    </tr>\n",
       "    <tr>\n",
       "      <th>9</th>\n",
       "      <td>V Kohli</td>\n",
       "      <td>4423</td>\n",
       "    </tr>\n",
       "  </tbody>\n",
       "</table>\n",
       "</div>"
      ],
      "text/plain": [
       "          batsman  batsman_runs\n",
       "0  AB de Villiers          3486\n",
       "1        CH Gayle          3651\n",
       "2       DA Warner          4014\n",
       "3       G Gambhir          4132\n",
       "4        MS Dhoni          3560\n",
       "5       RG Sharma          4207\n",
       "6      RV Uthappa          3778\n",
       "7        S Dhawan          3561\n",
       "8        SK Raina          4548\n",
       "9         V Kohli          4423"
      ]
     },
     "execution_count": 44,
     "metadata": {},
     "output_type": "execute_result"
    }
   ],
   "source": [
    "top10_score= top10_df.groupby('batsman')['batsman_runs'].sum().reset_index()\n",
    "top10_score"
   ]
  },
  {
   "cell_type": "code",
   "execution_count": 45,
   "id": "417be193-14a3-4c3d-9aa6-efa009025e03",
   "metadata": {
    "tags": []
   },
   "outputs": [
    {
     "data": {
      "application/vnd.plotly.v1+json": {
       "config": {
        "plotlyServerURL": "https://plot.ly"
       },
       "data": [
        {
         "type": "bar",
         "x": [
          "AB de Villiers",
          "CH Gayle",
          "DA Warner",
          "G Gambhir",
          "MS Dhoni",
          "RG Sharma",
          "RV Uthappa",
          "S Dhawan",
          "SK Raina",
          "V Kohli"
         ],
         "y": [
          3486,
          3651,
          4014,
          4132,
          3560,
          4207,
          3778,
          3561,
          4548,
          4423
         ]
        }
       ],
       "layout": {
        "autosize": true,
        "template": {
         "data": {
          "bar": [
           {
            "error_x": {
             "color": "#2a3f5f"
            },
            "error_y": {
             "color": "#2a3f5f"
            },
            "marker": {
             "line": {
              "color": "#E5ECF6",
              "width": 0.5
             },
             "pattern": {
              "fillmode": "overlay",
              "size": 10,
              "solidity": 0.2
             }
            },
            "type": "bar"
           }
          ],
          "barpolar": [
           {
            "marker": {
             "line": {
              "color": "#E5ECF6",
              "width": 0.5
             },
             "pattern": {
              "fillmode": "overlay",
              "size": 10,
              "solidity": 0.2
             }
            },
            "type": "barpolar"
           }
          ],
          "carpet": [
           {
            "aaxis": {
             "endlinecolor": "#2a3f5f",
             "gridcolor": "white",
             "linecolor": "white",
             "minorgridcolor": "white",
             "startlinecolor": "#2a3f5f"
            },
            "baxis": {
             "endlinecolor": "#2a3f5f",
             "gridcolor": "white",
             "linecolor": "white",
             "minorgridcolor": "white",
             "startlinecolor": "#2a3f5f"
            },
            "type": "carpet"
           }
          ],
          "choropleth": [
           {
            "colorbar": {
             "outlinewidth": 0,
             "ticks": ""
            },
            "type": "choropleth"
           }
          ],
          "contour": [
           {
            "colorbar": {
             "outlinewidth": 0,
             "ticks": ""
            },
            "colorscale": [
             [
              0,
              "#0d0887"
             ],
             [
              0.1111111111111111,
              "#46039f"
             ],
             [
              0.2222222222222222,
              "#7201a8"
             ],
             [
              0.3333333333333333,
              "#9c179e"
             ],
             [
              0.4444444444444444,
              "#bd3786"
             ],
             [
              0.5555555555555556,
              "#d8576b"
             ],
             [
              0.6666666666666666,
              "#ed7953"
             ],
             [
              0.7777777777777778,
              "#fb9f3a"
             ],
             [
              0.8888888888888888,
              "#fdca26"
             ],
             [
              1,
              "#f0f921"
             ]
            ],
            "type": "contour"
           }
          ],
          "contourcarpet": [
           {
            "colorbar": {
             "outlinewidth": 0,
             "ticks": ""
            },
            "type": "contourcarpet"
           }
          ],
          "heatmap": [
           {
            "colorbar": {
             "outlinewidth": 0,
             "ticks": ""
            },
            "colorscale": [
             [
              0,
              "#0d0887"
             ],
             [
              0.1111111111111111,
              "#46039f"
             ],
             [
              0.2222222222222222,
              "#7201a8"
             ],
             [
              0.3333333333333333,
              "#9c179e"
             ],
             [
              0.4444444444444444,
              "#bd3786"
             ],
             [
              0.5555555555555556,
              "#d8576b"
             ],
             [
              0.6666666666666666,
              "#ed7953"
             ],
             [
              0.7777777777777778,
              "#fb9f3a"
             ],
             [
              0.8888888888888888,
              "#fdca26"
             ],
             [
              1,
              "#f0f921"
             ]
            ],
            "type": "heatmap"
           }
          ],
          "heatmapgl": [
           {
            "colorbar": {
             "outlinewidth": 0,
             "ticks": ""
            },
            "colorscale": [
             [
              0,
              "#0d0887"
             ],
             [
              0.1111111111111111,
              "#46039f"
             ],
             [
              0.2222222222222222,
              "#7201a8"
             ],
             [
              0.3333333333333333,
              "#9c179e"
             ],
             [
              0.4444444444444444,
              "#bd3786"
             ],
             [
              0.5555555555555556,
              "#d8576b"
             ],
             [
              0.6666666666666666,
              "#ed7953"
             ],
             [
              0.7777777777777778,
              "#fb9f3a"
             ],
             [
              0.8888888888888888,
              "#fdca26"
             ],
             [
              1,
              "#f0f921"
             ]
            ],
            "type": "heatmapgl"
           }
          ],
          "histogram": [
           {
            "marker": {
             "pattern": {
              "fillmode": "overlay",
              "size": 10,
              "solidity": 0.2
             }
            },
            "type": "histogram"
           }
          ],
          "histogram2d": [
           {
            "colorbar": {
             "outlinewidth": 0,
             "ticks": ""
            },
            "colorscale": [
             [
              0,
              "#0d0887"
             ],
             [
              0.1111111111111111,
              "#46039f"
             ],
             [
              0.2222222222222222,
              "#7201a8"
             ],
             [
              0.3333333333333333,
              "#9c179e"
             ],
             [
              0.4444444444444444,
              "#bd3786"
             ],
             [
              0.5555555555555556,
              "#d8576b"
             ],
             [
              0.6666666666666666,
              "#ed7953"
             ],
             [
              0.7777777777777778,
              "#fb9f3a"
             ],
             [
              0.8888888888888888,
              "#fdca26"
             ],
             [
              1,
              "#f0f921"
             ]
            ],
            "type": "histogram2d"
           }
          ],
          "histogram2dcontour": [
           {
            "colorbar": {
             "outlinewidth": 0,
             "ticks": ""
            },
            "colorscale": [
             [
              0,
              "#0d0887"
             ],
             [
              0.1111111111111111,
              "#46039f"
             ],
             [
              0.2222222222222222,
              "#7201a8"
             ],
             [
              0.3333333333333333,
              "#9c179e"
             ],
             [
              0.4444444444444444,
              "#bd3786"
             ],
             [
              0.5555555555555556,
              "#d8576b"
             ],
             [
              0.6666666666666666,
              "#ed7953"
             ],
             [
              0.7777777777777778,
              "#fb9f3a"
             ],
             [
              0.8888888888888888,
              "#fdca26"
             ],
             [
              1,
              "#f0f921"
             ]
            ],
            "type": "histogram2dcontour"
           }
          ],
          "mesh3d": [
           {
            "colorbar": {
             "outlinewidth": 0,
             "ticks": ""
            },
            "type": "mesh3d"
           }
          ],
          "parcoords": [
           {
            "line": {
             "colorbar": {
              "outlinewidth": 0,
              "ticks": ""
             }
            },
            "type": "parcoords"
           }
          ],
          "pie": [
           {
            "automargin": true,
            "type": "pie"
           }
          ],
          "scatter": [
           {
            "fillpattern": {
             "fillmode": "overlay",
             "size": 10,
             "solidity": 0.2
            },
            "type": "scatter"
           }
          ],
          "scatter3d": [
           {
            "line": {
             "colorbar": {
              "outlinewidth": 0,
              "ticks": ""
             }
            },
            "marker": {
             "colorbar": {
              "outlinewidth": 0,
              "ticks": ""
             }
            },
            "type": "scatter3d"
           }
          ],
          "scattercarpet": [
           {
            "marker": {
             "colorbar": {
              "outlinewidth": 0,
              "ticks": ""
             }
            },
            "type": "scattercarpet"
           }
          ],
          "scattergeo": [
           {
            "marker": {
             "colorbar": {
              "outlinewidth": 0,
              "ticks": ""
             }
            },
            "type": "scattergeo"
           }
          ],
          "scattergl": [
           {
            "marker": {
             "colorbar": {
              "outlinewidth": 0,
              "ticks": ""
             }
            },
            "type": "scattergl"
           }
          ],
          "scattermapbox": [
           {
            "marker": {
             "colorbar": {
              "outlinewidth": 0,
              "ticks": ""
             }
            },
            "type": "scattermapbox"
           }
          ],
          "scatterpolar": [
           {
            "marker": {
             "colorbar": {
              "outlinewidth": 0,
              "ticks": ""
             }
            },
            "type": "scatterpolar"
           }
          ],
          "scatterpolargl": [
           {
            "marker": {
             "colorbar": {
              "outlinewidth": 0,
              "ticks": ""
             }
            },
            "type": "scatterpolargl"
           }
          ],
          "scatterternary": [
           {
            "marker": {
             "colorbar": {
              "outlinewidth": 0,
              "ticks": ""
             }
            },
            "type": "scatterternary"
           }
          ],
          "surface": [
           {
            "colorbar": {
             "outlinewidth": 0,
             "ticks": ""
            },
            "colorscale": [
             [
              0,
              "#0d0887"
             ],
             [
              0.1111111111111111,
              "#46039f"
             ],
             [
              0.2222222222222222,
              "#7201a8"
             ],
             [
              0.3333333333333333,
              "#9c179e"
             ],
             [
              0.4444444444444444,
              "#bd3786"
             ],
             [
              0.5555555555555556,
              "#d8576b"
             ],
             [
              0.6666666666666666,
              "#ed7953"
             ],
             [
              0.7777777777777778,
              "#fb9f3a"
             ],
             [
              0.8888888888888888,
              "#fdca26"
             ],
             [
              1,
              "#f0f921"
             ]
            ],
            "type": "surface"
           }
          ],
          "table": [
           {
            "cells": {
             "fill": {
              "color": "#EBF0F8"
             },
             "line": {
              "color": "white"
             }
            },
            "header": {
             "fill": {
              "color": "#C8D4E3"
             },
             "line": {
              "color": "white"
             }
            },
            "type": "table"
           }
          ]
         },
         "layout": {
          "annotationdefaults": {
           "arrowcolor": "#2a3f5f",
           "arrowhead": 0,
           "arrowwidth": 1
          },
          "autotypenumbers": "strict",
          "coloraxis": {
           "colorbar": {
            "outlinewidth": 0,
            "ticks": ""
           }
          },
          "colorscale": {
           "diverging": [
            [
             0,
             "#8e0152"
            ],
            [
             0.1,
             "#c51b7d"
            ],
            [
             0.2,
             "#de77ae"
            ],
            [
             0.3,
             "#f1b6da"
            ],
            [
             0.4,
             "#fde0ef"
            ],
            [
             0.5,
             "#f7f7f7"
            ],
            [
             0.6,
             "#e6f5d0"
            ],
            [
             0.7,
             "#b8e186"
            ],
            [
             0.8,
             "#7fbc41"
            ],
            [
             0.9,
             "#4d9221"
            ],
            [
             1,
             "#276419"
            ]
           ],
           "sequential": [
            [
             0,
             "#0d0887"
            ],
            [
             0.1111111111111111,
             "#46039f"
            ],
            [
             0.2222222222222222,
             "#7201a8"
            ],
            [
             0.3333333333333333,
             "#9c179e"
            ],
            [
             0.4444444444444444,
             "#bd3786"
            ],
            [
             0.5555555555555556,
             "#d8576b"
            ],
            [
             0.6666666666666666,
             "#ed7953"
            ],
            [
             0.7777777777777778,
             "#fb9f3a"
            ],
            [
             0.8888888888888888,
             "#fdca26"
            ],
            [
             1,
             "#f0f921"
            ]
           ],
           "sequentialminus": [
            [
             0,
             "#0d0887"
            ],
            [
             0.1111111111111111,
             "#46039f"
            ],
            [
             0.2222222222222222,
             "#7201a8"
            ],
            [
             0.3333333333333333,
             "#9c179e"
            ],
            [
             0.4444444444444444,
             "#bd3786"
            ],
            [
             0.5555555555555556,
             "#d8576b"
            ],
            [
             0.6666666666666666,
             "#ed7953"
            ],
            [
             0.7777777777777778,
             "#fb9f3a"
            ],
            [
             0.8888888888888888,
             "#fdca26"
            ],
            [
             1,
             "#f0f921"
            ]
           ]
          },
          "colorway": [
           "#636efa",
           "#EF553B",
           "#00cc96",
           "#ab63fa",
           "#FFA15A",
           "#19d3f3",
           "#FF6692",
           "#B6E880",
           "#FF97FF",
           "#FECB52"
          ],
          "font": {
           "color": "#2a3f5f"
          },
          "geo": {
           "bgcolor": "white",
           "lakecolor": "white",
           "landcolor": "#E5ECF6",
           "showlakes": true,
           "showland": true,
           "subunitcolor": "white"
          },
          "hoverlabel": {
           "align": "left"
          },
          "hovermode": "closest",
          "mapbox": {
           "style": "light"
          },
          "paper_bgcolor": "white",
          "plot_bgcolor": "#E5ECF6",
          "polar": {
           "angularaxis": {
            "gridcolor": "white",
            "linecolor": "white",
            "ticks": ""
           },
           "bgcolor": "#E5ECF6",
           "radialaxis": {
            "gridcolor": "white",
            "linecolor": "white",
            "ticks": ""
           }
          },
          "scene": {
           "xaxis": {
            "backgroundcolor": "#E5ECF6",
            "gridcolor": "white",
            "gridwidth": 2,
            "linecolor": "white",
            "showbackground": true,
            "ticks": "",
            "zerolinecolor": "white"
           },
           "yaxis": {
            "backgroundcolor": "#E5ECF6",
            "gridcolor": "white",
            "gridwidth": 2,
            "linecolor": "white",
            "showbackground": true,
            "ticks": "",
            "zerolinecolor": "white"
           },
           "zaxis": {
            "backgroundcolor": "#E5ECF6",
            "gridcolor": "white",
            "gridwidth": 2,
            "linecolor": "white",
            "showbackground": true,
            "ticks": "",
            "zerolinecolor": "white"
           }
          },
          "shapedefaults": {
           "line": {
            "color": "#2a3f5f"
           }
          },
          "ternary": {
           "aaxis": {
            "gridcolor": "white",
            "linecolor": "white",
            "ticks": ""
           },
           "baxis": {
            "gridcolor": "white",
            "linecolor": "white",
            "ticks": ""
           },
           "bgcolor": "#E5ECF6",
           "caxis": {
            "gridcolor": "white",
            "linecolor": "white",
            "ticks": ""
           }
          },
          "title": {
           "x": 0.05
          },
          "xaxis": {
           "automargin": true,
           "gridcolor": "white",
           "linecolor": "white",
           "ticks": "",
           "title": {
            "standoff": 15
           },
           "zerolinecolor": "white",
           "zerolinewidth": 2
          },
          "yaxis": {
           "automargin": true,
           "gridcolor": "white",
           "linecolor": "white",
           "ticks": "",
           "title": {
            "standoff": 15
           },
           "zerolinecolor": "white",
           "zerolinewidth": 2
          }
         }
        },
        "title": {
         "text": "Top 10 IPL batsman"
        },
        "xaxis": {
         "autorange": true,
         "range": [
          -0.5,
          9.5
         ],
         "title": {
          "text": "Batsman"
         },
         "type": "category"
        },
        "yaxis": {
         "autorange": true,
         "range": [
          0,
          4787.368421052632
         ],
         "title": {
          "text": "Total_Runs"
         },
         "type": "linear"
        }
       }
      },
      "image/png": "[encoded data removed]",
      "text/html": [
       "<div>                            <div id=\"02d94711-45f1-41ba-a6fb-997691e9165d\" class=\"plotly-graph-div\" style=\"height:525px; width:100%;\"></div>            <script type=\"text/javascript\">                require([\"plotly\"], function(Plotly) {                    window.PLOTLYENV=window.PLOTLYENV || {};                                    if (document.getElementById(\"02d94711-45f1-41ba-a6fb-997691e9165d\")) {                    Plotly.newPlot(                        \"02d94711-45f1-41ba-a6fb-997691e9165d\",                        [{\"x\":[\"AB de Villiers\",\"CH Gayle\",\"DA Warner\",\"G Gambhir\",\"MS Dhoni\",\"RG Sharma\",\"RV Uthappa\",\"S Dhawan\",\"SK Raina\",\"V Kohli\"],\"y\":[3486,3651,4014,4132,3560,4207,3778,3561,4548,4423],\"type\":\"bar\"}],                        {\"title\":{\"text\":\"Top 10 IPL batsman\"},\"xaxis\":{\"title\":{\"text\":\"Batsman\"}},\"yaxis\":{\"title\":{\"text\":\"Total_Runs\"}},\"template\":{\"data\":{\"histogram2dcontour\":[{\"type\":\"histogram2dcontour\",\"colorbar\":{\"outlinewidth\":0,\"ticks\":\"\"},\"colorscale\":[[0.0,\"#0d0887\"],[0.1111111111111111,\"#46039f\"],[0.2222222222222222,\"#7201a8\"],[0.3333333333333333,\"#9c179e\"],[0.4444444444444444,\"#bd3786\"],[0.5555555555555556,\"#d8576b\"],[0.6666666666666666,\"#ed7953\"],[0.7777777777777778,\"#fb9f3a\"],[0.8888888888888888,\"#fdca26\"],[1.0,\"#f0f921\"]]}],\"choropleth\":[{\"type\":\"choropleth\",\"colorbar\":{\"outlinewidth\":0,\"ticks\":\"\"}}],\"histogram2d\":[{\"type\":\"histogram2d\",\"colorbar\":{\"outlinewidth\":0,\"ticks\":\"\"},\"colorscale\":[[0.0,\"#0d0887\"],[0.1111111111111111,\"#46039f\"],[0.2222222222222222,\"#7201a8\"],[0.3333333333333333,\"#9c179e\"],[0.4444444444444444,\"#bd3786\"],[0.5555555555555556,\"#d8576b\"],[0.6666666666666666,\"#ed7953\"],[0.7777777777777778,\"#fb9f3a\"],[0.8888888888888888,\"#fdca26\"],[1.0,\"#f0f921\"]]}],\"heatmap\":[{\"type\":\"heatmap\",\"colorbar\":{\"outlinewidth\":0,\"ticks\":\"\"},\"colorscale\":[[0.0,\"#0d0887\"],[0.1111111111111111,\"#46039f\"],[0.2222222222222222,\"#7201a8\"],[0.3333333333333333,\"#9c179e\"],[0.4444444444444444,\"#bd3786\"],[0.5555555555555556,\"#d8576b\"],[0.6666666666666666,\"#ed7953\"],[0.7777777777777778,\"#fb9f3a\"],[0.8888888888888888,\"#fdca26\"],[1.0,\"#f0f921\"]]}],\"heatmapgl\":[{\"type\":\"heatmapgl\",\"colorbar\":{\"outlinewidth\":0,\"ticks\":\"\"},\"colorscale\":[[0.0,\"#0d0887\"],[0.1111111111111111,\"#46039f\"],[0.2222222222222222,\"#7201a8\"],[0.3333333333333333,\"#9c179e\"],[0.4444444444444444,\"#bd3786\"],[0.5555555555555556,\"#d8576b\"],[0.6666666666666666,\"#ed7953\"],[0.7777777777777778,\"#fb9f3a\"],[0.8888888888888888,\"#fdca26\"],[1.0,\"#f0f921\"]]}],\"contourcarpet\":[{\"type\":\"contourcarpet\",\"colorbar\":{\"outlinewidth\":0,\"ticks\":\"\"}}],\"contour\":[{\"type\":\"contour\",\"colorbar\":{\"outlinewidth\":0,\"ticks\":\"\"},\"colorscale\":[[0.0,\"#0d0887\"],[0.1111111111111111,\"#46039f\"],[0.2222222222222222,\"#7201a8\"],[0.3333333333333333,\"#9c179e\"],[0.4444444444444444,\"#bd3786\"],[0.5555555555555556,\"#d8576b\"],[0.6666666666666666,\"#ed7953\"],[0.7777777777777778,\"#fb9f3a\"],[0.8888888888888888,\"#fdca26\"],[1.0,\"#f0f921\"]]}],\"surface\":[{\"type\":\"surface\",\"colorbar\":{\"outlinewidth\":0,\"ticks\":\"\"},\"colorscale\":[[0.0,\"#0d0887\"],[0.1111111111111111,\"#46039f\"],[0.2222222222222222,\"#7201a8\"],[0.3333333333333333,\"#9c179e\"],[0.4444444444444444,\"#bd3786\"],[0.5555555555555556,\"#d8576b\"],[0.6666666666666666,\"#ed7953\"],[0.7777777777777778,\"#fb9f3a\"],[0.8888888888888888,\"#fdca26\"],[1.0,\"#f0f921\"]]}],\"mesh3d\":[{\"type\":\"mesh3d\",\"colorbar\":{\"outlinewidth\":0,\"ticks\":\"\"}}],\"scatter\":[{\"fillpattern\":{\"fillmode\":\"overlay\",\"size\":10,\"solidity\":0.2},\"type\":\"scatter\"}],\"parcoords\":[{\"type\":\"parcoords\",\"line\":{\"colorbar\":{\"outlinewidth\":0,\"ticks\":\"\"}}}],\"scatterpolargl\":[{\"type\":\"scatterpolargl\",\"marker\":{\"colorbar\":{\"outlinewidth\":0,\"ticks\":\"\"}}}],\"bar\":[{\"error_x\":{\"color\":\"#2a3f5f\"},\"error_y\":{\"color\":\"#2a3f5f\"},\"marker\":{\"line\":{\"color\":\"#E5ECF6\",\"width\":0.5},\"pattern\":{\"fillmode\":\"overlay\",\"size\":10,\"solidity\":0.2}},\"type\":\"bar\"}],\"scattergeo\":[{\"type\":\"scattergeo\",\"marker\":{\"colorbar\":{\"outlinewidth\":0,\"ticks\":\"\"}}}],\"scatterpolar\":[{\"type\":\"scatterpolar\",\"marker\":{\"colorbar\":{\"outlinewidth\":0,\"ticks\":\"\"}}}],\"histogram\":[{\"marker\":{\"pattern\":{\"fillmode\":\"overlay\",\"size\":10,\"solidity\":0.2}},\"type\":\"histogram\"}],\"scattergl\":[{\"type\":\"scattergl\",\"marker\":{\"colorbar\":{\"outlinewidth\":0,\"ticks\":\"\"}}}],\"scatter3d\":[{\"type\":\"scatter3d\",\"line\":{\"colorbar\":{\"outlinewidth\":0,\"ticks\":\"\"}},\"marker\":{\"colorbar\":{\"outlinewidth\":0,\"ticks\":\"\"}}}],\"scattermapbox\":[{\"type\":\"scattermapbox\",\"marker\":{\"colorbar\":{\"outlinewidth\":0,\"ticks\":\"\"}}}],\"scatterternary\":[{\"type\":\"scatterternary\",\"marker\":{\"colorbar\":{\"outlinewidth\":0,\"ticks\":\"\"}}}],\"scattercarpet\":[{\"type\":\"scattercarpet\",\"marker\":{\"colorbar\":{\"outlinewidth\":0,\"ticks\":\"\"}}}],\"carpet\":[{\"aaxis\":{\"endlinecolor\":\"#2a3f5f\",\"gridcolor\":\"white\",\"linecolor\":\"white\",\"minorgridcolor\":\"white\",\"startlinecolor\":\"#2a3f5f\"},\"baxis\":{\"endlinecolor\":\"#2a3f5f\",\"gridcolor\":\"white\",\"linecolor\":\"white\",\"minorgridcolor\":\"white\",\"startlinecolor\":\"#2a3f5f\"},\"type\":\"carpet\"}],\"table\":[{\"cells\":{\"fill\":{\"color\":\"#EBF0F8\"},\"line\":{\"color\":\"white\"}},\"header\":{\"fill\":{\"color\":\"#C8D4E3\"},\"line\":{\"color\":\"white\"}},\"type\":\"table\"}],\"barpolar\":[{\"marker\":{\"line\":{\"color\":\"#E5ECF6\",\"width\":0.5},\"pattern\":{\"fillmode\":\"overlay\",\"size\":10,\"solidity\":0.2}},\"type\":\"barpolar\"}],\"pie\":[{\"automargin\":true,\"type\":\"pie\"}]},\"layout\":{\"autotypenumbers\":\"strict\",\"colorway\":[\"#636efa\",\"#EF553B\",\"#00cc96\",\"#ab63fa\",\"#FFA15A\",\"#19d3f3\",\"#FF6692\",\"#B6E880\",\"#FF97FF\",\"#FECB52\"],\"font\":{\"color\":\"#2a3f5f\"},\"hovermode\":\"closest\",\"hoverlabel\":{\"align\":\"left\"},\"paper_bgcolor\":\"white\",\"plot_bgcolor\":\"#E5ECF6\",\"polar\":{\"bgcolor\":\"#E5ECF6\",\"angularaxis\":{\"gridcolor\":\"white\",\"linecolor\":\"white\",\"ticks\":\"\"},\"radialaxis\":{\"gridcolor\":\"white\",\"linecolor\":\"white\",\"ticks\":\"\"}},\"ternary\":{\"bgcolor\":\"#E5ECF6\",\"aaxis\":{\"gridcolor\":\"white\",\"linecolor\":\"white\",\"ticks\":\"\"},\"baxis\":{\"gridcolor\":\"white\",\"linecolor\":\"white\",\"ticks\":\"\"},\"caxis\":{\"gridcolor\":\"white\",\"linecolor\":\"white\",\"ticks\":\"\"}},\"coloraxis\":{\"colorbar\":{\"outlinewidth\":0,\"ticks\":\"\"}},\"colorscale\":{\"sequential\":[[0.0,\"#0d0887\"],[0.1111111111111111,\"#46039f\"],[0.2222222222222222,\"#7201a8\"],[0.3333333333333333,\"#9c179e\"],[0.4444444444444444,\"#bd3786\"],[0.5555555555555556,\"#d8576b\"],[0.6666666666666666,\"#ed7953\"],[0.7777777777777778,\"#fb9f3a\"],[0.8888888888888888,\"#fdca26\"],[1.0,\"#f0f921\"]],\"sequentialminus\":[[0.0,\"#0d0887\"],[0.1111111111111111,\"#46039f\"],[0.2222222222222222,\"#7201a8\"],[0.3333333333333333,\"#9c179e\"],[0.4444444444444444,\"#bd3786\"],[0.5555555555555556,\"#d8576b\"],[0.6666666666666666,\"#ed7953\"],[0.7777777777777778,\"#fb9f3a\"],[0.8888888888888888,\"#fdca26\"],[1.0,\"#f0f921\"]],\"diverging\":[[0,\"#8e0152\"],[0.1,\"#c51b7d\"],[0.2,\"#de77ae\"],[0.3,\"#f1b6da\"],[0.4,\"#fde0ef\"],[0.5,\"#f7f7f7\"],[0.6,\"#e6f5d0\"],[0.7,\"#b8e186\"],[0.8,\"#7fbc41\"],[0.9,\"#4d9221\"],[1,\"#276419\"]]},\"xaxis\":{\"gridcolor\":\"white\",\"linecolor\":\"white\",\"ticks\":\"\",\"title\":{\"standoff\":15},\"zerolinecolor\":\"white\",\"automargin\":true,\"zerolinewidth\":2},\"yaxis\":{\"gridcolor\":\"white\",\"linecolor\":\"white\",\"ticks\":\"\",\"title\":{\"standoff\":15},\"zerolinecolor\":\"white\",\"automargin\":true,\"zerolinewidth\":2},\"scene\":{\"xaxis\":{\"backgroundcolor\":\"#E5ECF6\",\"gridcolor\":\"white\",\"linecolor\":\"white\",\"showbackground\":true,\"ticks\":\"\",\"zerolinecolor\":\"white\",\"gridwidth\":2},\"yaxis\":{\"backgroundcolor\":\"#E5ECF6\",\"gridcolor\":\"white\",\"linecolor\":\"white\",\"showbackground\":true,\"ticks\":\"\",\"zerolinecolor\":\"white\",\"gridwidth\":2},\"zaxis\":{\"backgroundcolor\":\"#E5ECF6\",\"gridcolor\":\"white\",\"linecolor\":\"white\",\"showbackground\":true,\"ticks\":\"\",\"zerolinecolor\":\"white\",\"gridwidth\":2}},\"shapedefaults\":{\"line\":{\"color\":\"#2a3f5f\"}},\"annotationdefaults\":{\"arrowcolor\":\"#2a3f5f\",\"arrowhead\":0,\"arrowwidth\":1},\"geo\":{\"bgcolor\":\"white\",\"landcolor\":\"#E5ECF6\",\"subunitcolor\":\"white\",\"showland\":true,\"showlakes\":true,\"lakecolor\":\"white\"},\"title\":{\"x\":0.05},\"mapbox\":{\"style\":\"light\"}}}},                        {\"responsive\": true}                    ).then(function(){\n",
       "                            \n",
       "var gd = document.getElementById('02d94711-45f1-41ba-a6fb-997691e9165d');\n",
       "var x = new MutationObserver(function (mutations, observer) {{\n",
       "        var display = window.getComputedStyle(gd).display;\n",
       "        if (!display || display === 'none') {{\n",
       "            console.log([gd, 'removed!']);\n",
       "            Plotly.purge(gd);\n",
       "            observer.disconnect();\n",
       "        }}\n",
       "}});\n",
       "\n",
       "// Listen for the removal of the full notebook cells\n",
       "var notebookContainer = gd.closest('#notebook-container');\n",
       "if (notebookContainer) {{\n",
       "    x.observe(notebookContainer, {childList: true});\n",
       "}}\n",
       "\n",
       "// Listen for the clearing of the current output cell\n",
       "var outputEl = gd.closest('.output');\n",
       "if (outputEl) {{\n",
       "    x.observe(outputEl, {childList: true});\n",
       "}}\n",
       "\n",
       "                        })                };                });            </script>        </div>"
      ]
     },
     "metadata": {},
     "output_type": "display_data"
    }
   ],
   "source": [
    "trace= go.Bar(x=top10_score['batsman'], y=top10_score['batsman_runs'])\n",
    "data=[trace]\n",
    "layout=go.Layout(title='Top 10 IPL batsman',\n",
    "                xaxis={'title': 'Batsman'},\n",
    "                yaxis={'title': 'Total_Runs'})\n",
    "fig= go.Figure(data=data, layout=layout)\n",
    "\n",
    "fig.show()"
   ]
  },
  {
   "cell_type": "markdown",
   "id": "85c43329-e169-4d11-b055-b4ddc63f65a1",
   "metadata": {},
   "source": [
    "### Types\n",
    "####  Nested\n",
    "####  Stacked\n",
    "####  Overlayed"
   ]
  },
  {
   "cell_type": "code",
   "execution_count": 47,
   "id": "32abc115-a289-4332-9233-8bd626d258a1",
   "metadata": {
    "tags": []
   },
   "outputs": [
    {
     "name": "stderr",
     "output_type": "stream",
     "text": [
      "C:\\Users\\Rimsha\\AppData\\Local\\Temp\\ipykernel_8596\\3518041865.py:5: SettingWithCopyWarning:\n",
      "\n",
      "\n",
      "A value is trying to be set on a copy of a slice from a DataFrame\n",
      "\n",
      "See the caveats in the documentation: https://pandas.pydata.org/pandas-docs/stable/user_guide/indexing.html#returning-a-view-versus-a-copy\n",
      "\n",
      "C:\\Users\\Rimsha\\AppData\\Local\\Temp\\ipykernel_8596\\3518041865.py:6: SettingWithCopyWarning:\n",
      "\n",
      "\n",
      "A value is trying to be set on a copy of a slice from a DataFrame\n",
      "\n",
      "See the caveats in the documentation: https://pandas.pydata.org/pandas-docs/stable/user_guide/indexing.html#returning-a-view-versus-a-copy\n",
      "\n"
     ]
    },
    {
     "data": {
      "text/html": [
       "<div>\n",
       "<style scoped>\n",
       "    .dataframe tbody tr th:only-of-type {\n",
       "        vertical-align: middle;\n",
       "    }\n",
       "\n",
       "    .dataframe tbody tr th {\n",
       "        vertical-align: top;\n",
       "    }\n",
       "\n",
       "    .dataframe thead th {\n",
       "        text-align: right;\n",
       "    }\n",
       "</style>\n",
       "<table border=\"1\" class=\"dataframe\">\n",
       "  <thead>\n",
       "    <tr style=\"text-align: right;\">\n",
       "      <th></th>\n",
       "      <th>batsman</th>\n",
       "      <th>1st Innings</th>\n",
       "      <th>2nd Innings</th>\n",
       "    </tr>\n",
       "  </thead>\n",
       "  <tbody>\n",
       "    <tr>\n",
       "      <th>0</th>\n",
       "      <td>AB de Villiers</td>\n",
       "      <td>2128</td>\n",
       "      <td>1345</td>\n",
       "    </tr>\n",
       "    <tr>\n",
       "      <th>1</th>\n",
       "      <td>CH Gayle</td>\n",
       "      <td>2003</td>\n",
       "      <td>1623</td>\n",
       "    </tr>\n",
       "    <tr>\n",
       "      <th>2</th>\n",
       "      <td>DA Warner</td>\n",
       "      <td>2118</td>\n",
       "      <td>1896</td>\n",
       "    </tr>\n",
       "    <tr>\n",
       "      <th>3</th>\n",
       "      <td>G Gambhir</td>\n",
       "      <td>1699</td>\n",
       "      <td>2433</td>\n",
       "    </tr>\n",
       "    <tr>\n",
       "      <th>4</th>\n",
       "      <td>MS Dhoni</td>\n",
       "      <td>2232</td>\n",
       "      <td>1328</td>\n",
       "    </tr>\n",
       "    <tr>\n",
       "      <th>5</th>\n",
       "      <td>RG Sharma</td>\n",
       "      <td>2344</td>\n",
       "      <td>1863</td>\n",
       "    </tr>\n",
       "    <tr>\n",
       "      <th>6</th>\n",
       "      <td>RV Uthappa</td>\n",
       "      <td>1516</td>\n",
       "      <td>2262</td>\n",
       "    </tr>\n",
       "    <tr>\n",
       "      <th>7</th>\n",
       "      <td>S Dhawan</td>\n",
       "      <td>2262</td>\n",
       "      <td>1299</td>\n",
       "    </tr>\n",
       "    <tr>\n",
       "      <th>8</th>\n",
       "      <td>SK Raina</td>\n",
       "      <td>2647</td>\n",
       "      <td>1893</td>\n",
       "    </tr>\n",
       "    <tr>\n",
       "      <th>9</th>\n",
       "      <td>V Kohli</td>\n",
       "      <td>2391</td>\n",
       "      <td>2027</td>\n",
       "    </tr>\n",
       "  </tbody>\n",
       "</table>\n",
       "</div>"
      ],
      "text/plain": [
       "          batsman  1st Innings  2nd Innings\n",
       "0  AB de Villiers         2128         1345\n",
       "1        CH Gayle         2003         1623\n",
       "2       DA Warner         2118         1896\n",
       "3       G Gambhir         1699         2433\n",
       "4        MS Dhoni         2232         1328\n",
       "5       RG Sharma         2344         1863\n",
       "6      RV Uthappa         1516         2262\n",
       "7        S Dhawan         2262         1299\n",
       "8        SK Raina         2647         1893\n",
       "9         V Kohli         2391         2027"
      ]
     },
     "execution_count": 47,
     "metadata": {},
     "output_type": "execute_result"
    }
   ],
   "source": [
    "iw= top10_df.groupby(['batsman', 'inning'])['batsman_runs'].sum().reset_index()\n",
    "one=iw[iw['inning']==1]\n",
    "two=iw[iw['inning']==2]\n",
    "\n",
    "one.rename(columns={'batsman_runs': '1st Innings'}, inplace=True)\n",
    "two.rename(columns={'batsman_runs': '2nd Innings'}, inplace=True)\n",
    "\n",
    "final= one.merge(two, on='batsman')[['batsman', '1st Innings', '2nd Innings']]\n",
    "\n",
    "final"
   ]
  },
  {
   "cell_type": "code",
   "execution_count": 52,
   "id": "1b74788c-8ad0-4d12-8148-40e6407e4d0d",
   "metadata": {
    "tags": []
   },
   "outputs": [
    {
     "data": {
      "application/vnd.plotly.v1+json": {
       "config": {
        "plotlyServerURL": "https://plot.ly"
       },
       "data": [
        {
         "marker": {
          "color": "#00a65a"
         },
         "name": "1st Innings",
         "type": "bar",
         "x": [
          "AB de Villiers",
          "CH Gayle",
          "DA Warner",
          "G Gambhir",
          "MS Dhoni",
          "RG Sharma",
          "RV Uthappa",
          "S Dhawan",
          "SK Raina",
          "V Kohli"
         ],
         "y": [
          2128,
          2003,
          2118,
          1699,
          2232,
          2344,
          1516,
          2262,
          2647,
          2391
         ]
        },
        {
         "marker": {
          "color": "#a6a65a"
         },
         "name": "2nd Innings",
         "type": "bar",
         "x": [
          "AB de Villiers",
          "CH Gayle",
          "DA Warner",
          "G Gambhir",
          "MS Dhoni",
          "RG Sharma",
          "RV Uthappa",
          "S Dhawan",
          "SK Raina",
          "V Kohli"
         ],
         "y": [
          1345,
          1623,
          1896,
          2433,
          1328,
          1863,
          2262,
          1299,
          1893,
          2027
         ]
        }
       ],
       "layout": {
        "autosize": true,
        "barmode": "overlay",
        "template": {
         "data": {
          "bar": [
           {
            "error_x": {
             "color": "#2a3f5f"
            },
            "error_y": {
             "color": "#2a3f5f"
            },
            "marker": {
             "line": {
              "color": "#E5ECF6",
              "width": 0.5
             },
             "pattern": {
              "fillmode": "overlay",
              "size": 10,
              "solidity": 0.2
             }
            },
            "type": "bar"
           }
          ],
          "barpolar": [
           {
            "marker": {
             "line": {
              "color": "#E5ECF6",
              "width": 0.5
             },
             "pattern": {
              "fillmode": "overlay",
              "size": 10,
              "solidity": 0.2
             }
            },
            "type": "barpolar"
           }
          ],
          "carpet": [
           {
            "aaxis": {
             "endlinecolor": "#2a3f5f",
             "gridcolor": "white",
             "linecolor": "white",
             "minorgridcolor": "white",
             "startlinecolor": "#2a3f5f"
            },
            "baxis": {
             "endlinecolor": "#2a3f5f",
             "gridcolor": "white",
             "linecolor": "white",
             "minorgridcolor": "white",
             "startlinecolor": "#2a3f5f"
            },
            "type": "carpet"
           }
          ],
          "choropleth": [
           {
            "colorbar": {
             "outlinewidth": 0,
             "ticks": ""
            },
            "type": "choropleth"
           }
          ],
          "contour": [
           {
            "colorbar": {
             "outlinewidth": 0,
             "ticks": ""
            },
            "colorscale": [
             [
              0,
              "#0d0887"
             ],
             [
              0.1111111111111111,
              "#46039f"
             ],
             [
              0.2222222222222222,
              "#7201a8"
             ],
             [
              0.3333333333333333,
              "#9c179e"
             ],
             [
              0.4444444444444444,
              "#bd3786"
             ],
             [
              0.5555555555555556,
              "#d8576b"
             ],
             [
              0.6666666666666666,
              "#ed7953"
             ],
             [
              0.7777777777777778,
              "#fb9f3a"
             ],
             [
              0.8888888888888888,
              "#fdca26"
             ],
             [
              1,
              "#f0f921"
             ]
            ],
            "type": "contour"
           }
          ],
          "contourcarpet": [
           {
            "colorbar": {
             "outlinewidth": 0,
             "ticks": ""
            },
            "type": "contourcarpet"
           }
          ],
          "heatmap": [
           {
            "colorbar": {
             "outlinewidth": 0,
             "ticks": ""
            },
            "colorscale": [
             [
              0,
              "#0d0887"
             ],
             [
              0.1111111111111111,
              "#46039f"
             ],
             [
              0.2222222222222222,
              "#7201a8"
             ],
             [
              0.3333333333333333,
              "#9c179e"
             ],
             [
              0.4444444444444444,
              "#bd3786"
             ],
             [
              0.5555555555555556,
              "#d8576b"
             ],
             [
              0.6666666666666666,
              "#ed7953"
             ],
             [
              0.7777777777777778,
              "#fb9f3a"
             ],
             [
              0.8888888888888888,
              "#fdca26"
             ],
             [
              1,
              "#f0f921"
             ]
            ],
            "type": "heatmap"
           }
          ],
          "heatmapgl": [
           {
            "colorbar": {
             "outlinewidth": 0,
             "ticks": ""
            },
            "colorscale": [
             [
              0,
              "#0d0887"
             ],
             [
              0.1111111111111111,
              "#46039f"
             ],
             [
              0.2222222222222222,
              "#7201a8"
             ],
             [
              0.3333333333333333,
              "#9c179e"
             ],
             [
              0.4444444444444444,
              "#bd3786"
             ],
             [
              0.5555555555555556,
              "#d8576b"
             ],
             [
              0.6666666666666666,
              "#ed7953"
             ],
             [
              0.7777777777777778,
              "#fb9f3a"
             ],
             [
              0.8888888888888888,
              "#fdca26"
             ],
             [
              1,
              "#f0f921"
             ]
            ],
            "type": "heatmapgl"
           }
          ],
          "histogram": [
           {
            "marker": {
             "pattern": {
              "fillmode": "overlay",
              "size": 10,
              "solidity": 0.2
             }
            },
            "type": "histogram"
           }
          ],
          "histogram2d": [
           {
            "colorbar": {
             "outlinewidth": 0,
             "ticks": ""
            },
            "colorscale": [
             [
              0,
              "#0d0887"
             ],
             [
              0.1111111111111111,
              "#46039f"
             ],
             [
              0.2222222222222222,
              "#7201a8"
             ],
             [
              0.3333333333333333,
              "#9c179e"
             ],
             [
              0.4444444444444444,
              "#bd3786"
             ],
             [
              0.5555555555555556,
              "#d8576b"
             ],
             [
              0.6666666666666666,
              "#ed7953"
             ],
             [
              0.7777777777777778,
              "#fb9f3a"
             ],
             [
              0.8888888888888888,
              "#fdca26"
             ],
             [
              1,
              "#f0f921"
             ]
            ],
            "type": "histogram2d"
           }
          ],
          "histogram2dcontour": [
           {
            "colorbar": {
             "outlinewidth": 0,
             "ticks": ""
            },
            "colorscale": [
             [
              0,
              "#0d0887"
             ],
             [
              0.1111111111111111,
              "#46039f"
             ],
             [
              0.2222222222222222,
              "#7201a8"
             ],
             [
              0.3333333333333333,
              "#9c179e"
             ],
             [
              0.4444444444444444,
              "#bd3786"
             ],
             [
              0.5555555555555556,
              "#d8576b"
             ],
             [
              0.6666666666666666,
              "#ed7953"
             ],
             [
              0.7777777777777778,
              "#fb9f3a"
             ],
             [
              0.8888888888888888,
              "#fdca26"
             ],
             [
              1,
              "#f0f921"
             ]
            ],
            "type": "histogram2dcontour"
           }
          ],
          "mesh3d": [
           {
            "colorbar": {
             "outlinewidth": 0,
             "ticks": ""
            },
            "type": "mesh3d"
           }
          ],
          "parcoords": [
           {
            "line": {
             "colorbar": {
              "outlinewidth": 0,
              "ticks": ""
             }
            },
            "type": "parcoords"
           }
          ],
          "pie": [
           {
            "automargin": true,
            "type": "pie"
           }
          ],
          "scatter": [
           {
            "fillpattern": {
             "fillmode": "overlay",
             "size": 10,
             "solidity": 0.2
            },
            "type": "scatter"
           }
          ],
          "scatter3d": [
           {
            "line": {
             "colorbar": {
              "outlinewidth": 0,
              "ticks": ""
             }
            },
            "marker": {
             "colorbar": {
              "outlinewidth": 0,
              "ticks": ""
             }
            },
            "type": "scatter3d"
           }
          ],
          "scattercarpet": [
           {
            "marker": {
             "colorbar": {
              "outlinewidth": 0,
              "ticks": ""
             }
            },
            "type": "scattercarpet"
           }
          ],
          "scattergeo": [
           {
            "marker": {
             "colorbar": {
              "outlinewidth": 0,
              "ticks": ""
             }
            },
            "type": "scattergeo"
           }
          ],
          "scattergl": [
           {
            "marker": {
             "colorbar": {
              "outlinewidth": 0,
              "ticks": ""
             }
            },
            "type": "scattergl"
           }
          ],
          "scattermapbox": [
           {
            "marker": {
             "colorbar": {
              "outlinewidth": 0,
              "ticks": ""
             }
            },
            "type": "scattermapbox"
           }
          ],
          "scatterpolar": [
           {
            "marker": {
             "colorbar": {
              "outlinewidth": 0,
              "ticks": ""
             }
            },
            "type": "scatterpolar"
           }
          ],
          "scatterpolargl": [
           {
            "marker": {
             "colorbar": {
              "outlinewidth": 0,
              "ticks": ""
             }
            },
            "type": "scatterpolargl"
           }
          ],
          "scatterternary": [
           {
            "marker": {
             "colorbar": {
              "outlinewidth": 0,
              "ticks": ""
             }
            },
            "type": "scatterternary"
           }
          ],
          "surface": [
           {
            "colorbar": {
             "outlinewidth": 0,
             "ticks": ""
            },
            "colorscale": [
             [
              0,
              "#0d0887"
             ],
             [
              0.1111111111111111,
              "#46039f"
             ],
             [
              0.2222222222222222,
              "#7201a8"
             ],
             [
              0.3333333333333333,
              "#9c179e"
             ],
             [
              0.4444444444444444,
              "#bd3786"
             ],
             [
              0.5555555555555556,
              "#d8576b"
             ],
             [
              0.6666666666666666,
              "#ed7953"
             ],
             [
              0.7777777777777778,
              "#fb9f3a"
             ],
             [
              0.8888888888888888,
              "#fdca26"
             ],
             [
              1,
              "#f0f921"
             ]
            ],
            "type": "surface"
           }
          ],
          "table": [
           {
            "cells": {
             "fill": {
              "color": "#EBF0F8"
             },
             "line": {
              "color": "white"
             }
            },
            "header": {
             "fill": {
              "color": "#C8D4E3"
             },
             "line": {
              "color": "white"
             }
            },
            "type": "table"
           }
          ]
         },
         "layout": {
          "annotationdefaults": {
           "arrowcolor": "#2a3f5f",
           "arrowhead": 0,
           "arrowwidth": 1
          },
          "autotypenumbers": "strict",
          "coloraxis": {
           "colorbar": {
            "outlinewidth": 0,
            "ticks": ""
           }
          },
          "colorscale": {
           "diverging": [
            [
             0,
             "#8e0152"
            ],
            [
             0.1,
             "#c51b7d"
            ],
            [
             0.2,
             "#de77ae"
            ],
            [
             0.3,
             "#f1b6da"
            ],
            [
             0.4,
             "#fde0ef"
            ],
            [
             0.5,
             "#f7f7f7"
            ],
            [
             0.6,
             "#e6f5d0"
            ],
            [
             0.7,
             "#b8e186"
            ],
            [
             0.8,
             "#7fbc41"
            ],
            [
             0.9,
             "#4d9221"
            ],
            [
             1,
             "#276419"
            ]
           ],
           "sequential": [
            [
             0,
             "#0d0887"
            ],
            [
             0.1111111111111111,
             "#46039f"
            ],
            [
             0.2222222222222222,
             "#7201a8"
            ],
            [
             0.3333333333333333,
             "#9c179e"
            ],
            [
             0.4444444444444444,
             "#bd3786"
            ],
            [
             0.5555555555555556,
             "#d8576b"
            ],
            [
             0.6666666666666666,
             "#ed7953"
            ],
            [
             0.7777777777777778,
             "#fb9f3a"
            ],
            [
             0.8888888888888888,
             "#fdca26"
            ],
            [
             1,
             "#f0f921"
            ]
           ],
           "sequentialminus": [
            [
             0,
             "#0d0887"
            ],
            [
             0.1111111111111111,
             "#46039f"
            ],
            [
             0.2222222222222222,
             "#7201a8"
            ],
            [
             0.3333333333333333,
             "#9c179e"
            ],
            [
             0.4444444444444444,
             "#bd3786"
            ],
            [
             0.5555555555555556,
             "#d8576b"
            ],
            [
             0.6666666666666666,
             "#ed7953"
            ],
            [
             0.7777777777777778,
             "#fb9f3a"
            ],
            [
             0.8888888888888888,
             "#fdca26"
            ],
            [
             1,
             "#f0f921"
            ]
           ]
          },
          "colorway": [
           "#636efa",
           "#EF553B",
           "#00cc96",
           "#ab63fa",
           "#FFA15A",
           "#19d3f3",
           "#FF6692",
           "#B6E880",
           "#FF97FF",
           "#FECB52"
          ],
          "font": {
           "color": "#2a3f5f"
          },
          "geo": {
           "bgcolor": "white",
           "lakecolor": "white",
           "landcolor": "#E5ECF6",
           "showlakes": true,
           "showland": true,
           "subunitcolor": "white"
          },
          "hoverlabel": {
           "align": "left"
          },
          "hovermode": "closest",
          "mapbox": {
           "style": "light"
          },
          "paper_bgcolor": "white",
          "plot_bgcolor": "#E5ECF6",
          "polar": {
           "angularaxis": {
            "gridcolor": "white",
            "linecolor": "white",
            "ticks": ""
           },
           "bgcolor": "#E5ECF6",
           "radialaxis": {
            "gridcolor": "white",
            "linecolor": "white",
            "ticks": ""
           }
          },
          "scene": {
           "xaxis": {
            "backgroundcolor": "#E5ECF6",
            "gridcolor": "white",
            "gridwidth": 2,
            "linecolor": "white",
            "showbackground": true,
            "ticks": "",
            "zerolinecolor": "white"
           },
           "yaxis": {
            "backgroundcolor": "#E5ECF6",
            "gridcolor": "white",
            "gridwidth": 2,
            "linecolor": "white",
            "showbackground": true,
            "ticks": "",
            "zerolinecolor": "white"
           },
           "zaxis": {
            "backgroundcolor": "#E5ECF6",
            "gridcolor": "white",
            "gridwidth": 2,
            "linecolor": "white",
            "showbackground": true,
            "ticks": "",
            "zerolinecolor": "white"
           }
          },
          "shapedefaults": {
           "line": {
            "color": "#2a3f5f"
           }
          },
          "ternary": {
           "aaxis": {
            "gridcolor": "white",
            "linecolor": "white",
            "ticks": ""
           },
           "baxis": {
            "gridcolor": "white",
            "linecolor": "white",
            "ticks": ""
           },
           "bgcolor": "#E5ECF6",
           "caxis": {
            "gridcolor": "white",
            "linecolor": "white",
            "ticks": ""
           }
          },
          "title": {
           "x": 0.05
          },
          "xaxis": {
           "automargin": true,
           "gridcolor": "white",
           "linecolor": "white",
           "ticks": "",
           "title": {
            "standoff": 15
           },
           "zerolinecolor": "white",
           "zerolinewidth": 2
          },
          "yaxis": {
           "automargin": true,
           "gridcolor": "white",
           "linecolor": "white",
           "ticks": "",
           "title": {
            "standoff": 15
           },
           "zerolinecolor": "white",
           "zerolinewidth": 2
          }
         }
        },
        "title": {
         "text": "Inning wise Scores"
        },
        "xaxis": {
         "autorange": true,
         "range": [
          -0.5,
          9.5
         ],
         "title": {
          "text": "Batsman"
         },
         "type": "category"
        },
        "yaxis": {
         "autorange": true,
         "range": [
          0,
          2786.315789473684
         ],
         "title": {
          "text": "Runs"
         },
         "type": "linear"
        }
       }
      },
      "image/png": "[encoded data removed]",
      "text/html": [
       "<div>                            <div id=\"dfa70479-8acf-460b-94c8-88b8ec11e337\" class=\"plotly-graph-div\" style=\"height:525px; width:100%;\"></div>            <script type=\"text/javascript\">                require([\"plotly\"], function(Plotly) {                    window.PLOTLYENV=window.PLOTLYENV || {};                                    if (document.getElementById(\"dfa70479-8acf-460b-94c8-88b8ec11e337\")) {                    Plotly.newPlot(                        \"dfa70479-8acf-460b-94c8-88b8ec11e337\",                        [{\"marker\":{\"color\":\"#00a65a\"},\"name\":\"1st Innings\",\"x\":[\"AB de Villiers\",\"CH Gayle\",\"DA Warner\",\"G Gambhir\",\"MS Dhoni\",\"RG Sharma\",\"RV Uthappa\",\"S Dhawan\",\"SK Raina\",\"V Kohli\"],\"y\":[2128,2003,2118,1699,2232,2344,1516,2262,2647,2391],\"type\":\"bar\"},{\"marker\":{\"color\":\"#a6a65a\"},\"name\":\"2nd Innings\",\"x\":[\"AB de Villiers\",\"CH Gayle\",\"DA Warner\",\"G Gambhir\",\"MS Dhoni\",\"RG Sharma\",\"RV Uthappa\",\"S Dhawan\",\"SK Raina\",\"V Kohli\"],\"y\":[1345,1623,1896,2433,1328,1863,2262,1299,1893,2027],\"type\":\"bar\"}],                        {\"barmode\":\"overlay\",\"title\":{\"text\":\"Inning wise Scores\"},\"xaxis\":{\"title\":{\"text\":\"Batsman\"}},\"yaxis\":{\"title\":{\"text\":\"Runs\"}},\"template\":{\"data\":{\"histogram2dcontour\":[{\"type\":\"histogram2dcontour\",\"colorbar\":{\"outlinewidth\":0,\"ticks\":\"\"},\"colorscale\":[[0.0,\"#0d0887\"],[0.1111111111111111,\"#46039f\"],[0.2222222222222222,\"#7201a8\"],[0.3333333333333333,\"#9c179e\"],[0.4444444444444444,\"#bd3786\"],[0.5555555555555556,\"#d8576b\"],[0.6666666666666666,\"#ed7953\"],[0.7777777777777778,\"#fb9f3a\"],[0.8888888888888888,\"#fdca26\"],[1.0,\"#f0f921\"]]}],\"choropleth\":[{\"type\":\"choropleth\",\"colorbar\":{\"outlinewidth\":0,\"ticks\":\"\"}}],\"histogram2d\":[{\"type\":\"histogram2d\",\"colorbar\":{\"outlinewidth\":0,\"ticks\":\"\"},\"colorscale\":[[0.0,\"#0d0887\"],[0.1111111111111111,\"#46039f\"],[0.2222222222222222,\"#7201a8\"],[0.3333333333333333,\"#9c179e\"],[0.4444444444444444,\"#bd3786\"],[0.5555555555555556,\"#d8576b\"],[0.6666666666666666,\"#ed7953\"],[0.7777777777777778,\"#fb9f3a\"],[0.8888888888888888,\"#fdca26\"],[1.0,\"#f0f921\"]]}],\"heatmap\":[{\"type\":\"heatmap\",\"colorbar\":{\"outlinewidth\":0,\"ticks\":\"\"},\"colorscale\":[[0.0,\"#0d0887\"],[0.1111111111111111,\"#46039f\"],[0.2222222222222222,\"#7201a8\"],[0.3333333333333333,\"#9c179e\"],[0.4444444444444444,\"#bd3786\"],[0.5555555555555556,\"#d8576b\"],[0.6666666666666666,\"#ed7953\"],[0.7777777777777778,\"#fb9f3a\"],[0.8888888888888888,\"#fdca26\"],[1.0,\"#f0f921\"]]}],\"heatmapgl\":[{\"type\":\"heatmapgl\",\"colorbar\":{\"outlinewidth\":0,\"ticks\":\"\"},\"colorscale\":[[0.0,\"#0d0887\"],[0.1111111111111111,\"#46039f\"],[0.2222222222222222,\"#7201a8\"],[0.3333333333333333,\"#9c179e\"],[0.4444444444444444,\"#bd3786\"],[0.5555555555555556,\"#d8576b\"],[0.6666666666666666,\"#ed7953\"],[0.7777777777777778,\"#fb9f3a\"],[0.8888888888888888,\"#fdca26\"],[1.0,\"#f0f921\"]]}],\"contourcarpet\":[{\"type\":\"contourcarpet\",\"colorbar\":{\"outlinewidth\":0,\"ticks\":\"\"}}],\"contour\":[{\"type\":\"contour\",\"colorbar\":{\"outlinewidth\":0,\"ticks\":\"\"},\"colorscale\":[[0.0,\"#0d0887\"],[0.1111111111111111,\"#46039f\"],[0.2222222222222222,\"#7201a8\"],[0.3333333333333333,\"#9c179e\"],[0.4444444444444444,\"#bd3786\"],[0.5555555555555556,\"#d8576b\"],[0.6666666666666666,\"#ed7953\"],[0.7777777777777778,\"#fb9f3a\"],[0.8888888888888888,\"#fdca26\"],[1.0,\"#f0f921\"]]}],\"surface\":[{\"type\":\"surface\",\"colorbar\":{\"outlinewidth\":0,\"ticks\":\"\"},\"colorscale\":[[0.0,\"#0d0887\"],[0.1111111111111111,\"#46039f\"],[0.2222222222222222,\"#7201a8\"],[0.3333333333333333,\"#9c179e\"],[0.4444444444444444,\"#bd3786\"],[0.5555555555555556,\"#d8576b\"],[0.6666666666666666,\"#ed7953\"],[0.7777777777777778,\"#fb9f3a\"],[0.8888888888888888,\"#fdca26\"],[1.0,\"#f0f921\"]]}],\"mesh3d\":[{\"type\":\"mesh3d\",\"colorbar\":{\"outlinewidth\":0,\"ticks\":\"\"}}],\"scatter\":[{\"fillpattern\":{\"fillmode\":\"overlay\",\"size\":10,\"solidity\":0.2},\"type\":\"scatter\"}],\"parcoords\":[{\"type\":\"parcoords\",\"line\":{\"colorbar\":{\"outlinewidth\":0,\"ticks\":\"\"}}}],\"scatterpolargl\":[{\"type\":\"scatterpolargl\",\"marker\":{\"colorbar\":{\"outlinewidth\":0,\"ticks\":\"\"}}}],\"bar\":[{\"error_x\":{\"color\":\"#2a3f5f\"},\"error_y\":{\"color\":\"#2a3f5f\"},\"marker\":{\"line\":{\"color\":\"#E5ECF6\",\"width\":0.5},\"pattern\":{\"fillmode\":\"overlay\",\"size\":10,\"solidity\":0.2}},\"type\":\"bar\"}],\"scattergeo\":[{\"type\":\"scattergeo\",\"marker\":{\"colorbar\":{\"outlinewidth\":0,\"ticks\":\"\"}}}],\"scatterpolar\":[{\"type\":\"scatterpolar\",\"marker\":{\"colorbar\":{\"outlinewidth\":0,\"ticks\":\"\"}}}],\"histogram\":[{\"marker\":{\"pattern\":{\"fillmode\":\"overlay\",\"size\":10,\"solidity\":0.2}},\"type\":\"histogram\"}],\"scattergl\":[{\"type\":\"scattergl\",\"marker\":{\"colorbar\":{\"outlinewidth\":0,\"ticks\":\"\"}}}],\"scatter3d\":[{\"type\":\"scatter3d\",\"line\":{\"colorbar\":{\"outlinewidth\":0,\"ticks\":\"\"}},\"marker\":{\"colorbar\":{\"outlinewidth\":0,\"ticks\":\"\"}}}],\"scattermapbox\":[{\"type\":\"scattermapbox\",\"marker\":{\"colorbar\":{\"outlinewidth\":0,\"ticks\":\"\"}}}],\"scatterternary\":[{\"type\":\"scatterternary\",\"marker\":{\"colorbar\":{\"outlinewidth\":0,\"ticks\":\"\"}}}],\"scattercarpet\":[{\"type\":\"scattercarpet\",\"marker\":{\"colorbar\":{\"outlinewidth\":0,\"ticks\":\"\"}}}],\"carpet\":[{\"aaxis\":{\"endlinecolor\":\"#2a3f5f\",\"gridcolor\":\"white\",\"linecolor\":\"white\",\"minorgridcolor\":\"white\",\"startlinecolor\":\"#2a3f5f\"},\"baxis\":{\"endlinecolor\":\"#2a3f5f\",\"gridcolor\":\"white\",\"linecolor\":\"white\",\"minorgridcolor\":\"white\",\"startlinecolor\":\"#2a3f5f\"},\"type\":\"carpet\"}],\"table\":[{\"cells\":{\"fill\":{\"color\":\"#EBF0F8\"},\"line\":{\"color\":\"white\"}},\"header\":{\"fill\":{\"color\":\"#C8D4E3\"},\"line\":{\"color\":\"white\"}},\"type\":\"table\"}],\"barpolar\":[{\"marker\":{\"line\":{\"color\":\"#E5ECF6\",\"width\":0.5},\"pattern\":{\"fillmode\":\"overlay\",\"size\":10,\"solidity\":0.2}},\"type\":\"barpolar\"}],\"pie\":[{\"automargin\":true,\"type\":\"pie\"}]},\"layout\":{\"autotypenumbers\":\"strict\",\"colorway\":[\"#636efa\",\"#EF553B\",\"#00cc96\",\"#ab63fa\",\"#FFA15A\",\"#19d3f3\",\"#FF6692\",\"#B6E880\",\"#FF97FF\",\"#FECB52\"],\"font\":{\"color\":\"#2a3f5f\"},\"hovermode\":\"closest\",\"hoverlabel\":{\"align\":\"left\"},\"paper_bgcolor\":\"white\",\"plot_bgcolor\":\"#E5ECF6\",\"polar\":{\"bgcolor\":\"#E5ECF6\",\"angularaxis\":{\"gridcolor\":\"white\",\"linecolor\":\"white\",\"ticks\":\"\"},\"radialaxis\":{\"gridcolor\":\"white\",\"linecolor\":\"white\",\"ticks\":\"\"}},\"ternary\":{\"bgcolor\":\"#E5ECF6\",\"aaxis\":{\"gridcolor\":\"white\",\"linecolor\":\"white\",\"ticks\":\"\"},\"baxis\":{\"gridcolor\":\"white\",\"linecolor\":\"white\",\"ticks\":\"\"},\"caxis\":{\"gridcolor\":\"white\",\"linecolor\":\"white\",\"ticks\":\"\"}},\"coloraxis\":{\"colorbar\":{\"outlinewidth\":0,\"ticks\":\"\"}},\"colorscale\":{\"sequential\":[[0.0,\"#0d0887\"],[0.1111111111111111,\"#46039f\"],[0.2222222222222222,\"#7201a8\"],[0.3333333333333333,\"#9c179e\"],[0.4444444444444444,\"#bd3786\"],[0.5555555555555556,\"#d8576b\"],[0.6666666666666666,\"#ed7953\"],[0.7777777777777778,\"#fb9f3a\"],[0.8888888888888888,\"#fdca26\"],[1.0,\"#f0f921\"]],\"sequentialminus\":[[0.0,\"#0d0887\"],[0.1111111111111111,\"#46039f\"],[0.2222222222222222,\"#7201a8\"],[0.3333333333333333,\"#9c179e\"],[0.4444444444444444,\"#bd3786\"],[0.5555555555555556,\"#d8576b\"],[0.6666666666666666,\"#ed7953\"],[0.7777777777777778,\"#fb9f3a\"],[0.8888888888888888,\"#fdca26\"],[1.0,\"#f0f921\"]],\"diverging\":[[0,\"#8e0152\"],[0.1,\"#c51b7d\"],[0.2,\"#de77ae\"],[0.3,\"#f1b6da\"],[0.4,\"#fde0ef\"],[0.5,\"#f7f7f7\"],[0.6,\"#e6f5d0\"],[0.7,\"#b8e186\"],[0.8,\"#7fbc41\"],[0.9,\"#4d9221\"],[1,\"#276419\"]]},\"xaxis\":{\"gridcolor\":\"white\",\"linecolor\":\"white\",\"ticks\":\"\",\"title\":{\"standoff\":15},\"zerolinecolor\":\"white\",\"automargin\":true,\"zerolinewidth\":2},\"yaxis\":{\"gridcolor\":\"white\",\"linecolor\":\"white\",\"ticks\":\"\",\"title\":{\"standoff\":15},\"zerolinecolor\":\"white\",\"automargin\":true,\"zerolinewidth\":2},\"scene\":{\"xaxis\":{\"backgroundcolor\":\"#E5ECF6\",\"gridcolor\":\"white\",\"linecolor\":\"white\",\"showbackground\":true,\"ticks\":\"\",\"zerolinecolor\":\"white\",\"gridwidth\":2},\"yaxis\":{\"backgroundcolor\":\"#E5ECF6\",\"gridcolor\":\"white\",\"linecolor\":\"white\",\"showbackground\":true,\"ticks\":\"\",\"zerolinecolor\":\"white\",\"gridwidth\":2},\"zaxis\":{\"backgroundcolor\":\"#E5ECF6\",\"gridcolor\":\"white\",\"linecolor\":\"white\",\"showbackground\":true,\"ticks\":\"\",\"zerolinecolor\":\"white\",\"gridwidth\":2}},\"shapedefaults\":{\"line\":{\"color\":\"#2a3f5f\"}},\"annotationdefaults\":{\"arrowcolor\":\"#2a3f5f\",\"arrowhead\":0,\"arrowwidth\":1},\"geo\":{\"bgcolor\":\"white\",\"landcolor\":\"#E5ECF6\",\"subunitcolor\":\"white\",\"showland\":true,\"showlakes\":true,\"lakecolor\":\"white\"},\"title\":{\"x\":0.05},\"mapbox\":{\"style\":\"light\"}}}},                        {\"responsive\": true}                    ).then(function(){\n",
       "                            \n",
       "var gd = document.getElementById('dfa70479-8acf-460b-94c8-88b8ec11e337');\n",
       "var x = new MutationObserver(function (mutations, observer) {{\n",
       "        var display = window.getComputedStyle(gd).display;\n",
       "        if (!display || display === 'none') {{\n",
       "            console.log([gd, 'removed!']);\n",
       "            Plotly.purge(gd);\n",
       "            observer.disconnect();\n",
       "        }}\n",
       "}});\n",
       "\n",
       "// Listen for the removal of the full notebook cells\n",
       "var notebookContainer = gd.closest('#notebook-container');\n",
       "if (notebookContainer) {{\n",
       "    x.observe(notebookContainer, {childList: true});\n",
       "}}\n",
       "\n",
       "// Listen for the clearing of the current output cell\n",
       "var outputEl = gd.closest('.output');\n",
       "if (outputEl) {{\n",
       "    x.observe(outputEl, {childList: true});\n",
       "}}\n",
       "\n",
       "                        })                };                });            </script>        </div>"
      ]
     },
     "metadata": {},
     "output_type": "display_data"
    }
   ],
   "source": [
    "trace=go.Bar(x=final['batsman'], y=final['1st Innings'], marker={'color': '#00a65a'}, name='1st Innings')\n",
    "\n",
    "trace1=go.Bar(x=final['batsman'], y=final['2nd Innings'], marker={'color': '#a6a65a'}, name='2nd Innings')\n",
    "\n",
    "\n",
    "data=[trace, trace1]\n",
    "layout=go.Layout(title='Inning wise Scores',\n",
    "                xaxis={'title': 'Batsman'},\n",
    "                yaxis={'title': 'Runs'}, \n",
    "                barmode='overlay') # stack, for nested remove barmode option\n",
    "fig= go.Figure(data=data, layout=layout)\n",
    "fig.show()"
   ]
  },
  {
   "cell_type": "markdown",
   "id": "9592e756-f09e-468d-a926-ffc41a99924c",
   "metadata": {},
   "source": [
    "### Bubble Plot"
   ]
  },
  {
   "cell_type": "code",
   "execution_count": 61,
   "id": "10216bde-a042-4def-8eb5-8a6e38cfa3d7",
   "metadata": {
    "tags": []
   },
   "outputs": [
    {
     "data": {
      "application/vnd.plotly.v1+json": {
       "config": {
        "plotlyServerURL": "https://plot.ly"
       },
       "data": [
        {
         "marker": {
          "size": [
           158,
           92,
           59,
           60,
           79,
           124,
           43,
           266,
           78,
           160,
           48,
           60,
           40,
           117,
           38,
           58,
           82,
           44,
           78,
           148,
           27,
           71,
           26,
           89,
           52,
           65,
           39,
           156,
           79,
           35,
           28,
           57,
           173,
           125,
           28,
           71,
           42,
           78,
           174,
           45,
           29,
           122,
           45,
           57,
           24,
           160,
           106,
           57,
           149,
           141
          ]
         },
         "mode": "markers",
         "type": "scatter",
         "x": [
          38.30769230769231,
          27.223684210526315,
          27.1864406779661,
          33.59340659340659,
          27.146067415730336,
          28.112244897959183,
          33.333333333333336,
          41.02247191011236,
          34.733333333333334,
          40.14,
          22.945454545454545,
          26.979591836734695,
          28.25,
          28.392857142857142,
          30.11627906976744,
          31.541984732824428,
          25.081632653061224,
          28.55294117647059,
          39.86,
          28.70731707317073,
          25.953846153846154,
          24.811965811965813,
          25.17391304347826,
          26.431578947368422,
          38.76470588235294,
          28.5,
          29.428571428571427,
          37.87234042553192,
          20.986486486486488,
          21.700934579439252,
          28.233766233766232,
          24.055555555555557,
          32.6124031007752,
          29.515625,
          30.659574468085108,
          32.669724770642205,
          25.452830188679247,
          39.507936507936506,
          33.940298507462686,
          37.23913043478261,
          33.82608695652174,
          30.91764705882353,
          28.355555555555554,
          25.464285714285715,
          26.813953488372093,
          37.483050847457626,
          27.555555555555557,
          25.524590163934427,
          29.816326530612244,
          25.653465346534652
         ],
         "y": [
          145.12905911740216,
          133.05466237942122,
          126.2992125984252,
          117.48654880860876,
          123.0142566191446,
          126.31820265933058,
          121.42237640936686,
          144.19431279620852,
          137.7092511013216,
          138.3184011026878,
          122.28682170542635,
          120.07266121707538,
          118.7910643889619,
          132.27953410981698,
          124.16107382550337,
          120.36120011651616,
          157.56410256410257,
          105.93627237014405,
          121.97062423500613,
          140.62126642771804,
          118.4691011235955,
          123.00847457627117,
          124.65016146393972,
          120.02868068833652,
          119.96359223300972,
          116.93845344555498,
          114.12742382271468,
          132.8358208955224,
          114.52802359882006,
          112.71844660194175,
          113.34723670490095,
          118.79286694101509,
          128.49725106902872,
          127.63513513513513,
          115.74297188755021,
          118.50249584026622,
          101.73453996983409,
          130.10977522216413,
          134.99554764024933,
          128.50712678169543,
          114.18786692759295,
          134.83837865572087,
          114.85148514851484,
          122.40343347639484,
          110.12416427889207,
          126.58843732112193,
          148.82705946535734,
          127.72764561115667,
          140.75144508670522,
          126.39024390243902
         ]
        }
       ],
       "layout": {
        "autosize": true,
        "dragmode": "pan",
        "template": {
         "data": {
          "bar": [
           {
            "error_x": {
             "color": "#2a3f5f"
            },
            "error_y": {
             "color": "#2a3f5f"
            },
            "marker": {
             "line": {
              "color": "#E5ECF6",
              "width": 0.5
             },
             "pattern": {
              "fillmode": "overlay",
              "size": 10,
              "solidity": 0.2
             }
            },
            "type": "bar"
           }
          ],
          "barpolar": [
           {
            "marker": {
             "line": {
              "color": "#E5ECF6",
              "width": 0.5
             },
             "pattern": {
              "fillmode": "overlay",
              "size": 10,
              "solidity": 0.2
             }
            },
            "type": "barpolar"
           }
          ],
          "carpet": [
           {
            "aaxis": {
             "endlinecolor": "#2a3f5f",
             "gridcolor": "white",
             "linecolor": "white",
             "minorgridcolor": "white",
             "startlinecolor": "#2a3f5f"
            },
            "baxis": {
             "endlinecolor": "#2a3f5f",
             "gridcolor": "white",
             "linecolor": "white",
             "minorgridcolor": "white",
             "startlinecolor": "#2a3f5f"
            },
            "type": "carpet"
           }
          ],
          "choropleth": [
           {
            "colorbar": {
             "outlinewidth": 0,
             "ticks": ""
            },
            "type": "choropleth"
           }
          ],
          "contour": [
           {
            "colorbar": {
             "outlinewidth": 0,
             "ticks": ""
            },
            "colorscale": [
             [
              0,
              "#0d0887"
             ],
             [
              0.1111111111111111,
              "#46039f"
             ],
             [
              0.2222222222222222,
              "#7201a8"
             ],
             [
              0.3333333333333333,
              "#9c179e"
             ],
             [
              0.4444444444444444,
              "#bd3786"
             ],
             [
              0.5555555555555556,
              "#d8576b"
             ],
             [
              0.6666666666666666,
              "#ed7953"
             ],
             [
              0.7777777777777778,
              "#fb9f3a"
             ],
             [
              0.8888888888888888,
              "#fdca26"
             ],
             [
              1,
              "#f0f921"
             ]
            ],
            "type": "contour"
           }
          ],
          "contourcarpet": [
           {
            "colorbar": {
             "outlinewidth": 0,
             "ticks": ""
            },
            "type": "contourcarpet"
           }
          ],
          "heatmap": [
           {
            "colorbar": {
             "outlinewidth": 0,
             "ticks": ""
            },
            "colorscale": [
             [
              0,
              "#0d0887"
             ],
             [
              0.1111111111111111,
              "#46039f"
             ],
             [
              0.2222222222222222,
              "#7201a8"
             ],
             [
              0.3333333333333333,
              "#9c179e"
             ],
             [
              0.4444444444444444,
              "#bd3786"
             ],
             [
              0.5555555555555556,
              "#d8576b"
             ],
             [
              0.6666666666666666,
              "#ed7953"
             ],
             [
              0.7777777777777778,
              "#fb9f3a"
             ],
             [
              0.8888888888888888,
              "#fdca26"
             ],
             [
              1,
              "#f0f921"
             ]
            ],
            "type": "heatmap"
           }
          ],
          "heatmapgl": [
           {
            "colorbar": {
             "outlinewidth": 0,
             "ticks": ""
            },
            "colorscale": [
             [
              0,
              "#0d0887"
             ],
             [
              0.1111111111111111,
              "#46039f"
             ],
             [
              0.2222222222222222,
              "#7201a8"
             ],
             [
              0.3333333333333333,
              "#9c179e"
             ],
             [
              0.4444444444444444,
              "#bd3786"
             ],
             [
              0.5555555555555556,
              "#d8576b"
             ],
             [
              0.6666666666666666,
              "#ed7953"
             ],
             [
              0.7777777777777778,
              "#fb9f3a"
             ],
             [
              0.8888888888888888,
              "#fdca26"
             ],
             [
              1,
              "#f0f921"
             ]
            ],
            "type": "heatmapgl"
           }
          ],
          "histogram": [
           {
            "marker": {
             "pattern": {
              "fillmode": "overlay",
              "size": 10,
              "solidity": 0.2
             }
            },
            "type": "histogram"
           }
          ],
          "histogram2d": [
           {
            "colorbar": {
             "outlinewidth": 0,
             "ticks": ""
            },
            "colorscale": [
             [
              0,
              "#0d0887"
             ],
             [
              0.1111111111111111,
              "#46039f"
             ],
             [
              0.2222222222222222,
              "#7201a8"
             ],
             [
              0.3333333333333333,
              "#9c179e"
             ],
             [
              0.4444444444444444,
              "#bd3786"
             ],
             [
              0.5555555555555556,
              "#d8576b"
             ],
             [
              0.6666666666666666,
              "#ed7953"
             ],
             [
              0.7777777777777778,
              "#fb9f3a"
             ],
             [
              0.8888888888888888,
              "#fdca26"
             ],
             [
              1,
              "#f0f921"
             ]
            ],
            "type": "histogram2d"
           }
          ],
          "histogram2dcontour": [
           {
            "colorbar": {
             "outlinewidth": 0,
             "ticks": ""
            },
            "colorscale": [
             [
              0,
              "#0d0887"
             ],
             [
              0.1111111111111111,
              "#46039f"
             ],
             [
              0.2222222222222222,
              "#7201a8"
             ],
             [
              0.3333333333333333,
              "#9c179e"
             ],
             [
              0.4444444444444444,
              "#bd3786"
             ],
             [
              0.5555555555555556,
              "#d8576b"
             ],
             [
              0.6666666666666666,
              "#ed7953"
             ],
             [
              0.7777777777777778,
              "#fb9f3a"
             ],
             [
              0.8888888888888888,
              "#fdca26"
             ],
             [
              1,
              "#f0f921"
             ]
            ],
            "type": "histogram2dcontour"
           }
          ],
          "mesh3d": [
           {
            "colorbar": {
             "outlinewidth": 0,
             "ticks": ""
            },
            "type": "mesh3d"
           }
          ],
          "parcoords": [
           {
            "line": {
             "colorbar": {
              "outlinewidth": 0,
              "ticks": ""
             }
            },
            "type": "parcoords"
           }
          ],
          "pie": [
           {
            "automargin": true,
            "type": "pie"
           }
          ],
          "scatter": [
           {
            "fillpattern": {
             "fillmode": "overlay",
             "size": 10,
             "solidity": 0.2
            },
            "type": "scatter"
           }
          ],
          "scatter3d": [
           {
            "line": {
             "colorbar": {
              "outlinewidth": 0,
              "ticks": ""
             }
            },
            "marker": {
             "colorbar": {
              "outlinewidth": 0,
              "ticks": ""
             }
            },
            "type": "scatter3d"
           }
          ],
          "scattercarpet": [
           {
            "marker": {
             "colorbar": {
              "outlinewidth": 0,
              "ticks": ""
             }
            },
            "type": "scattercarpet"
           }
          ],
          "scattergeo": [
           {
            "marker": {
             "colorbar": {
              "outlinewidth": 0,
              "ticks": ""
             }
            },
            "type": "scattergeo"
           }
          ],
          "scattergl": [
           {
            "marker": {
             "colorbar": {
              "outlinewidth": 0,
              "ticks": ""
             }
            },
            "type": "scattergl"
           }
          ],
          "scattermapbox": [
           {
            "marker": {
             "colorbar": {
              "outlinewidth": 0,
              "ticks": ""
             }
            },
            "type": "scattermapbox"
           }
          ],
          "scatterpolar": [
           {
            "marker": {
             "colorbar": {
              "outlinewidth": 0,
              "ticks": ""
             }
            },
            "type": "scatterpolar"
           }
          ],
          "scatterpolargl": [
           {
            "marker": {
             "colorbar": {
              "outlinewidth": 0,
              "ticks": ""
             }
            },
            "type": "scatterpolargl"
           }
          ],
          "scatterternary": [
           {
            "marker": {
             "colorbar": {
              "outlinewidth": 0,
              "ticks": ""
             }
            },
            "type": "scatterternary"
           }
          ],
          "surface": [
           {
            "colorbar": {
             "outlinewidth": 0,
             "ticks": ""
            },
            "colorscale": [
             [
              0,
              "#0d0887"
             ],
             [
              0.1111111111111111,
              "#46039f"
             ],
             [
              0.2222222222222222,
              "#7201a8"
             ],
             [
              0.3333333333333333,
              "#9c179e"
             ],
             [
              0.4444444444444444,
              "#bd3786"
             ],
             [
              0.5555555555555556,
              "#d8576b"
             ],
             [
              0.6666666666666666,
              "#ed7953"
             ],
             [
              0.7777777777777778,
              "#fb9f3a"
             ],
             [
              0.8888888888888888,
              "#fdca26"
             ],
             [
              1,
              "#f0f921"
             ]
            ],
            "type": "surface"
           }
          ],
          "table": [
           {
            "cells": {
             "fill": {
              "color": "#EBF0F8"
             },
             "line": {
              "color": "white"
             }
            },
            "header": {
             "fill": {
              "color": "#C8D4E3"
             },
             "line": {
              "color": "white"
             }
            },
            "type": "table"
           }
          ]
         },
         "layout": {
          "annotationdefaults": {
           "arrowcolor": "#2a3f5f",
           "arrowhead": 0,
           "arrowwidth": 1
          },
          "autotypenumbers": "strict",
          "coloraxis": {
           "colorbar": {
            "outlinewidth": 0,
            "ticks": ""
           }
          },
          "colorscale": {
           "diverging": [
            [
             0,
             "#8e0152"
            ],
            [
             0.1,
             "#c51b7d"
            ],
            [
             0.2,
             "#de77ae"
            ],
            [
             0.3,
             "#f1b6da"
            ],
            [
             0.4,
             "#fde0ef"
            ],
            [
             0.5,
             "#f7f7f7"
            ],
            [
             0.6,
             "#e6f5d0"
            ],
            [
             0.7,
             "#b8e186"
            ],
            [
             0.8,
             "#7fbc41"
            ],
            [
             0.9,
             "#4d9221"
            ],
            [
             1,
             "#276419"
            ]
           ],
           "sequential": [
            [
             0,
             "#0d0887"
            ],
            [
             0.1111111111111111,
             "#46039f"
            ],
            [
             0.2222222222222222,
             "#7201a8"
            ],
            [
             0.3333333333333333,
             "#9c179e"
            ],
            [
             0.4444444444444444,
             "#bd3786"
            ],
            [
             0.5555555555555556,
             "#d8576b"
            ],
            [
             0.6666666666666666,
             "#ed7953"
            ],
            [
             0.7777777777777778,
             "#fb9f3a"
            ],
            [
             0.8888888888888888,
             "#fdca26"
            ],
            [
             1,
             "#f0f921"
            ]
           ],
           "sequentialminus": [
            [
             0,
             "#0d0887"
            ],
            [
             0.1111111111111111,
             "#46039f"
            ],
            [
             0.2222222222222222,
             "#7201a8"
            ],
            [
             0.3333333333333333,
             "#9c179e"
            ],
            [
             0.4444444444444444,
             "#bd3786"
            ],
            [
             0.5555555555555556,
             "#d8576b"
            ],
            [
             0.6666666666666666,
             "#ed7953"
            ],
            [
             0.7777777777777778,
             "#fb9f3a"
            ],
            [
             0.8888888888888888,
             "#fdca26"
            ],
            [
             1,
             "#f0f921"
            ]
           ]
          },
          "colorway": [
           "#636efa",
           "#EF553B",
           "#00cc96",
           "#ab63fa",
           "#FFA15A",
           "#19d3f3",
           "#FF6692",
           "#B6E880",
           "#FF97FF",
           "#FECB52"
          ],
          "font": {
           "color": "#2a3f5f"
          },
          "geo": {
           "bgcolor": "white",
           "lakecolor": "white",
           "landcolor": "#E5ECF6",
           "showlakes": true,
           "showland": true,
           "subunitcolor": "white"
          },
          "hoverlabel": {
           "align": "left"
          },
          "hovermode": "closest",
          "mapbox": {
           "style": "light"
          },
          "paper_bgcolor": "white",
          "plot_bgcolor": "#E5ECF6",
          "polar": {
           "angularaxis": {
            "gridcolor": "white",
            "linecolor": "white",
            "ticks": ""
           },
           "bgcolor": "#E5ECF6",
           "radialaxis": {
            "gridcolor": "white",
            "linecolor": "white",
            "ticks": ""
           }
          },
          "scene": {
           "xaxis": {
            "backgroundcolor": "#E5ECF6",
            "gridcolor": "white",
            "gridwidth": 2,
            "linecolor": "white",
            "showbackground": true,
            "ticks": "",
            "zerolinecolor": "white"
           },
           "yaxis": {
            "backgroundcolor": "#E5ECF6",
            "gridcolor": "white",
            "gridwidth": 2,
            "linecolor": "white",
            "showbackground": true,
            "ticks": "",
            "zerolinecolor": "white"
           },
           "zaxis": {
            "backgroundcolor": "#E5ECF6",
            "gridcolor": "white",
            "gridwidth": 2,
            "linecolor": "white",
            "showbackground": true,
            "ticks": "",
            "zerolinecolor": "white"
           }
          },
          "shapedefaults": {
           "line": {
            "color": "#2a3f5f"
           }
          },
          "ternary": {
           "aaxis": {
            "gridcolor": "white",
            "linecolor": "white",
            "ticks": ""
           },
           "baxis": {
            "gridcolor": "white",
            "linecolor": "white",
            "ticks": ""
           },
           "bgcolor": "#E5ECF6",
           "caxis": {
            "gridcolor": "white",
            "linecolor": "white",
            "ticks": ""
           }
          },
          "title": {
           "x": 0.05
          },
          "xaxis": {
           "automargin": true,
           "gridcolor": "white",
           "linecolor": "white",
           "ticks": "",
           "title": {
            "standoff": 15
           },
           "zerolinecolor": "white",
           "zerolinewidth": 2
          },
          "yaxis": {
           "automargin": true,
           "gridcolor": "white",
           "linecolor": "white",
           "ticks": "",
           "title": {
            "standoff": 15
           },
           "zerolinecolor": "white",
           "zerolinewidth": 2
          }
         }
        },
        "title": {
         "text": "Bubble Chart"
        },
        "xaxis": {
         "autorange": true,
         "range": [
          17.88928840078618,
          47.89920563941719
         ],
         "showspikes": false,
         "title": {
          "text": "Average"
         },
         "type": "linear"
        },
        "yaxis": {
         "autorange": true,
         "range": [
          -7.433447700392875,
          240.5795714863226
         ],
         "showspikes": false,
         "title": {
          "text": "SR"
         },
         "type": "linear"
        }
       }
      },
      "image/png": "[encoded data removed]",
      "text/html": [
       "<div>                            <div id=\"6b6fe695-d67e-4559-9680-5d325cf6ff64\" class=\"plotly-graph-div\" style=\"height:525px; width:100%;\"></div>            <script type=\"text/javascript\">                require([\"plotly\"], function(Plotly) {                    window.PLOTLYENV=window.PLOTLYENV || {};                                    if (document.getElementById(\"6b6fe695-d67e-4559-9680-5d325cf6ff64\")) {                    Plotly.newPlot(                        \"6b6fe695-d67e-4559-9680-5d325cf6ff64\",                        [{\"marker\":{\"size\":[158,92,59,60,79,124,43,266,78,160,48,60,40,117,38,58,82,44,78,148,27,71,26,89,52,65,39,156,79,35,28,57,173,125,28,71,42,78,174,45,29,122,45,57,24,160,106,57,149,141]},\"mode\":\"markers\",\"x\":[38.30769230769231,27.223684210526315,27.1864406779661,33.59340659340659,27.146067415730336,28.112244897959183,33.333333333333336,41.02247191011236,34.733333333333334,40.14,22.945454545454545,26.979591836734695,28.25,28.392857142857142,30.11627906976744,31.541984732824428,25.081632653061224,28.55294117647059,39.86,28.70731707317073,25.953846153846154,24.811965811965813,25.17391304347826,26.431578947368422,38.76470588235294,28.5,29.428571428571427,37.87234042553192,20.986486486486488,21.700934579439252,28.233766233766232,24.055555555555557,32.6124031007752,29.515625,30.659574468085108,32.669724770642205,25.452830188679247,39.507936507936506,33.940298507462686,37.23913043478261,33.82608695652174,30.91764705882353,28.355555555555554,25.464285714285715,26.813953488372093,37.483050847457626,27.555555555555557,25.524590163934427,29.816326530612244,25.653465346534652],\"y\":[145.12905911740216,133.05466237942122,126.2992125984252,117.48654880860876,123.0142566191446,126.31820265933058,121.42237640936686,144.19431279620852,137.7092511013216,138.3184011026878,122.28682170542635,120.07266121707538,118.7910643889619,132.27953410981698,124.16107382550337,120.36120011651616,157.56410256410257,105.93627237014405,121.97062423500613,140.62126642771804,118.4691011235955,123.00847457627117,124.65016146393972,120.02868068833652,119.96359223300972,116.93845344555498,114.12742382271468,132.8358208955224,114.52802359882006,112.71844660194175,113.34723670490095,118.79286694101509,128.49725106902872,127.63513513513513,115.74297188755021,118.50249584026622,101.73453996983409,130.10977522216413,134.99554764024933,128.50712678169543,114.18786692759295,134.83837865572087,114.85148514851484,122.40343347639484,110.12416427889207,126.58843732112193,148.82705946535734,127.72764561115667,140.75144508670522,126.39024390243902],\"type\":\"scatter\"}],                        {\"title\":{\"text\":\"Bubble Chart\"},\"xaxis\":{\"title\":{\"text\":\"Average\"}},\"yaxis\":{\"title\":{\"text\":\"SR\"}},\"template\":{\"data\":{\"histogram2dcontour\":[{\"type\":\"histogram2dcontour\",\"colorbar\":{\"outlinewidth\":0,\"ticks\":\"\"},\"colorscale\":[[0.0,\"#0d0887\"],[0.1111111111111111,\"#46039f\"],[0.2222222222222222,\"#7201a8\"],[0.3333333333333333,\"#9c179e\"],[0.4444444444444444,\"#bd3786\"],[0.5555555555555556,\"#d8576b\"],[0.6666666666666666,\"#ed7953\"],[0.7777777777777778,\"#fb9f3a\"],[0.8888888888888888,\"#fdca26\"],[1.0,\"#f0f921\"]]}],\"choropleth\":[{\"type\":\"choropleth\",\"colorbar\":{\"outlinewidth\":0,\"ticks\":\"\"}}],\"histogram2d\":[{\"type\":\"histogram2d\",\"colorbar\":{\"outlinewidth\":0,\"ticks\":\"\"},\"colorscale\":[[0.0,\"#0d0887\"],[0.1111111111111111,\"#46039f\"],[0.2222222222222222,\"#7201a8\"],[0.3333333333333333,\"#9c179e\"],[0.4444444444444444,\"#bd3786\"],[0.5555555555555556,\"#d8576b\"],[0.6666666666666666,\"#ed7953\"],[0.7777777777777778,\"#fb9f3a\"],[0.8888888888888888,\"#fdca26\"],[1.0,\"#f0f921\"]]}],\"heatmap\":[{\"type\":\"heatmap\",\"colorbar\":{\"outlinewidth\":0,\"ticks\":\"\"},\"colorscale\":[[0.0,\"#0d0887\"],[0.1111111111111111,\"#46039f\"],[0.2222222222222222,\"#7201a8\"],[0.3333333333333333,\"#9c179e\"],[0.4444444444444444,\"#bd3786\"],[0.5555555555555556,\"#d8576b\"],[0.6666666666666666,\"#ed7953\"],[0.7777777777777778,\"#fb9f3a\"],[0.8888888888888888,\"#fdca26\"],[1.0,\"#f0f921\"]]}],\"heatmapgl\":[{\"type\":\"heatmapgl\",\"colorbar\":{\"outlinewidth\":0,\"ticks\":\"\"},\"colorscale\":[[0.0,\"#0d0887\"],[0.1111111111111111,\"#46039f\"],[0.2222222222222222,\"#7201a8\"],[0.3333333333333333,\"#9c179e\"],[0.4444444444444444,\"#bd3786\"],[0.5555555555555556,\"#d8576b\"],[0.6666666666666666,\"#ed7953\"],[0.7777777777777778,\"#fb9f3a\"],[0.8888888888888888,\"#fdca26\"],[1.0,\"#f0f921\"]]}],\"contourcarpet\":[{\"type\":\"contourcarpet\",\"colorbar\":{\"outlinewidth\":0,\"ticks\":\"\"}}],\"contour\":[{\"type\":\"contour\",\"colorbar\":{\"outlinewidth\":0,\"ticks\":\"\"},\"colorscale\":[[0.0,\"#0d0887\"],[0.1111111111111111,\"#46039f\"],[0.2222222222222222,\"#7201a8\"],[0.3333333333333333,\"#9c179e\"],[0.4444444444444444,\"#bd3786\"],[0.5555555555555556,\"#d8576b\"],[0.6666666666666666,\"#ed7953\"],[0.7777777777777778,\"#fb9f3a\"],[0.8888888888888888,\"#fdca26\"],[1.0,\"#f0f921\"]]}],\"surface\":[{\"type\":\"surface\",\"colorbar\":{\"outlinewidth\":0,\"ticks\":\"\"},\"colorscale\":[[0.0,\"#0d0887\"],[0.1111111111111111,\"#46039f\"],[0.2222222222222222,\"#7201a8\"],[0.3333333333333333,\"#9c179e\"],[0.4444444444444444,\"#bd3786\"],[0.5555555555555556,\"#d8576b\"],[0.6666666666666666,\"#ed7953\"],[0.7777777777777778,\"#fb9f3a\"],[0.8888888888888888,\"#fdca26\"],[1.0,\"#f0f921\"]]}],\"mesh3d\":[{\"type\":\"mesh3d\",\"colorbar\":{\"outlinewidth\":0,\"ticks\":\"\"}}],\"scatter\":[{\"fillpattern\":{\"fillmode\":\"overlay\",\"size\":10,\"solidity\":0.2},\"type\":\"scatter\"}],\"parcoords\":[{\"type\":\"parcoords\",\"line\":{\"colorbar\":{\"outlinewidth\":0,\"ticks\":\"\"}}}],\"scatterpolargl\":[{\"type\":\"scatterpolargl\",\"marker\":{\"colorbar\":{\"outlinewidth\":0,\"ticks\":\"\"}}}],\"bar\":[{\"error_x\":{\"color\":\"#2a3f5f\"},\"error_y\":{\"color\":\"#2a3f5f\"},\"marker\":{\"line\":{\"color\":\"#E5ECF6\",\"width\":0.5},\"pattern\":{\"fillmode\":\"overlay\",\"size\":10,\"solidity\":0.2}},\"type\":\"bar\"}],\"scattergeo\":[{\"type\":\"scattergeo\",\"marker\":{\"colorbar\":{\"outlinewidth\":0,\"ticks\":\"\"}}}],\"scatterpolar\":[{\"type\":\"scatterpolar\",\"marker\":{\"colorbar\":{\"outlinewidth\":0,\"ticks\":\"\"}}}],\"histogram\":[{\"marker\":{\"pattern\":{\"fillmode\":\"overlay\",\"size\":10,\"solidity\":0.2}},\"type\":\"histogram\"}],\"scattergl\":[{\"type\":\"scattergl\",\"marker\":{\"colorbar\":{\"outlinewidth\":0,\"ticks\":\"\"}}}],\"scatter3d\":[{\"type\":\"scatter3d\",\"line\":{\"colorbar\":{\"outlinewidth\":0,\"ticks\":\"\"}},\"marker\":{\"colorbar\":{\"outlinewidth\":0,\"ticks\":\"\"}}}],\"scattermapbox\":[{\"type\":\"scattermapbox\",\"marker\":{\"colorbar\":{\"outlinewidth\":0,\"ticks\":\"\"}}}],\"scatterternary\":[{\"type\":\"scatterternary\",\"marker\":{\"colorbar\":{\"outlinewidth\":0,\"ticks\":\"\"}}}],\"scattercarpet\":[{\"type\":\"scattercarpet\",\"marker\":{\"colorbar\":{\"outlinewidth\":0,\"ticks\":\"\"}}}],\"carpet\":[{\"aaxis\":{\"endlinecolor\":\"#2a3f5f\",\"gridcolor\":\"white\",\"linecolor\":\"white\",\"minorgridcolor\":\"white\",\"startlinecolor\":\"#2a3f5f\"},\"baxis\":{\"endlinecolor\":\"#2a3f5f\",\"gridcolor\":\"white\",\"linecolor\":\"white\",\"minorgridcolor\":\"white\",\"startlinecolor\":\"#2a3f5f\"},\"type\":\"carpet\"}],\"table\":[{\"cells\":{\"fill\":{\"color\":\"#EBF0F8\"},\"line\":{\"color\":\"white\"}},\"header\":{\"fill\":{\"color\":\"#C8D4E3\"},\"line\":{\"color\":\"white\"}},\"type\":\"table\"}],\"barpolar\":[{\"marker\":{\"line\":{\"color\":\"#E5ECF6\",\"width\":0.5},\"pattern\":{\"fillmode\":\"overlay\",\"size\":10,\"solidity\":0.2}},\"type\":\"barpolar\"}],\"pie\":[{\"automargin\":true,\"type\":\"pie\"}]},\"layout\":{\"autotypenumbers\":\"strict\",\"colorway\":[\"#636efa\",\"#EF553B\",\"#00cc96\",\"#ab63fa\",\"#FFA15A\",\"#19d3f3\",\"#FF6692\",\"#B6E880\",\"#FF97FF\",\"#FECB52\"],\"font\":{\"color\":\"#2a3f5f\"},\"hovermode\":\"closest\",\"hoverlabel\":{\"align\":\"left\"},\"paper_bgcolor\":\"white\",\"plot_bgcolor\":\"#E5ECF6\",\"polar\":{\"bgcolor\":\"#E5ECF6\",\"angularaxis\":{\"gridcolor\":\"white\",\"linecolor\":\"white\",\"ticks\":\"\"},\"radialaxis\":{\"gridcolor\":\"white\",\"linecolor\":\"white\",\"ticks\":\"\"}},\"ternary\":{\"bgcolor\":\"#E5ECF6\",\"aaxis\":{\"gridcolor\":\"white\",\"linecolor\":\"white\",\"ticks\":\"\"},\"baxis\":{\"gridcolor\":\"white\",\"linecolor\":\"white\",\"ticks\":\"\"},\"caxis\":{\"gridcolor\":\"white\",\"linecolor\":\"white\",\"ticks\":\"\"}},\"coloraxis\":{\"colorbar\":{\"outlinewidth\":0,\"ticks\":\"\"}},\"colorscale\":{\"sequential\":[[0.0,\"#0d0887\"],[0.1111111111111111,\"#46039f\"],[0.2222222222222222,\"#7201a8\"],[0.3333333333333333,\"#9c179e\"],[0.4444444444444444,\"#bd3786\"],[0.5555555555555556,\"#d8576b\"],[0.6666666666666666,\"#ed7953\"],[0.7777777777777778,\"#fb9f3a\"],[0.8888888888888888,\"#fdca26\"],[1.0,\"#f0f921\"]],\"sequentialminus\":[[0.0,\"#0d0887\"],[0.1111111111111111,\"#46039f\"],[0.2222222222222222,\"#7201a8\"],[0.3333333333333333,\"#9c179e\"],[0.4444444444444444,\"#bd3786\"],[0.5555555555555556,\"#d8576b\"],[0.6666666666666666,\"#ed7953\"],[0.7777777777777778,\"#fb9f3a\"],[0.8888888888888888,\"#fdca26\"],[1.0,\"#f0f921\"]],\"diverging\":[[0,\"#8e0152\"],[0.1,\"#c51b7d\"],[0.2,\"#de77ae\"],[0.3,\"#f1b6da\"],[0.4,\"#fde0ef\"],[0.5,\"#f7f7f7\"],[0.6,\"#e6f5d0\"],[0.7,\"#b8e186\"],[0.8,\"#7fbc41\"],[0.9,\"#4d9221\"],[1,\"#276419\"]]},\"xaxis\":{\"gridcolor\":\"white\",\"linecolor\":\"white\",\"ticks\":\"\",\"title\":{\"standoff\":15},\"zerolinecolor\":\"white\",\"automargin\":true,\"zerolinewidth\":2},\"yaxis\":{\"gridcolor\":\"white\",\"linecolor\":\"white\",\"ticks\":\"\",\"title\":{\"standoff\":15},\"zerolinecolor\":\"white\",\"automargin\":true,\"zerolinewidth\":2},\"scene\":{\"xaxis\":{\"backgroundcolor\":\"#E5ECF6\",\"gridcolor\":\"white\",\"linecolor\":\"white\",\"showbackground\":true,\"ticks\":\"\",\"zerolinecolor\":\"white\",\"gridwidth\":2},\"yaxis\":{\"backgroundcolor\":\"#E5ECF6\",\"gridcolor\":\"white\",\"linecolor\":\"white\",\"showbackground\":true,\"ticks\":\"\",\"zerolinecolor\":\"white\",\"gridwidth\":2},\"zaxis\":{\"backgroundcolor\":\"#E5ECF6\",\"gridcolor\":\"white\",\"linecolor\":\"white\",\"showbackground\":true,\"ticks\":\"\",\"zerolinecolor\":\"white\",\"gridwidth\":2}},\"shapedefaults\":{\"line\":{\"color\":\"#2a3f5f\"}},\"annotationdefaults\":{\"arrowcolor\":\"#2a3f5f\",\"arrowhead\":0,\"arrowwidth\":1},\"geo\":{\"bgcolor\":\"white\",\"landcolor\":\"#E5ECF6\",\"subunitcolor\":\"white\",\"showland\":true,\"showlakes\":true,\"lakecolor\":\"white\"},\"title\":{\"x\":0.05},\"mapbox\":{\"style\":\"light\"}}}},                        {\"responsive\": true}                    ).then(function(){\n",
       "                            \n",
       "var gd = document.getElementById('6b6fe695-d67e-4559-9680-5d325cf6ff64');\n",
       "var x = new MutationObserver(function (mutations, observer) {{\n",
       "        var display = window.getComputedStyle(gd).display;\n",
       "        if (!display || display === 'none') {{\n",
       "            console.log([gd, 'removed!']);\n",
       "            Plotly.purge(gd);\n",
       "            observer.disconnect();\n",
       "        }}\n",
       "}});\n",
       "\n",
       "// Listen for the removal of the full notebook cells\n",
       "var notebookContainer = gd.closest('#notebook-container');\n",
       "if (notebookContainer) {{\n",
       "    x.observe(notebookContainer, {childList: true});\n",
       "}}\n",
       "\n",
       "// Listen for the clearing of the current output cell\n",
       "var outputEl = gd.closest('.output');\n",
       "if (outputEl) {{\n",
       "    x.observe(outputEl, {childList: true});\n",
       "}}\n",
       "\n",
       "                        })                };                });            </script>        </div>"
      ]
     },
     "metadata": {},
     "output_type": "display_data"
    }
   ],
   "source": [
    "sixes= new_ipl[new_ipl['batsman_runs']==6]\n",
    "s=sixes.groupby('batsman')['batsman_runs'].count().reset_index()\n",
    "\n",
    "x = avg.merge(s, on='batsman')\n",
    "\n",
    "trace=go.Scatter(x=x['avg'], y=x['batsman_runs_x'],mode='markers',  marker={'size': x['batsman_runs_y']})\n",
    "\n",
    "data=[trace]\n",
    "layout=go.Layout(title='Bubble Chart',\n",
    "                xaxis={'title': 'Average'},\n",
    "                yaxis={'title': 'SR'})\n",
    "fig= go.Figure(data=data, layout=layout)\n",
    "fig.show()"
   ]
  },
  {
   "cell_type": "markdown",
   "id": "ec387907-837f-4db2-9d59-6d33b95c979e",
   "metadata": {},
   "source": [
    "### Box Plot"
   ]
  },
  {
   "cell_type": "code",
   "execution_count": 62,
   "id": "a7e11c70-9a6e-4ee4-8e0d-3ff1ad182287",
   "metadata": {
    "tags": []
   },
   "outputs": [
    {
     "data": {
      "text/html": [
       "<div>\n",
       "<style scoped>\n",
       "    .dataframe tbody tr th:only-of-type {\n",
       "        vertical-align: middle;\n",
       "    }\n",
       "\n",
       "    .dataframe tbody tr th {\n",
       "        vertical-align: top;\n",
       "    }\n",
       "\n",
       "    .dataframe thead th {\n",
       "        text-align: right;\n",
       "    }\n",
       "</style>\n",
       "<table border=\"1\" class=\"dataframe\">\n",
       "  <thead>\n",
       "    <tr style=\"text-align: right;\">\n",
       "      <th></th>\n",
       "      <th>match_id</th>\n",
       "      <th>total_runs</th>\n",
       "      <th>season</th>\n",
       "    </tr>\n",
       "  </thead>\n",
       "  <tbody>\n",
       "    <tr>\n",
       "      <th>0</th>\n",
       "      <td>1</td>\n",
       "      <td>379</td>\n",
       "      <td>2017</td>\n",
       "    </tr>\n",
       "    <tr>\n",
       "      <th>1</th>\n",
       "      <td>2</td>\n",
       "      <td>371</td>\n",
       "      <td>2017</td>\n",
       "    </tr>\n",
       "    <tr>\n",
       "      <th>2</th>\n",
       "      <td>3</td>\n",
       "      <td>367</td>\n",
       "      <td>2017</td>\n",
       "    </tr>\n",
       "    <tr>\n",
       "      <th>3</th>\n",
       "      <td>4</td>\n",
       "      <td>327</td>\n",
       "      <td>2017</td>\n",
       "    </tr>\n",
       "    <tr>\n",
       "      <th>4</th>\n",
       "      <td>5</td>\n",
       "      <td>299</td>\n",
       "      <td>2017</td>\n",
       "    </tr>\n",
       "    <tr>\n",
       "      <th>...</th>\n",
       "      <td>...</td>\n",
       "      <td>...</td>\n",
       "      <td>...</td>\n",
       "    </tr>\n",
       "    <tr>\n",
       "      <th>631</th>\n",
       "      <td>632</td>\n",
       "      <td>277</td>\n",
       "      <td>2016</td>\n",
       "    </tr>\n",
       "    <tr>\n",
       "      <th>632</th>\n",
       "      <td>633</td>\n",
       "      <td>317</td>\n",
       "      <td>2016</td>\n",
       "    </tr>\n",
       "    <tr>\n",
       "      <th>633</th>\n",
       "      <td>634</td>\n",
       "      <td>302</td>\n",
       "      <td>2016</td>\n",
       "    </tr>\n",
       "    <tr>\n",
       "      <th>634</th>\n",
       "      <td>635</td>\n",
       "      <td>325</td>\n",
       "      <td>2016</td>\n",
       "    </tr>\n",
       "    <tr>\n",
       "      <th>635</th>\n",
       "      <td>636</td>\n",
       "      <td>408</td>\n",
       "      <td>2016</td>\n",
       "    </tr>\n",
       "  </tbody>\n",
       "</table>\n",
       "<p>636 rows × 3 columns</p>\n",
       "</div>"
      ],
      "text/plain": [
       "     match_id  total_runs  season\n",
       "0           1         379    2017\n",
       "1           2         371    2017\n",
       "2           3         367    2017\n",
       "3           4         327    2017\n",
       "4           5         299    2017\n",
       "..        ...         ...     ...\n",
       "631       632         277    2016\n",
       "632       633         317    2016\n",
       "633       634         302    2016\n",
       "634       635         325    2016\n",
       "635       636         408    2016\n",
       "\n",
       "[636 rows x 3 columns]"
      ]
     },
     "execution_count": 62,
     "metadata": {},
     "output_type": "execute_result"
    }
   ],
   "source": [
    "match_agg = delivery.groupby(['match_id'])['total_runs'].sum().reset_index()\n",
    "season_wise= match_agg.merge(match, left_on='match_id', right_on='id')[['match_id', 'total_runs', 'season']]\n",
    "season_wise"
   ]
  },
  {
   "cell_type": "code",
   "execution_count": 64,
   "id": "cd5290f5-95aa-4eeb-b584-d3312f27e458",
   "metadata": {
    "tags": []
   },
   "outputs": [
    {
     "data": {
      "application/vnd.plotly.v1+json": {
       "config": {
        "plotlyServerURL": "https://plot.ly"
       },
       "data": [
        {
         "marker": {
          "color": "green"
         },
         "name": "All Season",
         "type": "box",
         "x": [
          379,
          371,
          367,
          327,
          299,
          275,
          358,
          298,
          313,
          317,
          341,
          287,
          343,
          327,
          325,
          353,
          295,
          337,
          313,
          405,
          367,
          397,
          375,
          270,
          355,
          350,
          180,
          317,
          366,
          269,
          321,
          388,
          253,
          323,
          135,
          370,
          327,
          328,
          374,
          313,
          422,
          257,
          284,
          278,
          317,
          381,
          278,
          320,
          392,
          453,
          329,
          312,
          337,
          151,
          312,
          304,
          176,
          218,
          257,
          304,
          447,
          261,
          331,
          222,
          334,
          285,
          410,
          431,
          298,
          273,
          299,
          309,
          320,
          343,
          275,
          372,
          331,
          347,
          341,
          336,
          347,
          295,
          219,
          253,
          292,
          207,
          375,
          253,
          281,
          248,
          344,
          385,
          315,
          287,
          243,
          314,
          401,
          376,
          135,
          212,
          329,
          331,
          204,
          312,
          297,
          377,
          238,
          353,
          355,
          412,
          309,
          349,
          291,
          295,
          279,
          228,
          327,
          311,
          191,
          162,
          205,
          266,
          237,
          344,
          369,
          333,
          341,
          324,
          299,
          251,
          334,
          282,
          290,
          282,
          235,
          298,
          290,
          287,
          282,
          283,
          308,
          307,
          299,
          278,
          344,
          311,
          271,
          212,
          359,
          234,
          337,
          281,
          298,
          248,
          279,
          349,
          241,
          334,
          261,
          288,
          243,
          298,
          326,
          267,
          286,
          377,
          269,
          203,
          208,
          331,
          328,
          307,
          295,
          280,
          311,
          420,
          288,
          271,
          349,
          283,
          407,
          273,
          338,
          185,
          375,
          334,
          302,
          306,
          332,
          291,
          311,
          306,
          335,
          361,
          299,
          327,
          349,
          337,
          303,
          314,
          327,
          323,
          309,
          338,
          365,
          469,
          293,
          404,
          331,
          316,
          306,
          310,
          348,
          370,
          312,
          277,
          322,
          223,
          311,
          289,
          327,
          282,
          262,
          225,
          352,
          325,
          265,
          387,
          279,
          268,
          333,
          246,
          168,
          314,
          304,
          278,
          323,
          194,
          225,
          317,
          303,
          283,
          381,
          299,
          317,
          319,
          366,
          345,
          331,
          377,
          166,
          266,
          320,
          242,
          258,
          342,
          320,
          346,
          433,
          307,
          220,
          259,
          321,
          286,
          203,
          279,
          189,
          336,
          276,
          239,
          287,
          311,
          295,
          281,
          318,
          296,
          299,
          295,
          354,
          325,
          175,
          324,
          253,
          239,
          329,
          273,
          250,
          297,
          334,
          359,
          194,
          260,
          311,
          195,
          274,
          353,
          293,
          237,
          267,
          314,
          56,
          257,
          353,
          352,
          295,
          327,
          352,
          227,
          197,
          230,
          351,
          294,
          312,
          306,
          310,
          280,
          288,
          221,
          367,
          413,
          231,
          268,
          319,
          311,
          266,
          331,
          185,
          393,
          368,
          251,
          380,
          315,
          329,
          293,
          364,
          327,
          253,
          332,
          294,
          339,
          336,
          377,
          305,
          333,
          303,
          201,
          279,
          359,
          285,
          321,
          239,
          310,
          293,
          311,
          347,
          366,
          307,
          251,
          315,
          283,
          253,
          311,
          337,
          229,
          295,
          384,
          344,
          318,
          276,
          248,
          243,
          409,
          254,
          286,
          238,
          255,
          325,
          306,
          336,
          358,
          382,
          257,
          310,
          230,
          325,
          287,
          199,
          295,
          269,
          374,
          277,
          312,
          293,
          229,
          325,
          331,
          312,
          250,
          294,
          310,
          330,
          227,
          271,
          252,
          250,
          243,
          240,
          326,
          371,
          371,
          396,
          335,
          321,
          319,
          299,
          290,
          330,
          386,
          313,
          344,
          344,
          291,
          259,
          273,
          357,
          357,
          265,
          161,
          350,
          218,
          360,
          323,
          309,
          275,
          369,
          292,
          258,
          362,
          228,
          270,
          231,
          285,
          241,
          362,
          333,
          303,
          318,
          384,
          249,
          316,
          306,
          188,
          262,
          336,
          267,
          334,
          273,
          285,
          291,
          411,
          268,
          231,
          333,
          384,
          261,
          314,
          273,
          298,
          364,
          283,
          141,
          241,
          251,
          291,
          251,
          326,
          329,
          262,
          338,
          308,
          313,
          330,
          359,
          355,
          321,
          418,
          236,
          364,
          187,
          317,
          299,
          381,
          317,
          297,
          356,
          416,
          283,
          340,
          280,
          288,
          331,
          329,
          321,
          310,
          315,
          360,
          374,
          331,
          342,
          314,
          321,
          234,
          384,
          298,
          349,
          428,
          399,
          338,
          299,
          298,
          373,
          356,
          370,
          336,
          338,
          329,
          334,
          334,
          258,
          372,
          330,
          314,
          313,
          400,
          293,
          403,
          277,
          335,
          343,
          264,
          294,
          287,
          194,
          280,
          329,
          200,
          266,
          237,
          366,
          226,
          362,
          321,
          364,
          272,
          299,
          305,
          314,
          395,
          317,
          367,
          320,
          431,
          302,
          365,
          239,
          190,
          337,
          218,
          264,
          389,
          189,
          227,
          349,
          289,
          279,
          363,
          247,
          197,
          323,
          409,
          375,
          327,
          224,
          288,
          290,
          305,
          383,
          287,
          279,
          341,
          272,
          357,
          318,
          289,
          362,
          322,
          353,
          212,
          343,
          352,
          391,
          345,
          373,
          285,
          320,
          374,
          299,
          321,
          328,
          255,
          386,
          353,
          269,
          322,
          349,
          270,
          304,
          296,
          251,
          352,
          169,
          359,
          332,
          369,
          197,
          331,
          249,
          319,
          345,
          345,
          320,
          277,
          317,
          302,
          325,
          408
         ]
        }
       ],
       "layout": {
        "autosize": true,
        "template": {
         "data": {
          "bar": [
           {
            "error_x": {
             "color": "#2a3f5f"
            },
            "error_y": {
             "color": "#2a3f5f"
            },
            "marker": {
             "line": {
              "color": "#E5ECF6",
              "width": 0.5
             },
             "pattern": {
              "fillmode": "overlay",
              "size": 10,
              "solidity": 0.2
             }
            },
            "type": "bar"
           }
          ],
          "barpolar": [
           {
            "marker": {
             "line": {
              "color": "#E5ECF6",
              "width": 0.5
             },
             "pattern": {
              "fillmode": "overlay",
              "size": 10,
              "solidity": 0.2
             }
            },
            "type": "barpolar"
           }
          ],
          "carpet": [
           {
            "aaxis": {
             "endlinecolor": "#2a3f5f",
             "gridcolor": "white",
             "linecolor": "white",
             "minorgridcolor": "white",
             "startlinecolor": "#2a3f5f"
            },
            "baxis": {
             "endlinecolor": "#2a3f5f",
             "gridcolor": "white",
             "linecolor": "white",
             "minorgridcolor": "white",
             "startlinecolor": "#2a3f5f"
            },
            "type": "carpet"
           }
          ],
          "choropleth": [
           {
            "colorbar": {
             "outlinewidth": 0,
             "ticks": ""
            },
            "type": "choropleth"
           }
          ],
          "contour": [
           {
            "colorbar": {
             "outlinewidth": 0,
             "ticks": ""
            },
            "colorscale": [
             [
              0,
              "#0d0887"
             ],
             [
              0.1111111111111111,
              "#46039f"
             ],
             [
              0.2222222222222222,
              "#7201a8"
             ],
             [
              0.3333333333333333,
              "#9c179e"
             ],
             [
              0.4444444444444444,
              "#bd3786"
             ],
             [
              0.5555555555555556,
              "#d8576b"
             ],
             [
              0.6666666666666666,
              "#ed7953"
             ],
             [
              0.7777777777777778,
              "#fb9f3a"
             ],
             [
              0.8888888888888888,
              "#fdca26"
             ],
             [
              1,
              "#f0f921"
             ]
            ],
            "type": "contour"
           }
          ],
          "contourcarpet": [
           {
            "colorbar": {
             "outlinewidth": 0,
             "ticks": ""
            },
            "type": "contourcarpet"
           }
          ],
          "heatmap": [
           {
            "colorbar": {
             "outlinewidth": 0,
             "ticks": ""
            },
            "colorscale": [
             [
              0,
              "#0d0887"
             ],
             [
              0.1111111111111111,
              "#46039f"
             ],
             [
              0.2222222222222222,
              "#7201a8"
             ],
             [
              0.3333333333333333,
              "#9c179e"
             ],
             [
              0.4444444444444444,
              "#bd3786"
             ],
             [
              0.5555555555555556,
              "#d8576b"
             ],
             [
              0.6666666666666666,
              "#ed7953"
             ],
             [
              0.7777777777777778,
              "#fb9f3a"
             ],
             [
              0.8888888888888888,
              "#fdca26"
             ],
             [
              1,
              "#f0f921"
             ]
            ],
            "type": "heatmap"
           }
          ],
          "heatmapgl": [
           {
            "colorbar": {
             "outlinewidth": 0,
             "ticks": ""
            },
            "colorscale": [
             [
              0,
              "#0d0887"
             ],
             [
              0.1111111111111111,
              "#46039f"
             ],
             [
              0.2222222222222222,
              "#7201a8"
             ],
             [
              0.3333333333333333,
              "#9c179e"
             ],
             [
              0.4444444444444444,
              "#bd3786"
             ],
             [
              0.5555555555555556,
              "#d8576b"
             ],
             [
              0.6666666666666666,
              "#ed7953"
             ],
             [
              0.7777777777777778,
              "#fb9f3a"
             ],
             [
              0.8888888888888888,
              "#fdca26"
             ],
             [
              1,
              "#f0f921"
             ]
            ],
            "type": "heatmapgl"
           }
          ],
          "histogram": [
           {
            "marker": {
             "pattern": {
              "fillmode": "overlay",
              "size": 10,
              "solidity": 0.2
             }
            },
            "type": "histogram"
           }
          ],
          "histogram2d": [
           {
            "colorbar": {
             "outlinewidth": 0,
             "ticks": ""
            },
            "colorscale": [
             [
              0,
              "#0d0887"
             ],
             [
              0.1111111111111111,
              "#46039f"
             ],
             [
              0.2222222222222222,
              "#7201a8"
             ],
             [
              0.3333333333333333,
              "#9c179e"
             ],
             [
              0.4444444444444444,
              "#bd3786"
             ],
             [
              0.5555555555555556,
              "#d8576b"
             ],
             [
              0.6666666666666666,
              "#ed7953"
             ],
             [
              0.7777777777777778,
              "#fb9f3a"
             ],
             [
              0.8888888888888888,
              "#fdca26"
             ],
             [
              1,
              "#f0f921"
             ]
            ],
            "type": "histogram2d"
           }
          ],
          "histogram2dcontour": [
           {
            "colorbar": {
             "outlinewidth": 0,
             "ticks": ""
            },
            "colorscale": [
             [
              0,
              "#0d0887"
             ],
             [
              0.1111111111111111,
              "#46039f"
             ],
             [
              0.2222222222222222,
              "#7201a8"
             ],
             [
              0.3333333333333333,
              "#9c179e"
             ],
             [
              0.4444444444444444,
              "#bd3786"
             ],
             [
              0.5555555555555556,
              "#d8576b"
             ],
             [
              0.6666666666666666,
              "#ed7953"
             ],
             [
              0.7777777777777778,
              "#fb9f3a"
             ],
             [
              0.8888888888888888,
              "#fdca26"
             ],
             [
              1,
              "#f0f921"
             ]
            ],
            "type": "histogram2dcontour"
           }
          ],
          "mesh3d": [
           {
            "colorbar": {
             "outlinewidth": 0,
             "ticks": ""
            },
            "type": "mesh3d"
           }
          ],
          "parcoords": [
           {
            "line": {
             "colorbar": {
              "outlinewidth": 0,
              "ticks": ""
             }
            },
            "type": "parcoords"
           }
          ],
          "pie": [
           {
            "automargin": true,
            "type": "pie"
           }
          ],
          "scatter": [
           {
            "fillpattern": {
             "fillmode": "overlay",
             "size": 10,
             "solidity": 0.2
            },
            "type": "scatter"
           }
          ],
          "scatter3d": [
           {
            "line": {
             "colorbar": {
              "outlinewidth": 0,
              "ticks": ""
             }
            },
            "marker": {
             "colorbar": {
              "outlinewidth": 0,
              "ticks": ""
             }
            },
            "type": "scatter3d"
           }
          ],
          "scattercarpet": [
           {
            "marker": {
             "colorbar": {
              "outlinewidth": 0,
              "ticks": ""
             }
            },
            "type": "scattercarpet"
           }
          ],
          "scattergeo": [
           {
            "marker": {
             "colorbar": {
              "outlinewidth": 0,
              "ticks": ""
             }
            },
            "type": "scattergeo"
           }
          ],
          "scattergl": [
           {
            "marker": {
             "colorbar": {
              "outlinewidth": 0,
              "ticks": ""
             }
            },
            "type": "scattergl"
           }
          ],
          "scattermapbox": [
           {
            "marker": {
             "colorbar": {
              "outlinewidth": 0,
              "ticks": ""
             }
            },
            "type": "scattermapbox"
           }
          ],
          "scatterpolar": [
           {
            "marker": {
             "colorbar": {
              "outlinewidth": 0,
              "ticks": ""
             }
            },
            "type": "scatterpolar"
           }
          ],
          "scatterpolargl": [
           {
            "marker": {
             "colorbar": {
              "outlinewidth": 0,
              "ticks": ""
             }
            },
            "type": "scatterpolargl"
           }
          ],
          "scatterternary": [
           {
            "marker": {
             "colorbar": {
              "outlinewidth": 0,
              "ticks": ""
             }
            },
            "type": "scatterternary"
           }
          ],
          "surface": [
           {
            "colorbar": {
             "outlinewidth": 0,
             "ticks": ""
            },
            "colorscale": [
             [
              0,
              "#0d0887"
             ],
             [
              0.1111111111111111,
              "#46039f"
             ],
             [
              0.2222222222222222,
              "#7201a8"
             ],
             [
              0.3333333333333333,
              "#9c179e"
             ],
             [
              0.4444444444444444,
              "#bd3786"
             ],
             [
              0.5555555555555556,
              "#d8576b"
             ],
             [
              0.6666666666666666,
              "#ed7953"
             ],
             [
              0.7777777777777778,
              "#fb9f3a"
             ],
             [
              0.8888888888888888,
              "#fdca26"
             ],
             [
              1,
              "#f0f921"
             ]
            ],
            "type": "surface"
           }
          ],
          "table": [
           {
            "cells": {
             "fill": {
              "color": "#EBF0F8"
             },
             "line": {
              "color": "white"
             }
            },
            "header": {
             "fill": {
              "color": "#C8D4E3"
             },
             "line": {
              "color": "white"
             }
            },
            "type": "table"
           }
          ]
         },
         "layout": {
          "annotationdefaults": {
           "arrowcolor": "#2a3f5f",
           "arrowhead": 0,
           "arrowwidth": 1
          },
          "autotypenumbers": "strict",
          "coloraxis": {
           "colorbar": {
            "outlinewidth": 0,
            "ticks": ""
           }
          },
          "colorscale": {
           "diverging": [
            [
             0,
             "#8e0152"
            ],
            [
             0.1,
             "#c51b7d"
            ],
            [
             0.2,
             "#de77ae"
            ],
            [
             0.3,
             "#f1b6da"
            ],
            [
             0.4,
             "#fde0ef"
            ],
            [
             0.5,
             "#f7f7f7"
            ],
            [
             0.6,
             "#e6f5d0"
            ],
            [
             0.7,
             "#b8e186"
            ],
            [
             0.8,
             "#7fbc41"
            ],
            [
             0.9,
             "#4d9221"
            ],
            [
             1,
             "#276419"
            ]
           ],
           "sequential": [
            [
             0,
             "#0d0887"
            ],
            [
             0.1111111111111111,
             "#46039f"
            ],
            [
             0.2222222222222222,
             "#7201a8"
            ],
            [
             0.3333333333333333,
             "#9c179e"
            ],
            [
             0.4444444444444444,
             "#bd3786"
            ],
            [
             0.5555555555555556,
             "#d8576b"
            ],
            [
             0.6666666666666666,
             "#ed7953"
            ],
            [
             0.7777777777777778,
             "#fb9f3a"
            ],
            [
             0.8888888888888888,
             "#fdca26"
            ],
            [
             1,
             "#f0f921"
            ]
           ],
           "sequentialminus": [
            [
             0,
             "#0d0887"
            ],
            [
             0.1111111111111111,
             "#46039f"
            ],
            [
             0.2222222222222222,
             "#7201a8"
            ],
            [
             0.3333333333333333,
             "#9c179e"
            ],
            [
             0.4444444444444444,
             "#bd3786"
            ],
            [
             0.5555555555555556,
             "#d8576b"
            ],
            [
             0.6666666666666666,
             "#ed7953"
            ],
            [
             0.7777777777777778,
             "#fb9f3a"
            ],
            [
             0.8888888888888888,
             "#fdca26"
            ],
            [
             1,
             "#f0f921"
            ]
           ]
          },
          "colorway": [
           "#636efa",
           "#EF553B",
           "#00cc96",
           "#ab63fa",
           "#FFA15A",
           "#19d3f3",
           "#FF6692",
           "#B6E880",
           "#FF97FF",
           "#FECB52"
          ],
          "font": {
           "color": "#2a3f5f"
          },
          "geo": {
           "bgcolor": "white",
           "lakecolor": "white",
           "landcolor": "#E5ECF6",
           "showlakes": true,
           "showland": true,
           "subunitcolor": "white"
          },
          "hoverlabel": {
           "align": "left"
          },
          "hovermode": "closest",
          "mapbox": {
           "style": "light"
          },
          "paper_bgcolor": "white",
          "plot_bgcolor": "#E5ECF6",
          "polar": {
           "angularaxis": {
            "gridcolor": "white",
            "linecolor": "white",
            "ticks": ""
           },
           "bgcolor": "#E5ECF6",
           "radialaxis": {
            "gridcolor": "white",
            "linecolor": "white",
            "ticks": ""
           }
          },
          "scene": {
           "xaxis": {
            "backgroundcolor": "#E5ECF6",
            "gridcolor": "white",
            "gridwidth": 2,
            "linecolor": "white",
            "showbackground": true,
            "ticks": "",
            "zerolinecolor": "white"
           },
           "yaxis": {
            "backgroundcolor": "#E5ECF6",
            "gridcolor": "white",
            "gridwidth": 2,
            "linecolor": "white",
            "showbackground": true,
            "ticks": "",
            "zerolinecolor": "white"
           },
           "zaxis": {
            "backgroundcolor": "#E5ECF6",
            "gridcolor": "white",
            "gridwidth": 2,
            "linecolor": "white",
            "showbackground": true,
            "ticks": "",
            "zerolinecolor": "white"
           }
          },
          "shapedefaults": {
           "line": {
            "color": "#2a3f5f"
           }
          },
          "ternary": {
           "aaxis": {
            "gridcolor": "white",
            "linecolor": "white",
            "ticks": ""
           },
           "baxis": {
            "gridcolor": "white",
            "linecolor": "white",
            "ticks": ""
           },
           "bgcolor": "#E5ECF6",
           "caxis": {
            "gridcolor": "white",
            "linecolor": "white",
            "ticks": ""
           }
          },
          "title": {
           "x": 0.05
          },
          "xaxis": {
           "automargin": true,
           "gridcolor": "white",
           "linecolor": "white",
           "ticks": "",
           "title": {
            "standoff": 15
           },
           "zerolinecolor": "white",
           "zerolinewidth": 2
          },
          "yaxis": {
           "automargin": true,
           "gridcolor": "white",
           "linecolor": "white",
           "ticks": "",
           "title": {
            "standoff": 15
           },
           "zerolinecolor": "white",
           "zerolinewidth": 2
          }
         }
        },
        "title": {
         "text": "Total Score Analysis"
        },
        "xaxis": {
         "autorange": true,
         "range": [
          33.05555555555556,
          491.94444444444446
         ],
         "title": {
          "text": "Total Score"
         },
         "type": "linear"
        },
        "yaxis": {
         "autorange": true,
         "range": [
          -0.5,
          0.5
         ],
         "type": "category"
        }
       }
      },
      "image/png": "[encoded data removed]",
      "text/html": [
       "<div>                            <div id=\"86fb7684-0213-4c20-b3b9-2178b70ffe77\" class=\"plotly-graph-div\" style=\"height:525px; width:100%;\"></div>            <script type=\"text/javascript\">                require([\"plotly\"], function(Plotly) {                    window.PLOTLYENV=window.PLOTLYENV || {};                                    if (document.getElementById(\"86fb7684-0213-4c20-b3b9-2178b70ffe77\")) {                    Plotly.newPlot(                        \"86fb7684-0213-4c20-b3b9-2178b70ffe77\",                        [{\"marker\":{\"color\":\"green\"},\"name\":\"All Season\",\"x\":[379,371,367,327,299,275,358,298,313,317,341,287,343,327,325,353,295,337,313,405,367,397,375,270,355,350,180,317,366,269,321,388,253,323,135,370,327,328,374,313,422,257,284,278,317,381,278,320,392,453,329,312,337,151,312,304,176,218,257,304,447,261,331,222,334,285,410,431,298,273,299,309,320,343,275,372,331,347,341,336,347,295,219,253,292,207,375,253,281,248,344,385,315,287,243,314,401,376,135,212,329,331,204,312,297,377,238,353,355,412,309,349,291,295,279,228,327,311,191,162,205,266,237,344,369,333,341,324,299,251,334,282,290,282,235,298,290,287,282,283,308,307,299,278,344,311,271,212,359,234,337,281,298,248,279,349,241,334,261,288,243,298,326,267,286,377,269,203,208,331,328,307,295,280,311,420,288,271,349,283,407,273,338,185,375,334,302,306,332,291,311,306,335,361,299,327,349,337,303,314,327,323,309,338,365,469,293,404,331,316,306,310,348,370,312,277,322,223,311,289,327,282,262,225,352,325,265,387,279,268,333,246,168,314,304,278,323,194,225,317,303,283,381,299,317,319,366,345,331,377,166,266,320,242,258,342,320,346,433,307,220,259,321,286,203,279,189,336,276,239,287,311,295,281,318,296,299,295,354,325,175,324,253,239,329,273,250,297,334,359,194,260,311,195,274,353,293,237,267,314,56,257,353,352,295,327,352,227,197,230,351,294,312,306,310,280,288,221,367,413,231,268,319,311,266,331,185,393,368,251,380,315,329,293,364,327,253,332,294,339,336,377,305,333,303,201,279,359,285,321,239,310,293,311,347,366,307,251,315,283,253,311,337,229,295,384,344,318,276,248,243,409,254,286,238,255,325,306,336,358,382,257,310,230,325,287,199,295,269,374,277,312,293,229,325,331,312,250,294,310,330,227,271,252,250,243,240,326,371,371,396,335,321,319,299,290,330,386,313,344,344,291,259,273,357,357,265,161,350,218,360,323,309,275,369,292,258,362,228,270,231,285,241,362,333,303,318,384,249,316,306,188,262,336,267,334,273,285,291,411,268,231,333,384,261,314,273,298,364,283,141,241,251,291,251,326,329,262,338,308,313,330,359,355,321,418,236,364,187,317,299,381,317,297,356,416,283,340,280,288,331,329,321,310,315,360,374,331,342,314,321,234,384,298,349,428,399,338,299,298,373,356,370,336,338,329,334,334,258,372,330,314,313,400,293,403,277,335,343,264,294,287,194,280,329,200,266,237,366,226,362,321,364,272,299,305,314,395,317,367,320,431,302,365,239,190,337,218,264,389,189,227,349,289,279,363,247,197,323,409,375,327,224,288,290,305,383,287,279,341,272,357,318,289,362,322,353,212,343,352,391,345,373,285,320,374,299,321,328,255,386,353,269,322,349,270,304,296,251,352,169,359,332,369,197,331,249,319,345,345,320,277,317,302,325,408],\"type\":\"box\"}],                        {\"title\":{\"text\":\"Total Score Analysis\"},\"xaxis\":{\"title\":{\"text\":\"Total Score\"}},\"template\":{\"data\":{\"histogram2dcontour\":[{\"type\":\"histogram2dcontour\",\"colorbar\":{\"outlinewidth\":0,\"ticks\":\"\"},\"colorscale\":[[0.0,\"#0d0887\"],[0.1111111111111111,\"#46039f\"],[0.2222222222222222,\"#7201a8\"],[0.3333333333333333,\"#9c179e\"],[0.4444444444444444,\"#bd3786\"],[0.5555555555555556,\"#d8576b\"],[0.6666666666666666,\"#ed7953\"],[0.7777777777777778,\"#fb9f3a\"],[0.8888888888888888,\"#fdca26\"],[1.0,\"#f0f921\"]]}],\"choropleth\":[{\"type\":\"choropleth\",\"colorbar\":{\"outlinewidth\":0,\"ticks\":\"\"}}],\"histogram2d\":[{\"type\":\"histogram2d\",\"colorbar\":{\"outlinewidth\":0,\"ticks\":\"\"},\"colorscale\":[[0.0,\"#0d0887\"],[0.1111111111111111,\"#46039f\"],[0.2222222222222222,\"#7201a8\"],[0.3333333333333333,\"#9c179e\"],[0.4444444444444444,\"#bd3786\"],[0.5555555555555556,\"#d8576b\"],[0.6666666666666666,\"#ed7953\"],[0.7777777777777778,\"#fb9f3a\"],[0.8888888888888888,\"#fdca26\"],[1.0,\"#f0f921\"]]}],\"heatmap\":[{\"type\":\"heatmap\",\"colorbar\":{\"outlinewidth\":0,\"ticks\":\"\"},\"colorscale\":[[0.0,\"#0d0887\"],[0.1111111111111111,\"#46039f\"],[0.2222222222222222,\"#7201a8\"],[0.3333333333333333,\"#9c179e\"],[0.4444444444444444,\"#bd3786\"],[0.5555555555555556,\"#d8576b\"],[0.6666666666666666,\"#ed7953\"],[0.7777777777777778,\"#fb9f3a\"],[0.8888888888888888,\"#fdca26\"],[1.0,\"#f0f921\"]]}],\"heatmapgl\":[{\"type\":\"heatmapgl\",\"colorbar\":{\"outlinewidth\":0,\"ticks\":\"\"},\"colorscale\":[[0.0,\"#0d0887\"],[0.1111111111111111,\"#46039f\"],[0.2222222222222222,\"#7201a8\"],[0.3333333333333333,\"#9c179e\"],[0.4444444444444444,\"#bd3786\"],[0.5555555555555556,\"#d8576b\"],[0.6666666666666666,\"#ed7953\"],[0.7777777777777778,\"#fb9f3a\"],[0.8888888888888888,\"#fdca26\"],[1.0,\"#f0f921\"]]}],\"contourcarpet\":[{\"type\":\"contourcarpet\",\"colorbar\":{\"outlinewidth\":0,\"ticks\":\"\"}}],\"contour\":[{\"type\":\"contour\",\"colorbar\":{\"outlinewidth\":0,\"ticks\":\"\"},\"colorscale\":[[0.0,\"#0d0887\"],[0.1111111111111111,\"#46039f\"],[0.2222222222222222,\"#7201a8\"],[0.3333333333333333,\"#9c179e\"],[0.4444444444444444,\"#bd3786\"],[0.5555555555555556,\"#d8576b\"],[0.6666666666666666,\"#ed7953\"],[0.7777777777777778,\"#fb9f3a\"],[0.8888888888888888,\"#fdca26\"],[1.0,\"#f0f921\"]]}],\"surface\":[{\"type\":\"surface\",\"colorbar\":{\"outlinewidth\":0,\"ticks\":\"\"},\"colorscale\":[[0.0,\"#0d0887\"],[0.1111111111111111,\"#46039f\"],[0.2222222222222222,\"#7201a8\"],[0.3333333333333333,\"#9c179e\"],[0.4444444444444444,\"#bd3786\"],[0.5555555555555556,\"#d8576b\"],[0.6666666666666666,\"#ed7953\"],[0.7777777777777778,\"#fb9f3a\"],[0.8888888888888888,\"#fdca26\"],[1.0,\"#f0f921\"]]}],\"mesh3d\":[{\"type\":\"mesh3d\",\"colorbar\":{\"outlinewidth\":0,\"ticks\":\"\"}}],\"scatter\":[{\"fillpattern\":{\"fillmode\":\"overlay\",\"size\":10,\"solidity\":0.2},\"type\":\"scatter\"}],\"parcoords\":[{\"type\":\"parcoords\",\"line\":{\"colorbar\":{\"outlinewidth\":0,\"ticks\":\"\"}}}],\"scatterpolargl\":[{\"type\":\"scatterpolargl\",\"marker\":{\"colorbar\":{\"outlinewidth\":0,\"ticks\":\"\"}}}],\"bar\":[{\"error_x\":{\"color\":\"#2a3f5f\"},\"error_y\":{\"color\":\"#2a3f5f\"},\"marker\":{\"line\":{\"color\":\"#E5ECF6\",\"width\":0.5},\"pattern\":{\"fillmode\":\"overlay\",\"size\":10,\"solidity\":0.2}},\"type\":\"bar\"}],\"scattergeo\":[{\"type\":\"scattergeo\",\"marker\":{\"colorbar\":{\"outlinewidth\":0,\"ticks\":\"\"}}}],\"scatterpolar\":[{\"type\":\"scatterpolar\",\"marker\":{\"colorbar\":{\"outlinewidth\":0,\"ticks\":\"\"}}}],\"histogram\":[{\"marker\":{\"pattern\":{\"fillmode\":\"overlay\",\"size\":10,\"solidity\":0.2}},\"type\":\"histogram\"}],\"scattergl\":[{\"type\":\"scattergl\",\"marker\":{\"colorbar\":{\"outlinewidth\":0,\"ticks\":\"\"}}}],\"scatter3d\":[{\"type\":\"scatter3d\",\"line\":{\"colorbar\":{\"outlinewidth\":0,\"ticks\":\"\"}},\"marker\":{\"colorbar\":{\"outlinewidth\":0,\"ticks\":\"\"}}}],\"scattermapbox\":[{\"type\":\"scattermapbox\",\"marker\":{\"colorbar\":{\"outlinewidth\":0,\"ticks\":\"\"}}}],\"scatterternary\":[{\"type\":\"scatterternary\",\"marker\":{\"colorbar\":{\"outlinewidth\":0,\"ticks\":\"\"}}}],\"scattercarpet\":[{\"type\":\"scattercarpet\",\"marker\":{\"colorbar\":{\"outlinewidth\":0,\"ticks\":\"\"}}}],\"carpet\":[{\"aaxis\":{\"endlinecolor\":\"#2a3f5f\",\"gridcolor\":\"white\",\"linecolor\":\"white\",\"minorgridcolor\":\"white\",\"startlinecolor\":\"#2a3f5f\"},\"baxis\":{\"endlinecolor\":\"#2a3f5f\",\"gridcolor\":\"white\",\"linecolor\":\"white\",\"minorgridcolor\":\"white\",\"startlinecolor\":\"#2a3f5f\"},\"type\":\"carpet\"}],\"table\":[{\"cells\":{\"fill\":{\"color\":\"#EBF0F8\"},\"line\":{\"color\":\"white\"}},\"header\":{\"fill\":{\"color\":\"#C8D4E3\"},\"line\":{\"color\":\"white\"}},\"type\":\"table\"}],\"barpolar\":[{\"marker\":{\"line\":{\"color\":\"#E5ECF6\",\"width\":0.5},\"pattern\":{\"fillmode\":\"overlay\",\"size\":10,\"solidity\":0.2}},\"type\":\"barpolar\"}],\"pie\":[{\"automargin\":true,\"type\":\"pie\"}]},\"layout\":{\"autotypenumbers\":\"strict\",\"colorway\":[\"#636efa\",\"#EF553B\",\"#00cc96\",\"#ab63fa\",\"#FFA15A\",\"#19d3f3\",\"#FF6692\",\"#B6E880\",\"#FF97FF\",\"#FECB52\"],\"font\":{\"color\":\"#2a3f5f\"},\"hovermode\":\"closest\",\"hoverlabel\":{\"align\":\"left\"},\"paper_bgcolor\":\"white\",\"plot_bgcolor\":\"#E5ECF6\",\"polar\":{\"bgcolor\":\"#E5ECF6\",\"angularaxis\":{\"gridcolor\":\"white\",\"linecolor\":\"white\",\"ticks\":\"\"},\"radialaxis\":{\"gridcolor\":\"white\",\"linecolor\":\"white\",\"ticks\":\"\"}},\"ternary\":{\"bgcolor\":\"#E5ECF6\",\"aaxis\":{\"gridcolor\":\"white\",\"linecolor\":\"white\",\"ticks\":\"\"},\"baxis\":{\"gridcolor\":\"white\",\"linecolor\":\"white\",\"ticks\":\"\"},\"caxis\":{\"gridcolor\":\"white\",\"linecolor\":\"white\",\"ticks\":\"\"}},\"coloraxis\":{\"colorbar\":{\"outlinewidth\":0,\"ticks\":\"\"}},\"colorscale\":{\"sequential\":[[0.0,\"#0d0887\"],[0.1111111111111111,\"#46039f\"],[0.2222222222222222,\"#7201a8\"],[0.3333333333333333,\"#9c179e\"],[0.4444444444444444,\"#bd3786\"],[0.5555555555555556,\"#d8576b\"],[0.6666666666666666,\"#ed7953\"],[0.7777777777777778,\"#fb9f3a\"],[0.8888888888888888,\"#fdca26\"],[1.0,\"#f0f921\"]],\"sequentialminus\":[[0.0,\"#0d0887\"],[0.1111111111111111,\"#46039f\"],[0.2222222222222222,\"#7201a8\"],[0.3333333333333333,\"#9c179e\"],[0.4444444444444444,\"#bd3786\"],[0.5555555555555556,\"#d8576b\"],[0.6666666666666666,\"#ed7953\"],[0.7777777777777778,\"#fb9f3a\"],[0.8888888888888888,\"#fdca26\"],[1.0,\"#f0f921\"]],\"diverging\":[[0,\"#8e0152\"],[0.1,\"#c51b7d\"],[0.2,\"#de77ae\"],[0.3,\"#f1b6da\"],[0.4,\"#fde0ef\"],[0.5,\"#f7f7f7\"],[0.6,\"#e6f5d0\"],[0.7,\"#b8e186\"],[0.8,\"#7fbc41\"],[0.9,\"#4d9221\"],[1,\"#276419\"]]},\"xaxis\":{\"gridcolor\":\"white\",\"linecolor\":\"white\",\"ticks\":\"\",\"title\":{\"standoff\":15},\"zerolinecolor\":\"white\",\"automargin\":true,\"zerolinewidth\":2},\"yaxis\":{\"gridcolor\":\"white\",\"linecolor\":\"white\",\"ticks\":\"\",\"title\":{\"standoff\":15},\"zerolinecolor\":\"white\",\"automargin\":true,\"zerolinewidth\":2},\"scene\":{\"xaxis\":{\"backgroundcolor\":\"#E5ECF6\",\"gridcolor\":\"white\",\"linecolor\":\"white\",\"showbackground\":true,\"ticks\":\"\",\"zerolinecolor\":\"white\",\"gridwidth\":2},\"yaxis\":{\"backgroundcolor\":\"#E5ECF6\",\"gridcolor\":\"white\",\"linecolor\":\"white\",\"showbackground\":true,\"ticks\":\"\",\"zerolinecolor\":\"white\",\"gridwidth\":2},\"zaxis\":{\"backgroundcolor\":\"#E5ECF6\",\"gridcolor\":\"white\",\"linecolor\":\"white\",\"showbackground\":true,\"ticks\":\"\",\"zerolinecolor\":\"white\",\"gridwidth\":2}},\"shapedefaults\":{\"line\":{\"color\":\"#2a3f5f\"}},\"annotationdefaults\":{\"arrowcolor\":\"#2a3f5f\",\"arrowhead\":0,\"arrowwidth\":1},\"geo\":{\"bgcolor\":\"white\",\"landcolor\":\"#E5ECF6\",\"subunitcolor\":\"white\",\"showland\":true,\"showlakes\":true,\"lakecolor\":\"white\"},\"title\":{\"x\":0.05},\"mapbox\":{\"style\":\"light\"}}}},                        {\"responsive\": true}                    ).then(function(){\n",
       "                            \n",
       "var gd = document.getElementById('86fb7684-0213-4c20-b3b9-2178b70ffe77');\n",
       "var x = new MutationObserver(function (mutations, observer) {{\n",
       "        var display = window.getComputedStyle(gd).display;\n",
       "        if (!display || display === 'none') {{\n",
       "            console.log([gd, 'removed!']);\n",
       "            Plotly.purge(gd);\n",
       "            observer.disconnect();\n",
       "        }}\n",
       "}});\n",
       "\n",
       "// Listen for the removal of the full notebook cells\n",
       "var notebookContainer = gd.closest('#notebook-container');\n",
       "if (notebookContainer) {{\n",
       "    x.observe(notebookContainer, {childList: true});\n",
       "}}\n",
       "\n",
       "// Listen for the clearing of the current output cell\n",
       "var outputEl = gd.closest('.output');\n",
       "if (outputEl) {{\n",
       "    x.observe(outputEl, {childList: true});\n",
       "}}\n",
       "\n",
       "                        })                };                });            </script>        </div>"
      ]
     },
     "metadata": {},
     "output_type": "display_data"
    }
   ],
   "source": [
    "trace=go.Box(x=season_wise['total_runs'], name='All Season', marker={'color':'green'})\n",
    "\n",
    "\n",
    "data=[trace]\n",
    "layout=go.Layout(title='Total Score Analysis',\n",
    "                xaxis={'title': 'Total Score'})\n",
    "fig= go.Figure(data=data, layout=layout)\n",
    "fig.show()"
   ]
  },
  {
   "cell_type": "code",
   "execution_count": 67,
   "id": "6c65a8f5-6071-4c39-a745-991b3056f50c",
   "metadata": {
    "tags": []
   },
   "outputs": [
    {
     "data": {
      "application/vnd.plotly.v1+json": {
       "config": {
        "plotlyServerURL": "https://plot.ly"
       },
       "data": [
        {
         "name": "2008",
         "type": "box",
         "x": [
          304,
          447,
          261,
          331,
          222,
          334,
          285,
          410,
          431,
          298,
          273,
          299,
          309,
          320,
          343,
          275,
          372,
          331,
          347,
          341,
          336,
          347,
          295,
          219,
          253,
          292,
          207,
          375,
          253,
          281,
          248,
          344,
          385,
          315,
          287,
          243,
          314,
          401,
          376,
          135,
          212,
          329,
          331,
          204,
          312,
          297,
          377,
          238,
          353,
          355,
          412,
          309,
          349,
          291,
          295,
          279,
          228,
          327
         ]
        },
        {
         "marker": {
          "color": "green"
         },
         "name": "2017",
         "type": "box",
         "x": [
          379,
          371,
          367,
          327,
          299,
          275,
          358,
          298,
          313,
          317,
          341,
          287,
          343,
          327,
          325,
          353,
          295,
          337,
          313,
          405,
          367,
          397,
          375,
          270,
          355,
          350,
          180,
          317,
          366,
          269,
          321,
          388,
          253,
          323,
          135,
          370,
          327,
          328,
          374,
          313,
          422,
          257,
          284,
          278,
          317,
          381,
          278,
          320,
          392,
          453,
          329,
          312,
          337,
          151,
          312,
          304,
          176,
          218,
          257
         ]
        }
       ],
       "layout": {
        "autosize": true,
        "template": {
         "data": {
          "bar": [
           {
            "error_x": {
             "color": "#2a3f5f"
            },
            "error_y": {
             "color": "#2a3f5f"
            },
            "marker": {
             "line": {
              "color": "#E5ECF6",
              "width": 0.5
             },
             "pattern": {
              "fillmode": "overlay",
              "size": 10,
              "solidity": 0.2
             }
            },
            "type": "bar"
           }
          ],
          "barpolar": [
           {
            "marker": {
             "line": {
              "color": "#E5ECF6",
              "width": 0.5
             },
             "pattern": {
              "fillmode": "overlay",
              "size": 10,
              "solidity": 0.2
             }
            },
            "type": "barpolar"
           }
          ],
          "carpet": [
           {
            "aaxis": {
             "endlinecolor": "#2a3f5f",
             "gridcolor": "white",
             "linecolor": "white",
             "minorgridcolor": "white",
             "startlinecolor": "#2a3f5f"
            },
            "baxis": {
             "endlinecolor": "#2a3f5f",
             "gridcolor": "white",
             "linecolor": "white",
             "minorgridcolor": "white",
             "startlinecolor": "#2a3f5f"
            },
            "type": "carpet"
           }
          ],
          "choropleth": [
           {
            "colorbar": {
             "outlinewidth": 0,
             "ticks": ""
            },
            "type": "choropleth"
           }
          ],
          "contour": [
           {
            "colorbar": {
             "outlinewidth": 0,
             "ticks": ""
            },
            "colorscale": [
             [
              0,
              "#0d0887"
             ],
             [
              0.1111111111111111,
              "#46039f"
             ],
             [
              0.2222222222222222,
              "#7201a8"
             ],
             [
              0.3333333333333333,
              "#9c179e"
             ],
             [
              0.4444444444444444,
              "#bd3786"
             ],
             [
              0.5555555555555556,
              "#d8576b"
             ],
             [
              0.6666666666666666,
              "#ed7953"
             ],
             [
              0.7777777777777778,
              "#fb9f3a"
             ],
             [
              0.8888888888888888,
              "#fdca26"
             ],
             [
              1,
              "#f0f921"
             ]
            ],
            "type": "contour"
           }
          ],
          "contourcarpet": [
           {
            "colorbar": {
             "outlinewidth": 0,
             "ticks": ""
            },
            "type": "contourcarpet"
           }
          ],
          "heatmap": [
           {
            "colorbar": {
             "outlinewidth": 0,
             "ticks": ""
            },
            "colorscale": [
             [
              0,
              "#0d0887"
             ],
             [
              0.1111111111111111,
              "#46039f"
             ],
             [
              0.2222222222222222,
              "#7201a8"
             ],
             [
              0.3333333333333333,
              "#9c179e"
             ],
             [
              0.4444444444444444,
              "#bd3786"
             ],
             [
              0.5555555555555556,
              "#d8576b"
             ],
             [
              0.6666666666666666,
              "#ed7953"
             ],
             [
              0.7777777777777778,
              "#fb9f3a"
             ],
             [
              0.8888888888888888,
              "#fdca26"
             ],
             [
              1,
              "#f0f921"
             ]
            ],
            "type": "heatmap"
           }
          ],
          "heatmapgl": [
           {
            "colorbar": {
             "outlinewidth": 0,
             "ticks": ""
            },
            "colorscale": [
             [
              0,
              "#0d0887"
             ],
             [
              0.1111111111111111,
              "#46039f"
             ],
             [
              0.2222222222222222,
              "#7201a8"
             ],
             [
              0.3333333333333333,
              "#9c179e"
             ],
             [
              0.4444444444444444,
              "#bd3786"
             ],
             [
              0.5555555555555556,
              "#d8576b"
             ],
             [
              0.6666666666666666,
              "#ed7953"
             ],
             [
              0.7777777777777778,
              "#fb9f3a"
             ],
             [
              0.8888888888888888,
              "#fdca26"
             ],
             [
              1,
              "#f0f921"
             ]
            ],
            "type": "heatmapgl"
           }
          ],
          "histogram": [
           {
            "marker": {
             "pattern": {
              "fillmode": "overlay",
              "size": 10,
              "solidity": 0.2
             }
            },
            "type": "histogram"
           }
          ],
          "histogram2d": [
           {
            "colorbar": {
             "outlinewidth": 0,
             "ticks": ""
            },
            "colorscale": [
             [
              0,
              "#0d0887"
             ],
             [
              0.1111111111111111,
              "#46039f"
             ],
             [
              0.2222222222222222,
              "#7201a8"
             ],
             [
              0.3333333333333333,
              "#9c179e"
             ],
             [
              0.4444444444444444,
              "#bd3786"
             ],
             [
              0.5555555555555556,
              "#d8576b"
             ],
             [
              0.6666666666666666,
              "#ed7953"
             ],
             [
              0.7777777777777778,
              "#fb9f3a"
             ],
             [
              0.8888888888888888,
              "#fdca26"
             ],
             [
              1,
              "#f0f921"
             ]
            ],
            "type": "histogram2d"
           }
          ],
          "histogram2dcontour": [
           {
            "colorbar": {
             "outlinewidth": 0,
             "ticks": ""
            },
            "colorscale": [
             [
              0,
              "#0d0887"
             ],
             [
              0.1111111111111111,
              "#46039f"
             ],
             [
              0.2222222222222222,
              "#7201a8"
             ],
             [
              0.3333333333333333,
              "#9c179e"
             ],
             [
              0.4444444444444444,
              "#bd3786"
             ],
             [
              0.5555555555555556,
              "#d8576b"
             ],
             [
              0.6666666666666666,
              "#ed7953"
             ],
             [
              0.7777777777777778,
              "#fb9f3a"
             ],
             [
              0.8888888888888888,
              "#fdca26"
             ],
             [
              1,
              "#f0f921"
             ]
            ],
            "type": "histogram2dcontour"
           }
          ],
          "mesh3d": [
           {
            "colorbar": {
             "outlinewidth": 0,
             "ticks": ""
            },
            "type": "mesh3d"
           }
          ],
          "parcoords": [
           {
            "line": {
             "colorbar": {
              "outlinewidth": 0,
              "ticks": ""
             }
            },
            "type": "parcoords"
           }
          ],
          "pie": [
           {
            "automargin": true,
            "type": "pie"
           }
          ],
          "scatter": [
           {
            "fillpattern": {
             "fillmode": "overlay",
             "size": 10,
             "solidity": 0.2
            },
            "type": "scatter"
           }
          ],
          "scatter3d": [
           {
            "line": {
             "colorbar": {
              "outlinewidth": 0,
              "ticks": ""
             }
            },
            "marker": {
             "colorbar": {
              "outlinewidth": 0,
              "ticks": ""
             }
            },
            "type": "scatter3d"
           }
          ],
          "scattercarpet": [
           {
            "marker": {
             "colorbar": {
              "outlinewidth": 0,
              "ticks": ""
             }
            },
            "type": "scattercarpet"
           }
          ],
          "scattergeo": [
           {
            "marker": {
             "colorbar": {
              "outlinewidth": 0,
              "ticks": ""
             }
            },
            "type": "scattergeo"
           }
          ],
          "scattergl": [
           {
            "marker": {
             "colorbar": {
              "outlinewidth": 0,
              "ticks": ""
             }
            },
            "type": "scattergl"
           }
          ],
          "scattermapbox": [
           {
            "marker": {
             "colorbar": {
              "outlinewidth": 0,
              "ticks": ""
             }
            },
            "type": "scattermapbox"
           }
          ],
          "scatterpolar": [
           {
            "marker": {
             "colorbar": {
              "outlinewidth": 0,
              "ticks": ""
             }
            },
            "type": "scatterpolar"
           }
          ],
          "scatterpolargl": [
           {
            "marker": {
             "colorbar": {
              "outlinewidth": 0,
              "ticks": ""
             }
            },
            "type": "scatterpolargl"
           }
          ],
          "scatterternary": [
           {
            "marker": {
             "colorbar": {
              "outlinewidth": 0,
              "ticks": ""
             }
            },
            "type": "scatterternary"
           }
          ],
          "surface": [
           {
            "colorbar": {
             "outlinewidth": 0,
             "ticks": ""
            },
            "colorscale": [
             [
              0,
              "#0d0887"
             ],
             [
              0.1111111111111111,
              "#46039f"
             ],
             [
              0.2222222222222222,
              "#7201a8"
             ],
             [
              0.3333333333333333,
              "#9c179e"
             ],
             [
              0.4444444444444444,
              "#bd3786"
             ],
             [
              0.5555555555555556,
              "#d8576b"
             ],
             [
              0.6666666666666666,
              "#ed7953"
             ],
             [
              0.7777777777777778,
              "#fb9f3a"
             ],
             [
              0.8888888888888888,
              "#fdca26"
             ],
             [
              1,
              "#f0f921"
             ]
            ],
            "type": "surface"
           }
          ],
          "table": [
           {
            "cells": {
             "fill": {
              "color": "#EBF0F8"
             },
             "line": {
              "color": "white"
             }
            },
            "header": {
             "fill": {
              "color": "#C8D4E3"
             },
             "line": {
              "color": "white"
             }
            },
            "type": "table"
           }
          ]
         },
         "layout": {
          "annotationdefaults": {
           "arrowcolor": "#2a3f5f",
           "arrowhead": 0,
           "arrowwidth": 1
          },
          "autotypenumbers": "strict",
          "coloraxis": {
           "colorbar": {
            "outlinewidth": 0,
            "ticks": ""
           }
          },
          "colorscale": {
           "diverging": [
            [
             0,
             "#8e0152"
            ],
            [
             0.1,
             "#c51b7d"
            ],
            [
             0.2,
             "#de77ae"
            ],
            [
             0.3,
             "#f1b6da"
            ],
            [
             0.4,
             "#fde0ef"
            ],
            [
             0.5,
             "#f7f7f7"
            ],
            [
             0.6,
             "#e6f5d0"
            ],
            [
             0.7,
             "#b8e186"
            ],
            [
             0.8,
             "#7fbc41"
            ],
            [
             0.9,
             "#4d9221"
            ],
            [
             1,
             "#276419"
            ]
           ],
           "sequential": [
            [
             0,
             "#0d0887"
            ],
            [
             0.1111111111111111,
             "#46039f"
            ],
            [
             0.2222222222222222,
             "#7201a8"
            ],
            [
             0.3333333333333333,
             "#9c179e"
            ],
            [
             0.4444444444444444,
             "#bd3786"
            ],
            [
             0.5555555555555556,
             "#d8576b"
            ],
            [
             0.6666666666666666,
             "#ed7953"
            ],
            [
             0.7777777777777778,
             "#fb9f3a"
            ],
            [
             0.8888888888888888,
             "#fdca26"
            ],
            [
             1,
             "#f0f921"
            ]
           ],
           "sequentialminus": [
            [
             0,
             "#0d0887"
            ],
            [
             0.1111111111111111,
             "#46039f"
            ],
            [
             0.2222222222222222,
             "#7201a8"
            ],
            [
             0.3333333333333333,
             "#9c179e"
            ],
            [
             0.4444444444444444,
             "#bd3786"
            ],
            [
             0.5555555555555556,
             "#d8576b"
            ],
            [
             0.6666666666666666,
             "#ed7953"
            ],
            [
             0.7777777777777778,
             "#fb9f3a"
            ],
            [
             0.8888888888888888,
             "#fdca26"
            ],
            [
             1,
             "#f0f921"
            ]
           ]
          },
          "colorway": [
           "#636efa",
           "#EF553B",
           "#00cc96",
           "#ab63fa",
           "#FFA15A",
           "#19d3f3",
           "#FF6692",
           "#B6E880",
           "#FF97FF",
           "#FECB52"
          ],
          "font": {
           "color": "#2a3f5f"
          },
          "geo": {
           "bgcolor": "white",
           "lakecolor": "white",
           "landcolor": "#E5ECF6",
           "showlakes": true,
           "showland": true,
           "subunitcolor": "white"
          },
          "hoverlabel": {
           "align": "left"
          },
          "hovermode": "closest",
          "mapbox": {
           "style": "light"
          },
          "paper_bgcolor": "white",
          "plot_bgcolor": "#E5ECF6",
          "polar": {
           "angularaxis": {
            "gridcolor": "white",
            "linecolor": "white",
            "ticks": ""
           },
           "bgcolor": "#E5ECF6",
           "radialaxis": {
            "gridcolor": "white",
            "linecolor": "white",
            "ticks": ""
           }
          },
          "scene": {
           "xaxis": {
            "backgroundcolor": "#E5ECF6",
            "gridcolor": "white",
            "gridwidth": 2,
            "linecolor": "white",
            "showbackground": true,
            "ticks": "",
            "zerolinecolor": "white"
           },
           "yaxis": {
            "backgroundcolor": "#E5ECF6",
            "gridcolor": "white",
            "gridwidth": 2,
            "linecolor": "white",
            "showbackground": true,
            "ticks": "",
            "zerolinecolor": "white"
           },
           "zaxis": {
            "backgroundcolor": "#E5ECF6",
            "gridcolor": "white",
            "gridwidth": 2,
            "linecolor": "white",
            "showbackground": true,
            "ticks": "",
            "zerolinecolor": "white"
           }
          },
          "shapedefaults": {
           "line": {
            "color": "#2a3f5f"
           }
          },
          "ternary": {
           "aaxis": {
            "gridcolor": "white",
            "linecolor": "white",
            "ticks": ""
           },
           "baxis": {
            "gridcolor": "white",
            "linecolor": "white",
            "ticks": ""
           },
           "bgcolor": "#E5ECF6",
           "caxis": {
            "gridcolor": "white",
            "linecolor": "white",
            "ticks": ""
           }
          },
          "title": {
           "x": 0.05
          },
          "xaxis": {
           "automargin": true,
           "gridcolor": "white",
           "linecolor": "white",
           "ticks": "",
           "title": {
            "standoff": 15
           },
           "zerolinecolor": "white",
           "zerolinewidth": 2
          },
          "yaxis": {
           "automargin": true,
           "gridcolor": "white",
           "linecolor": "white",
           "ticks": "",
           "title": {
            "standoff": 15
           },
           "zerolinecolor": "white",
           "zerolinewidth": 2
          }
         }
        },
        "title": {
         "text": "Total Score Analysis"
        },
        "xaxis": {
         "autorange": true,
         "range": [
          117.33333333333333,
          470.6666666666667
         ],
         "title": {
          "text": "Total Score"
         },
         "type": "linear"
        },
        "yaxis": {
         "autorange": true,
         "range": [
          -0.5,
          1.5
         ],
         "type": "category"
        }
       }
      },
      "image/png": "[encoded data removed]",
      "text/html": [
       "<div>                            <div id=\"0aab5fc9-041e-41ca-8243-4610dc0ad552\" class=\"plotly-graph-div\" style=\"height:525px; width:100%;\"></div>            <script type=\"text/javascript\">                require([\"plotly\"], function(Plotly) {                    window.PLOTLYENV=window.PLOTLYENV || {};                                    if (document.getElementById(\"0aab5fc9-041e-41ca-8243-4610dc0ad552\")) {                    Plotly.newPlot(                        \"0aab5fc9-041e-41ca-8243-4610dc0ad552\",                        [{\"name\":\"2008\",\"x\":[304,447,261,331,222,334,285,410,431,298,273,299,309,320,343,275,372,331,347,341,336,347,295,219,253,292,207,375,253,281,248,344,385,315,287,243,314,401,376,135,212,329,331,204,312,297,377,238,353,355,412,309,349,291,295,279,228,327],\"type\":\"box\"},{\"marker\":{\"color\":\"green\"},\"name\":\"2017\",\"x\":[379,371,367,327,299,275,358,298,313,317,341,287,343,327,325,353,295,337,313,405,367,397,375,270,355,350,180,317,366,269,321,388,253,323,135,370,327,328,374,313,422,257,284,278,317,381,278,320,392,453,329,312,337,151,312,304,176,218,257],\"type\":\"box\"}],                        {\"title\":{\"text\":\"Total Score Analysis\"},\"xaxis\":{\"title\":{\"text\":\"Total Score\"}},\"template\":{\"data\":{\"histogram2dcontour\":[{\"type\":\"histogram2dcontour\",\"colorbar\":{\"outlinewidth\":0,\"ticks\":\"\"},\"colorscale\":[[0.0,\"#0d0887\"],[0.1111111111111111,\"#46039f\"],[0.2222222222222222,\"#7201a8\"],[0.3333333333333333,\"#9c179e\"],[0.4444444444444444,\"#bd3786\"],[0.5555555555555556,\"#d8576b\"],[0.6666666666666666,\"#ed7953\"],[0.7777777777777778,\"#fb9f3a\"],[0.8888888888888888,\"#fdca26\"],[1.0,\"#f0f921\"]]}],\"choropleth\":[{\"type\":\"choropleth\",\"colorbar\":{\"outlinewidth\":0,\"ticks\":\"\"}}],\"histogram2d\":[{\"type\":\"histogram2d\",\"colorbar\":{\"outlinewidth\":0,\"ticks\":\"\"},\"colorscale\":[[0.0,\"#0d0887\"],[0.1111111111111111,\"#46039f\"],[0.2222222222222222,\"#7201a8\"],[0.3333333333333333,\"#9c179e\"],[0.4444444444444444,\"#bd3786\"],[0.5555555555555556,\"#d8576b\"],[0.6666666666666666,\"#ed7953\"],[0.7777777777777778,\"#fb9f3a\"],[0.8888888888888888,\"#fdca26\"],[1.0,\"#f0f921\"]]}],\"heatmap\":[{\"type\":\"heatmap\",\"colorbar\":{\"outlinewidth\":0,\"ticks\":\"\"},\"colorscale\":[[0.0,\"#0d0887\"],[0.1111111111111111,\"#46039f\"],[0.2222222222222222,\"#7201a8\"],[0.3333333333333333,\"#9c179e\"],[0.4444444444444444,\"#bd3786\"],[0.5555555555555556,\"#d8576b\"],[0.6666666666666666,\"#ed7953\"],[0.7777777777777778,\"#fb9f3a\"],[0.8888888888888888,\"#fdca26\"],[1.0,\"#f0f921\"]]}],\"heatmapgl\":[{\"type\":\"heatmapgl\",\"colorbar\":{\"outlinewidth\":0,\"ticks\":\"\"},\"colorscale\":[[0.0,\"#0d0887\"],[0.1111111111111111,\"#46039f\"],[0.2222222222222222,\"#7201a8\"],[0.3333333333333333,\"#9c179e\"],[0.4444444444444444,\"#bd3786\"],[0.5555555555555556,\"#d8576b\"],[0.6666666666666666,\"#ed7953\"],[0.7777777777777778,\"#fb9f3a\"],[0.8888888888888888,\"#fdca26\"],[1.0,\"#f0f921\"]]}],\"contourcarpet\":[{\"type\":\"contourcarpet\",\"colorbar\":{\"outlinewidth\":0,\"ticks\":\"\"}}],\"contour\":[{\"type\":\"contour\",\"colorbar\":{\"outlinewidth\":0,\"ticks\":\"\"},\"colorscale\":[[0.0,\"#0d0887\"],[0.1111111111111111,\"#46039f\"],[0.2222222222222222,\"#7201a8\"],[0.3333333333333333,\"#9c179e\"],[0.4444444444444444,\"#bd3786\"],[0.5555555555555556,\"#d8576b\"],[0.6666666666666666,\"#ed7953\"],[0.7777777777777778,\"#fb9f3a\"],[0.8888888888888888,\"#fdca26\"],[1.0,\"#f0f921\"]]}],\"surface\":[{\"type\":\"surface\",\"colorbar\":{\"outlinewidth\":0,\"ticks\":\"\"},\"colorscale\":[[0.0,\"#0d0887\"],[0.1111111111111111,\"#46039f\"],[0.2222222222222222,\"#7201a8\"],[0.3333333333333333,\"#9c179e\"],[0.4444444444444444,\"#bd3786\"],[0.5555555555555556,\"#d8576b\"],[0.6666666666666666,\"#ed7953\"],[0.7777777777777778,\"#fb9f3a\"],[0.8888888888888888,\"#fdca26\"],[1.0,\"#f0f921\"]]}],\"mesh3d\":[{\"type\":\"mesh3d\",\"colorbar\":{\"outlinewidth\":0,\"ticks\":\"\"}}],\"scatter\":[{\"fillpattern\":{\"fillmode\":\"overlay\",\"size\":10,\"solidity\":0.2},\"type\":\"scatter\"}],\"parcoords\":[{\"type\":\"parcoords\",\"line\":{\"colorbar\":{\"outlinewidth\":0,\"ticks\":\"\"}}}],\"scatterpolargl\":[{\"type\":\"scatterpolargl\",\"marker\":{\"colorbar\":{\"outlinewidth\":0,\"ticks\":\"\"}}}],\"bar\":[{\"error_x\":{\"color\":\"#2a3f5f\"},\"error_y\":{\"color\":\"#2a3f5f\"},\"marker\":{\"line\":{\"color\":\"#E5ECF6\",\"width\":0.5},\"pattern\":{\"fillmode\":\"overlay\",\"size\":10,\"solidity\":0.2}},\"type\":\"bar\"}],\"scattergeo\":[{\"type\":\"scattergeo\",\"marker\":{\"colorbar\":{\"outlinewidth\":0,\"ticks\":\"\"}}}],\"scatterpolar\":[{\"type\":\"scatterpolar\",\"marker\":{\"colorbar\":{\"outlinewidth\":0,\"ticks\":\"\"}}}],\"histogram\":[{\"marker\":{\"pattern\":{\"fillmode\":\"overlay\",\"size\":10,\"solidity\":0.2}},\"type\":\"histogram\"}],\"scattergl\":[{\"type\":\"scattergl\",\"marker\":{\"colorbar\":{\"outlinewidth\":0,\"ticks\":\"\"}}}],\"scatter3d\":[{\"type\":\"scatter3d\",\"line\":{\"colorbar\":{\"outlinewidth\":0,\"ticks\":\"\"}},\"marker\":{\"colorbar\":{\"outlinewidth\":0,\"ticks\":\"\"}}}],\"scattermapbox\":[{\"type\":\"scattermapbox\",\"marker\":{\"colorbar\":{\"outlinewidth\":0,\"ticks\":\"\"}}}],\"scatterternary\":[{\"type\":\"scatterternary\",\"marker\":{\"colorbar\":{\"outlinewidth\":0,\"ticks\":\"\"}}}],\"scattercarpet\":[{\"type\":\"scattercarpet\",\"marker\":{\"colorbar\":{\"outlinewidth\":0,\"ticks\":\"\"}}}],\"carpet\":[{\"aaxis\":{\"endlinecolor\":\"#2a3f5f\",\"gridcolor\":\"white\",\"linecolor\":\"white\",\"minorgridcolor\":\"white\",\"startlinecolor\":\"#2a3f5f\"},\"baxis\":{\"endlinecolor\":\"#2a3f5f\",\"gridcolor\":\"white\",\"linecolor\":\"white\",\"minorgridcolor\":\"white\",\"startlinecolor\":\"#2a3f5f\"},\"type\":\"carpet\"}],\"table\":[{\"cells\":{\"fill\":{\"color\":\"#EBF0F8\"},\"line\":{\"color\":\"white\"}},\"header\":{\"fill\":{\"color\":\"#C8D4E3\"},\"line\":{\"color\":\"white\"}},\"type\":\"table\"}],\"barpolar\":[{\"marker\":{\"line\":{\"color\":\"#E5ECF6\",\"width\":0.5},\"pattern\":{\"fillmode\":\"overlay\",\"size\":10,\"solidity\":0.2}},\"type\":\"barpolar\"}],\"pie\":[{\"automargin\":true,\"type\":\"pie\"}]},\"layout\":{\"autotypenumbers\":\"strict\",\"colorway\":[\"#636efa\",\"#EF553B\",\"#00cc96\",\"#ab63fa\",\"#FFA15A\",\"#19d3f3\",\"#FF6692\",\"#B6E880\",\"#FF97FF\",\"#FECB52\"],\"font\":{\"color\":\"#2a3f5f\"},\"hovermode\":\"closest\",\"hoverlabel\":{\"align\":\"left\"},\"paper_bgcolor\":\"white\",\"plot_bgcolor\":\"#E5ECF6\",\"polar\":{\"bgcolor\":\"#E5ECF6\",\"angularaxis\":{\"gridcolor\":\"white\",\"linecolor\":\"white\",\"ticks\":\"\"},\"radialaxis\":{\"gridcolor\":\"white\",\"linecolor\":\"white\",\"ticks\":\"\"}},\"ternary\":{\"bgcolor\":\"#E5ECF6\",\"aaxis\":{\"gridcolor\":\"white\",\"linecolor\":\"white\",\"ticks\":\"\"},\"baxis\":{\"gridcolor\":\"white\",\"linecolor\":\"white\",\"ticks\":\"\"},\"caxis\":{\"gridcolor\":\"white\",\"linecolor\":\"white\",\"ticks\":\"\"}},\"coloraxis\":{\"colorbar\":{\"outlinewidth\":0,\"ticks\":\"\"}},\"colorscale\":{\"sequential\":[[0.0,\"#0d0887\"],[0.1111111111111111,\"#46039f\"],[0.2222222222222222,\"#7201a8\"],[0.3333333333333333,\"#9c179e\"],[0.4444444444444444,\"#bd3786\"],[0.5555555555555556,\"#d8576b\"],[0.6666666666666666,\"#ed7953\"],[0.7777777777777778,\"#fb9f3a\"],[0.8888888888888888,\"#fdca26\"],[1.0,\"#f0f921\"]],\"sequentialminus\":[[0.0,\"#0d0887\"],[0.1111111111111111,\"#46039f\"],[0.2222222222222222,\"#7201a8\"],[0.3333333333333333,\"#9c179e\"],[0.4444444444444444,\"#bd3786\"],[0.5555555555555556,\"#d8576b\"],[0.6666666666666666,\"#ed7953\"],[0.7777777777777778,\"#fb9f3a\"],[0.8888888888888888,\"#fdca26\"],[1.0,\"#f0f921\"]],\"diverging\":[[0,\"#8e0152\"],[0.1,\"#c51b7d\"],[0.2,\"#de77ae\"],[0.3,\"#f1b6da\"],[0.4,\"#fde0ef\"],[0.5,\"#f7f7f7\"],[0.6,\"#e6f5d0\"],[0.7,\"#b8e186\"],[0.8,\"#7fbc41\"],[0.9,\"#4d9221\"],[1,\"#276419\"]]},\"xaxis\":{\"gridcolor\":\"white\",\"linecolor\":\"white\",\"ticks\":\"\",\"title\":{\"standoff\":15},\"zerolinecolor\":\"white\",\"automargin\":true,\"zerolinewidth\":2},\"yaxis\":{\"gridcolor\":\"white\",\"linecolor\":\"white\",\"ticks\":\"\",\"title\":{\"standoff\":15},\"zerolinecolor\":\"white\",\"automargin\":true,\"zerolinewidth\":2},\"scene\":{\"xaxis\":{\"backgroundcolor\":\"#E5ECF6\",\"gridcolor\":\"white\",\"linecolor\":\"white\",\"showbackground\":true,\"ticks\":\"\",\"zerolinecolor\":\"white\",\"gridwidth\":2},\"yaxis\":{\"backgroundcolor\":\"#E5ECF6\",\"gridcolor\":\"white\",\"linecolor\":\"white\",\"showbackground\":true,\"ticks\":\"\",\"zerolinecolor\":\"white\",\"gridwidth\":2},\"zaxis\":{\"backgroundcolor\":\"#E5ECF6\",\"gridcolor\":\"white\",\"linecolor\":\"white\",\"showbackground\":true,\"ticks\":\"\",\"zerolinecolor\":\"white\",\"gridwidth\":2}},\"shapedefaults\":{\"line\":{\"color\":\"#2a3f5f\"}},\"annotationdefaults\":{\"arrowcolor\":\"#2a3f5f\",\"arrowhead\":0,\"arrowwidth\":1},\"geo\":{\"bgcolor\":\"white\",\"landcolor\":\"#E5ECF6\",\"subunitcolor\":\"white\",\"showland\":true,\"showlakes\":true,\"lakecolor\":\"white\"},\"title\":{\"x\":0.05},\"mapbox\":{\"style\":\"light\"}}}},                        {\"responsive\": true}                    ).then(function(){\n",
       "                            \n",
       "var gd = document.getElementById('0aab5fc9-041e-41ca-8243-4610dc0ad552');\n",
       "var x = new MutationObserver(function (mutations, observer) {{\n",
       "        var display = window.getComputedStyle(gd).display;\n",
       "        if (!display || display === 'none') {{\n",
       "            console.log([gd, 'removed!']);\n",
       "            Plotly.purge(gd);\n",
       "            observer.disconnect();\n",
       "        }}\n",
       "}});\n",
       "\n",
       "// Listen for the removal of the full notebook cells\n",
       "var notebookContainer = gd.closest('#notebook-container');\n",
       "if (notebookContainer) {{\n",
       "    x.observe(notebookContainer, {childList: true});\n",
       "}}\n",
       "\n",
       "// Listen for the clearing of the current output cell\n",
       "var outputEl = gd.closest('.output');\n",
       "if (outputEl) {{\n",
       "    x.observe(outputEl, {childList: true});\n",
       "}}\n",
       "\n",
       "                        })                };                });            </script>        </div>"
      ]
     },
     "metadata": {},
     "output_type": "display_data"
    }
   ],
   "source": [
    "trace=go.Box(x=season_wise[season_wise['season']==2017]['total_runs'], name='2017', marker={'color':'green'})\n",
    "trace1=go.Box(x=season_wise[season_wise['season']==2008]['total_runs'], name='2008')\n",
    "\n",
    "data=[trace1, trace]\n",
    "layout=go.Layout(title='Total Score Analysis',\n",
    "                xaxis={'title': 'Total Score'})\n",
    "fig= go.Figure(data=data, layout=layout)\n",
    "fig.show()"
   ]
  },
  {
   "cell_type": "markdown",
   "id": "68ed3836-99bc-459d-bb9a-c4ff7b250356",
   "metadata": {},
   "source": [
    "### Distplots"
   ]
  },
  {
   "cell_type": "code",
   "execution_count": 68,
   "id": "34f592bc-f141-4501-bc2c-0d8f3f9a9695",
   "metadata": {
    "tags": []
   },
   "outputs": [],
   "source": [
    "# combination of histogram, kde and rug plot"
   ]
  },
  {
   "cell_type": "code",
   "execution_count": 73,
   "id": "18401c2e-5e5c-426d-be06-f30388861cbf",
   "metadata": {
    "tags": []
   },
   "outputs": [
    {
     "data": {
      "application/vnd.plotly.v1+json": {
       "config": {
        "plotlyServerURL": "https://plot.ly"
       },
       "data": [
        {
         "histnorm": "probability density",
         "legendgroup": "Average",
         "marker": {
          "color": "rgb(31, 119, 180)"
         },
         "name": "Average",
         "opacity": 0.7,
         "type": "histogram",
         "x": [
          38.30769230769231,
          27.223684210526315,
          27.1864406779661,
          33.59340659340659,
          27.146067415730336,
          28.112244897959183,
          33.333333333333336,
          41.02247191011236,
          34.733333333333334,
          40.14,
          22.945454545454545,
          26.979591836734695,
          28.25,
          28.392857142857142,
          30.11627906976744,
          31.541984732824428,
          25.081632653061224,
          28.55294117647059,
          39.86,
          28.70731707317073,
          25.953846153846154,
          24.811965811965813,
          25.17391304347826,
          26.431578947368422,
          38.76470588235294,
          28.5,
          29.428571428571427,
          37.87234042553192,
          20.986486486486488,
          21.700934579439252,
          28.233766233766232,
          24.055555555555557,
          32.6124031007752,
          29.515625,
          30.659574468085108,
          32.669724770642205,
          25.452830188679247,
          39.507936507936506,
          33.940298507462686,
          37.23913043478261,
          33.82608695652174,
          30.91764705882353,
          28.355555555555554,
          25.464285714285715,
          26.813953488372093,
          37.483050847457626,
          27.555555555555557,
          25.524590163934427,
          29.816326530612244,
          25.653465346534652
         ],
         "xaxis": "x",
         "xbins": {
          "end": 41.02247191011236,
          "size": 10,
          "start": 20.986486486486488
         },
         "yaxis": "y"
        },
        {
         "histnorm": "probability density",
         "legendgroup": "Strike Rate",
         "marker": {
          "color": "rgb(255, 127, 14)"
         },
         "name": "Strike Rate",
         "opacity": 0.7,
         "type": "histogram",
         "x": [
          145.12905911740216,
          133.05466237942122,
          126.2992125984252,
          117.48654880860876,
          123.0142566191446,
          126.31820265933058,
          121.42237640936686,
          144.19431279620852,
          137.7092511013216,
          138.3184011026878,
          122.28682170542635,
          120.07266121707538,
          118.7910643889619,
          132.27953410981698,
          124.16107382550337,
          120.36120011651616,
          157.56410256410257,
          105.93627237014405,
          121.97062423500613,
          140.62126642771804,
          118.4691011235955,
          123.00847457627117,
          124.65016146393972,
          120.02868068833652,
          119.96359223300972,
          116.93845344555498,
          114.12742382271468,
          132.8358208955224,
          114.52802359882006,
          112.71844660194175,
          113.34723670490095,
          118.79286694101509,
          128.49725106902872,
          127.63513513513513,
          115.74297188755021,
          118.50249584026622,
          101.73453996983409,
          130.10977522216413,
          134.99554764024933,
          128.50712678169543,
          114.18786692759295,
          134.83837865572087,
          114.85148514851484,
          122.40343347639484,
          110.12416427889207,
          126.58843732112193,
          148.82705946535734,
          127.72764561115667,
          140.75144508670522,
          126.39024390243902
         ],
         "xaxis": "x",
         "xbins": {
          "end": 157.56410256410257,
          "size": 20,
          "start": 101.73453996983409
         },
         "yaxis": "y"
        },
        {
         "legendgroup": "Average",
         "marker": {
          "color": "rgb(31, 119, 180)"
         },
         "mode": "lines",
         "name": "Average",
         "showlegend": false,
         "type": "scatter",
         "x": [
          20.986486486486488,
          21.02655845733374,
          21.066630428180993,
          21.106702399028244,
          21.146774369875494,
          21.186846340722745,
          21.22691831157,
          21.26699028241725,
          21.3070622532645,
          21.347134224111752,
          21.387206194959006,
          21.427278165806257,
          21.467350136653508,
          21.507422107500762,
          21.547494078348013,
          21.587566049195264,
          21.627638020042514,
          21.66770999088977,
          21.70778196173702,
          21.74785393258427,
          21.78792590343152,
          21.827997874278775,
          21.868069845126026,
          21.908141815973277,
          21.948213786820528,
          21.988285757667782,
          22.028357728515033,
          22.068429699362284,
          22.108501670209538,
          22.14857364105679,
          22.18864561190404,
          22.22871758275129,
          22.268789553598545,
          22.308861524445796,
          22.348933495293046,
          22.389005466140297,
          22.42907743698755,
          22.469149407834802,
          22.509221378682053,
          22.549293349529307,
          22.589365320376558,
          22.62943729122381,
          22.66950926207106,
          22.709581232918314,
          22.749653203765565,
          22.789725174612816,
          22.829797145460066,
          22.86986911630732,
          22.90994108715457,
          22.950013058001822,
          22.990085028849073,
          23.030156999696327,
          23.070228970543578,
          23.11030094139083,
          23.150372912238083,
          23.190444883085334,
          23.230516853932585,
          23.270588824779836,
          23.31066079562709,
          23.35073276647434,
          23.39080473732159,
          23.430876708168846,
          23.470948679016097,
          23.511020649863347,
          23.551092620710598,
          23.59116459155785,
          23.631236562405103,
          23.671308533252354,
          23.711380504099605,
          23.75145247494686,
          23.79152444579411,
          23.83159641664136,
          23.87166838748861,
          23.911740358335866,
          23.951812329183117,
          23.991884300030367,
          24.03195627087762,
          24.072028241724873,
          24.112100212572123,
          24.152172183419374,
          24.19224415426663,
          24.23231612511388,
          24.27238809596113,
          24.31246006680838,
          24.352532037655635,
          24.392604008502886,
          24.432675979350137,
          24.472747950197387,
          24.512819921044642,
          24.552891891891893,
          24.592963862739143,
          24.633035833586398,
          24.67310780443365,
          24.7131797752809,
          24.75325174612815,
          24.793323716975404,
          24.833395687822655,
          24.873467658669906,
          24.913539629517157,
          24.95361160036441,
          24.993683571211662,
          25.033755542058913,
          25.073827512906163,
          25.113899483753418,
          25.15397145460067,
          25.194043425447923,
          25.234115396295174,
          25.274187367142424,
          25.314259337989675,
          25.354331308836926,
          25.39440327968418,
          25.43447525053143,
          25.474547221378682,
          25.514619192225936,
          25.554691163073187,
          25.594763133920438,
          25.63483510476769,
          25.67490707561494,
          25.714979046462194,
          25.755051017309444,
          25.7951229881567,
          25.83519495900395,
          25.8752669298512,
          25.91533890069845,
          25.955410871545702,
          25.995482842392956,
          26.035554813240207,
          26.075626784087458,
          26.115698754934712,
          26.155770725781963,
          26.195842696629214,
          26.235914667476465,
          26.27598663832372,
          26.31605860917097,
          26.35613058001822,
          26.396202550865475,
          26.436274521712726,
          26.476346492559976,
          26.516418463407227,
          26.556490434254478,
          26.596562405101732,
          26.636634375948983,
          26.676706346796237,
          26.716778317643488,
          26.75685028849074,
          26.79692225933799,
          26.83699423018524,
          26.87706620103249,
          26.917138171879746,
          26.957210142726996,
          26.99728211357425,
          27.0373540844215,
          27.077426055268752,
          27.117498026116003,
          27.157569996963257,
          27.197641967810508,
          27.23771393865776,
          27.27778590950501,
          27.317857880352264,
          27.357929851199515,
          27.398001822046766,
          27.438073792894016,
          27.47814576374127,
          27.51821773458852,
          27.558289705435772,
          27.598361676283027,
          27.638433647130277,
          27.678505617977528,
          27.71857758882478,
          27.75864955967203,
          27.798721530519284,
          27.838793501366535,
          27.87886547221379,
          27.91893744306104,
          27.95900941390829,
          27.99908138475554,
          28.039153355602792,
          28.079225326450047,
          28.119297297297297,
          28.159369268144548,
          28.199441238991803,
          28.239513209839053,
          28.279585180686304,
          28.319657151533555,
          28.35972912238081,
          28.39980109322806,
          28.43987306407531,
          28.479945034922565,
          28.520017005769816,
          28.560088976617067,
          28.600160947464317,
          28.64023291831157,
          28.680304889158823,
          28.720376860006073,
          28.760448830853328,
          28.80052080170058,
          28.84059277254783,
          28.88066474339508,
          28.92073671424233,
          28.960808685089585,
          29.000880655936836,
          29.040952626784087,
          29.08102459763134,
          29.121096568478592,
          29.161168539325843,
          29.201240510173093,
          29.241312481020348,
          29.2813844518676,
          29.321456422714853,
          29.361528393562104,
          29.401600364409354,
          29.441672335256605,
          29.481744306103856,
          29.521816276951107,
          29.561888247798358,
          29.601960218645612,
          29.642032189492863,
          29.682104160340117,
          29.722176131187368,
          29.76224810203462,
          29.80232007288187,
          29.84239204372912,
          29.882464014576374,
          29.922535985423625,
          29.96260795627088,
          30.00267992711813,
          30.04275189796538,
          30.082823868812632,
          30.122895839659883,
          30.162967810507137,
          30.20303978135439,
          30.243111752201642,
          30.283183723048893,
          30.323255693896144,
          30.363327664743395,
          30.403399635590645,
          30.443471606437896,
          30.48354357728515,
          30.5236155481324,
          30.563687518979656,
          30.603759489826906,
          30.643831460674157,
          30.683903431521408,
          30.72397540236866,
          30.764047373215913,
          30.804119344063164,
          30.844191314910418,
          30.88426328575767,
          30.92433525660492,
          30.96440722745217,
          31.00447919829942,
          31.044551169146676,
          31.084623139993926,
          31.12469511084118,
          31.16476708168843,
          31.204839052535682,
          31.244911023382933,
          31.284982994230184,
          31.325054965077435,
          31.36512693592469,
          31.40519890677194,
          31.44527087761919,
          31.485342848466445,
          31.525414819313696,
          31.565486790160946,
          31.605558761008197,
          31.64563073185545,
          31.685702702702702,
          31.725774673549957,
          31.765846644397207,
          31.805918615244458,
          31.84599058609171,
          31.88606255693896,
          31.926134527786214,
          31.966206498633465,
          32.00627846948072,
          32.04635044032797,
          32.08642241117522,
          32.12649438202247,
          32.16656635286972,
          32.20663832371697,
          32.246710294564224,
          32.286782265411475,
          32.326854236258725,
          32.36692620710598,
          32.406998177953234,
          32.447070148800485,
          32.487142119647736,
          32.527214090494994,
          32.567286061342244,
          32.607358032189495,
          32.647430003036746,
          32.687501973884,
          32.72757394473125,
          32.7676459155785,
          32.80771788642575,
          32.847789857273,
          32.88786182812026,
          32.92793379896751,
          32.96800576981476,
          33.00807774066201,
          33.04814971150926,
          33.08822168235651,
          33.12829365320376,
          33.16836562405102,
          33.20843759489827,
          33.24850956574552,
          33.28858153659277,
          33.32865350744002,
          33.368725478287274,
          33.408797449134525,
          33.448869419981776,
          33.48894139082903,
          33.529013361676284,
          33.569085332523535,
          33.609157303370786,
          33.64922927421804,
          33.68930124506529,
          33.729373215912545,
          33.769445186759796,
          33.80951715760705,
          33.8495891284543,
          33.88966109930155,
          33.9297330701488,
          33.96980504099605,
          34.0098770118433,
          34.04994898269055,
          34.0900209535378,
          34.13009292438506,
          34.17016489523231,
          34.21023686607956,
          34.25030883692681,
          34.29038080777406,
          34.33045277862132,
          34.37052474946857,
          34.41059672031582,
          34.450668691163074,
          34.490740662010325,
          34.530812632857575,
          34.570884603704826,
          34.61095657455208,
          34.651028545399335,
          34.691100516246586,
          34.731172487093836,
          34.77124445794109,
          34.81131642878834,
          34.85138839963559,
          34.89146037048284,
          34.9315323413301,
          34.97160431217735,
          35.0116762830246,
          35.05174825387185,
          35.0918202247191,
          35.13189219556635,
          35.1719641664136,
          35.21203613726085,
          35.252108108108104,
          35.29218007895536,
          35.33225204980261,
          35.37232402064986,
          35.412395991497114,
          35.452467962344365,
          35.49253993319162,
          35.53261190403887,
          35.572683874886124,
          35.612755845733375,
          35.652827816580626,
          35.692899787427876,
          35.73297175827513,
          35.77304372912238,
          35.81311569996963,
          35.85318767081688,
          35.89325964166413,
          35.93333161251139,
          35.97340358335864,
          36.01347555420589,
          36.05354752505314,
          36.0936194959004,
          36.13369146674765,
          36.1737634375949,
          36.21383540844215,
          36.2539073792894,
          36.29397935013665,
          36.3340513209839,
          36.374123291831154,
          36.414195262678405,
          36.45426723352566,
          36.49433920437291,
          36.534411175220164,
          36.574483146067415,
          36.614555116914666,
          36.65462708776192,
          36.69469905860917,
          36.734771029456425,
          36.774843000303676,
          36.81491497115093,
          36.85498694199818,
          36.89505891284543,
          36.93513088369268,
          36.97520285453993,
          37.01527482538718,
          37.05534679623443,
          37.09541876708168,
          37.13549073792894,
          37.17556270877619,
          37.21563467962344,
          37.25570665047069,
          37.29577862131795,
          37.3358505921652,
          37.37592256301245,
          37.4159945338597,
          37.45606650470695,
          37.496138475554204,
          37.536210446401455,
          37.576282417248706,
          37.61635438809596,
          37.656426358943214,
          37.69649832979046,
          37.736570300637716,
          37.77664227148497,
          37.816714242332225,
          37.85678621317947,
          37.896858184026726,
          37.93693015487398,
          37.97700212572123,
          38.01707409656848,
          38.05714606741573,
          38.09721803826298,
          38.13729000911023,
          38.17736197995748,
          38.21743395080473,
          38.25750592165199,
          38.297577892499234,
          38.33764986334649,
          38.37772183419374,
          38.41779380504099,
          38.45786577588825,
          38.4979377467355,
          38.53800971758275,
          38.578081688430004,
          38.618153659277255,
          38.658225630124505,
          38.698297600971756,
          38.73836957181901,
          38.77844154266626,
          38.81851351351351,
          38.85858548436076,
          38.89865745520802,
          38.93872942605527,
          38.978801396902526,
          39.01887336774977,
          39.05894533859703,
          39.09901730944428,
          39.13908928029153,
          39.17916125113878,
          39.21923322198603,
          39.25930519283328,
          39.29937716368053,
          39.33944913452778,
          39.379521105375034,
          39.41959307622229,
          39.459665047069535,
          39.49973701791679,
          39.539808988764044,
          39.579880959611295,
          39.619952930458545,
          39.6600249013058,
          39.700096872153054,
          39.740168843000305,
          39.780240813847556,
          39.820312784694806,
          39.86038475554206,
          39.90045672638931,
          39.94052869723656,
          39.98060066808381,
          40.02067263893106,
          40.06074460977831,
          40.10081658062557,
          40.14088855147282,
          40.18096052232007,
          40.22103249316733,
          40.26110446401458,
          40.30117643486183,
          40.34124840570908,
          40.38132037655633,
          40.42139234740358,
          40.46146431825083,
          40.501536289098084,
          40.541608259945335,
          40.581680230792585,
          40.621752201639836,
          40.661824172487094,
          40.701896143334345,
          40.741968114181596,
          40.78204008502885,
          40.822112055876104,
          40.862184026723355,
          40.902255997570606,
          40.94232796841786,
          40.98239993926511
         ],
         "xaxis": "x",
         "y": [
          0.016491835430675846,
          0.016778548013719533,
          0.01706885791898613,
          0.017362796376505084,
          0.017660394352296528,
          0.017961682492296953,
          0.01826669106427708,
          0.01857544989781069,
          0.01888798832235928,
          0.01920433510354213,
          0.01952451837766801,
          0.019848565584609134,
          0.020176503399104387,
          0.020508357660582784,
          0.02084415330160395,
          0.021183914275017812,
          0.02152766347994863,
          0.02187542268671501,
          0.022227212460800616,
          0.022583052085994988,
          0.022942959486827178,
          0.023306951150419364,
          0.023675042047890046,
          0.02404724555544079,
          0.024423573375261628,
          0.024804035456394702,
          0.02518863991569602,
          0.025577392959039526,
          0.02597029880290658,
          0.02636735959650754,
          0.026768575344582542,
          0.027173943831028072,
          0.02758346054349839,
          0.027997118599128824,
          0.02841490867152938,
          0.028836818919195303,
          0.029262834915480557,
          0.029692939580279038,
          0.030127113113557244,
          0.030565332930878493,
          0.031007573601058252,
          0.03145380678608695,
          0.03190400118345314,
          0.03235812247099741,
          0.03281613325442338,
          0.03327799301758943,
          0.033743658075698485,
          0.034213081531501634,
          0.03468621323462391,
          0.03516299974411886,
          0.03564338429434979,
          0.03612730676429386,
          0.03661470365035682,
          0.03710550804278259,
          0.0375996496057346,
          0.03809705456112012,
          0.03859764567622389,
          0.03910134225520857,
          0.03960806013453584,
          0.040117711682353174,
          0.04063020580188679,
          0.041145447938872926,
          0.04166334009305368,
          0.042183780833757824,
          0.042706665319578035,
          0.043231885322152046,
          0.04375932925404606,
          0.044288882200734625,
          0.044820425956661816,
          0.045353839065365144,
          0.0458889968636342,
          0.04642577152967264,
          0.046964032135223426,
          0.047503644701613355,
          0.04804447225966495,
          0.048586374913420646,
          0.049129209907615816,
          0.0496728316988336,
          0.05021709203026985,
          0.050761840010029105,
          0.051306922192870655,
          0.05185218266531653,
          0.05239746313403187,
          0.05294260301738062,
          0.05348743954005908,
          0.05403180783070297,
          0.05457554102236386,
          0.05511847035574366,
          0.055660425285076795,
          0.0562012335865441,
          0.056740721469102404,
          0.05727871368760958,
          0.05781503365812407,
          0.0583495035752569,
          0.0588819445314505,
          0.05941217663805983,
          0.059940019148108904,
          0.06046529058059574,
          0.060987808846217455,
          0.06150739137438759,
          0.062023855241417555,
          0.06253701729973311,
          0.06304669430799885,
          0.06355270306202189,
          0.06405486052630774,
          0.06455298396614288,
          0.06504689108007629,
          0.06553640013267718,
          0.06602133008744368,
          0.06650150073974069,
          0.0669767328496451,
          0.06744684827457897,
          0.06791167010161138,
          0.06837102277931258,
          0.06882473224904417,
          0.06927262607557222,
          0.0697145335768902,
          0.07015028595314136,
          0.07057971641453199,
          0.07100266030812709,
          0.07141895524342426,
          0.07182844121660048,
          0.0722309607333303,
          0.07262635893007456,
          0.07301448369374029,
          0.07339518577961485,
          0.07376831892747766,
          0.07413373997579643,
          0.07449130897391357,
          0.07484088929213185,
          0.07518234772961033,
          0.07551555461998008,
          0.07584038393459401,
          0.07615671338332373,
          0.07646442451281958,
          0.0767634028021495,
          0.0770535377557347,
          0.07733472299350135,
          0.07760685633816765,
          0.07786983989958786,
          0.07812358015607507,
          0.07836798803262636,
          0.07860297897597508,
          0.0788284730263946,
          0.07904439488618174,
          0.07925067398474665,
          0.07944724454023848,
          0.07963404561763743,
          0.07981102118324385,
          0.07997812015549853,
          0.08013529645206695,
          0.08028250903312503,
          0.08041972194078181,
          0.0805469043345798,
          0.08066403052301233,
          0.08077107999100182,
          0.0808680374232829,
          0.080954892723637,
          0.08103164102992842,
          0.08109828272489233,
          0.08115482344262978,
          0.08120127407076563,
          0.08123765074822967,
          0.0812639748586239,
          0.08128027301914122,
          0.08128657706500587,
          0.08128292402940848,
          0.08126935611891192,
          0.08124592068431015,
          0.08121267018692399,
          0.08116966216032345,
          0.08111695916747143,
          0.08105462875328653,
          0.08098274339262906,
          0.08090138043371878,
          0.08081062203699942,
          0.08071055510946783,
          0.08060127123449462,
          0.08048286659716612,
          0.08035544190518508,
          0.08021910230537282,
          0.0800739572958227,
          0.07992012063375906,
          0.0797577102391654,
          0.07958684809424894,
          0.07940766013881745,
          0.0792202761616497,
          0.07902482968794904,
          0.07882145786297426,
          0.0786103013319516,
          0.07839150411637537,
          0.07816521348681389,
          0.07793157983234418,
          0.07769075652674319,
          0.07744289979157327,
          0.07718816855630398,
          0.07692672431561921,
          0.07665873098406632,
          0.07638435474820822,
          0.07610376391644678,
          0.07581712876669194,
          0.07552462139205535,
          0.07522641554475432,
          0.07492268647841678,
          0.07461361078898157,
          0.0742993662543957,
          0.07398013167331217,
          0.0736560867029977,
          0.0733274116966628,
          0.07299428754043019,
          0.07265689549016147,
          0.07231541700836269,
          0.0719700336013948,
          0.07162092665721405,
          0.07126827728387068,
          0.07091226614899486,
          0.07055307332050004,
          0.0701908781087324,
          0.06982585891029729,
          0.06945819305379165,
          0.06908805664766939,
          0.0687156244304672,
          0.06834106962361414,
          0.06796456378704732,
          0.06758627667785153,
          0.0672063761121389,
          0.06682502783037841,
          0.06644239536638316,
          0.06605863992015559,
          0.06567392023478816,
          0.0652883924776087,
          0.0649022101257549,
          0.06451552385635438,
          0.06412848144148113,
          0.06374122764804946,
          0.06335390414280014,
          0.06296664940252382,
          0.06257959862965858,
          0.06219288367338941,
          0.06180663295636629,
          0.061420971407150096,
          0.06103602039848263,
          0.06065189769146877,
          0.06026871738574636,
          0.05988658987570924,
          0.05950562181283709,
          0.05912591607417425,
          0.05874757173698855,
          0.05837068405962845,
          0.057995344468585626,
          0.057621640551757454,
          0.057249656057892305,
          0.0568794709021877,
          0.05651116117799959,
          0.05614479917460925,
          0.05578045340098078,
          0.05541818861543173,
          0.05505806586112622,
          0.05470014250728891,
          0.054344472296025105,
          0.053991105394623325,
          0.05364008845320176,
          0.053291464667552836,
          0.052945273847026304,
          0.05260155248728202,
          0.05226033384773392,
          0.05192164803349582,
          0.05158552208163049,
          0.051251980051495234,
          0.05092104311896711,
          0.05059272967432479,
          0.05026705542355345,
          0.049944033492835584,
          0.04962367453597998,
          0.04930598684453864,
          0.04899097646035254,
          0.0486786472902645,
          0.04836900122273183,
          0.048062038246067355,
          0.04775775656803504,
          0.047456152736522615,
          0.04715722176101277,
          0.04686095723457221,
          0.04656735145607683,
          0.046276395552392664,
          0.04598807960023126,
          0.04570239274739923,
          0.04541932333316527,
          0.04513885900746832,
          0.04486098684869529,
          0.04458569347975874,
          0.04431296518221168,
          0.04404278800813918,
          0.04377514788957376,
          0.043510030745186945,
          0.0432474225840166,
          0.04298730960599639,
          0.04272967829906265,
          0.04247451553262122,
          0.0422218086471667,
          0.04197154553985545,
          0.04172371474584453,
          0.04147830551521731,
          0.0412353078853299,
          0.040994712748421216,
          0.04075651191434337,
          0.040520698168278774,
          0.04028726532332494,
          0.04005620826783861,
          0.0398275230074448,
          0.03960120670162894,
          0.039377257694843563,
          0.03915567554207455,
          0.03893646102882542,
          0.038719616185491766,
          0.03850514429611125,
          0.03829304990148927,
          0.03808333879671315,
          0.0378760180230816,
          0.03767109585449028,
          0.03746858177832715,
          0.03726848647094516,
          0.03707082176779241,
          0.036875600628293724,
          0.036682837095589345,
          0.036492546251249695,
          0.036304744165096624,
          0.036119447840274294,
          0.035936675153722945,
          0.035756444792221516,
          0.035578776184173995,
          0.03540368942732604,
          0.0352312052126073,
          0.03506134474430436,
          0.034894129656777725,
          0.03472958192794497,
          0.03456772378975938,
          0.03440857763592008,
          0.03425216592705752,
          0.0340985110936421,
          0.03394763543687069,
          0.03379956102778931,
          0.03365430960491479,
          0.033511902470621024,
          0.03337236038655887,
          0.03323570346837994,
          0.03310195108003641,
          0.0329711217279294,
          0.03284323295517869,
          0.03271830123628581,
          0.03259634187246101,
          0.032477368887883336,
          0.03236139492715974,
          0.03224843115424616,
          0.032138487153090124,
          0.03203157083024926,
          0.03192768831973555,
          0.03182684389032946,
          0.03172903985560181,
          0.031634276486874446,
          0.03154255192934388,
          0.03145386212158397,
          0.03136820071863553,
          0.031285559018882414,
          0.03120592589490369,
          0.031129287728483307,
          0.03105562834994724,
          0.030984928981989037,
          0.030917168188133472,
          0.030852321825977306,
          0.030790363005334883,
          0.03073126205140536,
          0.030674986473065897,
          0.03062150093638426,
          0.03057076724343178,
          0.030522744316465757,
          0.03047738818753828,
          0.030434651993576135,
          0.030394485976964532,
          0.030356837491654548,
          0.030321651014802824,
          0.030288868163939248,
          0.030258427719646735,
          0.03023026565372498,
          0.030204315162798687,
          0.030180506707318765,
          0.03015876805589393,
          0.030139024334878826,
          0.030121198083133835,
          0.030105209311861232,
          0.03009097556941191,
          0.030078412010946853,
          0.03006743147282806,
          0.030057944551603807,
          0.030049859687444922,
          0.03004308325187944,
          0.030037519639665305,
          0.030033071364633013,
          0.030029639159322635,
          0.030027122078232965,
          0.03002541760449408,
          0.030024421759768657,
          0.030024029217182144,
          0.03002413341707662,
          0.030024626685378916,
          0.030025400354369573,
          0.030026344885635572,
          0.030027349994987122,
          0.030028304779115566,
          0.03002909784376871,
          0.030029617433216832,
          0.03002975156078275,
          0.030029388140208522,
          0.030028415117630748,
          0.03002672060393764,
          0.03002419300728133,
          0.03002072116552026,
          0.0300161944783686,
          0.03001050303903139,
          0.030003537765107037,
          0.029995190528541486,
          0.02998535428442227,
          0.029973923198403897,
          0.029960792772560575,
          0.029945859969466523,
          0.029929023334309333,
          0.02991018311484645,
          0.029889241379020815,
          0.0298661021300572,
          0.029840671418866788,
          0.029812857453594105,
          0.029782570706146216,
          0.029749724015552037,
          0.029714232688004837,
          0.029676014593450095,
          0.02963499025858615,
          0.029591082956154143,
          0.029544218790400232,
          0.029494326778601223,
          0.029441338928552042,
          0.02938519031192218,
          0.02932581913339481,
          0.02926316679551138,
          0.02919717795915185,
          0.02912780059958848,
          0.0290549860580599,
          0.0289786890888188,
          0.028898867901615975,
          0.02881548419958979,
          0.028728503212539187,
          0.0286378937255651,
          0.0285436281030734,
          0.0284456823081396,
          0.028344035917243167,
          0.028238672130386076,
          0.028129577776618543,
          0.02801674331500007,
          0.027900162831032627,
          0.02777983402860783,
          0.027655758217517826,
          0.027527940296584837,
          0.027396388732471195,
          0.02726111553423689,
          0.027122136223718427,
          0.02697946980180711,
          0.02683313871071077,
          0.026683168792288516,
          0.02652958924255185,
          0.026372432562431034,
          0.02621173450490956,
          0.026047534018634157,
          0.025879873188110983,
          0.0257087971706035,
          0.025534354129849536,
          0.025356595166720022,
          0.0251755742469432,
          0.024991348126021922,
          0.02480397627147421,
          0.024613520782528753,
          0.02442004630740983,
          0.024223619958347563,
          0.024024311224451773,
          0.02382219188258688,
          0.02361733590639015,
          0.02340981937357225,
          0.02319972037164337,
          0.022987118902205898,
          0.022772096783957176,
          0.02255473755454345,
          0.022335126371408855,
          0.02211334991177934,
          0.02188949627192488,
          0.021663654865838516,
          0.021435916323472977,
          0.02120637238867252,
          0.02097511581693685,
          0.02074224027315306,
          0.020507840229428347,
          0.020272010863155863,
          0.020034847955442817
         ],
         "yaxis": "y"
        },
        {
         "legendgroup": "Strike Rate",
         "marker": {
          "color": "rgb(255, 127, 14)"
         },
         "mode": "lines",
         "name": "Strike Rate",
         "showlegend": false,
         "type": "scatter",
         "x": [
          101.73453996983409,
          101.84619909502263,
          101.95785822021116,
          102.0695173453997,
          102.18117647058824,
          102.29283559577678,
          102.4044947209653,
          102.51615384615384,
          102.62781297134238,
          102.73947209653092,
          102.85113122171946,
          102.962790346908,
          103.07444947209653,
          103.18610859728507,
          103.29776772247361,
          103.40942684766215,
          103.52108597285068,
          103.63274509803922,
          103.74440422322775,
          103.85606334841628,
          103.96772247360482,
          104.07938159879336,
          104.1910407239819,
          104.30269984917044,
          104.41435897435898,
          104.52601809954751,
          104.63767722473605,
          104.74933634992459,
          104.86099547511313,
          104.97265460030167,
          105.08431372549019,
          105.19597285067873,
          105.30763197586727,
          105.4192911010558,
          105.53095022624434,
          105.64260935143288,
          105.75426847662142,
          105.86592760180996,
          105.9775867269985,
          106.08924585218703,
          106.20090497737557,
          106.31256410256411,
          106.42422322775263,
          106.53588235294117,
          106.64754147812971,
          106.75920060331825,
          106.87085972850679,
          106.98251885369532,
          107.09417797888386,
          107.2058371040724,
          107.31749622926094,
          107.42915535444948,
          107.54081447963802,
          107.65247360482655,
          107.76413273001509,
          107.87579185520362,
          107.98745098039215,
          108.09911010558069,
          108.21076923076923,
          108.32242835595777,
          108.4340874811463,
          108.54574660633484,
          108.65740573152338,
          108.76906485671192,
          108.88072398190046,
          108.99238310708898,
          109.10404223227752,
          109.21570135746606,
          109.3273604826546,
          109.43901960784314,
          109.55067873303167,
          109.66233785822021,
          109.77399698340875,
          109.88565610859729,
          109.99731523378583,
          110.10897435897436,
          110.2206334841629,
          110.33229260935144,
          110.44395173453998,
          110.5556108597285,
          110.66726998491704,
          110.77892911010558,
          110.89058823529412,
          111.00224736048266,
          111.1139064856712,
          111.22556561085973,
          111.33722473604827,
          111.44888386123681,
          111.56054298642535,
          111.67220211161387,
          111.78386123680241,
          111.89552036199095,
          112.00717948717949,
          112.11883861236802,
          112.23049773755656,
          112.3421568627451,
          112.45381598793364,
          112.56547511312218,
          112.67713423831071,
          112.78879336349925,
          112.90045248868779,
          113.01211161387633,
          113.12377073906485,
          113.23542986425339,
          113.34708898944193,
          113.45874811463047,
          113.570407239819,
          113.68206636500754,
          113.79372549019608,
          113.90538461538462,
          114.01704374057316,
          114.1287028657617,
          114.24036199095022,
          114.35202111613876,
          114.4636802413273,
          114.57533936651583,
          114.68699849170437,
          114.79865761689291,
          114.91031674208145,
          115.02197586726999,
          115.13363499245852,
          115.24529411764706,
          115.3569532428356,
          115.46861236802414,
          115.58027149321268,
          115.69193061840122,
          115.80358974358975,
          115.91524886877828,
          116.02690799396682,
          116.13856711915535,
          116.25022624434389,
          116.36188536953243,
          116.47354449472097,
          116.5852036199095,
          116.69686274509804,
          116.80852187028658,
          116.92018099547512,
          117.03184012066365,
          117.14349924585218,
          117.25515837104072,
          117.36681749622926,
          117.4784766214178,
          117.59013574660634,
          117.70179487179487,
          117.81345399698341,
          117.92511312217195,
          118.03677224736049,
          118.14843137254903,
          118.26009049773756,
          118.3717496229261,
          118.48340874811463,
          118.59506787330318,
          118.7067269984917,
          118.81838612368024,
          118.93004524886878,
          119.04170437405732,
          119.15336349924586,
          119.2650226244344,
          119.37668174962293,
          119.48834087481146,
          119.60000000000001,
          119.71165912518853,
          119.82331825037707,
          119.93497737556561,
          120.04663650075415,
          120.15829562594269,
          120.26995475113122,
          120.38161387631976,
          120.4932730015083,
          120.60493212669684,
          120.71659125188538,
          120.82825037707391,
          120.93990950226245,
          121.05156862745099,
          121.16322775263953,
          121.27488687782805,
          121.38654600301659,
          121.49820512820513,
          121.60986425339367,
          121.7215233785822,
          121.83318250377074,
          121.94484162895928,
          122.05650075414782,
          122.16815987933634,
          122.27981900452488,
          122.39147812971342,
          122.50313725490196,
          122.6147963800905,
          122.72645550527903,
          122.83811463046757,
          122.94977375565611,
          123.06143288084465,
          123.17309200603319,
          123.28475113122173,
          123.39641025641026,
          123.5080693815988,
          123.61972850678734,
          123.73138763197588,
          123.84304675716442,
          123.95470588235294,
          124.06636500754148,
          124.17802413273002,
          124.28968325791855,
          124.40134238310709,
          124.51300150829563,
          124.62466063348417,
          124.7363197586727,
          124.84797888386124,
          124.95963800904977,
          125.0712971342383,
          125.18295625942685,
          125.29461538461538,
          125.40627450980392,
          125.51793363499246,
          125.629592760181,
          125.74125188536954,
          125.85291101055807,
          125.96457013574661,
          126.07622926093515,
          126.18788838612369,
          126.29954751131223,
          126.41120663650076,
          126.52286576168929,
          126.63452488687783,
          126.74618401206637,
          126.8578431372549,
          126.96950226244344,
          127.08116138763198,
          127.19282051282052,
          127.30447963800906,
          127.4161387631976,
          127.52779788838612,
          127.63945701357466,
          127.7511161387632,
          127.86277526395173,
          127.97443438914027,
          128.0860935143288,
          128.19775263951735,
          128.30941176470589,
          128.42107088989442,
          128.53273001508296,
          128.6443891402715,
          128.75604826546004,
          128.86770739064858,
          128.9793665158371,
          129.09102564102565,
          129.2026847662142,
          129.31434389140273,
          129.42600301659127,
          129.53766214177978,
          129.64932126696834,
          129.76098039215685,
          129.87263951734542,
          129.98429864253393,
          130.09595776772247,
          130.207616892911,
          130.31927601809954,
          130.43093514328808,
          130.54259426847662,
          130.65425339366516,
          130.7659125188537,
          130.87757164404223,
          130.98923076923077,
          131.1008898944193,
          131.21254901960785,
          131.3242081447964,
          131.43586726998493,
          131.54752639517346,
          131.659185520362,
          131.77084464555054,
          131.88250377073908,
          131.99416289592762,
          132.10582202111615,
          132.2174811463047,
          132.3291402714932,
          132.44079939668177,
          132.55245852187028,
          132.66411764705882,
          132.77577677224735,
          132.8874358974359,
          132.99909502262443,
          133.11075414781297,
          133.2224132730015,
          133.33407239819005,
          133.44573152337858,
          133.55739064856712,
          133.66904977375566,
          133.7807088989442,
          133.89236802413274,
          134.00402714932127,
          134.1156862745098,
          134.22734539969835,
          134.3390045248869,
          134.45066365007543,
          134.56232277526397,
          134.6739819004525,
          134.78564102564104,
          134.89730015082955,
          135.00895927601812,
          135.12061840120663,
          135.23227752639517,
          135.3439366515837,
          135.45559577677227,
          135.56725490196078,
          135.67891402714932,
          135.79057315233786,
          135.9022322775264,
          136.01389140271493,
          136.12555052790347,
          136.237209653092,
          136.34886877828055,
          136.46052790346909,
          136.57218702865762,
          136.68384615384616,
          136.7955052790347,
          136.90716440422324,
          137.01882352941178,
          137.1304826546003,
          137.24214177978882,
          137.3538009049774,
          137.46546003016593,
          137.57711915535447,
          137.68877828054298,
          137.80043740573154,
          137.91209653092005,
          138.0237556561086,
          138.13541478129713,
          138.24707390648567,
          138.3587330316742,
          138.47039215686274,
          138.58205128205128,
          138.69371040723982,
          138.80536953242836,
          138.9170286576169,
          139.02868778280543,
          139.14034690799397,
          139.2520060331825,
          139.36366515837105,
          139.4753242835596,
          139.58698340874813,
          139.69864253393666,
          139.8103016591252,
          139.92196078431374,
          140.03361990950225,
          140.14527903469082,
          140.25693815987933,
          140.3685972850679,
          140.4802564102564,
          140.59191553544497,
          140.70357466063348,
          140.81523378582202,
          140.92689291101055,
          141.0385520361991,
          141.15021116138763,
          141.26187028657617,
          141.3735294117647,
          141.48518853695325,
          141.59684766214178,
          141.70850678733032,
          141.82016591251886,
          141.9318250377074,
          142.04348416289594,
          142.15514328808447,
          142.266802413273,
          142.37846153846155,
          142.4901206636501,
          142.6017797888386,
          142.71343891402717,
          142.82509803921567,
          142.93675716440424,
          143.04841628959275,
          143.16007541478132,
          143.27173453996983,
          143.38339366515837,
          143.4950527903469,
          143.60671191553544,
          143.71837104072398,
          143.83003016591252,
          143.94168929110106,
          144.0533484162896,
          144.16500754147813,
          144.27666666666667,
          144.3883257918552,
          144.49998491704375,
          144.61164404223229,
          144.72330316742082,
          144.83496229260936,
          144.9466214177979,
          145.05828054298644,
          145.16993966817498,
          145.28159879336351,
          145.39325791855202,
          145.5049170437406,
          145.6165761689291,
          145.72823529411767,
          145.83989441930618,
          145.95155354449474,
          146.06321266968325,
          146.1748717948718,
          146.28653092006033,
          146.39819004524887,
          146.5098491704374,
          146.62150829562594,
          146.73316742081448,
          146.84482654600302,
          146.95648567119156,
          147.0681447963801,
          147.17980392156863,
          147.29146304675717,
          147.4031221719457,
          147.51478129713425,
          147.6264404223228,
          147.73809954751133,
          147.84975867269986,
          147.9614177978884,
          148.07307692307694,
          148.18473604826545,
          148.29639517345402,
          148.40805429864253,
          148.51971342383106,
          148.6313725490196,
          148.74303167420817,
          148.85469079939668,
          148.96634992458522,
          149.07800904977375,
          149.1896681749623,
          149.30132730015083,
          149.41298642533937,
          149.5246455505279,
          149.63630467571645,
          149.74796380090498,
          149.85962292609352,
          149.97128205128206,
          150.0829411764706,
          150.19460030165914,
          150.30625942684767,
          150.4179185520362,
          150.52957767722472,
          150.6412368024133,
          150.75289592760183,
          150.86455505279037,
          150.97621417797887,
          151.08787330316744,
          151.19953242835595,
          151.3111915535445,
          151.42285067873303,
          151.53450980392157,
          151.6461689291101,
          151.75782805429864,
          151.86948717948718,
          151.98114630467572,
          152.09280542986426,
          152.2044645550528,
          152.31612368024133,
          152.42778280542987,
          152.5394419306184,
          152.65110105580695,
          152.76276018099549,
          152.87441930618402,
          152.98607843137256,
          153.0977375565611,
          153.20939668174964,
          153.32105580693815,
          153.43271493212671,
          153.54437405731522,
          153.6560331825038,
          153.7676923076923,
          153.87935143288087,
          153.99101055806938,
          154.10266968325791,
          154.21432880844645,
          154.325987933635,
          154.43764705882353,
          154.54930618401207,
          154.6609653092006,
          154.77262443438914,
          154.88428355957768,
          154.99594268476622,
          155.10760180995476,
          155.2192609351433,
          155.33092006033183,
          155.44257918552037,
          155.5542383107089,
          155.66589743589745,
          155.777556561086,
          155.8892156862745,
          156.00087481146306,
          156.11253393665157,
          156.22419306184014,
          156.33585218702865,
          156.44751131221722,
          156.55917043740573,
          156.67082956259426,
          156.7824886877828,
          156.89414781297134,
          157.00580693815988,
          157.11746606334842,
          157.22912518853695,
          157.3407843137255,
          157.45244343891403
         ],
         "xaxis": "x",
         "y": [
          0.0037379243652604635,
          0.0038086245930101245,
          0.003880404882735557,
          0.003953301936476499,
          0.004027353980804701,
          0.004102600750384856,
          0.004179083466987121,
          0.00425684481388211,
          0.004335928905560909,
          0.004416381252734984,
          0.004498248722583436,
          0.004581579494228439,
          0.0046664230094325115,
          0.004752829918525335,
          0.0048408520215817395,
          0.0049305422048860565,
          0.005021954372733059,
          0.005115143374629252,
          0.005210164927973215,
          0.005307075536308206,
          0.005405932403253802,
          0.005506793342238854,
          0.005609716682171309,
          0.005714761169194677,
          0.005821985864694742,
          0.005931450039733726,
          0.006043213066101725,
          0.0061573343041883884,
          0.0062738729878901636,
          0.006392888106779682,
          0.006514438285775576,
          0.006638581662561862,
          0.006765375763014908,
          0.006894877374907184,
          0.007027142420163761,
          0.007162225825956524,
          0.007300181394927975,
          0.007441061674842188,
          0.007584917827966332,
          0.007731799500490738,
          0.00788175469229837,
          0.008034829627397693,
          0.008191068625334643,
          0.008350513973899349,
          0.008513205803443655,
          0.008679181963123679,
          0.008848477899379283,
          0.009021126536959424,
          0.00919715816279702,
          0.009376600313032526,
          0.009559477663478783,
          0.009745811923811794,
          0.00993562173576452,
          0.01012892257559159,
          0.010325726661061858,
          0.010526042863225752,
          0.01072987662319257,
          0.010937229874138865,
          0.011148100968758387,
          0.011362484612347405,
          0.011580371801706183,
          0.011801749770022256,
          0.01202660193788433,
          0.012254907870560498,
          0.01248664324165777,
          0.012721779803262293,
          0.012960285362643334,
          0.013202123765586233,
          0.013447254886401921,
          0.013695634624643833,
          0.013947214908544002,
          0.014201943705163936,
          0.014459765037238255,
          0.014720619006670954,
          0.014984441824628379,
          0.015251165848156209,
          0.015520719623230716,
          0.015793027934139822,
          0.01606801185907424,
          0.016345588831793236,
          0.01662567270921699,
          0.01690817384478306,
          0.017192999167392527,
          0.01748005226575873,
          0.017769233477961558,
          0.018060439985998447,
          0.018353565915114885,
          0.018648502437688716,
          0.01894513788143364,
          0.01924335784168162,
          0.019543045297498222,
          0.019844080731377688,
          0.020146342252264113,
          0.020449705721638164,
          0.020754044882408784,
          0.021059231490347573,
          0.021365135447801623,
          0.021671624939422558,
          0.021978566569649645,
          0.022285825501686375,
          0.022593265597713033,
          0.02290074956008133,
          0.023208139073239608,
          0.023515294946143316,
          0.023822077254909618,
          0.02412834548548043,
          0.024433958676065567,
          0.024738775559142126,
          0.025042654702794775,
          0.02534545465118892,
          0.025647034063974596,
          0.025947251854428238,
          0.026245967326147413,
          0.026543040308120252,
          0.02683833128800106,
          0.027131701543431072,
          0.02742301327125122,
          0.027712129714463546,
          0.02799891528680348,
          0.02828323569479556,
          0.028564958057172594,
          0.02884395102154467,
          0.029120084878213687,
          0.029393231671036187,
          0.029663265305243262,
          0.02993006165213457,
          0.030193498650570187,
          0.030453456405189348,
          0.030709817281292517,
          0.03096246599632891,
          0.03121128970793672,
          0.03145617809849022,
          0.03169702345611111,
          0.03193372075210831,
          0.03216616771481475,
          0.032394264899793475,
          0.03261791575639085,
          0.032837026690618706,
          0.033051507124351044,
          0.03326126955082457,
          0.03346622958643812,
          0.03366630601884686,
          0.033861420851353484,
          0.03405149934360112,
          0.034236470048575864,
          0.03441626484593196,
          0.03459081897165448,
          0.03476007104407946,
          0.03492396308629416,
          0.035082440544944214,
          0.0352354523054779,
          0.03538295070386236,
          0.0355248915348083,
          0.03566123405654691,
          0.035791940992203175,
          0.0359169785278162,
          0.03603631630705991,
          0.03614992742272214,
          0.03625778840500383,
          0.036359879206704054,
          0.0364561831853614,
          0.03654668708242468,
          0.03663138099953188,
          0.03671025837197857,
          0.03678331593946125,
          0.036850553714185524,
          0.0369119749464309,
          0.03696758608766914,
          0.03701739675133499,
          0.03706141967135119,
          0.03709967065851307,
          0.03713216855483941,
          0.03715893518599875,
          0.037179995311922086,
          0.03719537657571467,
          0.037205109450979046,
          0.03720922718766428,
          0.03720776575655473,
          0.037200763792512144,
          0.03718826253658477,
          0.03717030577709442,
          0.03714693978981279,
          0.03711821327733518,
          0.03708417730775716,
          0.03704488525275788,
          0.03700039272518929,
          0.03695075751626738,
          0.036896039532457306,
          0.0368363007321402,
          0.03677160506214321,
          0.036702018394211174,
          0.03662760846149101,
          0.03654844479509555,
          0.03646459866080646,
          0.036376142995970646,
          0.036283152346638016,
          0.0361857028049814,
          0.036083871947034385,
          0.03597773877077507,
          0.03586738363457777,
          0.035752888196049167,
          0.03563433535125757,
          0.035511809174359726,
          0.035385394857622654,
          0.03525517865183267,
          0.035121247807079176,
          0.03498369051389523,
          0.034842595844732614,
          0.03469805369574572,
          0.03455015472885394,
          0.034398990314050346,
          0.03424465247192092,
          0.034087233816337305,
          0.033926827497284144,
          0.03376352714378163,
          0.033597426806863444,
          0.03342862090257011,
          0.03325720415491978,
          0.0330832715388191,
          0.032906918222878855,
          0.03272823951210263,
          0.03254733079041881,
          0.0323642874630308,
          0.03217920489856431,
          0.03199217837099494,
          0.03180330300134505,
          0.03161267369914402,
          0.03142038510365166,
          0.031226531524851546,
          0.03103120688422684,
          0.030834504655337575,
          0.030636517804226458,
          0.03043733872968557,
          0.030237059203424628,
          0.030035770310188014,
          0.02983356238787403,
          0.029630524967718175,
          0.029426746714607557,
          0.029222315367600102,
          0.02901731768072954,
          0.02881183936418162,
          0.028605965025932836,
          0.028399778113948657,
          0.028193360859042296,
          0.02798679421849843,
          0.02778015782057166,
          0.02757352990997068,
          0.027366987294442258,
          0.02716060529257115,
          0.026954457682912908,
          0.026748616654576104,
          0.026543152759373044,
          0.02633813486565287,
          0.0261336301139346,
          0.025929703874449723,
          0.025726419706707117,
          0.025523839321184426,
          0.025322022543248644,
          0.025121027279403785,
          0.02492090948595727,
          0.024721723140191127,
          0.024523520214118518,
          0.024326350650898092,
          0.02413026234397203,
          0.023935301118986,
          0.023741510718541275,
          0.023548932789820027,
          0.023357606875117762,
          0.02316757040530703,
          0.022978858696247415,
          0.022791504948148775,
          0.022605540247884994,
          0.022420993574245915,
          0.022237891806107347,
          0.022056259733489254,
          0.021876120071462855,
          0.021697493476861354,
          0.02152039856773632,
          0.021344851945498854,
          0.02117086821967252,
          0.020998460035180345,
          0.02082763810208005,
          0.020658411227655958,
          0.02049078635076876,
          0.02032476857836027,
          0.020160361224003977,
          0.019997565848388178,
          0.0198363823016147,
          0.019676808767192445,
          0.019518841807601845,
          0.019362476411305004,
          0.01920770604107348,
          0.019054522683504833,
          0.018902916899598946,
          0.018752877876264378,
          0.018604393478625487,
          0.01845745030300295,
          0.01831203373044029,
          0.018168127980652423,
          0.01802571616627421,
          0.017884780347288527,
          0.017745301585519783,
          0.01760725999907849,
          0.017470634816650215,
          0.017335404431523392,
          0.017201546455258,
          0.017069037770899433,
          0.016937854585648775,
          0.016807972482904835,
          0.016679366473599744,
          0.016552011046754585,
          0.016425880219187554,
          0.016300947584313216,
          0.016177186359976614,
          0.016054569435271934,
          0.01593306941630137,
          0.01581265867083545,
          0.01569330937184115,
          0.015574993539850514,
          0.01545768308414707,
          0.015341349842753198,
          0.015225965621205526,
          0.015111502230112097,
          0.014997931521487451,
          0.014885225423868656,
          0.01477335597621655,
          0.014662295360613664,
          0.014552015933771032,
          0.014442490257361466,
          0.014333691127199153,
          0.014225591601288192,
          0.014118165026765946,
          0.014011385065768699,
          0.0139052257202492,
          0.01379966135577802,
          0.013694666724361322,
          0.013590216986309089,
          0.013486287731189105,
          0.013382854997902167,
          0.0132798952939144,
          0.013177385613683012,
          0.013075303456311548,
          0.012973626842469835,
          0.012872334330614372,
          0.012771405032542621,
          0.012670818628315358,
          0.01257055538057785,
          0.012470596148312016,
          0.012370922400046941,
          0.012271516226556775,
          0.012172360353069718,
          0.012073438151012956,
          0.011974733649313916,
          0.011876231545276941,
          0.011777917215052312,
          0.011679776723711477,
          0.011581796834940074,
          0.01148396502035794,
          0.011386269468472408,
          0.01128869909326838,
          0.01119124354243636,
          0.011093893205236604,
          0.010996639219994688,
          0.010899473481221528,
          0.010802388646347817,
          0.010705378142060155,
          0.010608436170223935,
          0.010511557713374926,
          0.010414738539759903,
          0.010317975207902712,
          0.010221265070672251,
          0.010124606278823839,
          0.010027997783986244,
          0.009931439341062151,
          0.009834931510010208,
          0.009738475656973545,
          0.00964207395471932,
          0.0095457293823521,
          0.009449445724262647,
          0.009353227568273347,
          0.009257080302940448,
          0.0091610101139727,
          0.009065023979726352,
          0.008969129665735908,
          0.008873335718240427,
          0.00877765145666596,
          0.008682086965025164,
          0.008586653082196048,
          0.00849136139104356,
          0.008396224206348888,
          0.00830125456151301,
          0.008206466194003743,
          0.008111873529517106,
          0.008017491664827266,
          0.00792333634930092,
          0.00782942396505717,
          0.007735771505754569,
          0.007642396553993844,
          0.007549317257325275,
          0.007456552302857019,
          0.0073641208904626125,
          0.007272042704591504,
          0.007180337884691285,
          0.007089026994254432,
          0.006998130988508335,
          0.006907671180771952,
          0.006817669207507927,
          0.006728146992104718,
          0.00663912670742853,
          0.006550630737190372,
          0.006462681636179595,
          0.006375302089420609,
          0.006288514870314969,
          0.006202342797837261,
          0.006116808692858093,
          0.006031935333673239,
          0.005947745410823573,
          0.005864261481295146,
          0.005781505922194481,
          0.005699500883997915,
          0.005618268243480033,
          0.005537829556428978,
          0.005458206010261749,
          0.005379418376655401,
          0.00530148696431466,
          0.005224431571998428,
          0.005148271441930951,
          0.005073025213725951,
          0.004998710878953364,
          0.004925345736480131,
          0.004852946348717522,
          0.004781528498907823,
          0.004711107149583172,
          0.004641696402329191,
          0.004573309458984733,
          0.004505958584407552,
          0.004439655070933879,
          0.004374409204657148,
          0.00431023023364772,
          0.004247126338232508,
          0.004185104603448263,
          0.0041241709937783035,
          0.00406433033027685,
          0.004005586270179678,
          0.003947941289092829,
          0.0038913966658456127,
          0.003835952470085722,
          0.003781607552687518,
          0.003728359539036019,
          0.0036762048252411317,
          0.003625138577327585,
          0.0035751547334370182,
          0.0035262460090695158,
          0.0034784039053819857,
          0.0034316187205510485,
          0.0033858795641981743,
          0.0033411743748645553,
          0.0032974899405128757,
          0.0032548119220230775,
          0.003213124879638693,
          0.003172412302310048,
          0.003132656639870607,
          0.0030938393379725065,
          0.0030559408756972916,
          0.0030189408057487107,
          0.0029828177971240335,
          0.002947549680152401,
          0.0029131134937786856,
          0.002879485534964105,
          0.0028466414100656837,
          0.0028145560880502574,
          0.00278320395539065,
          0.002752558872485896,
          0.002722594231441087,
          0.00269328301503708,
          0.002664597856715744,
          0.0026365111014021994,
          0.0026089948669820754,
          0.002582021106249226,
          0.0025555616691371763,
          0.002529588365046265,
          0.0025040730250779734,
          0.0024789875639878514,
          0.0024543040416695502,
          0.0024299947239838616,
          0.002406032142749017,
          0.0023823891547116007,
          0.002359038999321111,
          0.0023359553551353823,
          0.0023131123946897284,
          0.002290484837667564,
          0.002268048002217481,
          0.002245777854267876,
          0.002223651054698405,
          0.0022016450042350384,
          0.002179737885944361,
          0.002157908705211491,
          0.002136137327095566,
          0.00211440451096639,
          0.002092691942335904
         ],
         "yaxis": "y"
        },
        {
         "legendgroup": "Average",
         "marker": {
          "color": "rgb(31, 119, 180)",
          "symbol": "line-ns-open"
         },
         "mode": "markers",
         "name": "Average",
         "showlegend": false,
         "type": "scatter",
         "x": [
          38.30769230769231,
          27.223684210526315,
          27.1864406779661,
          33.59340659340659,
          27.146067415730336,
          28.112244897959183,
          33.333333333333336,
          41.02247191011236,
          34.733333333333334,
          40.14,
          22.945454545454545,
          26.979591836734695,
          28.25,
          28.392857142857142,
          30.11627906976744,
          31.541984732824428,
          25.081632653061224,
          28.55294117647059,
          39.86,
          28.70731707317073,
          25.953846153846154,
          24.811965811965813,
          25.17391304347826,
          26.431578947368422,
          38.76470588235294,
          28.5,
          29.428571428571427,
          37.87234042553192,
          20.986486486486488,
          21.700934579439252,
          28.233766233766232,
          24.055555555555557,
          32.6124031007752,
          29.515625,
          30.659574468085108,
          32.669724770642205,
          25.452830188679247,
          39.507936507936506,
          33.940298507462686,
          37.23913043478261,
          33.82608695652174,
          30.91764705882353,
          28.355555555555554,
          25.464285714285715,
          26.813953488372093,
          37.483050847457626,
          27.555555555555557,
          25.524590163934427,
          29.816326530612244,
          25.653465346534652
         ],
         "xaxis": "x",
         "y": [
          "Average",
          "Average",
          "Average",
          "Average",
          "Average",
          "Average",
          "Average",
          "Average",
          "Average",
          "Average",
          "Average",
          "Average",
          "Average",
          "Average",
          "Average",
          "Average",
          "Average",
          "Average",
          "Average",
          "Average",
          "Average",
          "Average",
          "Average",
          "Average",
          "Average",
          "Average",
          "Average",
          "Average",
          "Average",
          "Average",
          "Average",
          "Average",
          "Average",
          "Average",
          "Average",
          "Average",
          "Average",
          "Average",
          "Average",
          "Average",
          "Average",
          "Average",
          "Average",
          "Average",
          "Average",
          "Average",
          "Average",
          "Average",
          "Average",
          "Average"
         ],
         "yaxis": "y2"
        },
        {
         "legendgroup": "Strike Rate",
         "marker": {
          "color": "rgb(255, 127, 14)",
          "symbol": "line-ns-open"
         },
         "mode": "markers",
         "name": "Strike Rate",
         "showlegend": false,
         "type": "scatter",
         "x": [
          145.12905911740216,
          133.05466237942122,
          126.2992125984252,
          117.48654880860876,
          123.0142566191446,
          126.31820265933058,
          121.42237640936686,
          144.19431279620852,
          137.7092511013216,
          138.3184011026878,
          122.28682170542635,
          120.07266121707538,
          118.7910643889619,
          132.27953410981698,
          124.16107382550337,
          120.36120011651616,
          157.56410256410257,
          105.93627237014405,
          121.97062423500613,
          140.62126642771804,
          118.4691011235955,
          123.00847457627117,
          124.65016146393972,
          120.02868068833652,
          119.96359223300972,
          116.93845344555498,
          114.12742382271468,
          132.8358208955224,
          114.52802359882006,
          112.71844660194175,
          113.34723670490095,
          118.79286694101509,
          128.49725106902872,
          127.63513513513513,
          115.74297188755021,
          118.50249584026622,
          101.73453996983409,
          130.10977522216413,
          134.99554764024933,
          128.50712678169543,
          114.18786692759295,
          134.83837865572087,
          114.85148514851484,
          122.40343347639484,
          110.12416427889207,
          126.58843732112193,
          148.82705946535734,
          127.72764561115667,
          140.75144508670522,
          126.39024390243902
         ],
         "xaxis": "x",
         "y": [
          "Strike Rate",
          "Strike Rate",
          "Strike Rate",
          "Strike Rate",
          "Strike Rate",
          "Strike Rate",
          "Strike Rate",
          "Strike Rate",
          "Strike Rate",
          "Strike Rate",
          "Strike Rate",
          "Strike Rate",
          "Strike Rate",
          "Strike Rate",
          "Strike Rate",
          "Strike Rate",
          "Strike Rate",
          "Strike Rate",
          "Strike Rate",
          "Strike Rate",
          "Strike Rate",
          "Strike Rate",
          "Strike Rate",
          "Strike Rate",
          "Strike Rate",
          "Strike Rate",
          "Strike Rate",
          "Strike Rate",
          "Strike Rate",
          "Strike Rate",
          "Strike Rate",
          "Strike Rate",
          "Strike Rate",
          "Strike Rate",
          "Strike Rate",
          "Strike Rate",
          "Strike Rate",
          "Strike Rate",
          "Strike Rate",
          "Strike Rate",
          "Strike Rate",
          "Strike Rate",
          "Strike Rate",
          "Strike Rate",
          "Strike Rate",
          "Strike Rate",
          "Strike Rate",
          "Strike Rate",
          "Strike Rate",
          "Strike Rate"
         ],
         "yaxis": "y2"
        }
       ],
       "layout": {
        "autosize": true,
        "barmode": "overlay",
        "hovermode": "closest",
        "legend": {
         "traceorder": "reversed"
        },
        "template": {
         "data": {
          "bar": [
           {
            "error_x": {
             "color": "#2a3f5f"
            },
            "error_y": {
             "color": "#2a3f5f"
            },
            "marker": {
             "line": {
              "color": "#E5ECF6",
              "width": 0.5
             },
             "pattern": {
              "fillmode": "overlay",
              "size": 10,
              "solidity": 0.2
             }
            },
            "type": "bar"
           }
          ],
          "barpolar": [
           {
            "marker": {
             "line": {
              "color": "#E5ECF6",
              "width": 0.5
             },
             "pattern": {
              "fillmode": "overlay",
              "size": 10,
              "solidity": 0.2
             }
            },
            "type": "barpolar"
           }
          ],
          "carpet": [
           {
            "aaxis": {
             "endlinecolor": "#2a3f5f",
             "gridcolor": "white",
             "linecolor": "white",
             "minorgridcolor": "white",
             "startlinecolor": "#2a3f5f"
            },
            "baxis": {
             "endlinecolor": "#2a3f5f",
             "gridcolor": "white",
             "linecolor": "white",
             "minorgridcolor": "white",
             "startlinecolor": "#2a3f5f"
            },
            "type": "carpet"
           }
          ],
          "choropleth": [
           {
            "colorbar": {
             "outlinewidth": 0,
             "ticks": ""
            },
            "type": "choropleth"
           }
          ],
          "contour": [
           {
            "colorbar": {
             "outlinewidth": 0,
             "ticks": ""
            },
            "colorscale": [
             [
              0,
              "#0d0887"
             ],
             [
              0.1111111111111111,
              "#46039f"
             ],
             [
              0.2222222222222222,
              "#7201a8"
             ],
             [
              0.3333333333333333,
              "#9c179e"
             ],
             [
              0.4444444444444444,
              "#bd3786"
             ],
             [
              0.5555555555555556,
              "#d8576b"
             ],
             [
              0.6666666666666666,
              "#ed7953"
             ],
             [
              0.7777777777777778,
              "#fb9f3a"
             ],
             [
              0.8888888888888888,
              "#fdca26"
             ],
             [
              1,
              "#f0f921"
             ]
            ],
            "type": "contour"
           }
          ],
          "contourcarpet": [
           {
            "colorbar": {
             "outlinewidth": 0,
             "ticks": ""
            },
            "type": "contourcarpet"
           }
          ],
          "heatmap": [
           {
            "colorbar": {
             "outlinewidth": 0,
             "ticks": ""
            },
            "colorscale": [
             [
              0,
              "#0d0887"
             ],
             [
              0.1111111111111111,
              "#46039f"
             ],
             [
              0.2222222222222222,
              "#7201a8"
             ],
             [
              0.3333333333333333,
              "#9c179e"
             ],
             [
              0.4444444444444444,
              "#bd3786"
             ],
             [
              0.5555555555555556,
              "#d8576b"
             ],
             [
              0.6666666666666666,
              "#ed7953"
             ],
             [
              0.7777777777777778,
              "#fb9f3a"
             ],
             [
              0.8888888888888888,
              "#fdca26"
             ],
             [
              1,
              "#f0f921"
             ]
            ],
            "type": "heatmap"
           }
          ],
          "heatmapgl": [
           {
            "colorbar": {
             "outlinewidth": 0,
             "ticks": ""
            },
            "colorscale": [
             [
              0,
              "#0d0887"
             ],
             [
              0.1111111111111111,
              "#46039f"
             ],
             [
              0.2222222222222222,
              "#7201a8"
             ],
             [
              0.3333333333333333,
              "#9c179e"
             ],
             [
              0.4444444444444444,
              "#bd3786"
             ],
             [
              0.5555555555555556,
              "#d8576b"
             ],
             [
              0.6666666666666666,
              "#ed7953"
             ],
             [
              0.7777777777777778,
              "#fb9f3a"
             ],
             [
              0.8888888888888888,
              "#fdca26"
             ],
             [
              1,
              "#f0f921"
             ]
            ],
            "type": "heatmapgl"
           }
          ],
          "histogram": [
           {
            "marker": {
             "pattern": {
              "fillmode": "overlay",
              "size": 10,
              "solidity": 0.2
             }
            },
            "type": "histogram"
           }
          ],
          "histogram2d": [
           {
            "colorbar": {
             "outlinewidth": 0,
             "ticks": ""
            },
            "colorscale": [
             [
              0,
              "#0d0887"
             ],
             [
              0.1111111111111111,
              "#46039f"
             ],
             [
              0.2222222222222222,
              "#7201a8"
             ],
             [
              0.3333333333333333,
              "#9c179e"
             ],
             [
              0.4444444444444444,
              "#bd3786"
             ],
             [
              0.5555555555555556,
              "#d8576b"
             ],
             [
              0.6666666666666666,
              "#ed7953"
             ],
             [
              0.7777777777777778,
              "#fb9f3a"
             ],
             [
              0.8888888888888888,
              "#fdca26"
             ],
             [
              1,
              "#f0f921"
             ]
            ],
            "type": "histogram2d"
           }
          ],
          "histogram2dcontour": [
           {
            "colorbar": {
             "outlinewidth": 0,
             "ticks": ""
            },
            "colorscale": [
             [
              0,
              "#0d0887"
             ],
             [
              0.1111111111111111,
              "#46039f"
             ],
             [
              0.2222222222222222,
              "#7201a8"
             ],
             [
              0.3333333333333333,
              "#9c179e"
             ],
             [
              0.4444444444444444,
              "#bd3786"
             ],
             [
              0.5555555555555556,
              "#d8576b"
             ],
             [
              0.6666666666666666,
              "#ed7953"
             ],
             [
              0.7777777777777778,
              "#fb9f3a"
             ],
             [
              0.8888888888888888,
              "#fdca26"
             ],
             [
              1,
              "#f0f921"
             ]
            ],
            "type": "histogram2dcontour"
           }
          ],
          "mesh3d": [
           {
            "colorbar": {
             "outlinewidth": 0,
             "ticks": ""
            },
            "type": "mesh3d"
           }
          ],
          "parcoords": [
           {
            "line": {
             "colorbar": {
              "outlinewidth": 0,
              "ticks": ""
             }
            },
            "type": "parcoords"
           }
          ],
          "pie": [
           {
            "automargin": true,
            "type": "pie"
           }
          ],
          "scatter": [
           {
            "fillpattern": {
             "fillmode": "overlay",
             "size": 10,
             "solidity": 0.2
            },
            "type": "scatter"
           }
          ],
          "scatter3d": [
           {
            "line": {
             "colorbar": {
              "outlinewidth": 0,
              "ticks": ""
             }
            },
            "marker": {
             "colorbar": {
              "outlinewidth": 0,
              "ticks": ""
             }
            },
            "type": "scatter3d"
           }
          ],
          "scattercarpet": [
           {
            "marker": {
             "colorbar": {
              "outlinewidth": 0,
              "ticks": ""
             }
            },
            "type": "scattercarpet"
           }
          ],
          "scattergeo": [
           {
            "marker": {
             "colorbar": {
              "outlinewidth": 0,
              "ticks": ""
             }
            },
            "type": "scattergeo"
           }
          ],
          "scattergl": [
           {
            "marker": {
             "colorbar": {
              "outlinewidth": 0,
              "ticks": ""
             }
            },
            "type": "scattergl"
           }
          ],
          "scattermapbox": [
           {
            "marker": {
             "colorbar": {
              "outlinewidth": 0,
              "ticks": ""
             }
            },
            "type": "scattermapbox"
           }
          ],
          "scatterpolar": [
           {
            "marker": {
             "colorbar": {
              "outlinewidth": 0,
              "ticks": ""
             }
            },
            "type": "scatterpolar"
           }
          ],
          "scatterpolargl": [
           {
            "marker": {
             "colorbar": {
              "outlinewidth": 0,
              "ticks": ""
             }
            },
            "type": "scatterpolargl"
           }
          ],
          "scatterternary": [
           {
            "marker": {
             "colorbar": {
              "outlinewidth": 0,
              "ticks": ""
             }
            },
            "type": "scatterternary"
           }
          ],
          "surface": [
           {
            "colorbar": {
             "outlinewidth": 0,
             "ticks": ""
            },
            "colorscale": [
             [
              0,
              "#0d0887"
             ],
             [
              0.1111111111111111,
              "#46039f"
             ],
             [
              0.2222222222222222,
              "#7201a8"
             ],
             [
              0.3333333333333333,
              "#9c179e"
             ],
             [
              0.4444444444444444,
              "#bd3786"
             ],
             [
              0.5555555555555556,
              "#d8576b"
             ],
             [
              0.6666666666666666,
              "#ed7953"
             ],
             [
              0.7777777777777778,
              "#fb9f3a"
             ],
             [
              0.8888888888888888,
              "#fdca26"
             ],
             [
              1,
              "#f0f921"
             ]
            ],
            "type": "surface"
           }
          ],
          "table": [
           {
            "cells": {
             "fill": {
              "color": "#EBF0F8"
             },
             "line": {
              "color": "white"
             }
            },
            "header": {
             "fill": {
              "color": "#C8D4E3"
             },
             "line": {
              "color": "white"
             }
            },
            "type": "table"
           }
          ]
         },
         "layout": {
          "annotationdefaults": {
           "arrowcolor": "#2a3f5f",
           "arrowhead": 0,
           "arrowwidth": 1
          },
          "autotypenumbers": "strict",
          "coloraxis": {
           "colorbar": {
            "outlinewidth": 0,
            "ticks": ""
           }
          },
          "colorscale": {
           "diverging": [
            [
             0,
             "#8e0152"
            ],
            [
             0.1,
             "#c51b7d"
            ],
            [
             0.2,
             "#de77ae"
            ],
            [
             0.3,
             "#f1b6da"
            ],
            [
             0.4,
             "#fde0ef"
            ],
            [
             0.5,
             "#f7f7f7"
            ],
            [
             0.6,
             "#e6f5d0"
            ],
            [
             0.7,
             "#b8e186"
            ],
            [
             0.8,
             "#7fbc41"
            ],
            [
             0.9,
             "#4d9221"
            ],
            [
             1,
             "#276419"
            ]
           ],
           "sequential": [
            [
             0,
             "#0d0887"
            ],
            [
             0.1111111111111111,
             "#46039f"
            ],
            [
             0.2222222222222222,
             "#7201a8"
            ],
            [
             0.3333333333333333,
             "#9c179e"
            ],
            [
             0.4444444444444444,
             "#bd3786"
            ],
            [
             0.5555555555555556,
             "#d8576b"
            ],
            [
             0.6666666666666666,
             "#ed7953"
            ],
            [
             0.7777777777777778,
             "#fb9f3a"
            ],
            [
             0.8888888888888888,
             "#fdca26"
            ],
            [
             1,
             "#f0f921"
            ]
           ],
           "sequentialminus": [
            [
             0,
             "#0d0887"
            ],
            [
             0.1111111111111111,
             "#46039f"
            ],
            [
             0.2222222222222222,
             "#7201a8"
            ],
            [
             0.3333333333333333,
             "#9c179e"
            ],
            [
             0.4444444444444444,
             "#bd3786"
            ],
            [
             0.5555555555555556,
             "#d8576b"
            ],
            [
             0.6666666666666666,
             "#ed7953"
            ],
            [
             0.7777777777777778,
             "#fb9f3a"
            ],
            [
             0.8888888888888888,
             "#fdca26"
            ],
            [
             1,
             "#f0f921"
            ]
           ]
          },
          "colorway": [
           "#636efa",
           "#EF553B",
           "#00cc96",
           "#ab63fa",
           "#FFA15A",
           "#19d3f3",
           "#FF6692",
           "#B6E880",
           "#FF97FF",
           "#FECB52"
          ],
          "font": {
           "color": "#2a3f5f"
          },
          "geo": {
           "bgcolor": "white",
           "lakecolor": "white",
           "landcolor": "#E5ECF6",
           "showlakes": true,
           "showland": true,
           "subunitcolor": "white"
          },
          "hoverlabel": {
           "align": "left"
          },
          "hovermode": "closest",
          "mapbox": {
           "style": "light"
          },
          "paper_bgcolor": "white",
          "plot_bgcolor": "#E5ECF6",
          "polar": {
           "angularaxis": {
            "gridcolor": "white",
            "linecolor": "white",
            "ticks": ""
           },
           "bgcolor": "#E5ECF6",
           "radialaxis": {
            "gridcolor": "white",
            "linecolor": "white",
            "ticks": ""
           }
          },
          "scene": {
           "xaxis": {
            "backgroundcolor": "#E5ECF6",
            "gridcolor": "white",
            "gridwidth": 2,
            "linecolor": "white",
            "showbackground": true,
            "ticks": "",
            "zerolinecolor": "white"
           },
           "yaxis": {
            "backgroundcolor": "#E5ECF6",
            "gridcolor": "white",
            "gridwidth": 2,
            "linecolor": "white",
            "showbackground": true,
            "ticks": "",
            "zerolinecolor": "white"
           },
           "zaxis": {
            "backgroundcolor": "#E5ECF6",
            "gridcolor": "white",
            "gridwidth": 2,
            "linecolor": "white",
            "showbackground": true,
            "ticks": "",
            "zerolinecolor": "white"
           }
          },
          "shapedefaults": {
           "line": {
            "color": "#2a3f5f"
           }
          },
          "ternary": {
           "aaxis": {
            "gridcolor": "white",
            "linecolor": "white",
            "ticks": ""
           },
           "baxis": {
            "gridcolor": "white",
            "linecolor": "white",
            "ticks": ""
           },
           "bgcolor": "#E5ECF6",
           "caxis": {
            "gridcolor": "white",
            "linecolor": "white",
            "ticks": ""
           }
          },
          "title": {
           "x": 0.05
          },
          "xaxis": {
           "automargin": true,
           "gridcolor": "white",
           "linecolor": "white",
           "ticks": "",
           "title": {
            "standoff": 15
           },
           "zerolinecolor": "white",
           "zerolinewidth": 2
          },
          "yaxis": {
           "automargin": true,
           "gridcolor": "white",
           "linecolor": "white",
           "ticks": "",
           "title": {
            "standoff": 15
           },
           "zerolinecolor": "white",
           "zerolinewidth": 2
          }
         }
        },
        "xaxis": {
         "anchor": "y2",
         "autorange": true,
         "domain": [
          0,
          1
         ],
         "range": [
          12.662462525234265,
          165.88812652535478
         ],
         "type": "linear",
         "zeroline": false
        },
        "yaxis": {
         "anchor": "free",
         "autorange": true,
         "domain": [
          0.35,
          1
         ],
         "position": 0,
         "range": [
          -0.002306968342256872,
          0.08568623734959865
         ],
         "type": "linear"
        },
        "yaxis2": {
         "anchor": "x",
         "autorange": true,
         "domain": [
          0,
          0.25
         ],
         "dtick": 1,
         "range": [
          -0.18181818181818182,
          1.1818181818181819
         ],
         "showticklabels": false,
         "type": "category"
        }
       }
      },
      "image/png": "[encoded data removed]",
      "text/html": [
       "<div>                            <div id=\"0c14db93-bf6f-47d2-a318-5d9dbe3b09ba\" class=\"plotly-graph-div\" style=\"height:525px; width:100%;\"></div>            <script type=\"text/javascript\">                require([\"plotly\"], function(Plotly) {                    window.PLOTLYENV=window.PLOTLYENV || {};                                    if (document.getElementById(\"0c14db93-bf6f-47d2-a318-5d9dbe3b09ba\")) {                    Plotly.newPlot(                        \"0c14db93-bf6f-47d2-a318-5d9dbe3b09ba\",                        [{\"autobinx\":false,\"histnorm\":\"probability density\",\"legendgroup\":\"Average\",\"marker\":{\"color\":\"rgb(31, 119, 180)\"},\"name\":\"Average\",\"opacity\":0.7,\"x\":[38.30769230769231,27.223684210526315,27.1864406779661,33.59340659340659,27.146067415730336,28.112244897959183,33.333333333333336,41.02247191011236,34.733333333333334,40.14,22.945454545454545,26.979591836734695,28.25,28.392857142857142,30.11627906976744,31.541984732824428,25.081632653061224,28.55294117647059,39.86,28.70731707317073,25.953846153846154,24.811965811965813,25.17391304347826,26.431578947368422,38.76470588235294,28.5,29.428571428571427,37.87234042553192,20.986486486486488,21.700934579439252,28.233766233766232,24.055555555555557,32.6124031007752,29.515625,30.659574468085108,32.669724770642205,25.452830188679247,39.507936507936506,33.940298507462686,37.23913043478261,33.82608695652174,30.91764705882353,28.355555555555554,25.464285714285715,26.813953488372093,37.483050847457626,27.555555555555557,25.524590163934427,29.816326530612244,25.653465346534652],\"xaxis\":\"x\",\"xbins\":{\"end\":41.02247191011236,\"size\":10,\"start\":20.986486486486488},\"yaxis\":\"y\",\"type\":\"histogram\"},{\"autobinx\":false,\"histnorm\":\"probability density\",\"legendgroup\":\"Strike Rate\",\"marker\":{\"color\":\"rgb(255, 127, 14)\"},\"name\":\"Strike Rate\",\"opacity\":0.7,\"x\":[145.12905911740216,133.05466237942122,126.2992125984252,117.48654880860876,123.0142566191446,126.31820265933058,121.42237640936686,144.19431279620852,137.7092511013216,138.3184011026878,122.28682170542635,120.07266121707538,118.7910643889619,132.27953410981698,124.16107382550337,120.36120011651616,157.56410256410257,105.93627237014405,121.97062423500613,140.62126642771804,118.4691011235955,123.00847457627117,124.65016146393972,120.02868068833652,119.96359223300972,116.93845344555498,114.12742382271468,132.8358208955224,114.52802359882006,112.71844660194175,113.34723670490095,118.79286694101509,128.49725106902872,127.63513513513513,115.74297188755021,118.50249584026622,101.73453996983409,130.10977522216413,134.99554764024933,128.50712678169543,114.18786692759295,134.83837865572087,114.85148514851484,122.40343347639484,110.12416427889207,126.58843732112193,148.82705946535734,127.72764561115667,140.75144508670522,126.39024390243902],\"xaxis\":\"x\",\"xbins\":{\"end\":157.56410256410257,\"size\":20,\"start\":101.73453996983409},\"yaxis\":\"y\",\"type\":\"histogram\"},{\"legendgroup\":\"Average\",\"marker\":{\"color\":\"rgb(31, 119, 180)\"},\"mode\":\"lines\",\"name\":\"Average\",\"showlegend\":false,\"x\":[20.986486486486488,21.02655845733374,21.066630428180993,21.106702399028244,21.146774369875494,21.186846340722745,21.22691831157,21.26699028241725,21.3070622532645,21.347134224111752,21.387206194959006,21.427278165806257,21.467350136653508,21.507422107500762,21.547494078348013,21.587566049195264,21.627638020042514,21.66770999088977,21.70778196173702,21.74785393258427,21.78792590343152,21.827997874278775,21.868069845126026,21.908141815973277,21.948213786820528,21.988285757667782,22.028357728515033,22.068429699362284,22.108501670209538,22.14857364105679,22.18864561190404,22.22871758275129,22.268789553598545,22.308861524445796,22.348933495293046,22.389005466140297,22.42907743698755,22.469149407834802,22.509221378682053,22.549293349529307,22.589365320376558,22.62943729122381,22.66950926207106,22.709581232918314,22.749653203765565,22.789725174612816,22.829797145460066,22.86986911630732,22.90994108715457,22.950013058001822,22.990085028849073,23.030156999696327,23.070228970543578,23.11030094139083,23.150372912238083,23.190444883085334,23.230516853932585,23.270588824779836,23.31066079562709,23.35073276647434,23.39080473732159,23.430876708168846,23.470948679016097,23.511020649863347,23.551092620710598,23.59116459155785,23.631236562405103,23.671308533252354,23.711380504099605,23.75145247494686,23.79152444579411,23.83159641664136,23.87166838748861,23.911740358335866,23.951812329183117,23.991884300030367,24.03195627087762,24.072028241724873,24.112100212572123,24.152172183419374,24.19224415426663,24.23231612511388,24.27238809596113,24.31246006680838,24.352532037655635,24.392604008502886,24.432675979350137,24.472747950197387,24.512819921044642,24.552891891891893,24.592963862739143,24.633035833586398,24.67310780443365,24.7131797752809,24.75325174612815,24.793323716975404,24.833395687822655,24.873467658669906,24.913539629517157,24.95361160036441,24.993683571211662,25.033755542058913,25.073827512906163,25.113899483753418,25.15397145460067,25.194043425447923,25.234115396295174,25.274187367142424,25.314259337989675,25.354331308836926,25.39440327968418,25.43447525053143,25.474547221378682,25.514619192225936,25.554691163073187,25.594763133920438,25.63483510476769,25.67490707561494,25.714979046462194,25.755051017309444,25.7951229881567,25.83519495900395,25.8752669298512,25.91533890069845,25.955410871545702,25.995482842392956,26.035554813240207,26.075626784087458,26.115698754934712,26.155770725781963,26.195842696629214,26.235914667476465,26.27598663832372,26.31605860917097,26.35613058001822,26.396202550865475,26.436274521712726,26.476346492559976,26.516418463407227,26.556490434254478,26.596562405101732,26.636634375948983,26.676706346796237,26.716778317643488,26.75685028849074,26.79692225933799,26.83699423018524,26.87706620103249,26.917138171879746,26.957210142726996,26.99728211357425,27.0373540844215,27.077426055268752,27.117498026116003,27.157569996963257,27.197641967810508,27.23771393865776,27.27778590950501,27.317857880352264,27.357929851199515,27.398001822046766,27.438073792894016,27.47814576374127,27.51821773458852,27.558289705435772,27.598361676283027,27.638433647130277,27.678505617977528,27.71857758882478,27.75864955967203,27.798721530519284,27.838793501366535,27.87886547221379,27.91893744306104,27.95900941390829,27.99908138475554,28.039153355602792,28.079225326450047,28.119297297297297,28.159369268144548,28.199441238991803,28.239513209839053,28.279585180686304,28.319657151533555,28.35972912238081,28.39980109322806,28.43987306407531,28.479945034922565,28.520017005769816,28.560088976617067,28.600160947464317,28.64023291831157,28.680304889158823,28.720376860006073,28.760448830853328,28.80052080170058,28.84059277254783,28.88066474339508,28.92073671424233,28.960808685089585,29.000880655936836,29.040952626784087,29.08102459763134,29.121096568478592,29.161168539325843,29.201240510173093,29.241312481020348,29.2813844518676,29.321456422714853,29.361528393562104,29.401600364409354,29.441672335256605,29.481744306103856,29.521816276951107,29.561888247798358,29.601960218645612,29.642032189492863,29.682104160340117,29.722176131187368,29.76224810203462,29.80232007288187,29.84239204372912,29.882464014576374,29.922535985423625,29.96260795627088,30.00267992711813,30.04275189796538,30.082823868812632,30.122895839659883,30.162967810507137,30.20303978135439,30.243111752201642,30.283183723048893,30.323255693896144,30.363327664743395,30.403399635590645,30.443471606437896,30.48354357728515,30.5236155481324,30.563687518979656,30.603759489826906,30.643831460674157,30.683903431521408,30.72397540236866,30.764047373215913,30.804119344063164,30.844191314910418,30.88426328575767,30.92433525660492,30.96440722745217,31.00447919829942,31.044551169146676,31.084623139993926,31.12469511084118,31.16476708168843,31.204839052535682,31.244911023382933,31.284982994230184,31.325054965077435,31.36512693592469,31.40519890677194,31.44527087761919,31.485342848466445,31.525414819313696,31.565486790160946,31.605558761008197,31.64563073185545,31.685702702702702,31.725774673549957,31.765846644397207,31.805918615244458,31.84599058609171,31.88606255693896,31.926134527786214,31.966206498633465,32.00627846948072,32.04635044032797,32.08642241117522,32.12649438202247,32.16656635286972,32.20663832371697,32.246710294564224,32.286782265411475,32.326854236258725,32.36692620710598,32.406998177953234,32.447070148800485,32.487142119647736,32.527214090494994,32.567286061342244,32.607358032189495,32.647430003036746,32.687501973884,32.72757394473125,32.7676459155785,32.80771788642575,32.847789857273,32.88786182812026,32.92793379896751,32.96800576981476,33.00807774066201,33.04814971150926,33.08822168235651,33.12829365320376,33.16836562405102,33.20843759489827,33.24850956574552,33.28858153659277,33.32865350744002,33.368725478287274,33.408797449134525,33.448869419981776,33.48894139082903,33.529013361676284,33.569085332523535,33.609157303370786,33.64922927421804,33.68930124506529,33.729373215912545,33.769445186759796,33.80951715760705,33.8495891284543,33.88966109930155,33.9297330701488,33.96980504099605,34.0098770118433,34.04994898269055,34.0900209535378,34.13009292438506,34.17016489523231,34.21023686607956,34.25030883692681,34.29038080777406,34.33045277862132,34.37052474946857,34.41059672031582,34.450668691163074,34.490740662010325,34.530812632857575,34.570884603704826,34.61095657455208,34.651028545399335,34.691100516246586,34.731172487093836,34.77124445794109,34.81131642878834,34.85138839963559,34.89146037048284,34.9315323413301,34.97160431217735,35.0116762830246,35.05174825387185,35.0918202247191,35.13189219556635,35.1719641664136,35.21203613726085,35.252108108108104,35.29218007895536,35.33225204980261,35.37232402064986,35.412395991497114,35.452467962344365,35.49253993319162,35.53261190403887,35.572683874886124,35.612755845733375,35.652827816580626,35.692899787427876,35.73297175827513,35.77304372912238,35.81311569996963,35.85318767081688,35.89325964166413,35.93333161251139,35.97340358335864,36.01347555420589,36.05354752505314,36.0936194959004,36.13369146674765,36.1737634375949,36.21383540844215,36.2539073792894,36.29397935013665,36.3340513209839,36.374123291831154,36.414195262678405,36.45426723352566,36.49433920437291,36.534411175220164,36.574483146067415,36.614555116914666,36.65462708776192,36.69469905860917,36.734771029456425,36.774843000303676,36.81491497115093,36.85498694199818,36.89505891284543,36.93513088369268,36.97520285453993,37.01527482538718,37.05534679623443,37.09541876708168,37.13549073792894,37.17556270877619,37.21563467962344,37.25570665047069,37.29577862131795,37.3358505921652,37.37592256301245,37.4159945338597,37.45606650470695,37.496138475554204,37.536210446401455,37.576282417248706,37.61635438809596,37.656426358943214,37.69649832979046,37.736570300637716,37.77664227148497,37.816714242332225,37.85678621317947,37.896858184026726,37.93693015487398,37.97700212572123,38.01707409656848,38.05714606741573,38.09721803826298,38.13729000911023,38.17736197995748,38.21743395080473,38.25750592165199,38.297577892499234,38.33764986334649,38.37772183419374,38.41779380504099,38.45786577588825,38.4979377467355,38.53800971758275,38.578081688430004,38.618153659277255,38.658225630124505,38.698297600971756,38.73836957181901,38.77844154266626,38.81851351351351,38.85858548436076,38.89865745520802,38.93872942605527,38.978801396902526,39.01887336774977,39.05894533859703,39.09901730944428,39.13908928029153,39.17916125113878,39.21923322198603,39.25930519283328,39.29937716368053,39.33944913452778,39.379521105375034,39.41959307622229,39.459665047069535,39.49973701791679,39.539808988764044,39.579880959611295,39.619952930458545,39.6600249013058,39.700096872153054,39.740168843000305,39.780240813847556,39.820312784694806,39.86038475554206,39.90045672638931,39.94052869723656,39.98060066808381,40.02067263893106,40.06074460977831,40.10081658062557,40.14088855147282,40.18096052232007,40.22103249316733,40.26110446401458,40.30117643486183,40.34124840570908,40.38132037655633,40.42139234740358,40.46146431825083,40.501536289098084,40.541608259945335,40.581680230792585,40.621752201639836,40.661824172487094,40.701896143334345,40.741968114181596,40.78204008502885,40.822112055876104,40.862184026723355,40.902255997570606,40.94232796841786,40.98239993926511],\"xaxis\":\"x\",\"y\":[0.016491835430675846,0.016778548013719533,0.01706885791898613,0.017362796376505084,0.017660394352296528,0.017961682492296953,0.01826669106427708,0.01857544989781069,0.01888798832235928,0.01920433510354213,0.01952451837766801,0.019848565584609134,0.020176503399104387,0.020508357660582784,0.02084415330160395,0.021183914275017812,0.02152766347994863,0.02187542268671501,0.022227212460800616,0.022583052085994988,0.022942959486827178,0.023306951150419364,0.023675042047890046,0.02404724555544079,0.024423573375261628,0.024804035456394702,0.02518863991569602,0.025577392959039526,0.02597029880290658,0.02636735959650754,0.026768575344582542,0.027173943831028072,0.02758346054349839,0.027997118599128824,0.02841490867152938,0.028836818919195303,0.029262834915480557,0.029692939580279038,0.030127113113557244,0.030565332930878493,0.031007573601058252,0.03145380678608695,0.03190400118345314,0.03235812247099741,0.03281613325442338,0.03327799301758943,0.033743658075698485,0.034213081531501634,0.03468621323462391,0.03516299974411886,0.03564338429434979,0.03612730676429386,0.03661470365035682,0.03710550804278259,0.0375996496057346,0.03809705456112012,0.03859764567622389,0.03910134225520857,0.03960806013453584,0.040117711682353174,0.04063020580188679,0.041145447938872926,0.04166334009305368,0.042183780833757824,0.042706665319578035,0.043231885322152046,0.04375932925404606,0.044288882200734625,0.044820425956661816,0.045353839065365144,0.0458889968636342,0.04642577152967264,0.046964032135223426,0.047503644701613355,0.04804447225966495,0.048586374913420646,0.049129209907615816,0.0496728316988336,0.05021709203026985,0.050761840010029105,0.051306922192870655,0.05185218266531653,0.05239746313403187,0.05294260301738062,0.05348743954005908,0.05403180783070297,0.05457554102236386,0.05511847035574366,0.055660425285076795,0.0562012335865441,0.056740721469102404,0.05727871368760958,0.05781503365812407,0.0583495035752569,0.0588819445314505,0.05941217663805983,0.059940019148108904,0.06046529058059574,0.060987808846217455,0.06150739137438759,0.062023855241417555,0.06253701729973311,0.06304669430799885,0.06355270306202189,0.06405486052630774,0.06455298396614288,0.06504689108007629,0.06553640013267718,0.06602133008744368,0.06650150073974069,0.0669767328496451,0.06744684827457897,0.06791167010161138,0.06837102277931258,0.06882473224904417,0.06927262607557222,0.0697145335768902,0.07015028595314136,0.07057971641453199,0.07100266030812709,0.07141895524342426,0.07182844121660048,0.0722309607333303,0.07262635893007456,0.07301448369374029,0.07339518577961485,0.07376831892747766,0.07413373997579643,0.07449130897391357,0.07484088929213185,0.07518234772961033,0.07551555461998008,0.07584038393459401,0.07615671338332373,0.07646442451281958,0.0767634028021495,0.0770535377557347,0.07733472299350135,0.07760685633816765,0.07786983989958786,0.07812358015607507,0.07836798803262636,0.07860297897597508,0.0788284730263946,0.07904439488618174,0.07925067398474665,0.07944724454023848,0.07963404561763743,0.07981102118324385,0.07997812015549853,0.08013529645206695,0.08028250903312503,0.08041972194078181,0.0805469043345798,0.08066403052301233,0.08077107999100182,0.0808680374232829,0.080954892723637,0.08103164102992842,0.08109828272489233,0.08115482344262978,0.08120127407076563,0.08123765074822967,0.0812639748586239,0.08128027301914122,0.08128657706500587,0.08128292402940848,0.08126935611891192,0.08124592068431015,0.08121267018692399,0.08116966216032345,0.08111695916747143,0.08105462875328653,0.08098274339262906,0.08090138043371878,0.08081062203699942,0.08071055510946783,0.08060127123449462,0.08048286659716612,0.08035544190518508,0.08021910230537282,0.0800739572958227,0.07992012063375906,0.0797577102391654,0.07958684809424894,0.07940766013881745,0.0792202761616497,0.07902482968794904,0.07882145786297426,0.0786103013319516,0.07839150411637537,0.07816521348681389,0.07793157983234418,0.07769075652674319,0.07744289979157327,0.07718816855630398,0.07692672431561921,0.07665873098406632,0.07638435474820822,0.07610376391644678,0.07581712876669194,0.07552462139205535,0.07522641554475432,0.07492268647841678,0.07461361078898157,0.0742993662543957,0.07398013167331217,0.0736560867029977,0.0733274116966628,0.07299428754043019,0.07265689549016147,0.07231541700836269,0.0719700336013948,0.07162092665721405,0.07126827728387068,0.07091226614899486,0.07055307332050004,0.0701908781087324,0.06982585891029729,0.06945819305379165,0.06908805664766939,0.0687156244304672,0.06834106962361414,0.06796456378704732,0.06758627667785153,0.0672063761121389,0.06682502783037841,0.06644239536638316,0.06605863992015559,0.06567392023478816,0.0652883924776087,0.0649022101257549,0.06451552385635438,0.06412848144148113,0.06374122764804946,0.06335390414280014,0.06296664940252382,0.06257959862965858,0.06219288367338941,0.06180663295636629,0.061420971407150096,0.06103602039848263,0.06065189769146877,0.06026871738574636,0.05988658987570924,0.05950562181283709,0.05912591607417425,0.05874757173698855,0.05837068405962845,0.057995344468585626,0.057621640551757454,0.057249656057892305,0.0568794709021877,0.05651116117799959,0.05614479917460925,0.05578045340098078,0.05541818861543173,0.05505806586112622,0.05470014250728891,0.054344472296025105,0.053991105394623325,0.05364008845320176,0.053291464667552836,0.052945273847026304,0.05260155248728202,0.05226033384773392,0.05192164803349582,0.05158552208163049,0.051251980051495234,0.05092104311896711,0.05059272967432479,0.05026705542355345,0.049944033492835584,0.04962367453597998,0.04930598684453864,0.04899097646035254,0.0486786472902645,0.04836900122273183,0.048062038246067355,0.04775775656803504,0.047456152736522615,0.04715722176101277,0.04686095723457221,0.04656735145607683,0.046276395552392664,0.04598807960023126,0.04570239274739923,0.04541932333316527,0.04513885900746832,0.04486098684869529,0.04458569347975874,0.04431296518221168,0.04404278800813918,0.04377514788957376,0.043510030745186945,0.0432474225840166,0.04298730960599639,0.04272967829906265,0.04247451553262122,0.0422218086471667,0.04197154553985545,0.04172371474584453,0.04147830551521731,0.0412353078853299,0.040994712748421216,0.04075651191434337,0.040520698168278774,0.04028726532332494,0.04005620826783861,0.0398275230074448,0.03960120670162894,0.039377257694843563,0.03915567554207455,0.03893646102882542,0.038719616185491766,0.03850514429611125,0.03829304990148927,0.03808333879671315,0.0378760180230816,0.03767109585449028,0.03746858177832715,0.03726848647094516,0.03707082176779241,0.036875600628293724,0.036682837095589345,0.036492546251249695,0.036304744165096624,0.036119447840274294,0.035936675153722945,0.035756444792221516,0.035578776184173995,0.03540368942732604,0.0352312052126073,0.03506134474430436,0.034894129656777725,0.03472958192794497,0.03456772378975938,0.03440857763592008,0.03425216592705752,0.0340985110936421,0.03394763543687069,0.03379956102778931,0.03365430960491479,0.033511902470621024,0.03337236038655887,0.03323570346837994,0.03310195108003641,0.0329711217279294,0.03284323295517869,0.03271830123628581,0.03259634187246101,0.032477368887883336,0.03236139492715974,0.03224843115424616,0.032138487153090124,0.03203157083024926,0.03192768831973555,0.03182684389032946,0.03172903985560181,0.031634276486874446,0.03154255192934388,0.03145386212158397,0.03136820071863553,0.031285559018882414,0.03120592589490369,0.031129287728483307,0.03105562834994724,0.030984928981989037,0.030917168188133472,0.030852321825977306,0.030790363005334883,0.03073126205140536,0.030674986473065897,0.03062150093638426,0.03057076724343178,0.030522744316465757,0.03047738818753828,0.030434651993576135,0.030394485976964532,0.030356837491654548,0.030321651014802824,0.030288868163939248,0.030258427719646735,0.03023026565372498,0.030204315162798687,0.030180506707318765,0.03015876805589393,0.030139024334878826,0.030121198083133835,0.030105209311861232,0.03009097556941191,0.030078412010946853,0.03006743147282806,0.030057944551603807,0.030049859687444922,0.03004308325187944,0.030037519639665305,0.030033071364633013,0.030029639159322635,0.030027122078232965,0.03002541760449408,0.030024421759768657,0.030024029217182144,0.03002413341707662,0.030024626685378916,0.030025400354369573,0.030026344885635572,0.030027349994987122,0.030028304779115566,0.03002909784376871,0.030029617433216832,0.03002975156078275,0.030029388140208522,0.030028415117630748,0.03002672060393764,0.03002419300728133,0.03002072116552026,0.0300161944783686,0.03001050303903139,0.030003537765107037,0.029995190528541486,0.02998535428442227,0.029973923198403897,0.029960792772560575,0.029945859969466523,0.029929023334309333,0.02991018311484645,0.029889241379020815,0.0298661021300572,0.029840671418866788,0.029812857453594105,0.029782570706146216,0.029749724015552037,0.029714232688004837,0.029676014593450095,0.02963499025858615,0.029591082956154143,0.029544218790400232,0.029494326778601223,0.029441338928552042,0.02938519031192218,0.02932581913339481,0.02926316679551138,0.02919717795915185,0.02912780059958848,0.0290549860580599,0.0289786890888188,0.028898867901615975,0.02881548419958979,0.028728503212539187,0.0286378937255651,0.0285436281030734,0.0284456823081396,0.028344035917243167,0.028238672130386076,0.028129577776618543,0.02801674331500007,0.027900162831032627,0.02777983402860783,0.027655758217517826,0.027527940296584837,0.027396388732471195,0.02726111553423689,0.027122136223718427,0.02697946980180711,0.02683313871071077,0.026683168792288516,0.02652958924255185,0.026372432562431034,0.02621173450490956,0.026047534018634157,0.025879873188110983,0.0257087971706035,0.025534354129849536,0.025356595166720022,0.0251755742469432,0.024991348126021922,0.02480397627147421,0.024613520782528753,0.02442004630740983,0.024223619958347563,0.024024311224451773,0.02382219188258688,0.02361733590639015,0.02340981937357225,0.02319972037164337,0.022987118902205898,0.022772096783957176,0.02255473755454345,0.022335126371408855,0.02211334991177934,0.02188949627192488,0.021663654865838516,0.021435916323472977,0.02120637238867252,0.02097511581693685,0.02074224027315306,0.020507840229428347,0.020272010863155863,0.020034847955442817],\"yaxis\":\"y\",\"type\":\"scatter\"},{\"legendgroup\":\"Strike Rate\",\"marker\":{\"color\":\"rgb(255, 127, 14)\"},\"mode\":\"lines\",\"name\":\"Strike Rate\",\"showlegend\":false,\"x\":[101.73453996983409,101.84619909502263,101.95785822021116,102.0695173453997,102.18117647058824,102.29283559577678,102.4044947209653,102.51615384615384,102.62781297134238,102.73947209653092,102.85113122171946,102.962790346908,103.07444947209653,103.18610859728507,103.29776772247361,103.40942684766215,103.52108597285068,103.63274509803922,103.74440422322775,103.85606334841628,103.96772247360482,104.07938159879336,104.1910407239819,104.30269984917044,104.41435897435898,104.52601809954751,104.63767722473605,104.74933634992459,104.86099547511313,104.97265460030167,105.08431372549019,105.19597285067873,105.30763197586727,105.4192911010558,105.53095022624434,105.64260935143288,105.75426847662142,105.86592760180996,105.9775867269985,106.08924585218703,106.20090497737557,106.31256410256411,106.42422322775263,106.53588235294117,106.64754147812971,106.75920060331825,106.87085972850679,106.98251885369532,107.09417797888386,107.2058371040724,107.31749622926094,107.42915535444948,107.54081447963802,107.65247360482655,107.76413273001509,107.87579185520362,107.98745098039215,108.09911010558069,108.21076923076923,108.32242835595777,108.4340874811463,108.54574660633484,108.65740573152338,108.76906485671192,108.88072398190046,108.99238310708898,109.10404223227752,109.21570135746606,109.3273604826546,109.43901960784314,109.55067873303167,109.66233785822021,109.77399698340875,109.88565610859729,109.99731523378583,110.10897435897436,110.2206334841629,110.33229260935144,110.44395173453998,110.5556108597285,110.66726998491704,110.77892911010558,110.89058823529412,111.00224736048266,111.1139064856712,111.22556561085973,111.33722473604827,111.44888386123681,111.56054298642535,111.67220211161387,111.78386123680241,111.89552036199095,112.00717948717949,112.11883861236802,112.23049773755656,112.3421568627451,112.45381598793364,112.56547511312218,112.67713423831071,112.78879336349925,112.90045248868779,113.01211161387633,113.12377073906485,113.23542986425339,113.34708898944193,113.45874811463047,113.570407239819,113.68206636500754,113.79372549019608,113.90538461538462,114.01704374057316,114.1287028657617,114.24036199095022,114.35202111613876,114.4636802413273,114.57533936651583,114.68699849170437,114.79865761689291,114.91031674208145,115.02197586726999,115.13363499245852,115.24529411764706,115.3569532428356,115.46861236802414,115.58027149321268,115.69193061840122,115.80358974358975,115.91524886877828,116.02690799396682,116.13856711915535,116.25022624434389,116.36188536953243,116.47354449472097,116.5852036199095,116.69686274509804,116.80852187028658,116.92018099547512,117.03184012066365,117.14349924585218,117.25515837104072,117.36681749622926,117.4784766214178,117.59013574660634,117.70179487179487,117.81345399698341,117.92511312217195,118.03677224736049,118.14843137254903,118.26009049773756,118.3717496229261,118.48340874811463,118.59506787330318,118.7067269984917,118.81838612368024,118.93004524886878,119.04170437405732,119.15336349924586,119.2650226244344,119.37668174962293,119.48834087481146,119.60000000000001,119.71165912518853,119.82331825037707,119.93497737556561,120.04663650075415,120.15829562594269,120.26995475113122,120.38161387631976,120.4932730015083,120.60493212669684,120.71659125188538,120.82825037707391,120.93990950226245,121.05156862745099,121.16322775263953,121.27488687782805,121.38654600301659,121.49820512820513,121.60986425339367,121.7215233785822,121.83318250377074,121.94484162895928,122.05650075414782,122.16815987933634,122.27981900452488,122.39147812971342,122.50313725490196,122.6147963800905,122.72645550527903,122.83811463046757,122.94977375565611,123.06143288084465,123.17309200603319,123.28475113122173,123.39641025641026,123.5080693815988,123.61972850678734,123.73138763197588,123.84304675716442,123.95470588235294,124.06636500754148,124.17802413273002,124.28968325791855,124.40134238310709,124.51300150829563,124.62466063348417,124.7363197586727,124.84797888386124,124.95963800904977,125.0712971342383,125.18295625942685,125.29461538461538,125.40627450980392,125.51793363499246,125.629592760181,125.74125188536954,125.85291101055807,125.96457013574661,126.07622926093515,126.18788838612369,126.29954751131223,126.41120663650076,126.52286576168929,126.63452488687783,126.74618401206637,126.8578431372549,126.96950226244344,127.08116138763198,127.19282051282052,127.30447963800906,127.4161387631976,127.52779788838612,127.63945701357466,127.7511161387632,127.86277526395173,127.97443438914027,128.0860935143288,128.19775263951735,128.30941176470589,128.42107088989442,128.53273001508296,128.6443891402715,128.75604826546004,128.86770739064858,128.9793665158371,129.09102564102565,129.2026847662142,129.31434389140273,129.42600301659127,129.53766214177978,129.64932126696834,129.76098039215685,129.87263951734542,129.98429864253393,130.09595776772247,130.207616892911,130.31927601809954,130.43093514328808,130.54259426847662,130.65425339366516,130.7659125188537,130.87757164404223,130.98923076923077,131.1008898944193,131.21254901960785,131.3242081447964,131.43586726998493,131.54752639517346,131.659185520362,131.77084464555054,131.88250377073908,131.99416289592762,132.10582202111615,132.2174811463047,132.3291402714932,132.44079939668177,132.55245852187028,132.66411764705882,132.77577677224735,132.8874358974359,132.99909502262443,133.11075414781297,133.2224132730015,133.33407239819005,133.44573152337858,133.55739064856712,133.66904977375566,133.7807088989442,133.89236802413274,134.00402714932127,134.1156862745098,134.22734539969835,134.3390045248869,134.45066365007543,134.56232277526397,134.6739819004525,134.78564102564104,134.89730015082955,135.00895927601812,135.12061840120663,135.23227752639517,135.3439366515837,135.45559577677227,135.56725490196078,135.67891402714932,135.79057315233786,135.9022322775264,136.01389140271493,136.12555052790347,136.237209653092,136.34886877828055,136.46052790346909,136.57218702865762,136.68384615384616,136.7955052790347,136.90716440422324,137.01882352941178,137.1304826546003,137.24214177978882,137.3538009049774,137.46546003016593,137.57711915535447,137.68877828054298,137.80043740573154,137.91209653092005,138.0237556561086,138.13541478129713,138.24707390648567,138.3587330316742,138.47039215686274,138.58205128205128,138.69371040723982,138.80536953242836,138.9170286576169,139.02868778280543,139.14034690799397,139.2520060331825,139.36366515837105,139.4753242835596,139.58698340874813,139.69864253393666,139.8103016591252,139.92196078431374,140.03361990950225,140.14527903469082,140.25693815987933,140.3685972850679,140.4802564102564,140.59191553544497,140.70357466063348,140.81523378582202,140.92689291101055,141.0385520361991,141.15021116138763,141.26187028657617,141.3735294117647,141.48518853695325,141.59684766214178,141.70850678733032,141.82016591251886,141.9318250377074,142.04348416289594,142.15514328808447,142.266802413273,142.37846153846155,142.4901206636501,142.6017797888386,142.71343891402717,142.82509803921567,142.93675716440424,143.04841628959275,143.16007541478132,143.27173453996983,143.38339366515837,143.4950527903469,143.60671191553544,143.71837104072398,143.83003016591252,143.94168929110106,144.0533484162896,144.16500754147813,144.27666666666667,144.3883257918552,144.49998491704375,144.61164404223229,144.72330316742082,144.83496229260936,144.9466214177979,145.05828054298644,145.16993966817498,145.28159879336351,145.39325791855202,145.5049170437406,145.6165761689291,145.72823529411767,145.83989441930618,145.95155354449474,146.06321266968325,146.1748717948718,146.28653092006033,146.39819004524887,146.5098491704374,146.62150829562594,146.73316742081448,146.84482654600302,146.95648567119156,147.0681447963801,147.17980392156863,147.29146304675717,147.4031221719457,147.51478129713425,147.6264404223228,147.73809954751133,147.84975867269986,147.9614177978884,148.07307692307694,148.18473604826545,148.29639517345402,148.40805429864253,148.51971342383106,148.6313725490196,148.74303167420817,148.85469079939668,148.96634992458522,149.07800904977375,149.1896681749623,149.30132730015083,149.41298642533937,149.5246455505279,149.63630467571645,149.74796380090498,149.85962292609352,149.97128205128206,150.0829411764706,150.19460030165914,150.30625942684767,150.4179185520362,150.52957767722472,150.6412368024133,150.75289592760183,150.86455505279037,150.97621417797887,151.08787330316744,151.19953242835595,151.3111915535445,151.42285067873303,151.53450980392157,151.6461689291101,151.75782805429864,151.86948717948718,151.98114630467572,152.09280542986426,152.2044645550528,152.31612368024133,152.42778280542987,152.5394419306184,152.65110105580695,152.76276018099549,152.87441930618402,152.98607843137256,153.0977375565611,153.20939668174964,153.32105580693815,153.43271493212671,153.54437405731522,153.6560331825038,153.7676923076923,153.87935143288087,153.99101055806938,154.10266968325791,154.21432880844645,154.325987933635,154.43764705882353,154.54930618401207,154.6609653092006,154.77262443438914,154.88428355957768,154.99594268476622,155.10760180995476,155.2192609351433,155.33092006033183,155.44257918552037,155.5542383107089,155.66589743589745,155.777556561086,155.8892156862745,156.00087481146306,156.11253393665157,156.22419306184014,156.33585218702865,156.44751131221722,156.55917043740573,156.67082956259426,156.7824886877828,156.89414781297134,157.00580693815988,157.11746606334842,157.22912518853695,157.3407843137255,157.45244343891403],\"xaxis\":\"x\",\"y\":[0.0037379243652604635,0.0038086245930101245,0.003880404882735557,0.003953301936476499,0.004027353980804701,0.004102600750384856,0.004179083466987121,0.00425684481388211,0.004335928905560909,0.004416381252734984,0.004498248722583436,0.004581579494228439,0.0046664230094325115,0.004752829918525335,0.0048408520215817395,0.0049305422048860565,0.005021954372733059,0.005115143374629252,0.005210164927973215,0.005307075536308206,0.005405932403253802,0.005506793342238854,0.005609716682171309,0.005714761169194677,0.005821985864694742,0.005931450039733726,0.006043213066101725,0.0061573343041883884,0.0062738729878901636,0.006392888106779682,0.006514438285775576,0.006638581662561862,0.006765375763014908,0.006894877374907184,0.007027142420163761,0.007162225825956524,0.007300181394927975,0.007441061674842188,0.007584917827966332,0.007731799500490738,0.00788175469229837,0.008034829627397693,0.008191068625334643,0.008350513973899349,0.008513205803443655,0.008679181963123679,0.008848477899379283,0.009021126536959424,0.00919715816279702,0.009376600313032526,0.009559477663478783,0.009745811923811794,0.00993562173576452,0.01012892257559159,0.010325726661061858,0.010526042863225752,0.01072987662319257,0.010937229874138865,0.011148100968758387,0.011362484612347405,0.011580371801706183,0.011801749770022256,0.01202660193788433,0.012254907870560498,0.01248664324165777,0.012721779803262293,0.012960285362643334,0.013202123765586233,0.013447254886401921,0.013695634624643833,0.013947214908544002,0.014201943705163936,0.014459765037238255,0.014720619006670954,0.014984441824628379,0.015251165848156209,0.015520719623230716,0.015793027934139822,0.01606801185907424,0.016345588831793236,0.01662567270921699,0.01690817384478306,0.017192999167392527,0.01748005226575873,0.017769233477961558,0.018060439985998447,0.018353565915114885,0.018648502437688716,0.01894513788143364,0.01924335784168162,0.019543045297498222,0.019844080731377688,0.020146342252264113,0.020449705721638164,0.020754044882408784,0.021059231490347573,0.021365135447801623,0.021671624939422558,0.021978566569649645,0.022285825501686375,0.022593265597713033,0.02290074956008133,0.023208139073239608,0.023515294946143316,0.023822077254909618,0.02412834548548043,0.024433958676065567,0.024738775559142126,0.025042654702794775,0.02534545465118892,0.025647034063974596,0.025947251854428238,0.026245967326147413,0.026543040308120252,0.02683833128800106,0.027131701543431072,0.02742301327125122,0.027712129714463546,0.02799891528680348,0.02828323569479556,0.028564958057172594,0.02884395102154467,0.029120084878213687,0.029393231671036187,0.029663265305243262,0.02993006165213457,0.030193498650570187,0.030453456405189348,0.030709817281292517,0.03096246599632891,0.03121128970793672,0.03145617809849022,0.03169702345611111,0.03193372075210831,0.03216616771481475,0.032394264899793475,0.03261791575639085,0.032837026690618706,0.033051507124351044,0.03326126955082457,0.03346622958643812,0.03366630601884686,0.033861420851353484,0.03405149934360112,0.034236470048575864,0.03441626484593196,0.03459081897165448,0.03476007104407946,0.03492396308629416,0.035082440544944214,0.0352354523054779,0.03538295070386236,0.0355248915348083,0.03566123405654691,0.035791940992203175,0.0359169785278162,0.03603631630705991,0.03614992742272214,0.03625778840500383,0.036359879206704054,0.0364561831853614,0.03654668708242468,0.03663138099953188,0.03671025837197857,0.03678331593946125,0.036850553714185524,0.0369119749464309,0.03696758608766914,0.03701739675133499,0.03706141967135119,0.03709967065851307,0.03713216855483941,0.03715893518599875,0.037179995311922086,0.03719537657571467,0.037205109450979046,0.03720922718766428,0.03720776575655473,0.037200763792512144,0.03718826253658477,0.03717030577709442,0.03714693978981279,0.03711821327733518,0.03708417730775716,0.03704488525275788,0.03700039272518929,0.03695075751626738,0.036896039532457306,0.0368363007321402,0.03677160506214321,0.036702018394211174,0.03662760846149101,0.03654844479509555,0.03646459866080646,0.036376142995970646,0.036283152346638016,0.0361857028049814,0.036083871947034385,0.03597773877077507,0.03586738363457777,0.035752888196049167,0.03563433535125757,0.035511809174359726,0.035385394857622654,0.03525517865183267,0.035121247807079176,0.03498369051389523,0.034842595844732614,0.03469805369574572,0.03455015472885394,0.034398990314050346,0.03424465247192092,0.034087233816337305,0.033926827497284144,0.03376352714378163,0.033597426806863444,0.03342862090257011,0.03325720415491978,0.0330832715388191,0.032906918222878855,0.03272823951210263,0.03254733079041881,0.0323642874630308,0.03217920489856431,0.03199217837099494,0.03180330300134505,0.03161267369914402,0.03142038510365166,0.031226531524851546,0.03103120688422684,0.030834504655337575,0.030636517804226458,0.03043733872968557,0.030237059203424628,0.030035770310188014,0.02983356238787403,0.029630524967718175,0.029426746714607557,0.029222315367600102,0.02901731768072954,0.02881183936418162,0.028605965025932836,0.028399778113948657,0.028193360859042296,0.02798679421849843,0.02778015782057166,0.02757352990997068,0.027366987294442258,0.02716060529257115,0.026954457682912908,0.026748616654576104,0.026543152759373044,0.02633813486565287,0.0261336301139346,0.025929703874449723,0.025726419706707117,0.025523839321184426,0.025322022543248644,0.025121027279403785,0.02492090948595727,0.024721723140191127,0.024523520214118518,0.024326350650898092,0.02413026234397203,0.023935301118986,0.023741510718541275,0.023548932789820027,0.023357606875117762,0.02316757040530703,0.022978858696247415,0.022791504948148775,0.022605540247884994,0.022420993574245915,0.022237891806107347,0.022056259733489254,0.021876120071462855,0.021697493476861354,0.02152039856773632,0.021344851945498854,0.02117086821967252,0.020998460035180345,0.02082763810208005,0.020658411227655958,0.02049078635076876,0.02032476857836027,0.020160361224003977,0.019997565848388178,0.0198363823016147,0.019676808767192445,0.019518841807601845,0.019362476411305004,0.01920770604107348,0.019054522683504833,0.018902916899598946,0.018752877876264378,0.018604393478625487,0.01845745030300295,0.01831203373044029,0.018168127980652423,0.01802571616627421,0.017884780347288527,0.017745301585519783,0.01760725999907849,0.017470634816650215,0.017335404431523392,0.017201546455258,0.017069037770899433,0.016937854585648775,0.016807972482904835,0.016679366473599744,0.016552011046754585,0.016425880219187554,0.016300947584313216,0.016177186359976614,0.016054569435271934,0.01593306941630137,0.01581265867083545,0.01569330937184115,0.015574993539850514,0.01545768308414707,0.015341349842753198,0.015225965621205526,0.015111502230112097,0.014997931521487451,0.014885225423868656,0.01477335597621655,0.014662295360613664,0.014552015933771032,0.014442490257361466,0.014333691127199153,0.014225591601288192,0.014118165026765946,0.014011385065768699,0.0139052257202492,0.01379966135577802,0.013694666724361322,0.013590216986309089,0.013486287731189105,0.013382854997902167,0.0132798952939144,0.013177385613683012,0.013075303456311548,0.012973626842469835,0.012872334330614372,0.012771405032542621,0.012670818628315358,0.01257055538057785,0.012470596148312016,0.012370922400046941,0.012271516226556775,0.012172360353069718,0.012073438151012956,0.011974733649313916,0.011876231545276941,0.011777917215052312,0.011679776723711477,0.011581796834940074,0.01148396502035794,0.011386269468472408,0.01128869909326838,0.01119124354243636,0.011093893205236604,0.010996639219994688,0.010899473481221528,0.010802388646347817,0.010705378142060155,0.010608436170223935,0.010511557713374926,0.010414738539759903,0.010317975207902712,0.010221265070672251,0.010124606278823839,0.010027997783986244,0.009931439341062151,0.009834931510010208,0.009738475656973545,0.00964207395471932,0.0095457293823521,0.009449445724262647,0.009353227568273347,0.009257080302940448,0.0091610101139727,0.009065023979726352,0.008969129665735908,0.008873335718240427,0.00877765145666596,0.008682086965025164,0.008586653082196048,0.00849136139104356,0.008396224206348888,0.00830125456151301,0.008206466194003743,0.008111873529517106,0.008017491664827266,0.00792333634930092,0.00782942396505717,0.007735771505754569,0.007642396553993844,0.007549317257325275,0.007456552302857019,0.0073641208904626125,0.007272042704591504,0.007180337884691285,0.007089026994254432,0.006998130988508335,0.006907671180771952,0.006817669207507927,0.006728146992104718,0.00663912670742853,0.006550630737190372,0.006462681636179595,0.006375302089420609,0.006288514870314969,0.006202342797837261,0.006116808692858093,0.006031935333673239,0.005947745410823573,0.005864261481295146,0.005781505922194481,0.005699500883997915,0.005618268243480033,0.005537829556428978,0.005458206010261749,0.005379418376655401,0.00530148696431466,0.005224431571998428,0.005148271441930951,0.005073025213725951,0.004998710878953364,0.004925345736480131,0.004852946348717522,0.004781528498907823,0.004711107149583172,0.004641696402329191,0.004573309458984733,0.004505958584407552,0.004439655070933879,0.004374409204657148,0.00431023023364772,0.004247126338232508,0.004185104603448263,0.0041241709937783035,0.00406433033027685,0.004005586270179678,0.003947941289092829,0.0038913966658456127,0.003835952470085722,0.003781607552687518,0.003728359539036019,0.0036762048252411317,0.003625138577327585,0.0035751547334370182,0.0035262460090695158,0.0034784039053819857,0.0034316187205510485,0.0033858795641981743,0.0033411743748645553,0.0032974899405128757,0.0032548119220230775,0.003213124879638693,0.003172412302310048,0.003132656639870607,0.0030938393379725065,0.0030559408756972916,0.0030189408057487107,0.0029828177971240335,0.002947549680152401,0.0029131134937786856,0.002879485534964105,0.0028466414100656837,0.0028145560880502574,0.00278320395539065,0.002752558872485896,0.002722594231441087,0.00269328301503708,0.002664597856715744,0.0026365111014021994,0.0026089948669820754,0.002582021106249226,0.0025555616691371763,0.002529588365046265,0.0025040730250779734,0.0024789875639878514,0.0024543040416695502,0.0024299947239838616,0.002406032142749017,0.0023823891547116007,0.002359038999321111,0.0023359553551353823,0.0023131123946897284,0.002290484837667564,0.002268048002217481,0.002245777854267876,0.002223651054698405,0.0022016450042350384,0.002179737885944361,0.002157908705211491,0.002136137327095566,0.00211440451096639,0.002092691942335904],\"yaxis\":\"y\",\"type\":\"scatter\"},{\"legendgroup\":\"Average\",\"marker\":{\"color\":\"rgb(31, 119, 180)\",\"symbol\":\"line-ns-open\"},\"mode\":\"markers\",\"name\":\"Average\",\"showlegend\":false,\"x\":[38.30769230769231,27.223684210526315,27.1864406779661,33.59340659340659,27.146067415730336,28.112244897959183,33.333333333333336,41.02247191011236,34.733333333333334,40.14,22.945454545454545,26.979591836734695,28.25,28.392857142857142,30.11627906976744,31.541984732824428,25.081632653061224,28.55294117647059,39.86,28.70731707317073,25.953846153846154,24.811965811965813,25.17391304347826,26.431578947368422,38.76470588235294,28.5,29.428571428571427,37.87234042553192,20.986486486486488,21.700934579439252,28.233766233766232,24.055555555555557,32.6124031007752,29.515625,30.659574468085108,32.669724770642205,25.452830188679247,39.507936507936506,33.940298507462686,37.23913043478261,33.82608695652174,30.91764705882353,28.355555555555554,25.464285714285715,26.813953488372093,37.483050847457626,27.555555555555557,25.524590163934427,29.816326530612244,25.653465346534652],\"xaxis\":\"x\",\"y\":[\"Average\",\"Average\",\"Average\",\"Average\",\"Average\",\"Average\",\"Average\",\"Average\",\"Average\",\"Average\",\"Average\",\"Average\",\"Average\",\"Average\",\"Average\",\"Average\",\"Average\",\"Average\",\"Average\",\"Average\",\"Average\",\"Average\",\"Average\",\"Average\",\"Average\",\"Average\",\"Average\",\"Average\",\"Average\",\"Average\",\"Average\",\"Average\",\"Average\",\"Average\",\"Average\",\"Average\",\"Average\",\"Average\",\"Average\",\"Average\",\"Average\",\"Average\",\"Average\",\"Average\",\"Average\",\"Average\",\"Average\",\"Average\",\"Average\",\"Average\"],\"yaxis\":\"y2\",\"type\":\"scatter\"},{\"legendgroup\":\"Strike Rate\",\"marker\":{\"color\":\"rgb(255, 127, 14)\",\"symbol\":\"line-ns-open\"},\"mode\":\"markers\",\"name\":\"Strike Rate\",\"showlegend\":false,\"x\":[145.12905911740216,133.05466237942122,126.2992125984252,117.48654880860876,123.0142566191446,126.31820265933058,121.42237640936686,144.19431279620852,137.7092511013216,138.3184011026878,122.28682170542635,120.07266121707538,118.7910643889619,132.27953410981698,124.16107382550337,120.36120011651616,157.56410256410257,105.93627237014405,121.97062423500613,140.62126642771804,118.4691011235955,123.00847457627117,124.65016146393972,120.02868068833652,119.96359223300972,116.93845344555498,114.12742382271468,132.8358208955224,114.52802359882006,112.71844660194175,113.34723670490095,118.79286694101509,128.49725106902872,127.63513513513513,115.74297188755021,118.50249584026622,101.73453996983409,130.10977522216413,134.99554764024933,128.50712678169543,114.18786692759295,134.83837865572087,114.85148514851484,122.40343347639484,110.12416427889207,126.58843732112193,148.82705946535734,127.72764561115667,140.75144508670522,126.39024390243902],\"xaxis\":\"x\",\"y\":[\"Strike Rate\",\"Strike Rate\",\"Strike Rate\",\"Strike Rate\",\"Strike Rate\",\"Strike Rate\",\"Strike Rate\",\"Strike Rate\",\"Strike Rate\",\"Strike Rate\",\"Strike Rate\",\"Strike Rate\",\"Strike Rate\",\"Strike Rate\",\"Strike Rate\",\"Strike Rate\",\"Strike Rate\",\"Strike Rate\",\"Strike Rate\",\"Strike Rate\",\"Strike Rate\",\"Strike Rate\",\"Strike Rate\",\"Strike Rate\",\"Strike Rate\",\"Strike Rate\",\"Strike Rate\",\"Strike Rate\",\"Strike Rate\",\"Strike Rate\",\"Strike Rate\",\"Strike Rate\",\"Strike Rate\",\"Strike Rate\",\"Strike Rate\",\"Strike Rate\",\"Strike Rate\",\"Strike Rate\",\"Strike Rate\",\"Strike Rate\",\"Strike Rate\",\"Strike Rate\",\"Strike Rate\",\"Strike Rate\",\"Strike Rate\",\"Strike Rate\",\"Strike Rate\",\"Strike Rate\",\"Strike Rate\",\"Strike Rate\"],\"yaxis\":\"y2\",\"type\":\"scatter\"}],                        {\"barmode\":\"overlay\",\"hovermode\":\"closest\",\"legend\":{\"traceorder\":\"reversed\"},\"xaxis\":{\"anchor\":\"y2\",\"domain\":[0.0,1.0],\"zeroline\":false},\"yaxis\":{\"anchor\":\"free\",\"domain\":[0.35,1],\"position\":0.0},\"yaxis2\":{\"anchor\":\"x\",\"domain\":[0,0.25],\"dtick\":1,\"showticklabels\":false},\"template\":{\"data\":{\"histogram2dcontour\":[{\"type\":\"histogram2dcontour\",\"colorbar\":{\"outlinewidth\":0,\"ticks\":\"\"},\"colorscale\":[[0.0,\"#0d0887\"],[0.1111111111111111,\"#46039f\"],[0.2222222222222222,\"#7201a8\"],[0.3333333333333333,\"#9c179e\"],[0.4444444444444444,\"#bd3786\"],[0.5555555555555556,\"#d8576b\"],[0.6666666666666666,\"#ed7953\"],[0.7777777777777778,\"#fb9f3a\"],[0.8888888888888888,\"#fdca26\"],[1.0,\"#f0f921\"]]}],\"choropleth\":[{\"type\":\"choropleth\",\"colorbar\":{\"outlinewidth\":0,\"ticks\":\"\"}}],\"histogram2d\":[{\"type\":\"histogram2d\",\"colorbar\":{\"outlinewidth\":0,\"ticks\":\"\"},\"colorscale\":[[0.0,\"#0d0887\"],[0.1111111111111111,\"#46039f\"],[0.2222222222222222,\"#7201a8\"],[0.3333333333333333,\"#9c179e\"],[0.4444444444444444,\"#bd3786\"],[0.5555555555555556,\"#d8576b\"],[0.6666666666666666,\"#ed7953\"],[0.7777777777777778,\"#fb9f3a\"],[0.8888888888888888,\"#fdca26\"],[1.0,\"#f0f921\"]]}],\"heatmap\":[{\"type\":\"heatmap\",\"colorbar\":{\"outlinewidth\":0,\"ticks\":\"\"},\"colorscale\":[[0.0,\"#0d0887\"],[0.1111111111111111,\"#46039f\"],[0.2222222222222222,\"#7201a8\"],[0.3333333333333333,\"#9c179e\"],[0.4444444444444444,\"#bd3786\"],[0.5555555555555556,\"#d8576b\"],[0.6666666666666666,\"#ed7953\"],[0.7777777777777778,\"#fb9f3a\"],[0.8888888888888888,\"#fdca26\"],[1.0,\"#f0f921\"]]}],\"heatmapgl\":[{\"type\":\"heatmapgl\",\"colorbar\":{\"outlinewidth\":0,\"ticks\":\"\"},\"colorscale\":[[0.0,\"#0d0887\"],[0.1111111111111111,\"#46039f\"],[0.2222222222222222,\"#7201a8\"],[0.3333333333333333,\"#9c179e\"],[0.4444444444444444,\"#bd3786\"],[0.5555555555555556,\"#d8576b\"],[0.6666666666666666,\"#ed7953\"],[0.7777777777777778,\"#fb9f3a\"],[0.8888888888888888,\"#fdca26\"],[1.0,\"#f0f921\"]]}],\"contourcarpet\":[{\"type\":\"contourcarpet\",\"colorbar\":{\"outlinewidth\":0,\"ticks\":\"\"}}],\"contour\":[{\"type\":\"contour\",\"colorbar\":{\"outlinewidth\":0,\"ticks\":\"\"},\"colorscale\":[[0.0,\"#0d0887\"],[0.1111111111111111,\"#46039f\"],[0.2222222222222222,\"#7201a8\"],[0.3333333333333333,\"#9c179e\"],[0.4444444444444444,\"#bd3786\"],[0.5555555555555556,\"#d8576b\"],[0.6666666666666666,\"#ed7953\"],[0.7777777777777778,\"#fb9f3a\"],[0.8888888888888888,\"#fdca26\"],[1.0,\"#f0f921\"]]}],\"surface\":[{\"type\":\"surface\",\"colorbar\":{\"outlinewidth\":0,\"ticks\":\"\"},\"colorscale\":[[0.0,\"#0d0887\"],[0.1111111111111111,\"#46039f\"],[0.2222222222222222,\"#7201a8\"],[0.3333333333333333,\"#9c179e\"],[0.4444444444444444,\"#bd3786\"],[0.5555555555555556,\"#d8576b\"],[0.6666666666666666,\"#ed7953\"],[0.7777777777777778,\"#fb9f3a\"],[0.8888888888888888,\"#fdca26\"],[1.0,\"#f0f921\"]]}],\"mesh3d\":[{\"type\":\"mesh3d\",\"colorbar\":{\"outlinewidth\":0,\"ticks\":\"\"}}],\"scatter\":[{\"fillpattern\":{\"fillmode\":\"overlay\",\"size\":10,\"solidity\":0.2},\"type\":\"scatter\"}],\"parcoords\":[{\"type\":\"parcoords\",\"line\":{\"colorbar\":{\"outlinewidth\":0,\"ticks\":\"\"}}}],\"scatterpolargl\":[{\"type\":\"scatterpolargl\",\"marker\":{\"colorbar\":{\"outlinewidth\":0,\"ticks\":\"\"}}}],\"bar\":[{\"error_x\":{\"color\":\"#2a3f5f\"},\"error_y\":{\"color\":\"#2a3f5f\"},\"marker\":{\"line\":{\"color\":\"#E5ECF6\",\"width\":0.5},\"pattern\":{\"fillmode\":\"overlay\",\"size\":10,\"solidity\":0.2}},\"type\":\"bar\"}],\"scattergeo\":[{\"type\":\"scattergeo\",\"marker\":{\"colorbar\":{\"outlinewidth\":0,\"ticks\":\"\"}}}],\"scatterpolar\":[{\"type\":\"scatterpolar\",\"marker\":{\"colorbar\":{\"outlinewidth\":0,\"ticks\":\"\"}}}],\"histogram\":[{\"marker\":{\"pattern\":{\"fillmode\":\"overlay\",\"size\":10,\"solidity\":0.2}},\"type\":\"histogram\"}],\"scattergl\":[{\"type\":\"scattergl\",\"marker\":{\"colorbar\":{\"outlinewidth\":0,\"ticks\":\"\"}}}],\"scatter3d\":[{\"type\":\"scatter3d\",\"line\":{\"colorbar\":{\"outlinewidth\":0,\"ticks\":\"\"}},\"marker\":{\"colorbar\":{\"outlinewidth\":0,\"ticks\":\"\"}}}],\"scattermapbox\":[{\"type\":\"scattermapbox\",\"marker\":{\"colorbar\":{\"outlinewidth\":0,\"ticks\":\"\"}}}],\"scatterternary\":[{\"type\":\"scatterternary\",\"marker\":{\"colorbar\":{\"outlinewidth\":0,\"ticks\":\"\"}}}],\"scattercarpet\":[{\"type\":\"scattercarpet\",\"marker\":{\"colorbar\":{\"outlinewidth\":0,\"ticks\":\"\"}}}],\"carpet\":[{\"aaxis\":{\"endlinecolor\":\"#2a3f5f\",\"gridcolor\":\"white\",\"linecolor\":\"white\",\"minorgridcolor\":\"white\",\"startlinecolor\":\"#2a3f5f\"},\"baxis\":{\"endlinecolor\":\"#2a3f5f\",\"gridcolor\":\"white\",\"linecolor\":\"white\",\"minorgridcolor\":\"white\",\"startlinecolor\":\"#2a3f5f\"},\"type\":\"carpet\"}],\"table\":[{\"cells\":{\"fill\":{\"color\":\"#EBF0F8\"},\"line\":{\"color\":\"white\"}},\"header\":{\"fill\":{\"color\":\"#C8D4E3\"},\"line\":{\"color\":\"white\"}},\"type\":\"table\"}],\"barpolar\":[{\"marker\":{\"line\":{\"color\":\"#E5ECF6\",\"width\":0.5},\"pattern\":{\"fillmode\":\"overlay\",\"size\":10,\"solidity\":0.2}},\"type\":\"barpolar\"}],\"pie\":[{\"automargin\":true,\"type\":\"pie\"}]},\"layout\":{\"autotypenumbers\":\"strict\",\"colorway\":[\"#636efa\",\"#EF553B\",\"#00cc96\",\"#ab63fa\",\"#FFA15A\",\"#19d3f3\",\"#FF6692\",\"#B6E880\",\"#FF97FF\",\"#FECB52\"],\"font\":{\"color\":\"#2a3f5f\"},\"hovermode\":\"closest\",\"hoverlabel\":{\"align\":\"left\"},\"paper_bgcolor\":\"white\",\"plot_bgcolor\":\"#E5ECF6\",\"polar\":{\"bgcolor\":\"#E5ECF6\",\"angularaxis\":{\"gridcolor\":\"white\",\"linecolor\":\"white\",\"ticks\":\"\"},\"radialaxis\":{\"gridcolor\":\"white\",\"linecolor\":\"white\",\"ticks\":\"\"}},\"ternary\":{\"bgcolor\":\"#E5ECF6\",\"aaxis\":{\"gridcolor\":\"white\",\"linecolor\":\"white\",\"ticks\":\"\"},\"baxis\":{\"gridcolor\":\"white\",\"linecolor\":\"white\",\"ticks\":\"\"},\"caxis\":{\"gridcolor\":\"white\",\"linecolor\":\"white\",\"ticks\":\"\"}},\"coloraxis\":{\"colorbar\":{\"outlinewidth\":0,\"ticks\":\"\"}},\"colorscale\":{\"sequential\":[[0.0,\"#0d0887\"],[0.1111111111111111,\"#46039f\"],[0.2222222222222222,\"#7201a8\"],[0.3333333333333333,\"#9c179e\"],[0.4444444444444444,\"#bd3786\"],[0.5555555555555556,\"#d8576b\"],[0.6666666666666666,\"#ed7953\"],[0.7777777777777778,\"#fb9f3a\"],[0.8888888888888888,\"#fdca26\"],[1.0,\"#f0f921\"]],\"sequentialminus\":[[0.0,\"#0d0887\"],[0.1111111111111111,\"#46039f\"],[0.2222222222222222,\"#7201a8\"],[0.3333333333333333,\"#9c179e\"],[0.4444444444444444,\"#bd3786\"],[0.5555555555555556,\"#d8576b\"],[0.6666666666666666,\"#ed7953\"],[0.7777777777777778,\"#fb9f3a\"],[0.8888888888888888,\"#fdca26\"],[1.0,\"#f0f921\"]],\"diverging\":[[0,\"#8e0152\"],[0.1,\"#c51b7d\"],[0.2,\"#de77ae\"],[0.3,\"#f1b6da\"],[0.4,\"#fde0ef\"],[0.5,\"#f7f7f7\"],[0.6,\"#e6f5d0\"],[0.7,\"#b8e186\"],[0.8,\"#7fbc41\"],[0.9,\"#4d9221\"],[1,\"#276419\"]]},\"xaxis\":{\"gridcolor\":\"white\",\"linecolor\":\"white\",\"ticks\":\"\",\"title\":{\"standoff\":15},\"zerolinecolor\":\"white\",\"automargin\":true,\"zerolinewidth\":2},\"yaxis\":{\"gridcolor\":\"white\",\"linecolor\":\"white\",\"ticks\":\"\",\"title\":{\"standoff\":15},\"zerolinecolor\":\"white\",\"automargin\":true,\"zerolinewidth\":2},\"scene\":{\"xaxis\":{\"backgroundcolor\":\"#E5ECF6\",\"gridcolor\":\"white\",\"linecolor\":\"white\",\"showbackground\":true,\"ticks\":\"\",\"zerolinecolor\":\"white\",\"gridwidth\":2},\"yaxis\":{\"backgroundcolor\":\"#E5ECF6\",\"gridcolor\":\"white\",\"linecolor\":\"white\",\"showbackground\":true,\"ticks\":\"\",\"zerolinecolor\":\"white\",\"gridwidth\":2},\"zaxis\":{\"backgroundcolor\":\"#E5ECF6\",\"gridcolor\":\"white\",\"linecolor\":\"white\",\"showbackground\":true,\"ticks\":\"\",\"zerolinecolor\":\"white\",\"gridwidth\":2}},\"shapedefaults\":{\"line\":{\"color\":\"#2a3f5f\"}},\"annotationdefaults\":{\"arrowcolor\":\"#2a3f5f\",\"arrowhead\":0,\"arrowwidth\":1},\"geo\":{\"bgcolor\":\"white\",\"landcolor\":\"#E5ECF6\",\"subunitcolor\":\"white\",\"showland\":true,\"showlakes\":true,\"lakecolor\":\"white\"},\"title\":{\"x\":0.05},\"mapbox\":{\"style\":\"light\"}}}},                        {\"responsive\": true}                    ).then(function(){\n",
       "                            \n",
       "var gd = document.getElementById('0c14db93-bf6f-47d2-a318-5d9dbe3b09ba');\n",
       "var x = new MutationObserver(function (mutations, observer) {{\n",
       "        var display = window.getComputedStyle(gd).display;\n",
       "        if (!display || display === 'none') {{\n",
       "            console.log([gd, 'removed!']);\n",
       "            Plotly.purge(gd);\n",
       "            observer.disconnect();\n",
       "        }}\n",
       "}});\n",
       "\n",
       "// Listen for the removal of the full notebook cells\n",
       "var notebookContainer = gd.closest('#notebook-container');\n",
       "if (notebookContainer) {{\n",
       "    x.observe(notebookContainer, {childList: true});\n",
       "}}\n",
       "\n",
       "// Listen for the clearing of the current output cell\n",
       "var outputEl = gd.closest('.output');\n",
       "if (outputEl) {{\n",
       "    x.observe(outputEl, {childList: true});\n",
       "}}\n",
       "\n",
       "                        })                };                });            </script>        </div>"
      ]
     },
     "metadata": {},
     "output_type": "display_data"
    }
   ],
   "source": [
    "import plotly.figure_factory as ff\n",
    "hist_data = [avg['avg'], avg['batsman_runs']]\n",
    "group_labels=['Average', 'Strike Rate']\n",
    "\n",
    "fig=ff.create_distplot(hist_data, group_labels, bin_size=[10,20])\n",
    "\n",
    "fig.show()"
   ]
  },
  {
   "cell_type": "markdown",
   "id": "6bba589f-a539-4fc4-8085-f5752afce30a",
   "metadata": {},
   "source": [
    "### Histogram"
   ]
  },
  {
   "cell_type": "code",
   "execution_count": 77,
   "id": "d56d1ea7-9f6f-483a-a6bb-fb641d6b9731",
   "metadata": {
    "tags": []
   },
   "outputs": [
    {
     "data": {
      "application/vnd.plotly.v1+json": {
       "config": {
        "plotlyServerURL": "https://plot.ly"
       },
       "data": [
        {
         "type": "histogram",
         "x": [
          145.12905911740216,
          133.05466237942122,
          126.2992125984252,
          117.48654880860876,
          123.0142566191446,
          126.31820265933058,
          121.42237640936686,
          144.19431279620852,
          137.7092511013216,
          138.3184011026878,
          122.28682170542635,
          120.07266121707538,
          118.7910643889619,
          132.27953410981698,
          124.16107382550337,
          120.36120011651616,
          157.56410256410257,
          105.93627237014405,
          121.97062423500613,
          140.62126642771804,
          118.4691011235955,
          123.00847457627117,
          124.65016146393972,
          120.02868068833652,
          119.96359223300972,
          116.93845344555498,
          114.12742382271468,
          132.8358208955224,
          114.52802359882006,
          112.71844660194175,
          113.34723670490095,
          118.79286694101509,
          128.49725106902872,
          127.63513513513513,
          115.74297188755021,
          118.50249584026622,
          101.73453996983409,
          130.10977522216413,
          134.99554764024933,
          128.50712678169543,
          114.18786692759295,
          134.83837865572087,
          114.85148514851484,
          122.40343347639484,
          110.12416427889207,
          126.58843732112193,
          148.82705946535734,
          127.72764561115667,
          140.75144508670522,
          126.39024390243902
         ],
         "xbins": {
          "size": 8
         }
        }
       ],
       "layout": {
        "autosize": true,
        "template": {
         "data": {
          "bar": [
           {
            "error_x": {
             "color": "#2a3f5f"
            },
            "error_y": {
             "color": "#2a3f5f"
            },
            "marker": {
             "line": {
              "color": "#E5ECF6",
              "width": 0.5
             },
             "pattern": {
              "fillmode": "overlay",
              "size": 10,
              "solidity": 0.2
             }
            },
            "type": "bar"
           }
          ],
          "barpolar": [
           {
            "marker": {
             "line": {
              "color": "#E5ECF6",
              "width": 0.5
             },
             "pattern": {
              "fillmode": "overlay",
              "size": 10,
              "solidity": 0.2
             }
            },
            "type": "barpolar"
           }
          ],
          "carpet": [
           {
            "aaxis": {
             "endlinecolor": "#2a3f5f",
             "gridcolor": "white",
             "linecolor": "white",
             "minorgridcolor": "white",
             "startlinecolor": "#2a3f5f"
            },
            "baxis": {
             "endlinecolor": "#2a3f5f",
             "gridcolor": "white",
             "linecolor": "white",
             "minorgridcolor": "white",
             "startlinecolor": "#2a3f5f"
            },
            "type": "carpet"
           }
          ],
          "choropleth": [
           {
            "colorbar": {
             "outlinewidth": 0,
             "ticks": ""
            },
            "type": "choropleth"
           }
          ],
          "contour": [
           {
            "colorbar": {
             "outlinewidth": 0,
             "ticks": ""
            },
            "colorscale": [
             [
              0,
              "#0d0887"
             ],
             [
              0.1111111111111111,
              "#46039f"
             ],
             [
              0.2222222222222222,
              "#7201a8"
             ],
             [
              0.3333333333333333,
              "#9c179e"
             ],
             [
              0.4444444444444444,
              "#bd3786"
             ],
             [
              0.5555555555555556,
              "#d8576b"
             ],
             [
              0.6666666666666666,
              "#ed7953"
             ],
             [
              0.7777777777777778,
              "#fb9f3a"
             ],
             [
              0.8888888888888888,
              "#fdca26"
             ],
             [
              1,
              "#f0f921"
             ]
            ],
            "type": "contour"
           }
          ],
          "contourcarpet": [
           {
            "colorbar": {
             "outlinewidth": 0,
             "ticks": ""
            },
            "type": "contourcarpet"
           }
          ],
          "heatmap": [
           {
            "colorbar": {
             "outlinewidth": 0,
             "ticks": ""
            },
            "colorscale": [
             [
              0,
              "#0d0887"
             ],
             [
              0.1111111111111111,
              "#46039f"
             ],
             [
              0.2222222222222222,
              "#7201a8"
             ],
             [
              0.3333333333333333,
              "#9c179e"
             ],
             [
              0.4444444444444444,
              "#bd3786"
             ],
             [
              0.5555555555555556,
              "#d8576b"
             ],
             [
              0.6666666666666666,
              "#ed7953"
             ],
             [
              0.7777777777777778,
              "#fb9f3a"
             ],
             [
              0.8888888888888888,
              "#fdca26"
             ],
             [
              1,
              "#f0f921"
             ]
            ],
            "type": "heatmap"
           }
          ],
          "heatmapgl": [
           {
            "colorbar": {
             "outlinewidth": 0,
             "ticks": ""
            },
            "colorscale": [
             [
              0,
              "#0d0887"
             ],
             [
              0.1111111111111111,
              "#46039f"
             ],
             [
              0.2222222222222222,
              "#7201a8"
             ],
             [
              0.3333333333333333,
              "#9c179e"
             ],
             [
              0.4444444444444444,
              "#bd3786"
             ],
             [
              0.5555555555555556,
              "#d8576b"
             ],
             [
              0.6666666666666666,
              "#ed7953"
             ],
             [
              0.7777777777777778,
              "#fb9f3a"
             ],
             [
              0.8888888888888888,
              "#fdca26"
             ],
             [
              1,
              "#f0f921"
             ]
            ],
            "type": "heatmapgl"
           }
          ],
          "histogram": [
           {
            "marker": {
             "pattern": {
              "fillmode": "overlay",
              "size": 10,
              "solidity": 0.2
             }
            },
            "type": "histogram"
           }
          ],
          "histogram2d": [
           {
            "colorbar": {
             "outlinewidth": 0,
             "ticks": ""
            },
            "colorscale": [
             [
              0,
              "#0d0887"
             ],
             [
              0.1111111111111111,
              "#46039f"
             ],
             [
              0.2222222222222222,
              "#7201a8"
             ],
             [
              0.3333333333333333,
              "#9c179e"
             ],
             [
              0.4444444444444444,
              "#bd3786"
             ],
             [
              0.5555555555555556,
              "#d8576b"
             ],
             [
              0.6666666666666666,
              "#ed7953"
             ],
             [
              0.7777777777777778,
              "#fb9f3a"
             ],
             [
              0.8888888888888888,
              "#fdca26"
             ],
             [
              1,
              "#f0f921"
             ]
            ],
            "type": "histogram2d"
           }
          ],
          "histogram2dcontour": [
           {
            "colorbar": {
             "outlinewidth": 0,
             "ticks": ""
            },
            "colorscale": [
             [
              0,
              "#0d0887"
             ],
             [
              0.1111111111111111,
              "#46039f"
             ],
             [
              0.2222222222222222,
              "#7201a8"
             ],
             [
              0.3333333333333333,
              "#9c179e"
             ],
             [
              0.4444444444444444,
              "#bd3786"
             ],
             [
              0.5555555555555556,
              "#d8576b"
             ],
             [
              0.6666666666666666,
              "#ed7953"
             ],
             [
              0.7777777777777778,
              "#fb9f3a"
             ],
             [
              0.8888888888888888,
              "#fdca26"
             ],
             [
              1,
              "#f0f921"
             ]
            ],
            "type": "histogram2dcontour"
           }
          ],
          "mesh3d": [
           {
            "colorbar": {
             "outlinewidth": 0,
             "ticks": ""
            },
            "type": "mesh3d"
           }
          ],
          "parcoords": [
           {
            "line": {
             "colorbar": {
              "outlinewidth": 0,
              "ticks": ""
             }
            },
            "type": "parcoords"
           }
          ],
          "pie": [
           {
            "automargin": true,
            "type": "pie"
           }
          ],
          "scatter": [
           {
            "fillpattern": {
             "fillmode": "overlay",
             "size": 10,
             "solidity": 0.2
            },
            "type": "scatter"
           }
          ],
          "scatter3d": [
           {
            "line": {
             "colorbar": {
              "outlinewidth": 0,
              "ticks": ""
             }
            },
            "marker": {
             "colorbar": {
              "outlinewidth": 0,
              "ticks": ""
             }
            },
            "type": "scatter3d"
           }
          ],
          "scattercarpet": [
           {
            "marker": {
             "colorbar": {
              "outlinewidth": 0,
              "ticks": ""
             }
            },
            "type": "scattercarpet"
           }
          ],
          "scattergeo": [
           {
            "marker": {
             "colorbar": {
              "outlinewidth": 0,
              "ticks": ""
             }
            },
            "type": "scattergeo"
           }
          ],
          "scattergl": [
           {
            "marker": {
             "colorbar": {
              "outlinewidth": 0,
              "ticks": ""
             }
            },
            "type": "scattergl"
           }
          ],
          "scattermapbox": [
           {
            "marker": {
             "colorbar": {
              "outlinewidth": 0,
              "ticks": ""
             }
            },
            "type": "scattermapbox"
           }
          ],
          "scatterpolar": [
           {
            "marker": {
             "colorbar": {
              "outlinewidth": 0,
              "ticks": ""
             }
            },
            "type": "scatterpolar"
           }
          ],
          "scatterpolargl": [
           {
            "marker": {
             "colorbar": {
              "outlinewidth": 0,
              "ticks": ""
             }
            },
            "type": "scatterpolargl"
           }
          ],
          "scatterternary": [
           {
            "marker": {
             "colorbar": {
              "outlinewidth": 0,
              "ticks": ""
             }
            },
            "type": "scatterternary"
           }
          ],
          "surface": [
           {
            "colorbar": {
             "outlinewidth": 0,
             "ticks": ""
            },
            "colorscale": [
             [
              0,
              "#0d0887"
             ],
             [
              0.1111111111111111,
              "#46039f"
             ],
             [
              0.2222222222222222,
              "#7201a8"
             ],
             [
              0.3333333333333333,
              "#9c179e"
             ],
             [
              0.4444444444444444,
              "#bd3786"
             ],
             [
              0.5555555555555556,
              "#d8576b"
             ],
             [
              0.6666666666666666,
              "#ed7953"
             ],
             [
              0.7777777777777778,
              "#fb9f3a"
             ],
             [
              0.8888888888888888,
              "#fdca26"
             ],
             [
              1,
              "#f0f921"
             ]
            ],
            "type": "surface"
           }
          ],
          "table": [
           {
            "cells": {
             "fill": {
              "color": "#EBF0F8"
             },
             "line": {
              "color": "white"
             }
            },
            "header": {
             "fill": {
              "color": "#C8D4E3"
             },
             "line": {
              "color": "white"
             }
            },
            "type": "table"
           }
          ]
         },
         "layout": {
          "annotationdefaults": {
           "arrowcolor": "#2a3f5f",
           "arrowhead": 0,
           "arrowwidth": 1
          },
          "autotypenumbers": "strict",
          "coloraxis": {
           "colorbar": {
            "outlinewidth": 0,
            "ticks": ""
           }
          },
          "colorscale": {
           "diverging": [
            [
             0,
             "#8e0152"
            ],
            [
             0.1,
             "#c51b7d"
            ],
            [
             0.2,
             "#de77ae"
            ],
            [
             0.3,
             "#f1b6da"
            ],
            [
             0.4,
             "#fde0ef"
            ],
            [
             0.5,
             "#f7f7f7"
            ],
            [
             0.6,
             "#e6f5d0"
            ],
            [
             0.7,
             "#b8e186"
            ],
            [
             0.8,
             "#7fbc41"
            ],
            [
             0.9,
             "#4d9221"
            ],
            [
             1,
             "#276419"
            ]
           ],
           "sequential": [
            [
             0,
             "#0d0887"
            ],
            [
             0.1111111111111111,
             "#46039f"
            ],
            [
             0.2222222222222222,
             "#7201a8"
            ],
            [
             0.3333333333333333,
             "#9c179e"
            ],
            [
             0.4444444444444444,
             "#bd3786"
            ],
            [
             0.5555555555555556,
             "#d8576b"
            ],
            [
             0.6666666666666666,
             "#ed7953"
            ],
            [
             0.7777777777777778,
             "#fb9f3a"
            ],
            [
             0.8888888888888888,
             "#fdca26"
            ],
            [
             1,
             "#f0f921"
            ]
           ],
           "sequentialminus": [
            [
             0,
             "#0d0887"
            ],
            [
             0.1111111111111111,
             "#46039f"
            ],
            [
             0.2222222222222222,
             "#7201a8"
            ],
            [
             0.3333333333333333,
             "#9c179e"
            ],
            [
             0.4444444444444444,
             "#bd3786"
            ],
            [
             0.5555555555555556,
             "#d8576b"
            ],
            [
             0.6666666666666666,
             "#ed7953"
            ],
            [
             0.7777777777777778,
             "#fb9f3a"
            ],
            [
             0.8888888888888888,
             "#fdca26"
            ],
            [
             1,
             "#f0f921"
            ]
           ]
          },
          "colorway": [
           "#636efa",
           "#EF553B",
           "#00cc96",
           "#ab63fa",
           "#FFA15A",
           "#19d3f3",
           "#FF6692",
           "#B6E880",
           "#FF97FF",
           "#FECB52"
          ],
          "font": {
           "color": "#2a3f5f"
          },
          "geo": {
           "bgcolor": "white",
           "lakecolor": "white",
           "landcolor": "#E5ECF6",
           "showlakes": true,
           "showland": true,
           "subunitcolor": "white"
          },
          "hoverlabel": {
           "align": "left"
          },
          "hovermode": "closest",
          "mapbox": {
           "style": "light"
          },
          "paper_bgcolor": "white",
          "plot_bgcolor": "#E5ECF6",
          "polar": {
           "angularaxis": {
            "gridcolor": "white",
            "linecolor": "white",
            "ticks": ""
           },
           "bgcolor": "#E5ECF6",
           "radialaxis": {
            "gridcolor": "white",
            "linecolor": "white",
            "ticks": ""
           }
          },
          "scene": {
           "xaxis": {
            "backgroundcolor": "#E5ECF6",
            "gridcolor": "white",
            "gridwidth": 2,
            "linecolor": "white",
            "showbackground": true,
            "ticks": "",
            "zerolinecolor": "white"
           },
           "yaxis": {
            "backgroundcolor": "#E5ECF6",
            "gridcolor": "white",
            "gridwidth": 2,
            "linecolor": "white",
            "showbackground": true,
            "ticks": "",
            "zerolinecolor": "white"
           },
           "zaxis": {
            "backgroundcolor": "#E5ECF6",
            "gridcolor": "white",
            "gridwidth": 2,
            "linecolor": "white",
            "showbackground": true,
            "ticks": "",
            "zerolinecolor": "white"
           }
          },
          "shapedefaults": {
           "line": {
            "color": "#2a3f5f"
           }
          },
          "ternary": {
           "aaxis": {
            "gridcolor": "white",
            "linecolor": "white",
            "ticks": ""
           },
           "baxis": {
            "gridcolor": "white",
            "linecolor": "white",
            "ticks": ""
           },
           "bgcolor": "#E5ECF6",
           "caxis": {
            "gridcolor": "white",
            "linecolor": "white",
            "ticks": ""
           }
          },
          "title": {
           "x": 0.05
          },
          "xaxis": {
           "automargin": true,
           "gridcolor": "white",
           "linecolor": "white",
           "ticks": "",
           "title": {
            "standoff": 15
           },
           "zerolinecolor": "white",
           "zerolinewidth": 2
          },
          "yaxis": {
           "automargin": true,
           "gridcolor": "white",
           "linecolor": "white",
           "ticks": "",
           "title": {
            "standoff": 15
           },
           "zerolinecolor": "white",
           "zerolinewidth": 2
          }
         }
        },
        "title": {
         "text": "Strike Rate Analysis"
        },
        "xaxis": {
         "autorange": true,
         "range": [
          96,
          160
         ],
         "title": {
          "text": "Strike Rates"
         },
         "type": "linear"
        },
        "yaxis": {
         "autorange": true,
         "range": [
          0,
          17.894736842105264
         ]
        }
       }
      },
      "image/png": "[encoded data removed]",
      "text/html": [
       "<div>                            <div id=\"ec88b006-5c86-45de-b12d-14f7002ca993\" class=\"plotly-graph-div\" style=\"height:525px; width:100%;\"></div>            <script type=\"text/javascript\">                require([\"plotly\"], function(Plotly) {                    window.PLOTLYENV=window.PLOTLYENV || {};                                    if (document.getElementById(\"ec88b006-5c86-45de-b12d-14f7002ca993\")) {                    Plotly.newPlot(                        \"ec88b006-5c86-45de-b12d-14f7002ca993\",                        [{\"x\":[145.12905911740216,133.05466237942122,126.2992125984252,117.48654880860876,123.0142566191446,126.31820265933058,121.42237640936686,144.19431279620852,137.7092511013216,138.3184011026878,122.28682170542635,120.07266121707538,118.7910643889619,132.27953410981698,124.16107382550337,120.36120011651616,157.56410256410257,105.93627237014405,121.97062423500613,140.62126642771804,118.4691011235955,123.00847457627117,124.65016146393972,120.02868068833652,119.96359223300972,116.93845344555498,114.12742382271468,132.8358208955224,114.52802359882006,112.71844660194175,113.34723670490095,118.79286694101509,128.49725106902872,127.63513513513513,115.74297188755021,118.50249584026622,101.73453996983409,130.10977522216413,134.99554764024933,128.50712678169543,114.18786692759295,134.83837865572087,114.85148514851484,122.40343347639484,110.12416427889207,126.58843732112193,148.82705946535734,127.72764561115667,140.75144508670522,126.39024390243902],\"xbins\":{\"size\":8},\"type\":\"histogram\"}],                        {\"title\":{\"text\":\"Strike Rate Analysis\"},\"xaxis\":{\"title\":{\"text\":\"Strike Rates\"}},\"template\":{\"data\":{\"histogram2dcontour\":[{\"type\":\"histogram2dcontour\",\"colorbar\":{\"outlinewidth\":0,\"ticks\":\"\"},\"colorscale\":[[0.0,\"#0d0887\"],[0.1111111111111111,\"#46039f\"],[0.2222222222222222,\"#7201a8\"],[0.3333333333333333,\"#9c179e\"],[0.4444444444444444,\"#bd3786\"],[0.5555555555555556,\"#d8576b\"],[0.6666666666666666,\"#ed7953\"],[0.7777777777777778,\"#fb9f3a\"],[0.8888888888888888,\"#fdca26\"],[1.0,\"#f0f921\"]]}],\"choropleth\":[{\"type\":\"choropleth\",\"colorbar\":{\"outlinewidth\":0,\"ticks\":\"\"}}],\"histogram2d\":[{\"type\":\"histogram2d\",\"colorbar\":{\"outlinewidth\":0,\"ticks\":\"\"},\"colorscale\":[[0.0,\"#0d0887\"],[0.1111111111111111,\"#46039f\"],[0.2222222222222222,\"#7201a8\"],[0.3333333333333333,\"#9c179e\"],[0.4444444444444444,\"#bd3786\"],[0.5555555555555556,\"#d8576b\"],[0.6666666666666666,\"#ed7953\"],[0.7777777777777778,\"#fb9f3a\"],[0.8888888888888888,\"#fdca26\"],[1.0,\"#f0f921\"]]}],\"heatmap\":[{\"type\":\"heatmap\",\"colorbar\":{\"outlinewidth\":0,\"ticks\":\"\"},\"colorscale\":[[0.0,\"#0d0887\"],[0.1111111111111111,\"#46039f\"],[0.2222222222222222,\"#7201a8\"],[0.3333333333333333,\"#9c179e\"],[0.4444444444444444,\"#bd3786\"],[0.5555555555555556,\"#d8576b\"],[0.6666666666666666,\"#ed7953\"],[0.7777777777777778,\"#fb9f3a\"],[0.8888888888888888,\"#fdca26\"],[1.0,\"#f0f921\"]]}],\"heatmapgl\":[{\"type\":\"heatmapgl\",\"colorbar\":{\"outlinewidth\":0,\"ticks\":\"\"},\"colorscale\":[[0.0,\"#0d0887\"],[0.1111111111111111,\"#46039f\"],[0.2222222222222222,\"#7201a8\"],[0.3333333333333333,\"#9c179e\"],[0.4444444444444444,\"#bd3786\"],[0.5555555555555556,\"#d8576b\"],[0.6666666666666666,\"#ed7953\"],[0.7777777777777778,\"#fb9f3a\"],[0.8888888888888888,\"#fdca26\"],[1.0,\"#f0f921\"]]}],\"contourcarpet\":[{\"type\":\"contourcarpet\",\"colorbar\":{\"outlinewidth\":0,\"ticks\":\"\"}}],\"contour\":[{\"type\":\"contour\",\"colorbar\":{\"outlinewidth\":0,\"ticks\":\"\"},\"colorscale\":[[0.0,\"#0d0887\"],[0.1111111111111111,\"#46039f\"],[0.2222222222222222,\"#7201a8\"],[0.3333333333333333,\"#9c179e\"],[0.4444444444444444,\"#bd3786\"],[0.5555555555555556,\"#d8576b\"],[0.6666666666666666,\"#ed7953\"],[0.7777777777777778,\"#fb9f3a\"],[0.8888888888888888,\"#fdca26\"],[1.0,\"#f0f921\"]]}],\"surface\":[{\"type\":\"surface\",\"colorbar\":{\"outlinewidth\":0,\"ticks\":\"\"},\"colorscale\":[[0.0,\"#0d0887\"],[0.1111111111111111,\"#46039f\"],[0.2222222222222222,\"#7201a8\"],[0.3333333333333333,\"#9c179e\"],[0.4444444444444444,\"#bd3786\"],[0.5555555555555556,\"#d8576b\"],[0.6666666666666666,\"#ed7953\"],[0.7777777777777778,\"#fb9f3a\"],[0.8888888888888888,\"#fdca26\"],[1.0,\"#f0f921\"]]}],\"mesh3d\":[{\"type\":\"mesh3d\",\"colorbar\":{\"outlinewidth\":0,\"ticks\":\"\"}}],\"scatter\":[{\"fillpattern\":{\"fillmode\":\"overlay\",\"size\":10,\"solidity\":0.2},\"type\":\"scatter\"}],\"parcoords\":[{\"type\":\"parcoords\",\"line\":{\"colorbar\":{\"outlinewidth\":0,\"ticks\":\"\"}}}],\"scatterpolargl\":[{\"type\":\"scatterpolargl\",\"marker\":{\"colorbar\":{\"outlinewidth\":0,\"ticks\":\"\"}}}],\"bar\":[{\"error_x\":{\"color\":\"#2a3f5f\"},\"error_y\":{\"color\":\"#2a3f5f\"},\"marker\":{\"line\":{\"color\":\"#E5ECF6\",\"width\":0.5},\"pattern\":{\"fillmode\":\"overlay\",\"size\":10,\"solidity\":0.2}},\"type\":\"bar\"}],\"scattergeo\":[{\"type\":\"scattergeo\",\"marker\":{\"colorbar\":{\"outlinewidth\":0,\"ticks\":\"\"}}}],\"scatterpolar\":[{\"type\":\"scatterpolar\",\"marker\":{\"colorbar\":{\"outlinewidth\":0,\"ticks\":\"\"}}}],\"histogram\":[{\"marker\":{\"pattern\":{\"fillmode\":\"overlay\",\"size\":10,\"solidity\":0.2}},\"type\":\"histogram\"}],\"scattergl\":[{\"type\":\"scattergl\",\"marker\":{\"colorbar\":{\"outlinewidth\":0,\"ticks\":\"\"}}}],\"scatter3d\":[{\"type\":\"scatter3d\",\"line\":{\"colorbar\":{\"outlinewidth\":0,\"ticks\":\"\"}},\"marker\":{\"colorbar\":{\"outlinewidth\":0,\"ticks\":\"\"}}}],\"scattermapbox\":[{\"type\":\"scattermapbox\",\"marker\":{\"colorbar\":{\"outlinewidth\":0,\"ticks\":\"\"}}}],\"scatterternary\":[{\"type\":\"scatterternary\",\"marker\":{\"colorbar\":{\"outlinewidth\":0,\"ticks\":\"\"}}}],\"scattercarpet\":[{\"type\":\"scattercarpet\",\"marker\":{\"colorbar\":{\"outlinewidth\":0,\"ticks\":\"\"}}}],\"carpet\":[{\"aaxis\":{\"endlinecolor\":\"#2a3f5f\",\"gridcolor\":\"white\",\"linecolor\":\"white\",\"minorgridcolor\":\"white\",\"startlinecolor\":\"#2a3f5f\"},\"baxis\":{\"endlinecolor\":\"#2a3f5f\",\"gridcolor\":\"white\",\"linecolor\":\"white\",\"minorgridcolor\":\"white\",\"startlinecolor\":\"#2a3f5f\"},\"type\":\"carpet\"}],\"table\":[{\"cells\":{\"fill\":{\"color\":\"#EBF0F8\"},\"line\":{\"color\":\"white\"}},\"header\":{\"fill\":{\"color\":\"#C8D4E3\"},\"line\":{\"color\":\"white\"}},\"type\":\"table\"}],\"barpolar\":[{\"marker\":{\"line\":{\"color\":\"#E5ECF6\",\"width\":0.5},\"pattern\":{\"fillmode\":\"overlay\",\"size\":10,\"solidity\":0.2}},\"type\":\"barpolar\"}],\"pie\":[{\"automargin\":true,\"type\":\"pie\"}]},\"layout\":{\"autotypenumbers\":\"strict\",\"colorway\":[\"#636efa\",\"#EF553B\",\"#00cc96\",\"#ab63fa\",\"#FFA15A\",\"#19d3f3\",\"#FF6692\",\"#B6E880\",\"#FF97FF\",\"#FECB52\"],\"font\":{\"color\":\"#2a3f5f\"},\"hovermode\":\"closest\",\"hoverlabel\":{\"align\":\"left\"},\"paper_bgcolor\":\"white\",\"plot_bgcolor\":\"#E5ECF6\",\"polar\":{\"bgcolor\":\"#E5ECF6\",\"angularaxis\":{\"gridcolor\":\"white\",\"linecolor\":\"white\",\"ticks\":\"\"},\"radialaxis\":{\"gridcolor\":\"white\",\"linecolor\":\"white\",\"ticks\":\"\"}},\"ternary\":{\"bgcolor\":\"#E5ECF6\",\"aaxis\":{\"gridcolor\":\"white\",\"linecolor\":\"white\",\"ticks\":\"\"},\"baxis\":{\"gridcolor\":\"white\",\"linecolor\":\"white\",\"ticks\":\"\"},\"caxis\":{\"gridcolor\":\"white\",\"linecolor\":\"white\",\"ticks\":\"\"}},\"coloraxis\":{\"colorbar\":{\"outlinewidth\":0,\"ticks\":\"\"}},\"colorscale\":{\"sequential\":[[0.0,\"#0d0887\"],[0.1111111111111111,\"#46039f\"],[0.2222222222222222,\"#7201a8\"],[0.3333333333333333,\"#9c179e\"],[0.4444444444444444,\"#bd3786\"],[0.5555555555555556,\"#d8576b\"],[0.6666666666666666,\"#ed7953\"],[0.7777777777777778,\"#fb9f3a\"],[0.8888888888888888,\"#fdca26\"],[1.0,\"#f0f921\"]],\"sequentialminus\":[[0.0,\"#0d0887\"],[0.1111111111111111,\"#46039f\"],[0.2222222222222222,\"#7201a8\"],[0.3333333333333333,\"#9c179e\"],[0.4444444444444444,\"#bd3786\"],[0.5555555555555556,\"#d8576b\"],[0.6666666666666666,\"#ed7953\"],[0.7777777777777778,\"#fb9f3a\"],[0.8888888888888888,\"#fdca26\"],[1.0,\"#f0f921\"]],\"diverging\":[[0,\"#8e0152\"],[0.1,\"#c51b7d\"],[0.2,\"#de77ae\"],[0.3,\"#f1b6da\"],[0.4,\"#fde0ef\"],[0.5,\"#f7f7f7\"],[0.6,\"#e6f5d0\"],[0.7,\"#b8e186\"],[0.8,\"#7fbc41\"],[0.9,\"#4d9221\"],[1,\"#276419\"]]},\"xaxis\":{\"gridcolor\":\"white\",\"linecolor\":\"white\",\"ticks\":\"\",\"title\":{\"standoff\":15},\"zerolinecolor\":\"white\",\"automargin\":true,\"zerolinewidth\":2},\"yaxis\":{\"gridcolor\":\"white\",\"linecolor\":\"white\",\"ticks\":\"\",\"title\":{\"standoff\":15},\"zerolinecolor\":\"white\",\"automargin\":true,\"zerolinewidth\":2},\"scene\":{\"xaxis\":{\"backgroundcolor\":\"#E5ECF6\",\"gridcolor\":\"white\",\"linecolor\":\"white\",\"showbackground\":true,\"ticks\":\"\",\"zerolinecolor\":\"white\",\"gridwidth\":2},\"yaxis\":{\"backgroundcolor\":\"#E5ECF6\",\"gridcolor\":\"white\",\"linecolor\":\"white\",\"showbackground\":true,\"ticks\":\"\",\"zerolinecolor\":\"white\",\"gridwidth\":2},\"zaxis\":{\"backgroundcolor\":\"#E5ECF6\",\"gridcolor\":\"white\",\"linecolor\":\"white\",\"showbackground\":true,\"ticks\":\"\",\"zerolinecolor\":\"white\",\"gridwidth\":2}},\"shapedefaults\":{\"line\":{\"color\":\"#2a3f5f\"}},\"annotationdefaults\":{\"arrowcolor\":\"#2a3f5f\",\"arrowhead\":0,\"arrowwidth\":1},\"geo\":{\"bgcolor\":\"white\",\"landcolor\":\"#E5ECF6\",\"subunitcolor\":\"white\",\"showland\":true,\"showlakes\":true,\"lakecolor\":\"white\"},\"title\":{\"x\":0.05},\"mapbox\":{\"style\":\"light\"}}}},                        {\"responsive\": true}                    ).then(function(){\n",
       "                            \n",
       "var gd = document.getElementById('ec88b006-5c86-45de-b12d-14f7002ca993');\n",
       "var x = new MutationObserver(function (mutations, observer) {{\n",
       "        var display = window.getComputedStyle(gd).display;\n",
       "        if (!display || display === 'none') {{\n",
       "            console.log([gd, 'removed!']);\n",
       "            Plotly.purge(gd);\n",
       "            observer.disconnect();\n",
       "        }}\n",
       "}});\n",
       "\n",
       "// Listen for the removal of the full notebook cells\n",
       "var notebookContainer = gd.closest('#notebook-container');\n",
       "if (notebookContainer) {{\n",
       "    x.observe(notebookContainer, {childList: true});\n",
       "}}\n",
       "\n",
       "// Listen for the clearing of the current output cell\n",
       "var outputEl = gd.closest('.output');\n",
       "if (outputEl) {{\n",
       "    x.observe(outputEl, {childList: true});\n",
       "}}\n",
       "\n",
       "                        })                };                });            </script>        </div>"
      ]
     },
     "metadata": {},
     "output_type": "display_data"
    }
   ],
   "source": [
    "trace=go.Histogram(x=sr['batsman_runs'], xbins={'size': 8}) # you can give start and end \n",
    "\n",
    "data=[trace]\n",
    "\n",
    "layout=go.Layout(title='Strike Rate Analysis',\n",
    "                xaxis={'title': 'Strike Rates'})\n",
    "\n",
    "fig= go.Figure(data=data, layout=layout)\n",
    "fig.show()"
   ]
  },
  {
   "cell_type": "code",
   "execution_count": 78,
   "id": "66af1008-9c8d-4d9c-b7df-c2afdcdfd540",
   "metadata": {
    "tags": []
   },
   "outputs": [],
   "source": [
    "# three variables can be categorical, numerical, one value go on x-axis , second go on y-axis and third value on the graph"
   ]
  },
  {
   "cell_type": "code",
   "execution_count": 82,
   "id": "f500a739-320d-4e2d-ad8e-2c8676de99bf",
   "metadata": {
    "tags": []
   },
   "outputs": [
    {
     "data": {
      "text/html": [
       "<div>\n",
       "<style scoped>\n",
       "    .dataframe tbody tr th:only-of-type {\n",
       "        vertical-align: middle;\n",
       "    }\n",
       "\n",
       "    .dataframe tbody tr th {\n",
       "        vertical-align: top;\n",
       "    }\n",
       "\n",
       "    .dataframe thead th {\n",
       "        text-align: right;\n",
       "    }\n",
       "</style>\n",
       "<table border=\"1\" class=\"dataframe\">\n",
       "  <thead>\n",
       "    <tr style=\"text-align: right;\">\n",
       "      <th></th>\n",
       "      <th>batting_team</th>\n",
       "      <th>over</th>\n",
       "      <th>batsman_runs</th>\n",
       "    </tr>\n",
       "  </thead>\n",
       "  <tbody>\n",
       "    <tr>\n",
       "      <th>0</th>\n",
       "      <td>Chennai Super Kings</td>\n",
       "      <td>1</td>\n",
       "      <td>9</td>\n",
       "    </tr>\n",
       "    <tr>\n",
       "      <th>1</th>\n",
       "      <td>Chennai Super Kings</td>\n",
       "      <td>2</td>\n",
       "      <td>21</td>\n",
       "    </tr>\n",
       "    <tr>\n",
       "      <th>2</th>\n",
       "      <td>Chennai Super Kings</td>\n",
       "      <td>3</td>\n",
       "      <td>49</td>\n",
       "    </tr>\n",
       "    <tr>\n",
       "      <th>3</th>\n",
       "      <td>Chennai Super Kings</td>\n",
       "      <td>4</td>\n",
       "      <td>45</td>\n",
       "    </tr>\n",
       "    <tr>\n",
       "      <th>4</th>\n",
       "      <td>Chennai Super Kings</td>\n",
       "      <td>5</td>\n",
       "      <td>53</td>\n",
       "    </tr>\n",
       "    <tr>\n",
       "      <th>...</th>\n",
       "      <td>...</td>\n",
       "      <td>...</td>\n",
       "      <td>...</td>\n",
       "    </tr>\n",
       "    <tr>\n",
       "      <th>290</th>\n",
       "      <td>Sunrisers Hyderabad</td>\n",
       "      <td>16</td>\n",
       "      <td>31</td>\n",
       "    </tr>\n",
       "    <tr>\n",
       "      <th>291</th>\n",
       "      <td>Sunrisers Hyderabad</td>\n",
       "      <td>17</td>\n",
       "      <td>25</td>\n",
       "    </tr>\n",
       "    <tr>\n",
       "      <th>292</th>\n",
       "      <td>Sunrisers Hyderabad</td>\n",
       "      <td>18</td>\n",
       "      <td>49</td>\n",
       "    </tr>\n",
       "    <tr>\n",
       "      <th>293</th>\n",
       "      <td>Sunrisers Hyderabad</td>\n",
       "      <td>19</td>\n",
       "      <td>58</td>\n",
       "    </tr>\n",
       "    <tr>\n",
       "      <th>294</th>\n",
       "      <td>Sunrisers Hyderabad</td>\n",
       "      <td>20</td>\n",
       "      <td>44</td>\n",
       "    </tr>\n",
       "  </tbody>\n",
       "</table>\n",
       "<p>295 rows × 3 columns</p>\n",
       "</div>"
      ],
      "text/plain": [
       "            batting_team  over  batsman_runs\n",
       "0    Chennai Super Kings     1             9\n",
       "1    Chennai Super Kings     2            21\n",
       "2    Chennai Super Kings     3            49\n",
       "3    Chennai Super Kings     4            45\n",
       "4    Chennai Super Kings     5            53\n",
       "..                   ...   ...           ...\n",
       "290  Sunrisers Hyderabad    16            31\n",
       "291  Sunrisers Hyderabad    17            25\n",
       "292  Sunrisers Hyderabad    18            49\n",
       "293  Sunrisers Hyderabad    19            58\n",
       "294  Sunrisers Hyderabad    20            44\n",
       "\n",
       "[295 rows x 3 columns]"
      ]
     },
     "execution_count": 82,
     "metadata": {},
     "output_type": "execute_result"
    }
   ],
   "source": [
    "six = delivery[delivery['batsman_runs'] == 6]\n",
    "six= six.groupby(['batting_team', 'over'])['batsman_runs'].count().reset_index()\n",
    "\n",
    "six\n",
    "\n",
    "# team ny hr over mai kitne sixes mare"
   ]
  },
  {
   "cell_type": "code",
   "execution_count": 84,
   "id": "148a88e1-02cf-4178-bb93-f1a302eba0ba",
   "metadata": {
    "tags": []
   },
   "outputs": [
    {
     "data": {
      "text/plain": [
       "'temp-plot.html'"
      ]
     },
     "execution_count": 84,
     "metadata": {},
     "output_type": "execute_result"
    }
   ],
   "source": [
    "trace=go.Heatmap(x=six['batting_team'], y=six['over'], z=six['batsman_runs']) # you can give start and end \n",
    "\n",
    "data=[trace]\n",
    "\n",
    "layout=go.Layout(title='Sixes Heatmap')\n",
    "\n",
    "fig= go.Figure(data=data, layout=layout)\n",
    "pyo.plot(fig)"
   ]
  },
  {
   "cell_type": "code",
   "execution_count": null,
   "id": "888eb414-de56-4483-a4e2-0cf558d9ddc7",
   "metadata": {},
   "outputs": [],
   "source": [
    "# side by side heatmap"
   ]
  }
 ],
 "metadata": {
  "kernelspec": {
   "display_name": "Python 3 (ipykernel)",
   "language": "python",
   "name": "python3"
  },
  "language_info": {
   "codemirror_mode": {
    "name": "ipython",
    "version": 3
   },
   "file_extension": ".py",
   "mimetype": "text/x-python",
   "name": "python",
   "nbconvert_exporter": "python",
   "pygments_lexer": "ipython3",
   "version": "3.11.4"
  }
 },
 "nbformat": 4,
 "nbformat_minor": 5
}
